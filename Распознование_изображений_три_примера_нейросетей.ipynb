{
  "nbformat": 4,
  "nbformat_minor": 0,
  "metadata": {
    "kernelspec": {
      "name": "python3",
      "display_name": "Python 3"
    },
    "language_info": {
      "codemirror_mode": {
        "name": "ipython",
        "version": 3
      },
      "file_extension": ".py",
      "mimetype": "text/x-python",
      "name": "python",
      "nbconvert_exporter": "python",
      "pygments_lexer": "ipython3",
      "version": "3.7.3"
    },
    "colab": {
      "provenance": [],
      "collapsed_sections": [
        "tAO47WeQg58s"
      ],
      "include_colab_link": true
    },
    "accelerator": "GPU"
  },
  "cells": [
    {
      "cell_type": "markdown",
      "metadata": {
        "id": "view-in-github",
        "colab_type": "text"
      },
      "source": [
        "<a href=\"https://colab.research.google.com/github/kclassie/ML_sundries/blob/main/%D0%A0%D0%B0%D1%81%D0%BF%D0%BE%D0%B7%D0%BD%D0%BE%D0%B2%D0%B0%D0%BD%D0%B8%D0%B5_%D0%B8%D0%B7%D0%BE%D0%B1%D1%80%D0%B0%D0%B6%D0%B5%D0%BD%D0%B8%D0%B9_%D1%82%D1%80%D0%B8_%D0%BF%D1%80%D0%B8%D0%BC%D0%B5%D1%80%D0%B0_%D0%BD%D0%B5%D0%B9%D1%80%D0%BE%D1%81%D0%B5%D1%82%D0%B5%D0%B9.ipynb\" target=\"_parent\"><img src=\"https://colab.research.google.com/assets/colab-badge.svg\" alt=\"Open In Colab\"/></a>"
      ]
    },
    {
      "cell_type": "markdown",
      "metadata": {
        "id": "eVAoRGkyg578"
      },
      "source": [
        "# Домашнее задание №3\n",
        "\n",
        "Запускайте этот ноутбук в google colab! Файлы с разрешением .ipynb можно открывать на гугл диске с помощью Google Colaboratory. Не забудьте подключить GPU! Видео, где рассказано о основе работы с Google Colab: [YouTube](https://www.youtube.com/watch?v=HWN_DVRB1G4&feature=youtu.be) (есть возможность включить английские субтитры).\n",
        "\n",
        "Run this note using google colab! You can open .ipynb files on google drive using Google Colaboratory. Don't forget to turn GPU on. There's a video tutorial for Google Colab: [YouTube](https://www.youtube.com/watch?v=HWN_DVRB1G4&feature=youtu.be) (уnglish subtitles are available)"
      ]
    },
    {
      "cell_type": "markdown",
      "metadata": {
        "id": "opwtlWJ-g57_"
      },
      "source": [
        "### Задча №1\n",
        "\n",
        "Сравним качество распознавания изображений, время обучения, время работы и количество параметров у нескольких нейронных сетей.\n",
        "Прежде всего обучим сверточную нейросеть, которую мы построили на семинаре. В качестве данных будем использовать известный набор [CIFAR10](http://www.cs.toronto.edu/~kriz/cifar.html), в котором 60000 изображений 10 классов размера 32x32 (по 6 тысяч изображений на каждый класс) - 10000 в тестовом наборе и 50000 в тренировочном.\n",
        "\n",
        "Compare image recognition quality, learning time, runtime and number of parameters for several neural networks. First of all train convolutional neural network we built in class. Use [CIFAR10](http://www.cs.toronto.edu/~kriz/cifar.html) dataset, which contains 60000 images of 10 classes, size 32x32. 10000images for test and 50000 for train."
      ]
    },
    {
      "cell_type": "markdown",
      "metadata": {
        "id": "FwcVPtD_g58A"
      },
      "source": [
        "**Load the data:**"
      ]
    },
    {
      "cell_type": "code",
      "metadata": {
        "id": "mx1DYaNqg58B",
        "outputId": "3aa51406-49d4-478d-acbc-e46ae6c8ed25",
        "colab": {
          "base_uri": "https://localhost:8080/",
          "height": 118
        }
      },
      "source": [
        "%tensorflow_version 1.x magic\n",
        "import numpy as np\n",
        "from PIL import Image\n",
        "from keras.layers import Dropout\n",
        "from keras.layers.convolutional import Conv2D, MaxPooling2D\n",
        "from keras.utils import np_utils\n",
        "from keras.preprocessing import image\n",
        "from keras.preprocessing.image import ImageDataGenerator\n",
        "from keras.models import Sequential, Model\n",
        "from keras.layers import Conv2D\n",
        "from keras.layers import Activation, Dropout, Flatten, Dense\n",
        "from keras.callbacks import EarlyStopping, ReduceLROnPlateau, ModelCheckpoint, Callback\n",
        "from keras import regularizers\n",
        "from keras.utils import to_categorical\n",
        "from  keras.utils import np_utils\n",
        "from keras.layers import Dense, Dropout, Activation, Flatten, MaxPool2D\n",
        "from keras.layers import Conv2D, BatchNormalization\n",
        "import matplotlib.pyplot as plt\n",
        "%matplotlib inline "
      ],
      "execution_count": null,
      "outputs": [
        {
          "output_type": "stream",
          "text": [
            "`%tensorflow_version` only switches the major version: `1.x` or `2.x`.\n",
            "You set: `1.x magic`. This will be interpreted as: `1.x`.\n",
            "\n",
            "\n",
            "TensorFlow 1.x selected.\n"
          ],
          "name": "stdout"
        },
        {
          "output_type": "stream",
          "text": [
            "Using TensorFlow backend.\n"
          ],
          "name": "stderr"
        }
      ]
    },
    {
      "cell_type": "code",
      "metadata": {
        "id": "9oxixMfOg58G"
      },
      "source": [
        "nb_classes = 5\n",
        "img_rows, img_cols = 100, 100\n",
        "img_channels = 3\n",
        "classes = ['1', '2', '3', '4', '5']\n",
        "\n",
        "### ╰( ͡° ͜ʖ ͡° )つ──☆*:・\n",
        "batch_size = 32\n",
        "### ╰( ͡° ͜ʖ ͡° )つ──☆*:・ﾟ\n",
        "nb_epoch = 50 "
      ],
      "execution_count": null,
      "outputs": []
    },
    {
      "cell_type": "code",
      "metadata": {
        "id": "Io2dxKVLLwWq",
        "outputId": "bdc0b3cd-5792-4c83-e0fb-919905b46238",
        "colab": {
          "base_uri": "https://localhost:8080/",
          "height": 121
        }
      },
      "source": [
        "from google.colab import drive\n",
        "drive.mount('/content/gdrive', force_remount = True)"
      ],
      "execution_count": null,
      "outputs": [
        {
          "output_type": "stream",
          "text": [
            "Go to this URL in a browser: https://accounts.google.com/o/oauth2/auth?client_id=947318989803-6bn6qk8qdgf4n4g3pfee6491hc0brc4i.apps.googleusercontent.com&redirect_uri=urn%3aietf%3awg%3aoauth%3a2.0%3aoob&response_type=code&scope=email%20https%3a%2f%2fwww.googleapis.com%2fauth%2fdocs.test%20https%3a%2f%2fwww.googleapis.com%2fauth%2fdrive%20https%3a%2f%2fwww.googleapis.com%2fauth%2fdrive.photos.readonly%20https%3a%2f%2fwww.googleapis.com%2fauth%2fpeopleapi.readonly\n",
            "\n",
            "Enter your authorization code:\n",
            "··········\n",
            "Mounted at /content/gdrive\n"
          ],
          "name": "stdout"
        }
      ]
    },
    {
      "cell_type": "code",
      "metadata": {
        "id": "s8q7RI4tMX0D"
      },
      "source": [
        "import os\n",
        "data = os.getcwd() + \"/gdrive/images2/\"\n",
        "data.shape"
      ],
      "execution_count": null,
      "outputs": []
    },
    {
      "cell_type": "code",
      "metadata": {
        "id": "2L6qMZcrg58J"
      },
      "source": [
        "# Using load_data()\n",
        "import os\n",
        "\n",
        "\n",
        "(X_train, y_train), (X_test, y_test) = os.getcwd() + \"/gdrive/images2/\""
      ],
      "execution_count": null,
      "outputs": []
    },
    {
      "cell_type": "code",
      "metadata": {
        "id": "B8x7jjhyg58N",
        "outputId": "d92eafe1-843d-4fcf-c9a5-d4dcce490b30",
        "colab": {
          "base_uri": "https://localhost:8080/",
          "height": 50
        }
      },
      "source": [
        "num_train = X_train.shape[0]\n",
        "num_test = X_test.shape[0]\n",
        "\n",
        "print(\"Train:\", X_train.shape, y_train.shape)\n",
        "print(\"Test:\", X_test.shape, y_test.shape)"
      ],
      "execution_count": null,
      "outputs": [
        {
          "output_type": "stream",
          "text": [
            "Train: (50000, 32, 32, 3) (50000, 1)\n",
            "Test: (10000, 32, 32, 3) (10000, 1)\n"
          ],
          "name": "stdout"
        }
      ]
    },
    {
      "cell_type": "code",
      "metadata": {
        "id": "rXlwE74mg58Q",
        "outputId": "f318453b-1870-40df-ed5e-bc85189b3c10",
        "colab": {
          "base_uri": "https://localhost:8080/",
          "height": 300
        }
      },
      "source": [
        "# Image example\n",
        "\n",
        "n = 1\n",
        "plt.imshow(X_train[n])\n",
        "plt.show()\n",
        "print(\"Class number:\", y_train[n])\n",
        "print(\"Object type:\", classes[y_train[n][0]])"
      ],
      "execution_count": null,
      "outputs": [
        {
          "output_type": "display_data",
          "data": {
            "image/png": "[encoded data removed]",
            "text/plain": [
              "<Figure size 432x288 with 1 Axes>"
            ]
          },
          "metadata": {
            "tags": []
          }
        },
        {
          "output_type": "stream",
          "text": [
            "Class number: [9]\n",
            "Object type: truck\n"
          ],
          "name": "stdout"
        }
      ]
    },
    {
      "cell_type": "code",
      "metadata": {
        "id": "L0WDwVF6g58U"
      },
      "source": [
        "# Нормируем входы, чтобы значения якости всех пикселей были в диапазоне 0-1\n",
        "\n",
        "X_train = X_train.astype('float32')\n",
        "X_test = X_test.astype('float32')\n",
        "X_train /= 255\n",
        "X_test /= 255"
      ],
      "execution_count": null,
      "outputs": []
    },
    {
      "cell_type": "code",
      "metadata": {
        "id": "_3liJ8NZg58X",
        "outputId": "cc3a3530-ffc0-4b7a-bf47-8e6745a96574",
        "colab": {
          "base_uri": "https://localhost:8080/",
          "height": 50
        }
      },
      "source": [
        "# Переведем метки класса в формат onehotencoder\n",
        "\n",
        "print(y_train[n])\n",
        "\n",
        "y_train = np_utils.to_categorical(y_train, nb_classes)\n",
        "y_test = np_utils.to_categorical(y_test, nb_classes)\n",
        "\n",
        "print(y_train[n])"
      ],
      "execution_count": null,
      "outputs": [
        {
          "output_type": "stream",
          "text": [
            "[9]\n",
            "[0. 0. 0. 0. 0. 0. 0. 0. 0. 1.]\n"
          ],
          "name": "stdout"
        }
      ]
    },
    {
      "cell_type": "markdown",
      "metadata": {
        "id": "vJO2snxIg58b"
      },
      "source": [
        "**Реализуйте и обучите такую же сверточную нейронную сеть, которая была нa семинаре (copy-paste), не забыв изменить параметры входного изображения:**\n",
        "\n",
        "**Make and train a neural network exactly like we did in class (copy-paste). Don't forget to change parameters of input tensor**"
      ]
    },
    {
      "cell_type": "code",
      "metadata": {
        "id": "TilXuN1Ug58c"
      },
      "source": [
        "### ╰( ͡° ͜ʖ ͡° )つ──☆*:・ﾟ\n",
        "classifier = Sequential()\n",
        "\n",
        "classifier.add(Conv2D(32, (3,3), input_shape = (32, 32, 3)))\n",
        "classifier.add(BatchNormalization(axis = -1)) #Axis -1 is always the features axis\n",
        "classifier.add(Activation('relu'))\n",
        "\n",
        "classifier.add(Conv2D(32, (3,3)))\n",
        "classifier.add(BatchNormalization(axis = -1))\n",
        "classifier.add(Activation('relu'))\n",
        "classifier.add(MaxPool2D(pool_size = (2,2)))\n",
        "classifier.add(BatchNormalization(axis = -1))\n",
        "\n",
        "classifier.add(Conv2D(64, (3,3)))\n",
        "classifier.add(BatchNormalization(axis = -1))\n",
        "classifier.add(Activation('relu'))\n",
        "\n",
        "classifier.add(Conv2D(64, (3,3)))\n",
        "classifier.add(Activation('relu'))\n",
        "classifier.add(MaxPool2D(pool_size = (2,2)))\n",
        "\n",
        "classifier.add(Flatten()) # Вытягиваем в вектор\n",
        "classifier.add(BatchNormalization())\n",
        "\n",
        "classifier.add(Dense(512))\n",
        "classifier.add(BatchNormalization())\n",
        "classifier.add(Activation('relu'))\n",
        "classifier.add(Dropout(0.5))\n",
        "\n",
        "classifier.add(Dense(10))\n",
        "classifier.add(Activation('softmax'))"
      ],
      "execution_count": null,
      "outputs": []
    },
    {
      "cell_type": "code",
      "metadata": {
        "id": "I5pUGqL_g58f",
        "outputId": "2c03f2cf-5503-4245-a63e-4e8548cd4386",
        "colab": {
          "base_uri": "https://localhost:8080/",
          "height": 890
        }
      },
      "source": [
        "# Посмотрим на модель\n",
        "# Have a look at our model (use .summary())\n",
        "\n",
        "### ╰( ͡° ͜ʖ ͡° )つ──☆*:・ﾟ\n",
        "classifier.summary()"
      ],
      "execution_count": null,
      "outputs": [
        {
          "output_type": "stream",
          "text": [
            "Model: \"sequential_3\"\n",
            "_________________________________________________________________\n",
            "Layer (type)                 Output Shape              Param #   \n",
            "=================================================================\n",
            "conv2d_5 (Conv2D)            (None, 30, 30, 32)        896       \n",
            "_________________________________________________________________\n",
            "batch_normalization_7 (Batch (None, 30, 30, 32)        128       \n",
            "_________________________________________________________________\n",
            "activation_7 (Activation)    (None, 30, 30, 32)        0         \n",
            "_________________________________________________________________\n",
            "conv2d_6 (Conv2D)            (None, 28, 28, 32)        9248      \n",
            "_________________________________________________________________\n",
            "batch_normalization_8 (Batch (None, 28, 28, 32)        128       \n",
            "_________________________________________________________________\n",
            "activation_8 (Activation)    (None, 28, 28, 32)        0         \n",
            "_________________________________________________________________\n",
            "max_pooling2d_3 (MaxPooling2 (None, 14, 14, 32)        0         \n",
            "_________________________________________________________________\n",
            "batch_normalization_9 (Batch (None, 14, 14, 32)        128       \n",
            "_________________________________________________________________\n",
            "conv2d_7 (Conv2D)            (None, 12, 12, 64)        18496     \n",
            "_________________________________________________________________\n",
            "batch_normalization_10 (Batc (None, 12, 12, 64)        256       \n",
            "_________________________________________________________________\n",
            "activation_9 (Activation)    (None, 12, 12, 64)        0         \n",
            "_________________________________________________________________\n",
            "conv2d_8 (Conv2D)            (None, 10, 10, 64)        36928     \n",
            "_________________________________________________________________\n",
            "activation_10 (Activation)   (None, 10, 10, 64)        0         \n",
            "_________________________________________________________________\n",
            "max_pooling2d_4 (MaxPooling2 (None, 5, 5, 64)          0         \n",
            "_________________________________________________________________\n",
            "flatten_2 (Flatten)          (None, 1600)              0         \n",
            "_________________________________________________________________\n",
            "batch_normalization_11 (Batc (None, 1600)              6400      \n",
            "_________________________________________________________________\n",
            "dense_4 (Dense)              (None, 512)               819712    \n",
            "_________________________________________________________________\n",
            "batch_normalization_12 (Batc (None, 512)               2048      \n",
            "_________________________________________________________________\n",
            "activation_11 (Activation)   (None, 512)               0         \n",
            "_________________________________________________________________\n",
            "dropout_2 (Dropout)          (None, 512)               0         \n",
            "_________________________________________________________________\n",
            "dense_5 (Dense)              (None, 10)                5130      \n",
            "_________________________________________________________________\n",
            "activation_12 (Activation)   (None, 10)                0         \n",
            "=================================================================\n",
            "Total params: 899,498\n",
            "Trainable params: 894,954\n",
            "Non-trainable params: 4,544\n",
            "_________________________________________________________________\n"
          ],
          "name": "stdout"
        }
      ]
    },
    {
      "cell_type": "markdown",
      "metadata": {
        "id": "gJDOGq3eg58i"
      },
      "source": [
        "Скомпилируйте и обучите сеть с использованием генераторов и callbacks_list (сохранять модель не нужно, то есть можно обойтись без ModelCheckpoint), замерьте время обучения сети.\n",
        "\n",
        "Compile and train network using generators and callbacks_list (you don't have to save the model, so it's not nesseccary to use ModelCheckpoint). Measure the learning time."
      ]
    },
    {
      "cell_type": "code",
      "metadata": {
        "id": "mOADgtNn-2hi"
      },
      "source": [
        "train_generator = train_datagen.flow_from_directory(\n",
        "    train_path,\n",
        "    target_size = (img_width, img_height),\n",
        "    batch_size = batch_size,\n",
        "    class_mode = 'categorical')\n",
        "\n",
        "validation_generator = test_datagen.flow_from_directory(\n",
        "    test_path,\n",
        "    target_size = (img_width, img_height),\n",
        "    batch_size = batch_size,\n",
        "    class_mode = 'categorical')"
      ],
      "execution_count": null,
      "outputs": []
    },
    {
      "cell_type": "code",
      "metadata": {
        "id": "9hpeF_TVg58j"
      },
      "source": [
        "### ╰( ͡° ͜ʖ ͡° )つ──☆*:・ﾟ\n",
        "\n",
        "classifier.compile(optimizer = 'adam', loss = 'categorical_crossentropy', metrics = ['accuracy'])\n",
        "\n",
        "train_generator = ImageDataGenerator(rotation_range = 8, \n",
        "                                        width_shift_range = 0.08, \n",
        "                                        shear_range = 0.3, \n",
        "                                        height_shift_range = 0.08, \n",
        "                                        zoom_range = 0.08,\n",
        "                                        # rescale = 1.0 / 255,\n",
        "                                        horizontal_flip = False,\n",
        "                                        vertical_flip = False)\n",
        "test_generator = ImageDataGenerator()\n",
        "\n",
        "early_stop = EarlyStopping(monitor='val_loss', patience=8, verbose=1, min_delta=1e-4) \n",
        "reduce_lr = ReduceLROnPlateau(monitor='val_loss', factor=0.1, patience=4, verbose=1, min_delta=1e-4)\n",
        "\n",
        "callbacks_list = [early_stop, reduce_lr]\n",
        "\n",
        "classifier_history = classifier.fit_generator(training_set, \n",
        "                         steps_per_epoch = num_train // batch_size, \n",
        "                         validation_data = test_set, \n",
        "                         validation_steps = num_test // batch_size, \n",
        "                         epochs = nb_epoch,\n",
        "                         callbacks = callbacks_list,\n",
        "                         verbose = 1)"
      ],
      "execution_count": null,
      "outputs": []
    },
    {
      "cell_type": "markdown",
      "metadata": {
        "id": "JMdsRzYQg58l"
      },
      "source": [
        "**Отрисуйте графики точности и потерь на тестовом и на тренировочном множестве для сверточной неронной сети (в classifier_history хранится все необходимая для этого информация - см. HW_02):**\n",
        "\n",
        "**Vusialize the accuracy and the loss on test and train samples for convoltional network (all information is in classifier_history, as in HW_02):**"
      ]
    },
    {
      "cell_type": "code",
      "metadata": {
        "id": "NuXiRSehzgU9"
      },
      "source": [
        "H = classifier_history"
      ],
      "execution_count": null,
      "outputs": []
    },
    {
      "cell_type": "code",
      "metadata": {
        "id": "2VizmgmJg58m",
        "outputId": "e5c1cb7d-ef7d-4df0-c4b5-003d0b0774ac",
        "colab": {
          "base_uri": "https://localhost:8080/",
          "height": 296
        }
      },
      "source": [
        "### ╰( ͡° ͜ʖ ͡° )つ──☆*:・ﾟ\n",
        "#функция потерь\n",
        "\n",
        "plt.plot(H.history[\"loss\"], label = \"Train_loss\")\n",
        "plt.plot(H.history[\"val_loss\"], label = \"Val_loss\")\n",
        "plt.xlabel(\"Epochs\")\n",
        "plt.ylabel(\"Loss\")\n",
        "plt.legend()"
      ],
      "execution_count": null,
      "outputs": [
        {
          "output_type": "execute_result",
          "data": {
            "text/plain": [
              "<matplotlib.legend.Legend at 0x7f9bf27dc908>"
            ]
          },
          "metadata": {
            "tags": []
          },
          "execution_count": 46
        },
        {
          "output_type": "display_data",
          "data": {
            "image/png": "[encoded data removed]",
            "text/plain": [
              "<Figure size 432x288 with 1 Axes>"
            ]
          },
          "metadata": {
            "tags": []
          }
        }
      ]
    },
    {
      "cell_type": "code",
      "metadata": {
        "id": "_NF5R7Fu1nTJ",
        "outputId": "6e5ebaac-eda6-4469-8160-b64acf83ee1c",
        "colab": {
          "base_uri": "https://localhost:8080/",
          "height": 296
        }
      },
      "source": [
        "plt.plot(H.history[\"acc\"], label = \"Train_acc\")\n",
        "plt.plot(H.history[\"val_acc\"], label = \"Val_acc\")\n",
        "plt.xlabel(\"Epochs\")\n",
        "plt.ylabel(\"Loss\")\n",
        "plt.legend()"
      ],
      "execution_count": null,
      "outputs": [
        {
          "output_type": "execute_result",
          "data": {
            "text/plain": [
              "<matplotlib.legend.Legend at 0x7f9bf2ac1160>"
            ]
          },
          "metadata": {
            "tags": []
          },
          "execution_count": 47
        },
        {
          "output_type": "display_data",
          "data": {
            "image/png": "[encoded data removed]",
            "text/plain": [
              "<Figure size 432x288 with 1 Axes>"
            ]
          },
          "metadata": {
            "tags": []
          }
        }
      ]
    },
    {
      "cell_type": "markdown",
      "metadata": {
        "id": "zFDHgl80g58p"
      },
      "source": [
        "**Посчитайте и постройте гистограммы precision и recall для каждого класса:**\n",
        "\n",
        "**Make precision and recall histograms for each class:**"
      ]
    },
    {
      "cell_type": "code",
      "metadata": {
        "id": "Hed8IA-Ag58p",
        "outputId": "cc564b9b-34af-4db4-be7d-eff2ed02e92d",
        "colab": {
          "base_uri": "https://localhost:8080/",
          "height": 229
        }
      },
      "source": [
        "### ╰( ͡° ͜ʖ ͡° )つ──☆*:・ﾟ\n",
        "TP = [i - i for i in range(len(classes))]\n",
        "FN = [i - i for i in range(len(classes))]\n",
        "FP = [i - i for i in range(len(classes))]\n",
        "\n",
        "precision = [i - i for i in range(len(classes))]\n",
        "recall = [i - i for i in range(len(classes))]\n",
        "\n",
        "photo_ar = np.expand_dims(X_test, axis = 0)\n",
        "photo_ar /= 255\n",
        "\n",
        "ans = np.argmax(loaded_model.predict(photo_ar))\n",
        "\n",
        "if ans == y_test[n]:\n",
        "  TP[ans] += 1\n",
        "if ans != y_test[n]:\n",
        "  FN[ans] += 1\n",
        "  FP[int(folder)] += 1"
      ],
      "execution_count": null,
      "outputs": [
        {
          "output_type": "error",
          "ename": "NameError",
          "evalue": "ignored",
          "traceback": [
            "\u001b[0;31m---------------------------------------------------------------------------\u001b[0m",
            "\u001b[0;31mNameError\u001b[0m                                 Traceback (most recent call last)",
            "\u001b[0;32m<ipython-input-65-ed8649fd5450>\u001b[0m in \u001b[0;36m<module>\u001b[0;34m()\u001b[0m\n\u001b[1;32m      9\u001b[0m \u001b[0mphoto_ar\u001b[0m \u001b[0;34m/=\u001b[0m \u001b[0;36m255\u001b[0m\u001b[0;34m\u001b[0m\u001b[0;34m\u001b[0m\u001b[0m\n\u001b[1;32m     10\u001b[0m \u001b[0;34m\u001b[0m\u001b[0m\n\u001b[0;32m---> 11\u001b[0;31m \u001b[0mans\u001b[0m \u001b[0;34m=\u001b[0m \u001b[0mnp\u001b[0m\u001b[0;34m.\u001b[0m\u001b[0margmax\u001b[0m\u001b[0;34m(\u001b[0m\u001b[0mloaded_model\u001b[0m\u001b[0;34m.\u001b[0m\u001b[0mpredict\u001b[0m\u001b[0;34m(\u001b[0m\u001b[0mphoto_ar\u001b[0m\u001b[0;34m)\u001b[0m\u001b[0;34m)\u001b[0m\u001b[0;34m\u001b[0m\u001b[0;34m\u001b[0m\u001b[0m\n\u001b[0m\u001b[1;32m     12\u001b[0m \u001b[0;34m\u001b[0m\u001b[0m\n\u001b[1;32m     13\u001b[0m \u001b[0;32mif\u001b[0m \u001b[0mans\u001b[0m \u001b[0;34m==\u001b[0m \u001b[0my_test\u001b[0m\u001b[0;34m[\u001b[0m\u001b[0mn\u001b[0m\u001b[0;34m]\u001b[0m\u001b[0;34m:\u001b[0m\u001b[0;34m\u001b[0m\u001b[0;34m\u001b[0m\u001b[0m\n",
            "\u001b[0;31mNameError\u001b[0m: name 'loaded_model' is not defined"
          ]
        }
      ]
    },
    {
      "cell_type": "markdown",
      "metadata": {
        "id": "tAO47WeQg58s"
      },
      "source": [
        "### Задча №2\n",
        "\n",
        "Используя наиболее понравившийся вам фреймворк глубокого обучения, реализуйте и обучите две полносвязные нейронные сети с архитектурой 1000 -> 800 -> 600 -> 400 -> 200 -> 10 (количество нейронов в слоях от входного до выходного). В качестве функции активации для последнего слоя используйте Softmax. Для одной из них используйте dropout и батч регуляризацию, а для другой - нет. Задайте большое количество эпох обучения, сравните поведения функций потерь и метрик качества для этих сетей (их надо нарисовать!). Сделайте выводы. \n",
        "\n",
        "Using your favourite deep learning framework, build and train two fully connected neural networks with folowing architecture: 1000 -> 800 -> 600 -> 400 -> 200 -> 10 (the number of neurons from input to output layer). Use Softmax as activation function for the output layer. Use dropout and batch regularisation for one of networks, and don't use them for another. Set 20-40 as number of epochs and compare loss and quality metrics dymanics for both networks (you also have to visualise them!). Make some conclusions."
      ]
    },
    {
      "cell_type": "markdown",
      "metadata": {
        "id": "O1peAWnfg58t"
      },
      "source": [
        "Так как у нас цветные изображения, а мы собираемся использовать полносвязные сети, то нам придется каким-либо образом преобразовать трехмерные тензоры в векторы. Сделаем мы это так: вытянем все три канала в один вектор.\n",
        "\n",
        "We using fully connected networks, but we have color images, they should be tranformed from 3-dimesional tensors to vectors."
      ]
    },
    {
      "cell_type": "code",
      "metadata": {
        "id": "rSRdfc4Tg58t",
        "outputId": "07e027ac-8517-483b-b23a-7e1419af637d",
        "colab": {
          "base_uri": "https://localhost:8080/",
          "height": 50
        }
      },
      "source": [
        "print(\"Train:\", X_train.shape)\n",
        "print(\"Test:\", X_test.shape)"
      ],
      "execution_count": null,
      "outputs": [
        {
          "output_type": "stream",
          "text": [
            "Train: (50000, 32, 32, 3)\n",
            "Test: (10000, 32, 32, 3)\n"
          ],
          "name": "stdout"
        }
      ]
    },
    {
      "cell_type": "code",
      "metadata": {
        "id": "K2WlmZKtg58w"
      },
      "source": [
        "X_train_one_channel = X_train.reshape(X_train.shape[0], img_rows * img_cols * img_channels)\n",
        "X_test_one_channel = X_test.reshape(X_test.shape[0], img_rows * img_cols * img_channels)"
      ],
      "execution_count": null,
      "outputs": []
    },
    {
      "cell_type": "code",
      "metadata": {
        "id": "XaO0avXgg58z",
        "outputId": "9619ef9e-a7b7-4061-ad67-654efa8c8c3d",
        "colab": {
          "base_uri": "https://localhost:8080/",
          "height": 50
        }
      },
      "source": [
        "print(\"Train:\", X_train_one_channel.shape)\n",
        "print(\"Test:\", X_test_one_channel.shape)"
      ],
      "execution_count": null,
      "outputs": [
        {
          "output_type": "stream",
          "text": [
            "Train: (50000, 3072)\n",
            "Test: (10000, 3072)\n"
          ],
          "name": "stdout"
        }
      ]
    },
    {
      "cell_type": "markdown",
      "metadata": {
        "id": "Kq0GVIXZg582"
      },
      "source": [
        "Создайте сеть с архитектурой 1000 -> 800 -> 600 -> 400 -> 200 -> 10 и обучите ее (уже без использования генераторов), заметрьте время обучения\n",
        "\n",
        "Build and train network with architecture: 1000 -> 800 -> 600 -> 400 -> 200 -> 10 (without using generators), measure learning time"
      ]
    },
    {
      "cell_type": "code",
      "metadata": {
        "id": "bOkwEAhxg582"
      },
      "source": [
        "### ╰( ͡° ͜ʖ ͡° )つ──☆*:・ﾟ\n",
        "\n",
        "classifier = Sequential()\n",
        "\n",
        "classifier.add(Dense(1000, input_shape = [3072]))\n",
        "classifier.add(Activation('relu'))\n",
        "classifier.add(Dense(800))\n",
        "classifier.add(Activation('relu'))\n",
        "classifier.add(Dense(600))\n",
        "classifier.add(Activation('relu'))\n",
        "classifier.add(Dense(400))\n",
        "classifier.add(Activation('relu'))\n",
        "classifier.add(Dense(200))\n",
        "classifier.add(Activation('relu'))\n",
        "classifier.add(Dense(10))\n",
        "classifier.add(Activation('softmax'))\n",
        "\n",
        "classifier.compile(optimizer = 'adam', loss = 'categorical_crossentropy', metrics = ['accuracy'])\n",
        "history = classifier.fit(X_train_one_channel, y_train, batch_size=100, nb_epoch=50,verbose=1, validation_data=(X_test_one_channel, y_test))\n",
        "score = classifier.evaluate(X_test_one_channel, y_test, verbose=0)"
      ],
      "execution_count": null,
      "outputs": []
    },
    {
      "cell_type": "code",
      "metadata": {
        "id": "zcbwShNkg585",
        "outputId": "3f5c7e5c-9cd7-4007-831c-7741cd92af73",
        "colab": {
          "base_uri": "https://localhost:8080/",
          "height": 554
        }
      },
      "source": [
        "# Посмотрим на модель\n",
        "# Have a look at our model (use .summary())\n",
        "\n",
        "\n",
        "### ╰( ͡° ͜ʖ ͡° )つ──☆*:・ﾟ\n",
        "classifier.summary()"
      ],
      "execution_count": null,
      "outputs": [
        {
          "output_type": "stream",
          "text": [
            "Model: \"sequential_10\"\n",
            "_________________________________________________________________\n",
            "Layer (type)                 Output Shape              Param #   \n",
            "=================================================================\n",
            "dense_36 (Dense)             (None, 1000)              3073000   \n",
            "_________________________________________________________________\n",
            "activation_43 (Activation)   (None, 1000)              0         \n",
            "_________________________________________________________________\n",
            "dense_37 (Dense)             (None, 800)               800800    \n",
            "_________________________________________________________________\n",
            "activation_44 (Activation)   (None, 800)               0         \n",
            "_________________________________________________________________\n",
            "dense_38 (Dense)             (None, 600)               480600    \n",
            "_________________________________________________________________\n",
            "activation_45 (Activation)   (None, 600)               0         \n",
            "_________________________________________________________________\n",
            "dense_39 (Dense)             (None, 400)               240400    \n",
            "_________________________________________________________________\n",
            "activation_46 (Activation)   (None, 400)               0         \n",
            "_________________________________________________________________\n",
            "dense_40 (Dense)             (None, 200)               80200     \n",
            "_________________________________________________________________\n",
            "activation_47 (Activation)   (None, 200)               0         \n",
            "_________________________________________________________________\n",
            "dense_41 (Dense)             (None, 10)                2010      \n",
            "_________________________________________________________________\n",
            "activation_48 (Activation)   (None, 10)                0         \n",
            "=================================================================\n",
            "Total params: 4,677,010\n",
            "Trainable params: 4,677,010\n",
            "Non-trainable params: 0\n",
            "_________________________________________________________________\n"
          ],
          "name": "stdout"
        }
      ]
    },
    {
      "cell_type": "markdown",
      "metadata": {
        "id": "kFiu3Clag587"
      },
      "source": [
        "Отрисуйте графики точности и потерь на тестовом и на тренировочном множестве для сверточной неронной сети\n",
        "\n",
        "Vusialize the accuracy and the loss on test and train samples for convoltional network "
      ]
    },
    {
      "cell_type": "code",
      "metadata": {
        "id": "ynQyHK8-g58_",
        "outputId": "fb75c6d9-066d-407e-fae6-8942f60c34ce",
        "colab": {
          "base_uri": "https://localhost:8080/",
          "height": 296
        }
      },
      "source": [
        "### ╰( ͡° ͜ʖ ͡° )つ──☆*:・ﾟ\n",
        "N = np.arange(0, 50)\n",
        "plt.plot(history.history[\"loss\"], label = \"Train_loss\")\n",
        "plt.plot(history.history[\"val_loss\"], label = \"Val_loss\")\n",
        "plt.xlabel(\"Epochs\")\n",
        "plt.ylabel(\"Loss\")\n",
        "plt.legend()"
      ],
      "execution_count": null,
      "outputs": [
        {
          "output_type": "execute_result",
          "data": {
            "text/plain": [
              "<matplotlib.legend.Legend at 0x7f9be2448ef0>"
            ]
          },
          "metadata": {
            "tags": []
          },
          "execution_count": 79
        },
        {
          "output_type": "display_data",
          "data": {
            "image/png": "[encoded data removed]",
            "text/plain": [
              "<Figure size 432x288 with 1 Axes>"
            ]
          },
          "metadata": {
            "tags": []
          }
        }
      ]
    },
    {
      "cell_type": "code",
      "metadata": {
        "id": "nBP2zAh2LwJA",
        "outputId": "4f533cba-2780-435b-d3ed-085b44688cc2",
        "colab": {
          "base_uri": "https://localhost:8080/",
          "height": 296
        }
      },
      "source": [
        "N = np.arange(0, 50)\n",
        "plt.plot(history.history[\"acc\"], label = \"Train_acc\")\n",
        "plt.plot(history.history[\"val_acc\"], label = \"Val_acc\")\n",
        "plt.xlabel(\"Epochs\")\n",
        "plt.ylabel(\"Loss\")\n",
        "plt.legend()"
      ],
      "execution_count": null,
      "outputs": [
        {
          "output_type": "execute_result",
          "data": {
            "text/plain": [
              "<matplotlib.legend.Legend at 0x7f9be23b55c0>"
            ]
          },
          "metadata": {
            "tags": []
          },
          "execution_count": 80
        },
        {
          "output_type": "display_data",
          "data": {
            "image/png": "[encoded data removed]",
            "text/plain": [
              "<Figure size 432x288 with 1 Axes>"
            ]
          },
          "metadata": {
            "tags": []
          }
        }
      ]
    },
    {
      "cell_type": "markdown",
      "metadata": {
        "id": "JRPb-h9og59G"
      },
      "source": [
        "Постройте и обучите еще одну модель с такой же архитектурой, но используя между каждым Dense слоем и активацией батч нормализацию и слои dropuot после активационных функций.\n",
        "\n",
        "Build and train another model with the samу architecture, using batch-norm layers between every Dense and activational layer, aтв dropout layers afret activation functions."
      ]
    },
    {
      "cell_type": "code",
      "metadata": {
        "id": "57nuvQ0hg59I"
      },
      "source": [
        "### ╰( ͡° ͜ʖ ͡° )つ──☆*:・ﾟ\n",
        "\n",
        "classifier = Sequential()\n",
        "\n",
        "classifier.add(Dense(1000, input_shape = [3072]))\n",
        "classifier.add(BatchNormalization(axis = -1))\n",
        "classifier.add(Activation('relu'))\n",
        "classifier.add(Dropout(0.5))\n",
        "classifier.add(Dense(800))\n",
        "classifier.add(BatchNormalization(axis = -1))\n",
        "classifier.add(Activation('relu'))\n",
        "classifier.add(Dropout(0.5))\n",
        "classifier.add(Dense(600))\n",
        "classifier.add(BatchNormalization(axis = -1))\n",
        "classifier.add(Activation('relu'))\n",
        "classifier.add(Dropout(0.5))\n",
        "classifier.add(Dense(400))\n",
        "classifier.add(BatchNormalization(axis = -1))\n",
        "classifier.add(Activation('relu'))\n",
        "classifier.add(Dropout(0.5))\n",
        "classifier.add(Dense(200))\n",
        "classifier.add(BatchNormalization(axis = -1))\n",
        "classifier.add(Activation('relu'))\n",
        "classifier.add(Dropout(0.5))\n",
        "classifier.add(Dense(10))\n",
        "classifier.add(BatchNormalization(axis = -1))\n",
        "classifier.add(Activation('softmax'))\n",
        "classifier.add(Dropout(0.5))\n",
        "\n",
        "\n",
        "classifier.compile(optimizer = 'adam', loss = 'categorical_crossentropy', metrics = ['accuracy'])\n",
        "history = classifier.fit(X_train_one_channel, y_train, batch_size=100, epochs=50,verbose=1, validation_data=(X_test_one_channel, y_test))\n",
        "score = classifier.evaluate(X_test_one_channel, y_test, verbose=0)"
      ],
      "execution_count": null,
      "outputs": []
    },
    {
      "cell_type": "code",
      "metadata": {
        "id": "zo7BtT2ng59L",
        "outputId": "d1d4a079-ebbc-49c9-c8d9-3187d4bdfc3f",
        "colab": {
          "base_uri": "https://localhost:8080/",
          "height": 958
        }
      },
      "source": [
        "# Посмотрим на модель\n",
        "# Have a look at our model (use .summary())\n",
        "\n",
        "\n",
        "### ╰( ͡° ͜ʖ ͡° )つ──☆*:・ﾟ\n",
        "classifier.summary()"
      ],
      "execution_count": null,
      "outputs": [
        {
          "output_type": "stream",
          "text": [
            "Model: \"sequential_11\"\n",
            "_________________________________________________________________\n",
            "Layer (type)                 Output Shape              Param #   \n",
            "=================================================================\n",
            "dense_42 (Dense)             (None, 1000)              3073000   \n",
            "_________________________________________________________________\n",
            "batch_normalization_37 (Batc (None, 1000)              4000      \n",
            "_________________________________________________________________\n",
            "activation_49 (Activation)   (None, 1000)              0         \n",
            "_________________________________________________________________\n",
            "dropout_27 (Dropout)         (None, 1000)              0         \n",
            "_________________________________________________________________\n",
            "dense_43 (Dense)             (None, 800)               800800    \n",
            "_________________________________________________________________\n",
            "batch_normalization_38 (Batc (None, 800)               3200      \n",
            "_________________________________________________________________\n",
            "activation_50 (Activation)   (None, 800)               0         \n",
            "_________________________________________________________________\n",
            "dropout_28 (Dropout)         (None, 800)               0         \n",
            "_________________________________________________________________\n",
            "dense_44 (Dense)             (None, 600)               480600    \n",
            "_________________________________________________________________\n",
            "batch_normalization_39 (Batc (None, 600)               2400      \n",
            "_________________________________________________________________\n",
            "activation_51 (Activation)   (None, 600)               0         \n",
            "_________________________________________________________________\n",
            "dropout_29 (Dropout)         (None, 600)               0         \n",
            "_________________________________________________________________\n",
            "dense_45 (Dense)             (None, 400)               240400    \n",
            "_________________________________________________________________\n",
            "batch_normalization_40 (Batc (None, 400)               1600      \n",
            "_________________________________________________________________\n",
            "activation_52 (Activation)   (None, 400)               0         \n",
            "_________________________________________________________________\n",
            "dropout_30 (Dropout)         (None, 400)               0         \n",
            "_________________________________________________________________\n",
            "dense_46 (Dense)             (None, 200)               80200     \n",
            "_________________________________________________________________\n",
            "batch_normalization_41 (Batc (None, 200)               800       \n",
            "_________________________________________________________________\n",
            "activation_53 (Activation)   (None, 200)               0         \n",
            "_________________________________________________________________\n",
            "dropout_31 (Dropout)         (None, 200)               0         \n",
            "_________________________________________________________________\n",
            "dense_47 (Dense)             (None, 10)                2010      \n",
            "_________________________________________________________________\n",
            "batch_normalization_42 (Batc (None, 10)                40        \n",
            "_________________________________________________________________\n",
            "activation_54 (Activation)   (None, 10)                0         \n",
            "_________________________________________________________________\n",
            "dropout_32 (Dropout)         (None, 10)                0         \n",
            "=================================================================\n",
            "Total params: 4,689,050\n",
            "Trainable params: 4,683,030\n",
            "Non-trainable params: 6,020\n",
            "_________________________________________________________________\n"
          ],
          "name": "stdout"
        }
      ]
    },
    {
      "cell_type": "code",
      "metadata": {
        "id": "fPxGltVng59N"
      },
      "source": [
        "### ╰( ͡° ͜ʖ ͡° )つ──☆*:・ﾟ"
      ],
      "execution_count": null,
      "outputs": []
    },
    {
      "cell_type": "markdown",
      "metadata": {
        "id": "U8EE0EOLg59Q"
      },
      "source": [
        "Отрисуйте графики точности и потерь на тестовом и на тренировочном множестве для сверточной неронной сети\n",
        "\n",
        "Vusialize the accuracy and the loss on test and train samples for convoltional network "
      ]
    },
    {
      "cell_type": "code",
      "metadata": {
        "id": "6ERwiuGtg59T",
        "outputId": "b088621c-c9f0-41bc-c478-71499dfc227b",
        "colab": {
          "base_uri": "https://localhost:8080/",
          "height": 297
        }
      },
      "source": [
        "### ╰( ͡° ͜ʖ ͡° )つ──☆*:・ﾟ\n",
        "\n",
        "plt.plot(history.history[\"loss\"], label = \"Train_loss\")\n",
        "plt.plot(history.history[\"val_loss\"], label = \"Val_loss\")\n",
        "plt.xlabel(\"Epochs\")\n",
        "plt.ylabel(\"Loss\")\n",
        "plt.legend()"
      ],
      "execution_count": null,
      "outputs": [
        {
          "output_type": "execute_result",
          "data": {
            "text/plain": [
              "<matplotlib.legend.Legend at 0x7f9bcfb041d0>"
            ]
          },
          "metadata": {
            "tags": []
          },
          "execution_count": 83
        },
        {
          "output_type": "display_data",
          "data": {
            "image/png": "[encoded data removed]",
            "text/plain": [
              "<Figure size 432x288 with 1 Axes>"
            ]
          },
          "metadata": {
            "tags": []
          }
        }
      ]
    },
    {
      "cell_type": "code",
      "metadata": {
        "id": "HEjzshloPSTu",
        "outputId": "29e6d730-74c1-4e12-e819-2832a5b29dc3",
        "colab": {
          "base_uri": "https://localhost:8080/",
          "height": 296
        }
      },
      "source": [
        "N = np.arange(0, 50)\n",
        "plt.plot(history.history[\"acc\"], label = \"Train_acc\")\n",
        "plt.plot(history.history[\"val_acc\"], label = \"Val_acc\")\n",
        "plt.xlabel(\"Epochs\")\n",
        "plt.ylabel(\"Loss\")\n",
        "plt.legend()"
      ],
      "execution_count": null,
      "outputs": [
        {
          "output_type": "execute_result",
          "data": {
            "text/plain": [
              "<matplotlib.legend.Legend at 0x7f9bcfa9c898>"
            ]
          },
          "metadata": {
            "tags": []
          },
          "execution_count": 84
        },
        {
          "output_type": "display_data",
          "data": {
            "image/png": "[encoded data removed]",
            "text/plain": [
              "<Figure size 432x288 with 1 Axes>"
            ]
          },
          "metadata": {
            "tags": []
          }
        }
      ]
    },
    {
      "cell_type": "markdown",
      "metadata": {
        "id": "UfZTBsfBg59b"
      },
      "source": [
        "### Задча №3\n",
        "\n",
        "Реализуйте и обучите полносвязную нейронную сеть с архитектурой 100 -> 200 -> 400 -> 600 -> 800 -> 1000 -> 10. Замерьте время обучения сети. Отрисуйте графики точности и потерь на тестовом и на тренировочном множестве.\n",
        "\n",
        "\n",
        "Build and train fully connected network with architecture 100 -> 200 -> 400 -> 600 -> 800 -> 1000 -> 10, measure learning time. Vusialize the accuracy and the loss on test and train samples for convoltional network "
      ]
    },
    {
      "cell_type": "code",
      "metadata": {
        "id": "l2VNnY8rg59c"
      },
      "source": [
        "### ╰( ͡° ͜ʖ ͡° )つ──☆*:・ﾟ\n",
        "\n",
        "classifier = Sequential()\n",
        "\n",
        "classifier.add(Dense(100, input_shape = [3072]))\n",
        "classifier.add(Activation('relu'))\n",
        "classifier.add(Dense(200))\n",
        "classifier.add(Activation('relu'))\n",
        "classifier.add(Dense(400))\n",
        "classifier.add(Activation('relu'))\n",
        "classifier.add(Dense(600))\n",
        "classifier.add(Activation('relu'))\n",
        "classifier.add(Dense(800))\n",
        "classifier.add(Activation('relu'))\n",
        "classifier.add(Dense(1000))\n",
        "classifier.add(Activation('relu'))\n",
        "classifier.add(Dense(10))\n",
        "classifier.add(Activation('softmax'))\n",
        "\n",
        "\n",
        "\n",
        "classifier.compile(optimizer = 'adam', loss = 'categorical_crossentropy', metrics = ['accuracy'])\n",
        "history = classifier.fit(X_train_one_channel, y_train, batch_size=100, epochs=50,verbose=1, validation_data=(X_test_one_channel, y_test))\n",
        "score = classifier.evaluate(X_test_one_channel, y_test, verbose=0)"
      ],
      "execution_count": null,
      "outputs": []
    },
    {
      "cell_type": "code",
      "metadata": {
        "id": "CbBqNU_Tg59e",
        "outputId": "c4acda7d-0b15-484c-c7b5-8118dc57c171",
        "colab": {
          "base_uri": "https://localhost:8080/",
          "height": 622
        }
      },
      "source": [
        "# Посмотрим на модель\n",
        "# Have a look at our model (use .summary())\n",
        "\n",
        "\n",
        "### ╰( ͡° ͜ʖ ͡° )つ──☆*:・ﾟ\n",
        "classifier.summary()"
      ],
      "execution_count": null,
      "outputs": [
        {
          "output_type": "stream",
          "text": [
            "Model: \"sequential_12\"\n",
            "_________________________________________________________________\n",
            "Layer (type)                 Output Shape              Param #   \n",
            "=================================================================\n",
            "dense_48 (Dense)             (None, 100)               307300    \n",
            "_________________________________________________________________\n",
            "activation_55 (Activation)   (None, 100)               0         \n",
            "_________________________________________________________________\n",
            "dense_49 (Dense)             (None, 200)               20200     \n",
            "_________________________________________________________________\n",
            "activation_56 (Activation)   (None, 200)               0         \n",
            "_________________________________________________________________\n",
            "dense_50 (Dense)             (None, 400)               80400     \n",
            "_________________________________________________________________\n",
            "activation_57 (Activation)   (None, 400)               0         \n",
            "_________________________________________________________________\n",
            "dense_51 (Dense)             (None, 600)               240600    \n",
            "_________________________________________________________________\n",
            "activation_58 (Activation)   (None, 600)               0         \n",
            "_________________________________________________________________\n",
            "dense_52 (Dense)             (None, 800)               480800    \n",
            "_________________________________________________________________\n",
            "activation_59 (Activation)   (None, 800)               0         \n",
            "_________________________________________________________________\n",
            "dense_53 (Dense)             (None, 1000)              801000    \n",
            "_________________________________________________________________\n",
            "activation_60 (Activation)   (None, 1000)              0         \n",
            "_________________________________________________________________\n",
            "dense_54 (Dense)             (None, 10)                10010     \n",
            "_________________________________________________________________\n",
            "activation_61 (Activation)   (None, 10)                0         \n",
            "=================================================================\n",
            "Total params: 1,940,310\n",
            "Trainable params: 1,940,310\n",
            "Non-trainable params: 0\n",
            "_________________________________________________________________\n"
          ],
          "name": "stdout"
        }
      ]
    },
    {
      "cell_type": "code",
      "metadata": {
        "id": "Gt4iWKM-g59f",
        "outputId": "e0e1c744-4813-4151-e3e0-ded72a2a2889",
        "colab": {
          "base_uri": "https://localhost:8080/",
          "height": 296
        }
      },
      "source": [
        "### ╰( ͡° ͜ʖ ͡° )つ──☆*:・ﾟ\n",
        "plt.plot(history.history[\"loss\"], label = \"Train_loss\")\n",
        "plt.plot(history.history[\"val_loss\"], label = \"Val_loss\")\n",
        "plt.xlabel(\"Epochs\")\n",
        "plt.ylabel(\"Loss\")\n",
        "plt.legend()"
      ],
      "execution_count": null,
      "outputs": [
        {
          "output_type": "execute_result",
          "data": {
            "text/plain": [
              "<matplotlib.legend.Legend at 0x7f9bccfdc278>"
            ]
          },
          "metadata": {
            "tags": []
          },
          "execution_count": 89
        },
        {
          "output_type": "display_data",
          "data": {
            "image/png": "[encoded data removed]",
            "text/plain": [
              "<Figure size 432x288 with 1 Axes>"
            ]
          },
          "metadata": {
            "tags": []
          }
        }
      ]
    },
    {
      "cell_type": "code",
      "metadata": {
        "id": "DveZ5X9oRvr7",
        "outputId": "db39dcdc-9b56-40a3-afd5-bc4bce016bf5",
        "colab": {
          "base_uri": "https://localhost:8080/",
          "height": 296
        }
      },
      "source": [
        "N = np.arange(0, 50)\n",
        "plt.plot(history.history[\"acc\"], label = \"Train_acc\")\n",
        "plt.plot(history.history[\"val_acc\"], label = \"Val_acc\")\n",
        "plt.xlabel(\"Epochs\")\n",
        "plt.ylabel(\"Loss\")\n",
        "plt.legend()"
      ],
      "execution_count": null,
      "outputs": [
        {
          "output_type": "execute_result",
          "data": {
            "text/plain": [
              "<matplotlib.legend.Legend at 0x7f9bccf49438>"
            ]
          },
          "metadata": {
            "tags": []
          },
          "execution_count": 90
        },
        {
          "output_type": "display_data",
          "data": {
            "image/png": "[encoded data removed]",
            "text/plain": [
              "<Figure size 432x288 with 1 Axes>"
            ]
          },
          "metadata": {
            "tags": []
          }
        }
      ]
    },
    {
      "cell_type": "markdown",
      "metadata": {
        "id": "h61gUDw9g59i"
      },
      "source": [
        "**Выводы**\n",
        "\n",
        "Сравнив качество, количество параметров и быстродействии всех трех сетей, сделайте выводы о том, что лучше использовать для работы с изображениями, и какая архитектура должна быть у полносвязных сетей (следующий слой должен содержать больше или меньше нейронов, чем предыдущий?). Подумайте, почему. Сравните результаты обучения полносвязных сетей из задания №2: помогает ли dropuot от переобучения?\n",
        "\n",
        "Compare all charachteristics of all three neworks and make a conclusion, what fully connected architecture if better for iman=ge processing. Why? \n",
        "Compare results from task 2: does dropout help? "
      ]
    },
    {
      "cell_type": "code",
      "metadata": {
        "id": "-SIARwIJg59j"
      },
      "source": [
        "### ╰( ͡° ͜ʖ ͡° )つ──☆*:・ﾟ"
      ],
      "execution_count": null,
      "outputs": []
    },
    {
      "cell_type": "markdown",
      "metadata": {
        "id": "bijcu_8Mg59m"
      },
      "source": [
        "## Готовые ноутбуки сохраняйте строго в формате .ipynb, \n",
        "**название файла должно иметь вид: Surname_Name_HWnumber.ipynb . Например: Lindemann_Nikita_03.ipynb\n",
        "\n",
        "## Отправляйте ваши ноутбуки в гугл форму: \n",
        "https://docs.google.com/forms/d/e/1FAIpQLScBQiBqU5Sq2KK1fxy7Ot474vyTUUSG6V63s9tfgKMlbJPecQ/viewform\n",
        "\n",
        "\n",
        "# Спасибо за терпение и выполнение заданий!"
      ]
    }
  ]
}