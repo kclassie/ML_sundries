{
  "nbformat": 4,
  "nbformat_minor": 0,
  "metadata": {
    "kernelspec": {
      "name": "python3",
      "display_name": "Python 3"
    },
    "language_info": {
      "codemirror_mode": {
        "name": "ipython",
        "version": 3
      },
      "file_extension": ".py",
      "mimetype": "text/x-python",
      "name": "python",
      "nbconvert_exporter": "python",
      "pygments_lexer": "ipython3",
      "version": "3.7.4"
    },
    "colab": {
      "provenance": [],
      "collapsed_sections": [
        "KAG5thtiaDOp",
        "eeh6eHblaDOt",
        "rkZLhdaWaDOv",
        "hMe5M4hcaDO-",
        "v9pDaK_saDPF",
        "nmoQeDd0aDPJ",
        "1lwGp54WaDPO",
        "4mN77jAxaDPS",
        "jkDcXNiyaDPe",
        "ifo6LVmfaDQD",
        "NEyMshGFaDTv",
        "I2ObKiroaDXE",
        "RaInBGE2aDXI"
      ],
      "include_colab_link": true
    },
    "accelerator": "GPU"
  },
  "cells": [
    {
      "cell_type": "markdown",
      "metadata": {
        "id": "view-in-github",
        "colab_type": "text"
      },
      "source": [
        "<a href=\"https://colab.research.google.com/github/kclassie/ML_sundries/blob/main/Embedding_%D0%BF%D0%BE%D1%88%D0%B0%D0%B3%D0%BE%D0%B2%D0%BE%D1%8E_%D0%9A%D0%BE%D0%BD%D1%81%D0%BF%D0%B5%D0%BA%D1%82.ipynb\" target=\"_parent\"><img src=\"https://colab.research.google.com/assets/colab-badge.svg\" alt=\"Open In Colab\"/></a>"
      ]
    },
    {
      "cell_type": "markdown",
      "metadata": {
        "id": "rDGnPgjAaDNN"
      },
      "source": [
        "Некоторые модели очень тяжелые, поэтому советую пользоваться Google Colab. Ссылка на ноутбук в коллабе:\n",
        "\n",
        "https://colab.research.google.com/drive/1mD6G0RN2tPAPE5CQcDaRCXiPA63ag8OY"
      ]
    },
    {
      "cell_type": "markdown",
      "metadata": {
        "id": "zruLk55raDNW"
      },
      "source": [
        "#  <center> Word embeddings <center>\n",
        "\n",
        "**Word embedding** -  technique in NLP where words or phrases from the vocabulary are mapped to vectors of real numbers.\n",
        "\n",
        "Called an **\"embedding\"** because it's embedded into a space"
      ]
    },
    {
      "cell_type": "markdown",
      "metadata": {
        "id": "txy3Kjb4aDNY"
      },
      "source": [
        "## Two kinds of embeddings\n",
        "**Sparse** (e.g. TF-IDF, One-Hot-Enc, PPMI)\n",
        "- a common baseline model\n",
        "- Sparse vectors\n",
        "- Words are represented by a simple function of the counts of nearby words\n",
        "\n",
        "**Dense** (e.g. word2vec, doc2vec)\n",
        "- Dense vectors\n",
        "- Representation is created by training a classifier to distinguish nearby and far-away words"
      ]
    },
    {
      "cell_type": "code",
      "metadata": {
        "id": "5o2X3nklaDNZ",
        "outputId": "523f116a-beac-4f55-cf74-3dcc577df25c",
        "colab": {
          "base_uri": "https://localhost:8080/",
          "height": 284
        }
      },
      "source": [
        "#Example of vector represenation\n",
        "import numpy as np\n",
        "import pandas as pd\n",
        "from matplotlib import pyplot as plt\n",
        "from sklearn.decomposition import PCA\n",
        "from collections import defaultdict\n",
        "%matplotlib inline\n",
        "\n",
        "\n",
        "# Lets for example consider a simple way to map words from sentences into dense vectors.\n",
        "# Lets make a table with words coocurrencies and then project vectors of all words into 2D using PCA.\n",
        "\n",
        "s = ['Sky is blue', 'She is getting better', 'Everything is possible']\n",
        "dic = defaultdict(dict)\n",
        "for sent in s:\n",
        "    words = sent.split()\n",
        "    for w in words:\n",
        "        for w2 in words:\n",
        "            dic[w][w2]=1\n",
        "\n",
        "df = pd.DataFrame(dic)\n",
        "df.fillna(0, inplace=True)\n",
        "df"
      ],
      "execution_count": null,
      "outputs": [
        {
          "output_type": "execute_result",
          "data": {
            "text/html": [
              "<div>\n",
              "<style scoped>\n",
              "    .dataframe tbody tr th:only-of-type {\n",
              "        vertical-align: middle;\n",
              "    }\n",
              "\n",
              "    .dataframe tbody tr th {\n",
              "        vertical-align: top;\n",
              "    }\n",
              "\n",
              "    .dataframe thead th {\n",
              "        text-align: right;\n",
              "    }\n",
              "</style>\n",
              "<table border=\"1\" class=\"dataframe\">\n",
              "  <thead>\n",
              "    <tr style=\"text-align: right;\">\n",
              "      <th></th>\n",
              "      <th>Sky</th>\n",
              "      <th>is</th>\n",
              "      <th>blue</th>\n",
              "      <th>She</th>\n",
              "      <th>getting</th>\n",
              "      <th>better</th>\n",
              "      <th>Everything</th>\n",
              "      <th>possible</th>\n",
              "    </tr>\n",
              "  </thead>\n",
              "  <tbody>\n",
              "    <tr>\n",
              "      <th>Sky</th>\n",
              "      <td>1.0</td>\n",
              "      <td>1</td>\n",
              "      <td>1.0</td>\n",
              "      <td>0.0</td>\n",
              "      <td>0.0</td>\n",
              "      <td>0.0</td>\n",
              "      <td>0.0</td>\n",
              "      <td>0.0</td>\n",
              "    </tr>\n",
              "    <tr>\n",
              "      <th>is</th>\n",
              "      <td>1.0</td>\n",
              "      <td>1</td>\n",
              "      <td>1.0</td>\n",
              "      <td>1.0</td>\n",
              "      <td>1.0</td>\n",
              "      <td>1.0</td>\n",
              "      <td>1.0</td>\n",
              "      <td>1.0</td>\n",
              "    </tr>\n",
              "    <tr>\n",
              "      <th>blue</th>\n",
              "      <td>1.0</td>\n",
              "      <td>1</td>\n",
              "      <td>1.0</td>\n",
              "      <td>0.0</td>\n",
              "      <td>0.0</td>\n",
              "      <td>0.0</td>\n",
              "      <td>0.0</td>\n",
              "      <td>0.0</td>\n",
              "    </tr>\n",
              "    <tr>\n",
              "      <th>She</th>\n",
              "      <td>0.0</td>\n",
              "      <td>1</td>\n",
              "      <td>0.0</td>\n",
              "      <td>1.0</td>\n",
              "      <td>1.0</td>\n",
              "      <td>1.0</td>\n",
              "      <td>0.0</td>\n",
              "      <td>0.0</td>\n",
              "    </tr>\n",
              "    <tr>\n",
              "      <th>getting</th>\n",
              "      <td>0.0</td>\n",
              "      <td>1</td>\n",
              "      <td>0.0</td>\n",
              "      <td>1.0</td>\n",
              "      <td>1.0</td>\n",
              "      <td>1.0</td>\n",
              "      <td>0.0</td>\n",
              "      <td>0.0</td>\n",
              "    </tr>\n",
              "    <tr>\n",
              "      <th>better</th>\n",
              "      <td>0.0</td>\n",
              "      <td>1</td>\n",
              "      <td>0.0</td>\n",
              "      <td>1.0</td>\n",
              "      <td>1.0</td>\n",
              "      <td>1.0</td>\n",
              "      <td>0.0</td>\n",
              "      <td>0.0</td>\n",
              "    </tr>\n",
              "    <tr>\n",
              "      <th>Everything</th>\n",
              "      <td>0.0</td>\n",
              "      <td>1</td>\n",
              "      <td>0.0</td>\n",
              "      <td>0.0</td>\n",
              "      <td>0.0</td>\n",
              "      <td>0.0</td>\n",
              "      <td>1.0</td>\n",
              "      <td>1.0</td>\n",
              "    </tr>\n",
              "    <tr>\n",
              "      <th>possible</th>\n",
              "      <td>0.0</td>\n",
              "      <td>1</td>\n",
              "      <td>0.0</td>\n",
              "      <td>0.0</td>\n",
              "      <td>0.0</td>\n",
              "      <td>0.0</td>\n",
              "      <td>1.0</td>\n",
              "      <td>1.0</td>\n",
              "    </tr>\n",
              "  </tbody>\n",
              "</table>\n",
              "</div>"
            ],
            "text/plain": [
              "            Sky  is  blue  She  getting  better  Everything  possible\n",
              "Sky         1.0   1   1.0  0.0      0.0     0.0         0.0       0.0\n",
              "is          1.0   1   1.0  1.0      1.0     1.0         1.0       1.0\n",
              "blue        1.0   1   1.0  0.0      0.0     0.0         0.0       0.0\n",
              "She         0.0   1   0.0  1.0      1.0     1.0         0.0       0.0\n",
              "getting     0.0   1   0.0  1.0      1.0     1.0         0.0       0.0\n",
              "better      0.0   1   0.0  1.0      1.0     1.0         0.0       0.0\n",
              "Everything  0.0   1   0.0  0.0      0.0     0.0         1.0       1.0\n",
              "possible    0.0   1   0.0  0.0      0.0     0.0         1.0       1.0"
            ]
          },
          "metadata": {
            "tags": []
          },
          "execution_count": 1
        }
      ]
    },
    {
      "cell_type": "code",
      "metadata": {
        "id": "NL30vW-8aDNl",
        "outputId": "e332f08d-b237-49a2-e8b3-5ac06f98f8ed",
        "colab": {
          "base_uri": "https://localhost:8080/",
          "height": 418
        }
      },
      "source": [
        "res = PCA().fit_transform(df)\n",
        "\n",
        "font = {'size'   : 15}\n",
        "plt.rc('font', **font)\n",
        "plt.figure(figsize=(7,7))\n",
        "plt.scatter(res[:,0], res[:,1])\n",
        "plt.axis('off')\n",
        "for i, label in enumerate(df.columns):\n",
        "    x, y = res[i,0], res[i,1]\n",
        "    plt.scatter(x, y)\n",
        "    annot = {'has': (1, 50), 'is': (1, 5)}\n",
        "    plt.annotate(label, xy=(x, y),\n",
        "                 xytext=annot.get(label,(1+i*2, 6*i)), \n",
        "                 textcoords='offset points',\n",
        "                   ha='right', va='bottom', )"
      ],
      "execution_count": null,
      "outputs": [
        {
          "output_type": "display_data",
          "data": {
            "image/png": "[encoded data removed]",
            "text/plain": [
              "<Figure size 504x504 with 1 Axes>"
            ]
          },
          "metadata": {
            "tags": []
          }
        }
      ]
    },
    {
      "cell_type": "markdown",
      "metadata": {
        "id": "ov3XLPsMaDNr"
      },
      "source": [
        " - **Each word = a vector**\n",
        " - **Similar words are “nearby in space”**"
      ]
    },
    {
      "cell_type": "markdown",
      "metadata": {
        "id": "oMVwGJXSaDNt"
      },
      "source": [
        "# Что такое Word2Vec?\n",
        "\n",
        "**Idea:** predict rather than count (*Mikolov et al., 2013)\n",
        "\n",
        "Instead of counting how often each word w occurs near \"apricot” train a classifier on a binary prediction task:\n",
        "\n",
        "–Is w likely to show up near \"apricot\"?"
      ]
    },
    {
      "cell_type": "markdown",
      "metadata": {
        "id": "ZAvGwl8HaDNw"
      },
      "source": [
        "Word2Vec – одна из технологий анализа семантики естественных языков, которая основана на векторном представлении слов согласно их семантической близости. Был разработан группой исследователей Google в 2013 году, активно применяется для семантического анализа текстов и похожих задачах.\n",
        "Word2vec в качестве входных данных принимает текстовый корпус и гиперпараметры, о которых поговорим позднее. Далее названия гиперпараметров и их дефолтные значения будут указаны в соответсвии с реализацией Word2Vec на open-source платформе Gensim.\n",
        "\n",
        "Суть алгоритма заключается в том, что он каждому слову сопоставляет числовой вектор определенной длины таким образом, чтобы близкие слова соответствуют близким векторам. Мерой близости слов выступает их контекстная близость т.е. близкие слова встречаются в тексте рядом с одинаковыми словами. "
      ]
    },
    {
      "cell_type": "markdown",
      "metadata": {
        "id": "ivWf0R2-aDN2"
      },
      "source": [
        "Например слова \"девушка\" и \"женщина\" будут часто употреблятся со словами: \"красивая\", \"прекрасная\", \"чудесная\", \"заботливая\", а слова \"мужчина\" и \"парень\" будут часто употреблятся со словами: \"храбрый\", \"сильный\", \"смелый\", \"могучий\"."
      ]
    },
    {
      "cell_type": "markdown",
      "metadata": {
        "id": "3ZSwUjM8aDN5"
      },
      "source": [
        "<img src=\"https://drive.google.com/uc?export=download&id=0BzaVUd-GlV7lYXF0b29VRzEwaUU\"/>"
      ]
    },
    {
      "cell_type": "markdown",
      "metadata": {
        "id": "1kuFCudJaDN7"
      },
      "source": [
        "Расстоянием между векторами измеряется при помощи [косинусного сходства](https://ru.wikipedia.org/wiki/%D0%92%D0%B5%D0%BA%D1%82%D0%BE%D1%80%D0%BD%D0%B0%D1%8F_%D0%BC%D0%BE%D0%B4%D0%B5%D0%BB%D1%8C) (cosine similarity). Косинусное сходство - это мера сходства между двумя векторами предгильбертового пространства, которая используется для измерения косинуса угла между ними. Косинусная мера между векторами x и y длины n вычисляется по формуле:"
      ]
    },
    {
      "cell_type": "markdown",
      "metadata": {
        "id": "YQ_d5aHsaDN-"
      },
      "source": [
        "$$cos(\\theta)=\\frac{(x,y)}{|x| |y|}=\\frac{\\sum\\limits_{i=1}^{n}x_i y_i}{\\sqrt{\\sum\\limits_{i=1}^{n}x_i^2} \\sqrt{\\sum\\limits_{i=1}^{n}y_i^2}}$$"
      ]
    },
    {
      "cell_type": "markdown",
      "metadata": {
        "id": "nJjZ0KeSaDOF"
      },
      "source": [
        "Обучаясь, Word2Vec максимизирует косинусную меру близости между векторами слов, которые встречаются в похожих контекстах и минимизирует косинусную меру между словами, которые не встречаются рядом.Word2Vec получает на вход слово, а на выход передает координаты вектора, соответствующие данному слову.\n",
        "\n",
        "Полученные вектора можно складывать или вычитать друг из друга, сохраняя семантические связи."
      ]
    },
    {
      "cell_type": "markdown",
      "metadata": {
        "collapsed": true,
        "id": "IbAliOHnaDOJ"
      },
      "source": [
        "<img src=\"https://drive.google.com/uc?export=download&id=0BzaVUd-GlV7lVEFPakZIcGZWVzg\"/>"
      ]
    },
    {
      "cell_type": "markdown",
      "metadata": {
        "id": "WxvkHNoeaDOL"
      },
      "source": [
        "Некоторый недостаток заключается в том, что мы не имеем понятия за что отвечают полученные признаки. Т.е. у нас нет интерпретации, как на картинке ниже. "
      ]
    },
    {
      "cell_type": "markdown",
      "metadata": {
        "id": "aEmCkhhnaDON"
      },
      "source": [
        "<img src=\"https://drive.google.com/uc?export=download&id=0BzaVUd-GlV7lX1FNTDNxcnFsWnc\"/>"
      ]
    },
    {
      "cell_type": "markdown",
      "metadata": {
        "id": "Je95yiMJaDOW"
      },
      "source": [
        "В Word2Vec можно использовать две различных архитектуры нейронной сети с помощью которых осуществляется перевод слова в вектор: \n",
        "\n",
        "- Continuous Bag of Words (CBOW);\n",
        "- Skip-gram.\n",
        "\n",
        "Выбор одной из этих моделей выполняется с помощью гиперпараметра ‘sg’. По умолчанию sg=0 и используется модель CBOW, при sg=1 используется модель Skip-gram.\n"
      ]
    },
    {
      "cell_type": "markdown",
      "metadata": {
        "id": "aoTPi1J-aDOY"
      },
      "source": [
        "Другим гиперпараметром является размер окна, в котором рассматривается контекст данного слова. В данной реализации используется параметр ‘window’, который определяет максимальное количество слов между данным словом и соседним внутри предложения. Слова стоящие от данного дальше этого значения не будут рассматриваться как его контекст. Какое слово стоит в тексте ближе , а какое дальше от данного слова, не учитывается, при условии, что оба слова попали в окно. Вот пример с параметром window = 2"
      ]
    },
    {
      "cell_type": "markdown",
      "metadata": {
        "id": "EXl-tw_9aDOa"
      },
      "source": [
        "<img src=\"https://drive.google.com/uc?export=download&id=0BzaVUd-GlV7lMXd0bjRDLUdLN2c\"/>\n",
        "\n",
        "<img src=\"https://drive.google.com/uc?export=download&id=1c50NoJDfmB_88WxYNy-lDqDLJhz4AwnV\"/>"
      ]
    },
    {
      "cell_type": "markdown",
      "metadata": {
        "id": "eay7p8TsaDOd"
      },
      "source": [
        "Еще один важный гиперпараметр ‘size’ - размерность векторов, соответствующих словам. Если его величина мала, то модель получается грубой и плохо отображает связь между словами внутри данного массива текстов. А при большом значении роль машинного обучения теряется, и сопоставление словам векторов может превратиться в унитарное кодирование слов (one-hot encoding).\n"
      ]
    },
    {
      "cell_type": "markdown",
      "metadata": {
        "id": "cUBznYwjaDOi"
      },
      "source": [
        "Помимо этого есть такие параметры как:\n",
        "\n",
        "alpha - начальный коэффициент скорости обучения (будет линейно падать в ходе обучения).\n",
        "\n",
        "seed = семя для воспроизводимости результатов;\n",
        "\n",
        "min_count = минимальная частота слова, чтобы оно было учтено; \n",
        "\n",
        "max_vocab_size = ограничение на выделение ОЗУ для словаря. 10млн. слов занимают примерно 1GB RAM;\n",
        "\n",
        "workers = число ядер используемых для обучения, повышает скорость;\n",
        "\n",
        "iter = число итераций на каждый текст (по умолчанию 5);\n",
        "\n",
        "sorted_vocab = 1 (значение по умолчанию),то сортирует словарь по убыванию частоты перед назначением слову индекса.\n"
      ]
    },
    {
      "cell_type": "markdown",
      "metadata": {
        "id": "KAG5thtiaDOp"
      },
      "source": [
        "# Архитектура нейронной сети"
      ]
    },
    {
      "cell_type": "markdown",
      "metadata": {
        "id": "rCwZyYgYaDOr"
      },
      "source": [
        "Теперь более подробно рассмотрим процесс обучения и архитектуру нейронных сетей.\n",
        "Пусть $V$ - количество слов в словаре, $h$ - размер окна (количество соседних слов, рассматриваемых как контекст данного слова), $N$ - размерность искомых векторов. \n"
      ]
    },
    {
      "cell_type": "markdown",
      "metadata": {
        "id": "eeh6eHblaDOt"
      },
      "source": [
        "# word2vec: skip gram & cbow\n",
        "\n",
        "Models __CBOW (Continuous Bag of Words)__ and __Skip gram__ were invented in the now distant 2013,\n",
        "*article*:\n",
        "[*Tomas Mikolov et al.*](https://arxiv.org/pdf/1301.3781v3.pdf)\n",
        "\n",
        "* __CBOW__ Модель предсказывает пропущенное слово, используя контекст (окружающие слова).\n",
        "* __skip gram__ модель обратная к _CBOW_. Она предсказывает контекст на основе выбранного слова.\n",
        "\n",
        "* **Context** фиксированное количество слов слева и справа от выбранного слова (см. рисунок ниже). Длина контекста определяется параметром \"window\".\n",
        "<img src=\"https://drive.google.com/uc?export=download&id=123tOrqr958DAwU60oW4nPccqr7JbnBF7\"/>\n",
        "\n",
        "\n",
        "Сравнение 2ух моделей\n",
        "<img src=\"https://drive.google.com/uc?export=download&id=1AW7mMz3e6AyA0azAwvM40qGE2CnjJ7mS\"/>\n",
        "\n",
        "\n",
        "___\n",
        "\n",
        "Существует много реализаций word2vec в т.ч. [gensim](https://github.com/RaRe-Technologies/gensim/blob/develop/docs/notebooks/word2vec.ipynb).\n",
        "И есть много обученных слов-векторов, которые уже готовы к использованию (Например, GloVe).\n",
        "___\n"
      ]
    },
    {
      "cell_type": "markdown",
      "metadata": {
        "id": "rkZLhdaWaDOv"
      },
      "source": [
        "# Continuous Bag of Words (CBOW)"
      ]
    },
    {
      "cell_type": "markdown",
      "metadata": {
        "id": "Tfjvr07TaDOx"
      },
      "source": [
        "Когда данных мало лучше использовать CBOW. В данном подходе нейронная сеть предсказывает исходное слово по его контексту ($h$ соседним словам). Нейронная сеть состоит из трех слоев: входной, скрытый, выходной.\n",
        "\n",
        "На вход сети подаются $h$ векторов размерности $V$: $x_i=(x_i^1,x_i^2,...,x_i^V), i=1...h$, где $x_i^j=1$, если данное слово является $j$-ым словом из словаря, $x_i^k=0$ для $k\\neq j$. На выходе имеем один вектор размерности $V$: $y=(y^1,y^2,...,y^V)$. На обучающейся выборке $y^j=1$, если предсказываемое слово является $j$-ым словом из словаря, $y^k=0$ для $k\\neq j$. То есть нейронная сеть имеет $h\\times V$ нейронов на входном слое и $V$ нейронов на выходном слое.\n",
        "\n",
        "На скрытом слое сети $N$ нейронов. Именно с помощью весов, расставленных перед нейронами этого слоя, мы получим координаты векторных представлений слов. Функция активации на скрытом уровне — линейная, на выходном уровне — софтмакс (softmax).\n",
        "\n",
        "Сначала рассмотрим простейший случай, когда  $h=1$.То есть будем предсказывать слово $y$ только по одному его соседу $x$. Тогда архитектура сети примет вид, изображенный на схеме:\n"
      ]
    },
    {
      "cell_type": "markdown",
      "metadata": {
        "id": "LVi_oKqJaDO0"
      },
      "source": [
        "<img src=\"https://drive.google.com/uc?export=download&id=0BzaVUd-GlV7lTUlzUENwVEl3azg\"/>"
      ]
    },
    {
      "cell_type": "markdown",
      "metadata": {
        "id": "c_ofg94BaDO4"
      },
      "source": [
        "Обозначим веса между входным и скрытым уровнями за $W$ - матрица размерности $V\\times N$. Учитывая, что функция активации на скрытом слое линейная, вектор выходов размерности $N$ на скрытом уровне имеет вид: $$v=Wx$$\n",
        "\n",
        "Обозначим веса между скрытым и выходным уровнями за $W'$ - матрица размерности $N\\times V$. Пусть $w'_j$ - $j$-ая строка матрицы $W'$. Тогда входной сигнал $j$-ого нейрона на выходном уровне имеет вид: $$u^j=w'_j v$$\n",
        "\n",
        "Так как на выходном уровне используется функция активации softmax, выходной сигнал на  $j$-ом нейроне выходного слоя принимает вид:\n",
        "\n",
        "$$y^j=\\frac{exp(u^j)}{\\sum\\limits_{k=1}^{V} exp(u^k)}$$\n",
        "\n",
        "Такое представление имеет вероятностную интерпретацию. Пусть $w_I$ - входное слово, а $w_O$ - выходное слово. Обозначим получившееся выражение для $y^j$ за $p(w_j|w_I)$. Обучаясь, сеть максимизирует $y^{j*}=\\frac{exp(u^{j*})}{\\sum\\limits_{k=1}^{V} exp(u^k)}=p(w_O|w_I)$, при условии что $w_O = w_{j*}$.\n",
        "\n",
        "Сеть обучается методом обратного распространения ошибки (backpropagation), то есть сначала корректируются веса $W'$, а затем $W$. Минимизируемый функционал потерь имеет вид:\n",
        "$$L=-log \\ p(w_O|w_I)$$\n",
        "\n",
        "После того, как процесс обучения завершился, $V$ строк длины $N$ матрицы $W'$ дадут нам  координаты векторов, представляющих слова из словаря.\n",
        "\n",
        "Теперь рассмотрим общий случай для произвольного $h$. То есть будем предсказывать слово $y$ только по соседним словам $x_i, i=1...h$. Тогда архитектура сети примет вид, изображенный на схеме:\n",
        "\n"
      ]
    },
    {
      "cell_type": "markdown",
      "metadata": {
        "id": "tAnvtHGEaDO6"
      },
      "source": [
        "<img src=\"https://drive.google.com/uc?export=download&id=0BzaVUd-GlV7lSjdfLS0yWnlyeFU\"/>"
      ]
    },
    {
      "cell_type": "markdown",
      "metadata": {
        "id": "KeDvL-GBaDO8"
      },
      "source": [
        "\n",
        "Обозначим веса между входными и скрытым уровнями за $W$ - матрица размерности $Vh\\times N$. Учитывая, что функция активации на скрытом слое линейная, вектор выходов размерности $N$ на скрытом уровне имеет вид: $$v= \\frac{1}{h} W (x_1+...+x_h)$$\n",
        "\n",
        "Далее, аналогично случаю $h=1$ получаем входной сигнал $j$ -ого нейрона на выходном слое сети $$u^j=w'_j v,$$\n",
        "где $w'_j$ - $j$-ая строка матрицы весов между скрытым и выходным уровнями $W'$.\n",
        "\n",
        "Пусть входные слова (соседние слова предсказываемого) - $w_{I,1},...,w_{I,h}$. Тогда выходной сигнал на  $j$-ом нейроне выходного слоя принимает вид:\n",
        "\n",
        "$$y^j=\\frac{exp(u^j)}{\\sum\\limits_{k=1}^{V} exp(u^k)}=p(w_j|w_{I,1},...,w_{I,h})$$\n",
        "\n",
        "Как и ранее, обучаясь, сеть максимизирует $y^{j*}=\\frac{exp(u^{j*})}{\\sum\\limits_{k=1}^{V} exp(u^k)}=p(w_O= w_{j*}|w_{I,1},...,w_{I,h})$, при условии что $w_O = w_{j*}$.\n",
        "\n",
        "Минимизируемый функционал потерь имеет вид:\n",
        "$$L=-log \\ p(w_O|w_{I,1},...,w_{I,h})$$\n",
        "\n"
      ]
    },
    {
      "cell_type": "markdown",
      "metadata": {
        "id": "hMe5M4hcaDO-"
      },
      "source": [
        "# Skip-Gram"
      ]
    },
    {
      "cell_type": "markdown",
      "metadata": {
        "id": "f3qT2ImbaDO_"
      },
      "source": [
        "В случае когда данных много, то лучше использовать Skip-Gram. Данный подход обратен CBOW: по заданному слову предсказывается его контекст ($h$ соседних слов). Сеть также состоит из трех слоев: входной, скрытый, выходной.\n",
        "\n",
        "На вход сети подается вектор размерности $V$: $x=(x^1,x^2,...,x^V)$, где $x^j=1$, если данное слово является $j$-ым словом из словаря, $x^k=0$ для $k\\neq j$. На выходе имеем $h$ векторов размерности $V$: $y_i=(y_i^1,y_i^2,...,y_i^V), i=1...h$. На обучающейся выборке $y_i^j=1$, если предсказываемое $i$-е слово из окна является $j$-ым словом из словаря, $y_i^k=0$ для $k\\neq j$. То есть нейронная сеть имеет $V$ нейронов на входном слое и $h\\times V$ нейронов на выходном слое.\n",
        "\n",
        "На скрытом слое сети, как и ранее, $N$ нейронов, а функции активации на скрытом уровне — линейная, на выходном уровне — софтмакс (softmax).\n",
        "\n",
        "Схема архитектуры сети изображена на схеме:\n",
        "\n"
      ]
    },
    {
      "cell_type": "markdown",
      "metadata": {
        "id": "fBe5ZSY4aDPA"
      },
      "source": [
        "<img src=\"https://drive.google.com/uc?export=download&id=0BzaVUd-GlV7lSzRBTXo1d0djM3M\"/>\n",
        "\n",
        "\n",
        "<img src=\"https://drive.google.com/uc?export=download&id=1sAeYWyR_sMzgHQCAaHH1i9-oY55zSOCs\"/>"
      ]
    },
    {
      "cell_type": "markdown",
      "metadata": {
        "id": "r-E8c9xXaDPB"
      },
      "source": [
        "Обозначим веса между входным и скрытым уровнем за $W$ - матрица размерности $V\\times N$. Учитывая, что функция активации на скрытом слое линейная, вектор выходов размерности $N$ на скрытом уровне имеет вид: $$v=Wx.$$\n",
        "\n",
        "Обозначим веса между скрытым и выходными уровнями за $W'$ - матрица размерности $N \\times hV$. Пусть $w'_j$ - $j$-ая строка матрицы $W'$. Тогда входной сигнал $(i V+j)$-ого нейрона (соответсвует вероятности того, что $i$-е слово из контекста это $j$ слово из словаря) на выходном уровне имеет вид: $$u^{i,j}=u^j=w'_j v , i=1...h, j=1...V$$\n",
        "\n",
        "$u^{i,j}$ одинаково для всех $i$, так как слова в контексте заданного слова равнозначны, то есть все нейроны имеют одинаковые веса.\n",
        "\n",
        "Пусть $w_I$ - входное слово, а $w_{O,i}$ - $i$-е выходное слово, тогда выходной сигнал на  $(i V+j)$-ом нейроне выходного слоя имеет вид:\n",
        "\n",
        "$$y^j=\\frac{exp(u^j)}{\\sum\\limits_{n=1}^{V} exp(u^{i V+n})}=p(w_{O,i}=w_j|w_I)$$\n",
        "\n",
        "Обучаясь, сеть максимизирует $p(w_{O,1}=w_{j_1},...,w_{O,h}=w_{j_h}|w_I)=\\prod\\limits_{k=1}^{h}p(w_{O,k}=w_{j_k}|w_I)$, при условии что $w_{O,k} = w_{j_k}, k=1...h$.\n",
        "\n",
        "Минимизируемый функционал потерь имеет вид:\n",
        "$$L=-log \\ p(w_{O,1},...,w_{O,h}|w_I)$$\n",
        "\n",
        "Воспользуемся формулой Байеса:\n",
        "$$ p(w_{O,1},...,w_{O,h}|w_I)=\\frac{p(w_I|w_{O,1},...,w_{O,h}) p(w_{O,1},...,w_{O,h})}{p(w_I)}$$\n",
        "Из этого выражения видно, что увеличение  $p(w_{O,1},...,w_{O,h}|w_I)$  влечет увеличение $p(w_I|w_{O,1},...,w_{O,h})$. Это соображение говорит о схожетсти описанных подходов.\n"
      ]
    },
    {
      "cell_type": "markdown",
      "metadata": {
        "id": "v9pDaK_saDPF"
      },
      "source": [
        "# Скрытый слой\n",
        "\n",
        "При обучении сети на парах слов входной сигнал представляет собой one-hot вектор, представляющий входное слово, а выходной сигнал обучения также является one-hot вектором, представляющим выходное слово. Но когда вы оцениваете обученную сеть по входному слову, выходной вектор будет фактически распределением вероятности (то есть набором значений с плавающей запятой, а не one-hot вектором).\n",
        "\n",
        "<img src=\"https://drive.google.com/uc?export=download&id=1xGVPM5IItl1ZyUu-bbkwnWl4sckXFLCc\"/>\n",
        "\n",
        "\n",
        "Если вы умножите один one-hot вектор размера 1 x 10 000 на матрицу размера 10 000 x 300, вы получите строку матрицы, соответствующую «1» в вашем one-hot векторе. Вот небольшой пример для наглядности:\n",
        "\n",
        "\n",
        "<img src=\"https://drive.google.com/uc?export=download&id=1a8H5wLavoZxMx-eg0NgtLML84WzK0J8z\"/>\n",
        "\n",
        "Это означает, что скрытый слой этой модели в действительности работает как справочная/переводная таблица. Выход скрытого слоя - это просто «вектор слов» для входного слова.\n"
      ]
    },
    {
      "cell_type": "markdown",
      "metadata": {
        "id": "nmoQeDd0aDPJ"
      },
      "source": [
        "## Выходной слой\n",
        "\n",
        "Например, вектор слова 1 x 300 для «ants» затем подается на выходной слой сети. Выходной слой является классификатором регрессии softmax (softmax regression classifier). Суть его в том, что каждый выходной нейрон (по одному на слово в нашем словаре!) Будет производить выход в диапазоне от 0 до 1, а сумма всех этих выходных значений в сумме даст 1.\n",
        "\n",
        "В частности, каждый выходной нейрон имеет весовой вектор, который он умножает на слово вектор из скрытого слоя, затем он применяет функцию exp (x) к результату. Наконец, чтобы получить выходные данные для суммирования до 1, мы делим этот результат на сумму результатов по всем 10 000 выходным узлам.\n",
        "\n",
        "Вот иллюстрация расчета выхода последнего нейрона для слова «car»\n",
        "\n",
        "<img src=\"https://drive.google.com/uc?export=download&id=1KMzQ52_ThGj4wS_31sJrxMMYro27gRSf\"/>\n"
      ]
    },
    {
      "cell_type": "markdown",
      "metadata": {
        "id": "1lwGp54WaDPO"
      },
      "source": [
        "# Уменьшение вычислительной сложности"
      ]
    },
    {
      "cell_type": "markdown",
      "metadata": {
        "id": "1j4BVBHDaDPQ"
      },
      "source": [
        "Несложно догадаться, что без дополнительных доработок алгоритм будет работать очень медленно,  так как размерность словаря $V$ может достигать очень больших значений (нескольких сотен тысяч). Так как сеть обучается методом обратного распространения ошибки, необходимо вычислять градиент на двух шагах, что очень затратно вычислительно.\n",
        "\n",
        "Рассмотрим два метода решения этой проблемы: иерархический софтмакс (Hierarchical Softmax) и Negative Sampling. \n"
      ]
    },
    {
      "cell_type": "markdown",
      "metadata": {
        "id": "4mN77jAxaDPS"
      },
      "source": [
        "# Hierarchical Softmax"
      ]
    },
    {
      "cell_type": "markdown",
      "metadata": {
        "id": "sJwj9SMQaDPU"
      },
      "source": [
        "Этот метод помогает эффективно вычислить значение softmax, используя бинарное дерево. По всем словам в словаре строится дерево Хаффмана. В полученном дереве $V$ слов располагаются на листьях дерева.\n"
      ]
    },
    {
      "cell_type": "markdown",
      "metadata": {
        "id": "vYdy4G30aDPV"
      },
      "source": [
        "<img src=\"https://drive.google.com/uc?export=download&id=0BzaVUd-GlV7lNXJ6YWVBM2ZqOWc\"/>"
      ]
    },
    {
      "cell_type": "markdown",
      "metadata": {
        "id": "_-j2_OwkaDPW"
      },
      "source": [
        "На рисунке изображен пример бинарного дерева. Жирным выделен путь от корня до слова $w_2$. Длину пути обозначим $L(w)$, а $j$-ую вершину на пути к слову $w$ обозначим через $n(w,j)$. Можно доказать, что внутренних вершин (не листьев) $V − 1$.\n",
        "\n",
        "С помощью иерархического softmax вектора $v_{n(w,j)}$ предсказывается для $V-1$ внутренних вершин. А вероятность того, что слово $w$ будет выходным словом (в зависимости от того, что мы предсказываем: слово из контекста или заданное слово по контексту) вычисляется по формуле:\n",
        "$$p(w=w_o)=\\prod_{j=1}^{L(w)-1}\\sigma([n(w,j+1)=lch(n(w,j))] v_{n(w,j)}^T u)$$\n",
        "где $\\sigma()$ - функция softmax; $[true]=1,[false]=-1$; $lch(n)$ - левый сын вершины $n$; $u=v_{w_I}$, если используется метод skip-gram, $u=\\frac{1}{h} \\sum\\limits_{k=1}^{h} v_{w_{I,k}}$, если используется CBOW.\n",
        "\n",
        "Формула можно интуитивно понять, представив, что на каждом шаге мы можем пойти налево или направо с веротяностями:\n",
        "$$p(n,left)=\\sigma(v_n^T u)$$\n",
        "$$p(n,right)=1-p(n,left)=1-\\sigma(v_n^T u)=\\sigma(-v_n^T u)$$\n",
        "Затем на каждм шаге вероятности перемножаются ($L(w)-1$ шагов) и получается искомая формула.\n",
        "\n",
        "При использовании простого softmax для подсчета вероятности слова, приходилось вычислять номирующую сумму по всем словам из словаря, требовалось $O(V)$ операций. Теперь же вероятность слова можно вычислить при помощи последовательных вычислений, которые требуют $O(log(V))$.\n"
      ]
    },
    {
      "cell_type": "markdown",
      "metadata": {
        "id": "jRxk2KLEaDPZ"
      },
      "source": [
        "# Negative Sampling"
      ]
    },
    {
      "cell_type": "markdown",
      "metadata": {
        "id": "IamY5-yfaDPa"
      },
      "source": [
        "Идея этого метода состоит в том, чтобы пересчитывать функционал потерь не по всем словам из словаря, а только по меньшему количеству слов. Тем самым пересчитываться будут вектора не всех слов из словаря, а только некоторого подмножества.\n",
        "\n",
        "Для реализации данной идеи функционал потерь был изменен следующим образом: выходной вектор $w_O$ остается и обновляется, также нужно случайно выбрать  $K$ векторов слов (negative samples), которые не являются подходящими нам (не из контекста входного слова или входных слов). Предполагается, что модель устойчива к шуму и что negative samples имеют некоторое распределение $P_n (w)$, вид распределения задается произвольно.\n",
        "\n",
        "Функция потерь принимает вид:\n",
        "$$L=- log\\sigma(v_{w_O}^T u)-\\sum_{w \\in W_{neg}} log\\sigma(-v_{w}^T u)$$\n",
        "где $W_{neg}=\\{w_j|j=1,...,K\\}$ - $K$ случайно выбранных из словаря слов согласно распределению $P_n (w)$; $u=v_{w_I}$, если используется метод skip-gram, $u=\\frac{1}{h} \\sum\\limits_{k=1}^{h} v_{w_{I,k}}$, если используется CBOW.\n",
        "\n",
        "После нексольких случайных генераций слов negative samples алгоритм сходится."
      ]
    },
    {
      "cell_type": "markdown",
      "metadata": {
        "id": "ay6qzgP7aDPc"
      },
      "source": [
        "Если параметр модели hs = 1, то будет использован hierarchical softmax . Если hs = 0 (по умолчанию),то будет использован negative sampling."
      ]
    },
    {
      "cell_type": "markdown",
      "metadata": {
        "id": "jkDcXNiyaDPe"
      },
      "source": [
        "# Применим на наборе данных"
      ]
    },
    {
      "cell_type": "markdown",
      "metadata": {
        "id": "IhX2aut1aDPf"
      },
      "source": [
        "Если вы не имеете достаточно много данных, то ваша модель может ничего полезного не выучить. Поэтому иногда имеет смысл воспользоваться уже предобученной моделью, например на wiki или новостях. Скачать можно например c [code.google](https://code.google.com/archive/p/word2vec/)"
      ]
    },
    {
      "cell_type": "markdown",
      "metadata": {
        "id": "RfPtZt9naDPg"
      },
      "source": [
        "Но в нашем случае необходимо учитывать особенности последовательностей сайтов. Поэтому предобученный Word2Vec нам не поможет."
      ]
    },
    {
      "cell_type": "code",
      "metadata": {
        "id": "n4g3gGBcaDPi"
      },
      "source": [
        "# загрузим библиотеки и установим опции\n",
        "from __future__ import division, print_function\n",
        "# отключим всякие предупреждения Anaconda\n",
        "import warnings\n",
        "warnings.filterwarnings('ignore')\n",
        "#%matplotlib inline\n",
        "import numpy as np\n",
        "import pandas as pd\n",
        "from sklearn.metrics import roc_auc_score"
      ],
      "execution_count": null,
      "outputs": []
    },
    {
      "cell_type": "code",
      "metadata": {
        "id": "LXYacr8jdYUf",
        "outputId": "15258b18-3c94-49e3-ccb3-d1c1f438de23",
        "colab": {
          "base_uri": "https://localhost:8080/",
          "height": 125
        }
      },
      "source": [
        "from google.colab import drive\n",
        "drive.mount('/content/gdrive', force_remount = True)"
      ],
      "execution_count": null,
      "outputs": [
        {
          "output_type": "stream",
          "text": [
            "Go to this URL in a browser: https://accounts.google.com/o/oauth2/auth?client_id=947318989803-6bn6qk8qdgf4n4g3pfee6491hc0brc4i.apps.googleusercontent.com&redirect_uri=urn%3aietf%3awg%3aoauth%3a2.0%3aoob&response_type=code&scope=email%20https%3a%2f%2fwww.googleapis.com%2fauth%2fdocs.test%20https%3a%2f%2fwww.googleapis.com%2fauth%2fdrive%20https%3a%2f%2fwww.googleapis.com%2fauth%2fdrive.photos.readonly%20https%3a%2f%2fwww.googleapis.com%2fauth%2fpeopleapi.readonly\n",
            "\n",
            "Enter your authorization code:\n",
            "··········\n",
            "Mounted at /content/gdrive\n"
          ],
          "name": "stdout"
        }
      ]
    },
    {
      "cell_type": "markdown",
      "metadata": {
        "id": "O9F4QAwWaDPq"
      },
      "source": [
        "скачать данные можно со страницы соревнования [\"Catch Me If You Can\"](https://inclass.kaggle.com/c/catch-me-if-you-can-intruder-detection-through-webpage-session-tracking)"
      ]
    },
    {
      "cell_type": "code",
      "metadata": {
        "id": "D1LQlM_PaDPr",
        "outputId": "497d85c3-5e0e-4070-a647-d82902075c23",
        "colab": {
          "base_uri": "https://localhost:8080/",
          "height": 363
        }
      },
      "source": [
        "# загрузим обучающую и тестовую выборки\n",
        "train_df = pd.read_csv('/content/gdrive/My Drive/train_sessions.csv')#,index_col='session_id')\n",
        "test_df = pd.read_csv('/content/gdrive/My Drive/test_sessions.csv')#, index_col='session_id')\n",
        "\n",
        "# приведем колонки time1, ..., time10 к временному формату\n",
        "times = ['time%s' % i for i in range(1, 11)]\n",
        "train_df[times] = train_df[times].apply(pd.to_datetime)\n",
        "test_df[times] = test_df[times].apply(pd.to_datetime)\n",
        "\n",
        "# отсортируем данные по времени\n",
        "train_df = train_df.sort_values(by='time1')\n",
        "\n",
        "# посмотрим на заголовок обучающей выборки\n",
        "train_df.head()"
      ],
      "execution_count": null,
      "outputs": [
        {
          "output_type": "execute_result",
          "data": {
            "text/html": [
              "<div>\n",
              "<style scoped>\n",
              "    .dataframe tbody tr th:only-of-type {\n",
              "        vertical-align: middle;\n",
              "    }\n",
              "\n",
              "    .dataframe tbody tr th {\n",
              "        vertical-align: top;\n",
              "    }\n",
              "\n",
              "    .dataframe thead th {\n",
              "        text-align: right;\n",
              "    }\n",
              "</style>\n",
              "<table border=\"1\" class=\"dataframe\">\n",
              "  <thead>\n",
              "    <tr style=\"text-align: right;\">\n",
              "      <th></th>\n",
              "      <th>session_id</th>\n",
              "      <th>site1</th>\n",
              "      <th>time1</th>\n",
              "      <th>site2</th>\n",
              "      <th>time2</th>\n",
              "      <th>site3</th>\n",
              "      <th>time3</th>\n",
              "      <th>site4</th>\n",
              "      <th>time4</th>\n",
              "      <th>site5</th>\n",
              "      <th>time5</th>\n",
              "      <th>site6</th>\n",
              "      <th>time6</th>\n",
              "      <th>site7</th>\n",
              "      <th>time7</th>\n",
              "      <th>site8</th>\n",
              "      <th>time8</th>\n",
              "      <th>site9</th>\n",
              "      <th>time9</th>\n",
              "      <th>site10</th>\n",
              "      <th>time10</th>\n",
              "      <th>target</th>\n",
              "    </tr>\n",
              "  </thead>\n",
              "  <tbody>\n",
              "    <tr>\n",
              "      <th>21668</th>\n",
              "      <td>21669</td>\n",
              "      <td>56</td>\n",
              "      <td>2013-01-12 08:05:57</td>\n",
              "      <td>55.0</td>\n",
              "      <td>2013-01-12 08:05:57</td>\n",
              "      <td>NaN</td>\n",
              "      <td>NaT</td>\n",
              "      <td>NaN</td>\n",
              "      <td>NaT</td>\n",
              "      <td>NaN</td>\n",
              "      <td>NaT</td>\n",
              "      <td>NaN</td>\n",
              "      <td>NaT</td>\n",
              "      <td>NaN</td>\n",
              "      <td>NaT</td>\n",
              "      <td>NaN</td>\n",
              "      <td>NaT</td>\n",
              "      <td>NaN</td>\n",
              "      <td>NaT</td>\n",
              "      <td>NaN</td>\n",
              "      <td>NaT</td>\n",
              "      <td>0</td>\n",
              "    </tr>\n",
              "    <tr>\n",
              "      <th>54842</th>\n",
              "      <td>54843</td>\n",
              "      <td>56</td>\n",
              "      <td>2013-01-12 08:37:23</td>\n",
              "      <td>55.0</td>\n",
              "      <td>2013-01-12 08:37:23</td>\n",
              "      <td>56.0</td>\n",
              "      <td>2013-01-12 09:07:07</td>\n",
              "      <td>55.0</td>\n",
              "      <td>2013-01-12 09:07:09</td>\n",
              "      <td>NaN</td>\n",
              "      <td>NaT</td>\n",
              "      <td>NaN</td>\n",
              "      <td>NaT</td>\n",
              "      <td>NaN</td>\n",
              "      <td>NaT</td>\n",
              "      <td>NaN</td>\n",
              "      <td>NaT</td>\n",
              "      <td>NaN</td>\n",
              "      <td>NaT</td>\n",
              "      <td>NaN</td>\n",
              "      <td>NaT</td>\n",
              "      <td>0</td>\n",
              "    </tr>\n",
              "    <tr>\n",
              "      <th>77291</th>\n",
              "      <td>77292</td>\n",
              "      <td>946</td>\n",
              "      <td>2013-01-12 08:50:13</td>\n",
              "      <td>946.0</td>\n",
              "      <td>2013-01-12 08:50:14</td>\n",
              "      <td>951.0</td>\n",
              "      <td>2013-01-12 08:50:15</td>\n",
              "      <td>946.0</td>\n",
              "      <td>2013-01-12 08:50:15</td>\n",
              "      <td>946.0</td>\n",
              "      <td>2013-01-12 08:50:16</td>\n",
              "      <td>945.0</td>\n",
              "      <td>2013-01-12 08:50:16</td>\n",
              "      <td>948.0</td>\n",
              "      <td>2013-01-12 08:50:16</td>\n",
              "      <td>784.0</td>\n",
              "      <td>2013-01-12 08:50:16</td>\n",
              "      <td>949.0</td>\n",
              "      <td>2013-01-12 08:50:17</td>\n",
              "      <td>946.0</td>\n",
              "      <td>2013-01-12 08:50:17</td>\n",
              "      <td>0</td>\n",
              "    </tr>\n",
              "    <tr>\n",
              "      <th>114020</th>\n",
              "      <td>114021</td>\n",
              "      <td>945</td>\n",
              "      <td>2013-01-12 08:50:17</td>\n",
              "      <td>948.0</td>\n",
              "      <td>2013-01-12 08:50:17</td>\n",
              "      <td>949.0</td>\n",
              "      <td>2013-01-12 08:50:18</td>\n",
              "      <td>948.0</td>\n",
              "      <td>2013-01-12 08:50:18</td>\n",
              "      <td>945.0</td>\n",
              "      <td>2013-01-12 08:50:18</td>\n",
              "      <td>946.0</td>\n",
              "      <td>2013-01-12 08:50:18</td>\n",
              "      <td>947.0</td>\n",
              "      <td>2013-01-12 08:50:19</td>\n",
              "      <td>945.0</td>\n",
              "      <td>2013-01-12 08:50:19</td>\n",
              "      <td>946.0</td>\n",
              "      <td>2013-01-12 08:50:19</td>\n",
              "      <td>946.0</td>\n",
              "      <td>2013-01-12 08:50:20</td>\n",
              "      <td>0</td>\n",
              "    </tr>\n",
              "    <tr>\n",
              "      <th>146669</th>\n",
              "      <td>146670</td>\n",
              "      <td>947</td>\n",
              "      <td>2013-01-12 08:50:20</td>\n",
              "      <td>950.0</td>\n",
              "      <td>2013-01-12 08:50:20</td>\n",
              "      <td>948.0</td>\n",
              "      <td>2013-01-12 08:50:20</td>\n",
              "      <td>947.0</td>\n",
              "      <td>2013-01-12 08:50:21</td>\n",
              "      <td>950.0</td>\n",
              "      <td>2013-01-12 08:50:21</td>\n",
              "      <td>952.0</td>\n",
              "      <td>2013-01-12 08:50:21</td>\n",
              "      <td>946.0</td>\n",
              "      <td>2013-01-12 08:50:21</td>\n",
              "      <td>951.0</td>\n",
              "      <td>2013-01-12 08:50:22</td>\n",
              "      <td>946.0</td>\n",
              "      <td>2013-01-12 08:50:22</td>\n",
              "      <td>947.0</td>\n",
              "      <td>2013-01-12 08:50:22</td>\n",
              "      <td>0</td>\n",
              "    </tr>\n",
              "  </tbody>\n",
              "</table>\n",
              "</div>"
            ],
            "text/plain": [
              "        session_id  site1  ...              time10  target\n",
              "21668        21669     56  ...                 NaT       0\n",
              "54842        54843     56  ...                 NaT       0\n",
              "77291        77292    946  ... 2013-01-12 08:50:17       0\n",
              "114020      114021    945  ... 2013-01-12 08:50:20       0\n",
              "146669      146670    947  ... 2013-01-12 08:50:22       0\n",
              "\n",
              "[5 rows x 22 columns]"
            ]
          },
          "metadata": {
            "tags": []
          },
          "execution_count": 6
        }
      ]
    },
    {
      "cell_type": "code",
      "metadata": {
        "id": "6eg3LNf1aDPx"
      },
      "source": [
        "sites = ['site%s' % i for i in range(1, 11)]\n",
        "#заменим nan на 0\n",
        "train_df[sites] = train_df[sites].fillna(0).astype('int').astype('str')\n",
        "test_df[sites] = test_df[sites].fillna(0).astype('int').astype('str')\n",
        "#создадим тексты необходимые для обучения word2vec\n",
        "train_df['list'] = train_df['site1']\n",
        "test_df['list'] = test_df['site1']\n",
        "for s in sites[1:]:\n",
        "    train_df['list'] = train_df['list']+\",\"+train_df[s]\n",
        "    test_df['list'] = test_df['list']+\",\"+test_df[s]\n",
        "train_df['list_w'] = train_df['list'].apply(lambda x: x.split(','))\n",
        "test_df['list_w'] = test_df['list'].apply(lambda x: x.split(','))"
      ],
      "execution_count": null,
      "outputs": []
    },
    {
      "cell_type": "code",
      "metadata": {
        "id": "a9cYmvH9aDP9",
        "outputId": "c6b4400c-f3cb-4a7e-9273-06544bc22ab8",
        "colab": {
          "base_uri": "https://localhost:8080/",
          "height": 34
        }
      },
      "source": [
        "#В нашем случае предложение это набор сайтов, которые посещал пользователь\n",
        "#нам необязательно переводить цифры в названия сайтов, т.к. алгоритм будем выявлять взаимоствязь их друг с другом\n",
        "train_df['list_w'][10]"
      ],
      "execution_count": null,
      "outputs": [
        {
          "output_type": "execute_result",
          "data": {
            "text/plain": [
              "['229', '1500', '33', '1500', '391', '35', '29', '2276', '40305', '23']"
            ]
          },
          "metadata": {
            "tags": []
          },
          "execution_count": 8
        }
      ]
    },
    {
      "cell_type": "markdown",
      "metadata": {
        "id": "ifo6LVmfaDQD"
      },
      "source": [
        "### implement word2vec"
      ]
    },
    {
      "cell_type": "code",
      "metadata": {
        "id": "D7sxmGvoaDQH"
      },
      "source": [
        "# подключим word2vec\n",
        "from gensim.models import word2vec"
      ],
      "execution_count": null,
      "outputs": []
    },
    {
      "cell_type": "code",
      "metadata": {
        "id": "yV41Y3djaDQN"
      },
      "source": [
        "#объединим обучающую и тестовую выборки и обучим нашу модель на всех данных \n",
        "#с размером окна в 6=3*2(длина предложения 10 слов) и итоговыми векторами размерности 300, параметр workers отвечает за колчество ядер\n",
        "test_df['target'] = -1\n",
        "data = pd.concat([train_df,test_df],axis=0)\n",
        "\n",
        "model = word2vec.Word2Vec(data['list_w'], size=300, window=3, workers=4) #you can define sg=1 for Skip Gram\n",
        "#создадим словарь со словами и соответсвующими им векторами\n",
        "w2v = dict(zip(model.wv.index2word, model.wv.syn0))"
      ],
      "execution_count": null,
      "outputs": []
    },
    {
      "cell_type": "markdown",
      "metadata": {
        "id": "lyPHe2hqaDQb"
      },
      "source": [
        "Т.к. сейчас мы каждому слову сопоставили вектор, то нужно решить что сопоставить целому предложению из слов.\n",
        "Один из возможных вариантов это просто усреднить все слова в предложении и получить некоторый смысл всего предложения (если слова нет в тексте, то берем нулевой вектор)."
      ]
    },
    {
      "cell_type": "code",
      "metadata": {
        "id": "fKccLsowaDQd"
      },
      "source": [
        "class mean_vectorizer(object):\n",
        "    def __init__(self, word2vec):\n",
        "        self.word2vec = word2vec\n",
        "        self.dim = len(next(iter(w2v.values())))\n",
        "    \n",
        "    def fit(self, X):\n",
        "        return self \n",
        "\n",
        "    def transform(self, X):\n",
        "        return np.array([\n",
        "            np.mean([self.word2vec[w] for w in words if w in self.word2vec] \n",
        "                    or [np.zeros(self.dim)], axis=0)\n",
        "            for words in X\n",
        "        ])"
      ],
      "execution_count": null,
      "outputs": []
    },
    {
      "cell_type": "code",
      "metadata": {
        "id": "5xqbSKiHaDQh",
        "outputId": "78073ac3-aba4-43a8-e53f-b1707557dae8",
        "colab": {
          "base_uri": "https://localhost:8080/",
          "height": 34
        }
      },
      "source": [
        "data_mean=mean_vectorizer(w2v).fit(train_df['list_w']).transform(train_df['list_w'])\n",
        "data_mean.shape"
      ],
      "execution_count": null,
      "outputs": [
        {
          "output_type": "execute_result",
          "data": {
            "text/plain": [
              "(253561, 300)"
            ]
          },
          "metadata": {
            "tags": []
          },
          "execution_count": 12
        }
      ]
    },
    {
      "cell_type": "markdown",
      "metadata": {
        "id": "D2-5noWkaDQl"
      },
      "source": [
        "Т.к. мы получили distributed representation, то никакая фича ничего не значит, а значит лучше всего покажут себя линейные комбинации. Например нейронные сети"
      ]
    },
    {
      "cell_type": "code",
      "metadata": {
        "id": "TC52c8fqaDQn",
        "outputId": "65a53c01-774e-4b91-d58e-e0cc030a2f5c",
        "colab": {
          "base_uri": "https://localhost:8080/",
          "height": 34
        }
      },
      "source": [
        "#Воспользуемся валидацией\n",
        "def split(train,y,ratio):\n",
        "    idx = round(train.shape[0] * ratio)\n",
        "    return train[:idx, :], train[idx:, :], y[:idx], y[idx:]\n",
        "y = train_df['target']\n",
        "Xtr, Xval, ytr, yval = split(data_mean, y,0.8)\n",
        "Xtr.shape,Xval.shape,ytr.mean(),yval.mean()"
      ],
      "execution_count": null,
      "outputs": [
        {
          "output_type": "execute_result",
          "data": {
            "text/plain": [
              "((202849, 300), (50712, 300), 0.009726446765820882, 0.006389020350212968)"
            ]
          },
          "metadata": {
            "tags": []
          },
          "execution_count": 13
        }
      ]
    },
    {
      "cell_type": "code",
      "metadata": {
        "id": "2B90-jsMaDQs",
        "outputId": "96023c78-4ce6-44da-ad59-567be67258e0",
        "colab": {
          "base_uri": "https://localhost:8080/",
          "height": 63
        }
      },
      "source": [
        "# подключим библиотеки keras \n",
        "from tensorflow.keras.models import Sequential, Model\n",
        "from tensorflow.keras.layers import Dense, Dropout, Activation, Input\n",
        "from tensorflow.keras.preprocessing.text import Tokenizer\n",
        "from tensorflow.keras import regularizers"
      ],
      "execution_count": null,
      "outputs": [
        {
          "output_type": "display_data",
          "data": {
            "text/html": [
              "<p style=\"color: red;\">\n",
              "The default version of TensorFlow in Colab will soon switch to TensorFlow 2.x.<br>\n",
              "We recommend you <a href=\"https://www.tensorflow.org/guide/migrate\" target=\"_blank\">upgrade</a> now \n",
              "or ensure your notebook will continue to use TensorFlow 1.x via the <code>%tensorflow_version 1.x</code> magic:\n",
              "<a href=\"https://colab.research.google.com/notebooks/tensorflow_version.ipynb\" target=\"_blank\">more info</a>.</p>\n"
            ],
            "text/plain": [
              "<IPython.core.display.HTML object>"
            ]
          },
          "metadata": {
            "tags": []
          }
        }
      ]
    },
    {
      "cell_type": "code",
      "metadata": {
        "id": "3u_Y8x_saDQx",
        "outputId": "d1c1fd6e-71cf-454e-e831-c6f4ae87bc6e",
        "colab": {
          "base_uri": "https://localhost:8080/",
          "height": 142
        }
      },
      "source": [
        "#опишем нейронную сеть\n",
        "model = Sequential()\n",
        "model.add(Dense(128, input_dim=(Xtr.shape[1])))\n",
        "model.add(Activation('relu'))\n",
        "model.add(Dropout(0.5))\n",
        "model.add(Dense(1))\n",
        "model.add(Activation('sigmoid'))\n",
        "model.compile(loss='binary_crossentropy',\n",
        "              optimizer='adam',\n",
        "              metrics=['binary_accuracy'])"
      ],
      "execution_count": null,
      "outputs": [
        {
          "output_type": "stream",
          "text": [
            "WARNING:tensorflow:From /usr/local/lib/python3.6/dist-packages/tensorflow_core/python/ops/resource_variable_ops.py:1630: calling BaseResourceVariable.__init__ (from tensorflow.python.ops.resource_variable_ops) with constraint is deprecated and will be removed in a future version.\n",
            "Instructions for updating:\n",
            "If using Keras pass *_constraint arguments to layers.\n",
            "WARNING:tensorflow:From /usr/local/lib/python3.6/dist-packages/tensorflow_core/python/ops/nn_impl.py:183: where (from tensorflow.python.ops.array_ops) is deprecated and will be removed in a future version.\n",
            "Instructions for updating:\n",
            "Use tf.where in 2.0, which has the same broadcast rule as np.where\n"
          ],
          "name": "stdout"
        }
      ]
    },
    {
      "cell_type": "code",
      "metadata": {
        "id": "WD8byURZaDQ3",
        "outputId": "4a3b3c2b-7816-4760-d8e5-39da30a72c26",
        "colab": {
          "base_uri": "https://localhost:8080/",
          "height": 52
        }
      },
      "source": [
        "%time history = model.fit(Xtr, np.asarray(ytr), batch_size=128, epochs=10, validation_data=(Xval, np.asarray(yval)), class_weight='auto', verbose=0)\n",
        "\n"
      ],
      "execution_count": null,
      "outputs": [
        {
          "output_type": "stream",
          "text": [
            "CPU times: user 1min 18s, sys: 6.69 s, total: 1min 25s\n",
            "Wall time: 1min 12s\n"
          ],
          "name": "stdout"
        }
      ]
    },
    {
      "cell_type": "code",
      "metadata": {
        "id": "QaK0yEkOaDQ8",
        "outputId": "b14b15eb-236a-46b4-e059-d51a05ccea77",
        "colab": {
          "base_uri": "https://localhost:8080/",
          "height": 34
        }
      },
      "source": [
        "classes = model.predict(Xval, batch_size=128)\n",
        "roc_auc_score(yval, classes)"
      ],
      "execution_count": null,
      "outputs": [
        {
          "output_type": "execute_result",
          "data": {
            "text/plain": [
              "0.9134196107342822"
            ]
          },
          "metadata": {
            "tags": []
          },
          "execution_count": 17
        }
      ]
    },
    {
      "cell_type": "markdown",
      "metadata": {
        "id": "Mcvl8wQraDRG"
      },
      "source": [
        "Получили результат сопоставимый с моделью, где используется  logistic regressiom на one-hot-encoding сайтов (roc_auc_score = 0.919524709674). Но при этом мы уменьшили размерность пространства до 300. Значит Word2Vec смог выявить зависимости между сессиями.\n",
        "Посмотрим, что произойдет с деревянным алгоритмом."
      ]
    },
    {
      "cell_type": "code",
      "metadata": {
        "id": "Q5JoefYWaDRJ"
      },
      "source": [
        "import xgboost as xgb"
      ],
      "execution_count": null,
      "outputs": []
    },
    {
      "cell_type": "code",
      "metadata": {
        "id": "rjjsOXGyaDRN"
      },
      "source": [
        "dtr = xgb.DMatrix(Xtr, label= ytr,missing = np.nan)\n",
        "dval = xgb.DMatrix(Xval, label= yval,missing = np.nan)\n",
        "watchlist = [(dtr, 'train'), (dval, 'eval')]\n",
        "history = dict()"
      ],
      "execution_count": null,
      "outputs": []
    },
    {
      "cell_type": "code",
      "metadata": {
        "id": "YEzUpuCJaDRQ"
      },
      "source": [
        "params = {\n",
        "    'max_depth': 26,\n",
        "    'eta': 0.025,\n",
        "    'nthread': 4,\n",
        "    'gamma' : 1,\n",
        "    'alpha' : 1,\n",
        "    'subsample': 0.85,\n",
        "    'eval_metric': ['auc'],\n",
        "    'objective': 'binary:logistic',\n",
        "    'colsample_bytree': 0.9,\n",
        "    'min_child_weight': 100,\n",
        "    'scale_pos_weight':(1)/y.mean(),\n",
        "    'seed':7\n",
        "}"
      ],
      "execution_count": null,
      "outputs": []
    },
    {
      "cell_type": "markdown",
      "metadata": {
        "id": "TI7MlMa6aDRT"
      },
      "source": [
        "**Attention!** достаточно долго обучается, лучше использовать collab"
      ]
    },
    {
      "cell_type": "code",
      "metadata": {
        "id": "wMHhN8JZaDRU",
        "outputId": "8c0ea03d-defb-46ef-d013-f4d9a0492f2d",
        "colab": {
          "base_uri": "https://localhost:8080/",
          "height": 210
        }
      },
      "source": [
        "model_new = xgb.train(params, dtr, num_boost_round = 200, evals=watchlist,evals_result=history, verbose_eval=20)"
      ],
      "execution_count": null,
      "outputs": [
        {
          "output_type": "stream",
          "text": [
            "[0]\ttrain-auc:0.957666\teval-auc:0.863859\n",
            "[20]\ttrain-auc:0.989489\teval-auc:0.913079\n",
            "[40]\ttrain-auc:0.991949\teval-auc:0.915878\n",
            "[60]\ttrain-auc:0.993604\teval-auc:0.918727\n",
            "[80]\ttrain-auc:0.994782\teval-auc:0.920859\n",
            "[100]\ttrain-auc:0.995699\teval-auc:0.921645\n",
            "[120]\ttrain-auc:0.996446\teval-auc:0.922263\n",
            "[140]\ttrain-auc:0.996955\teval-auc:0.922157\n",
            "[160]\ttrain-auc:0.997376\teval-auc:0.922644\n",
            "[180]\ttrain-auc:0.997727\teval-auc:0.922864\n",
            "[199]\ttrain-auc:0.997996\teval-auc:0.922881\n"
          ],
          "name": "stdout"
        }
      ]
    },
    {
      "cell_type": "markdown",
      "metadata": {
        "id": "7_PRzRMWaDRX"
      },
      "source": [
        "Видим, что алгоритм сильно подстраивается под обучающую выборку, поэтому возможно лучше использовать линейные алгоритмы.\n",
        "Посмотрим, что покажет обычный LogisticRegression."
      ]
    },
    {
      "cell_type": "code",
      "metadata": {
        "id": "lEgpfmZEaDRY"
      },
      "source": [
        "from sklearn.linear_model import LogisticRegression\n",
        "def get_auc_lr_valid(X, y, C=1, seed=7, ratio = 0.8):\n",
        "    # разделим выборку на обучающую и валидационную\n",
        "    idx = round(X.shape[0] * ratio)\n",
        "    # обучение классификатора\n",
        "    lr = LogisticRegression(C=C, random_state=seed, n_jobs=-1).fit(X[:idx], y[:idx])\n",
        "    # прогноз для валидационной выборки\n",
        "    y_pred = lr.predict_proba(X[idx:, :])[:, 1]\n",
        "    # считаем качество\n",
        "    score = roc_auc_score(y[idx:], y_pred)\n",
        "    \n",
        "    return score"
      ],
      "execution_count": null,
      "outputs": []
    },
    {
      "cell_type": "code",
      "metadata": {
        "id": "U99CmeuBaDRf",
        "outputId": "c65d5eac-97ee-4b6b-863d-f6a498229ffe",
        "colab": {
          "base_uri": "https://localhost:8080/",
          "height": 34
        }
      },
      "source": [
        "get_auc_lr_valid(data_mean, y, C=1, seed=7, ratio = 0.8)"
      ],
      "execution_count": null,
      "outputs": [
        {
          "output_type": "execute_result",
          "data": {
            "text/plain": [
              "0.9008324108620807"
            ]
          },
          "metadata": {
            "tags": []
          },
          "execution_count": 23
        }
      ]
    },
    {
      "cell_type": "markdown",
      "metadata": {
        "id": "eBbPfjYEaDRq"
      },
      "source": [
        "Результат LogisticRegression отличается от NN на 0.02, что достаточно существенно.\n",
        "Попробуем улучшить результаты."
      ]
    },
    {
      "cell_type": "markdown",
      "metadata": {
        "id": "hYYgdHVHaDTK"
      },
      "source": [
        "Теперь вместо обычного среднего, чтобы учесть частоту с которой слово встречается в тексте, возьмем взвешенное среднее. В качестве весов возьмем idf меру слова.  Idf это инверсия частоты, с которой некоторое слово встречается в других документах. Учёт idf уменьшает вес широкоупотребительных слов и увеличивает вес более уникальных слов, которые могут достаточно точно указать на то к какому классу относится текст. В нашем случае, кому принадлежит последовательность посещенных сайтов.\n",
        "$$idf(w,D)=log \\frac{|D|}{|{\\{d \\in D | w \\in d\\}}|}$$\n",
        "где $|D|$ - общее число документов, $\\{d \\in D | w \\in d\\}$ - число документов из $D$, в которых встречается слово $w$.\n"
      ]
    },
    {
      "cell_type": "code",
      "metadata": {
        "id": "oue3uJ5GaDTN"
      },
      "source": [
        "#пропишем класс выполняющий tfidf преобразование.\n",
        "from sklearn.feature_extraction.text import TfidfVectorizer\n",
        "from collections import defaultdict\n",
        "\n",
        "class tfidf_vectorizer(object):\n",
        "    def __init__(self, word2vec):\n",
        "        self.word2vec = word2vec\n",
        "        self.word2weight = None\n",
        "        self.dim = len(next(iter(w2v.values())))\n",
        "\n",
        "    def fit(self, X):\n",
        "        tfidf = TfidfVectorizer(analyzer=lambda x: x)\n",
        "        tfidf.fit(X)\n",
        "        # if a word was never seen - it must be at least as infrequent\n",
        "        # as any of the known words - so the default idf is the max of \n",
        "        # known idf's\n",
        "        max_idf = max(tfidf.idf_)\n",
        "        self.word2weight = defaultdict(\n",
        "            lambda: max_idf,\n",
        "            [(w, tfidf.idf_[i]) for w, i in tfidf.vocabulary_.items()])\n",
        "\n",
        "        return self\n",
        "\n",
        "    def transform(self, X):\n",
        "        return np.array([\n",
        "                np.mean([self.word2vec[w] * self.word2weight[w]\n",
        "                         for w in words if w in self.word2vec] or\n",
        "                        [np.zeros(self.dim)], axis=0)\n",
        "                for words in X\n",
        "            ])"
      ],
      "execution_count": null,
      "outputs": []
    },
    {
      "cell_type": "code",
      "metadata": {
        "id": "wO7k0sAJaDTS",
        "outputId": "cbee52c1-4ba2-48aa-a686-fcc42a95f6b5",
        "colab": {
          "base_uri": "https://localhost:8080/",
          "height": 52
        }
      },
      "source": [
        "%time data_mean = tfidf_vectorizer(w2v).fit(train_df['list_w']).transform(train_df['list_w'])"
      ],
      "execution_count": null,
      "outputs": [
        {
          "output_type": "stream",
          "text": [
            "CPU times: user 38 s, sys: 1.61 s, total: 39.6 s\n",
            "Wall time: 39.6 s\n"
          ],
          "name": "stdout"
        }
      ]
    },
    {
      "cell_type": "markdown",
      "metadata": {
        "id": "-KJLrZDSaDTd"
      },
      "source": [
        "Проверим изменилось ли качество LogisticRegression."
      ]
    },
    {
      "cell_type": "code",
      "metadata": {
        "id": "RLfV3fz5aDTh",
        "outputId": "8ac4c9ac-ad49-46ab-ea13-5b4293009d4c",
        "colab": {
          "base_uri": "https://localhost:8080/",
          "height": 70
        }
      },
      "source": [
        "%time get_auc_lr_valid(data_mean, y, C=1, seed=7, ratio = 0.8)"
      ],
      "execution_count": null,
      "outputs": [
        {
          "output_type": "stream",
          "text": [
            "CPU times: user 5min, sys: 1.06 s, total: 5min 1s\n",
            "Wall time: 5min 1s\n"
          ],
          "name": "stdout"
        },
        {
          "output_type": "execute_result",
          "data": {
            "text/plain": [
              "0.9198909977096252"
            ]
          },
          "metadata": {
            "tags": []
          },
          "execution_count": 26
        }
      ]
    },
    {
      "cell_type": "markdown",
      "metadata": {
        "id": "-7dyU_JpaDTs"
      },
      "source": [
        "видим прирост на 0.07 (относительно 0.919), значит скорее всего взвешенное среднее помогает лучше отобразить смысл всего предложения через word2vec"
      ]
    },
    {
      "cell_type": "markdown",
      "metadata": {
        "id": "NEyMshGFaDTv"
      },
      "source": [
        "# habr"
      ]
    },
    {
      "cell_type": "markdown",
      "metadata": {
        "id": "2xa4uE7WaDTw"
      },
      "source": [
        "Испробуем силы алгоритма непосредственно на  текстовых данных статей хабра. Скачать их вы можете с [train](https://yadi.sk/d/hAhCuetI3JPouk),[test](https://yadi.sk/d/mLMZZtN63JPouc)"
      ]
    },
    {
      "cell_type": "code",
      "metadata": {
        "id": "53FJGFQBaDT1",
        "outputId": "b3429f8d-51d0-40f5-cb03-0a9d6b430416"
      },
      "source": [
        "Xtrain = pd.read_csv('/content/gdrive/My Drive/train_content.csv')\n",
        "Xtest = pd.read_csv('/content/gdrive/My Drive/test_content.csv')\n",
        "print(Xtrain.shape,Xtest.shape)\n",
        "Xtrain.head()"
      ],
      "execution_count": null,
      "outputs": [
        {
          "output_type": "stream",
          "text": [
            "(172913, 13) (5405, 12)\n"
          ],
          "name": "stdout"
        },
        {
          "output_type": "execute_result",
          "data": {
            "text/html": [
              "<div>\n",
              "<table border=\"1\" class=\"dataframe\">\n",
              "  <thead>\n",
              "    <tr style=\"text-align: right;\">\n",
              "      <th></th>\n",
              "      <th>_id</th>\n",
              "      <th>date</th>\n",
              "      <th>tags</th>\n",
              "      <th>title</th>\n",
              "      <th>hubs_title</th>\n",
              "      <th>description</th>\n",
              "      <th>name</th>\n",
              "      <th>hub</th>\n",
              "      <th>png</th>\n",
              "      <th>nick</th>\n",
              "      <th>url</th>\n",
              "      <th>content</th>\n",
              "      <th>favs_lognorm</th>\n",
              "    </tr>\n",
              "  </thead>\n",
              "  <tbody>\n",
              "    <tr>\n",
              "      <th>0</th>\n",
              "      <td>https://geektimes.ru/post/21866/</td>\n",
              "      <td>2008-03-17T18:55:00.000Z</td>\n",
              "      <td>['eeepc', 'asus', 'ЭТО', 'эльдорадо', 'ура']</td>\n",
              "      <td>eeePC в продаже. Да. Правда.</td>\n",
              "      <td>Железо</td>\n",
              "      <td>Итак, если 3 дня назад я отписался то что в пр...</td>\n",
              "      <td>Сергей 'pokatusher'</td>\n",
              "      <td>hub/hardware</td>\n",
              "      <td>https://habrastorage.org/getpro/habr/olpicture...</td>\n",
              "      <td>@M_org</td>\n",
              "      <td>https://geektimes.ru/users/M_org</td>\n",
              "      <td>Итак, если 3 дня назад я &lt;a href=\"http://habra...</td>\n",
              "      <td>2.484907</td>\n",
              "    </tr>\n",
              "    <tr>\n",
              "      <th>1</th>\n",
              "      <td>https://habrahabr.ru/company/aladdinrd/blog/30...</td>\n",
              "      <td>2016-06-24T13:02:00.000Z</td>\n",
              "      <td>['Интеграция', 'шифрование', 'Windows', 'Win32...</td>\n",
              "      <td>«Разрубить Гордиев узел» или преодоление пробл...</td>\n",
              "      <td>Системное программирование</td>\n",
              "      <td>Современная операционная система это сложный и...</td>\n",
              "      <td>Аладдин Р.Д.</td>\n",
              "      <td>hub/system_programming</td>\n",
              "      <td>https://habrastorage.org/files/cbd/cf9/5ff/cbd...</td>\n",
              "      <td>NaN</td>\n",
              "      <td>https://habrahabr.ru/company/aladdinrd</td>\n",
              "      <td>Современная операционная система это сложный и...</td>\n",
              "      <td>4.174387</td>\n",
              "    </tr>\n",
              "    <tr>\n",
              "      <th>2</th>\n",
              "      <td>https://geektimes.ru/post/92887/</td>\n",
              "      <td>2010-05-06T10:00:00.000Z</td>\n",
              "      <td>['mc', 'midnight commander', 'diffview', 'merg...</td>\n",
              "      <td>Релиз Midnight Commander 4.7.2 и 4.7.0.5</td>\n",
              "      <td>Чёрная дыра</td>\n",
              "      <td>Спустя 2 месяца упорных трудов вышла новая вер...</td>\n",
              "      <td>Илья Маслаков</td>\n",
              "      <td>hub/closet</td>\n",
              "      <td>https://geektimes.ru/images/logo.png</td>\n",
              "      <td>@smind</td>\n",
              "      <td>https://geektimes.ru/users/smind</td>\n",
              "      <td>Спустя 2 месяца упорных трудов вышла новая вер...</td>\n",
              "      <td>0.000000</td>\n",
              "    </tr>\n",
              "    <tr>\n",
              "      <th>3</th>\n",
              "      <td>https://habrahabr.ru/post/290824/</td>\n",
              "      <td>2015-05-22T11:01:00.000Z</td>\n",
              "      <td>['бизнес-модель', 'бизнес-моделирование']</td>\n",
              "      <td>7 шагов для постройки правильной бизнес-модели</td>\n",
              "      <td>Интернет-маркетинг</td>\n",
              "      <td>Большинство IT предпринимателей сосредотачиваю...</td>\n",
              "      <td>Александр</td>\n",
              "      <td>hub/internetmarketing</td>\n",
              "      <td>https://habrastorage.org/files/50e/211/9a0/50e...</td>\n",
              "      <td>@jasiejames</td>\n",
              "      <td>https://habrahabr.ru/users/jasiejames</td>\n",
              "      <td>&lt;img src=\"https://habrastorage.org/files/50e/2...</td>\n",
              "      <td>3.496508</td>\n",
              "    </tr>\n",
              "    <tr>\n",
              "      <th>4</th>\n",
              "      <td>https://habrahabr.ru/post/190088/</td>\n",
              "      <td>2014-09-04T00:32:00.000Z</td>\n",
              "      <td>['python', 'flask', 'mongodb', 'pet-project']</td>\n",
              "      <td>Thunderargs: практика использования. Часть 2</td>\n",
              "      <td>Программирование</td>\n",
              "      <td>История создания Часть 1  Добрый день. Вкратце...</td>\n",
              "      <td>Данияр Супиев</td>\n",
              "      <td>hub/programming</td>\n",
              "      <td>https://habrahabr.ru/i/habralogo.jpg</td>\n",
              "      <td>@uthunderbird</td>\n",
              "      <td>https://habrahabr.ru/users/uthunderbird</td>\n",
              "      <td>&lt;a href=\"http://habrahabr.ru/post/223041/\"&gt;Ист...</td>\n",
              "      <td>3.688879</td>\n",
              "    </tr>\n",
              "  </tbody>\n",
              "</table>\n",
              "</div>"
            ],
            "text/plain": [
              "                                                 _id  \\\n",
              "0                   https://geektimes.ru/post/21866/   \n",
              "1  https://habrahabr.ru/company/aladdinrd/blog/30...   \n",
              "2                   https://geektimes.ru/post/92887/   \n",
              "3                  https://habrahabr.ru/post/290824/   \n",
              "4                  https://habrahabr.ru/post/190088/   \n",
              "\n",
              "                       date  \\\n",
              "0  2008-03-17T18:55:00.000Z   \n",
              "1  2016-06-24T13:02:00.000Z   \n",
              "2  2010-05-06T10:00:00.000Z   \n",
              "3  2015-05-22T11:01:00.000Z   \n",
              "4  2014-09-04T00:32:00.000Z   \n",
              "\n",
              "                                                tags  \\\n",
              "0       ['eeepc', 'asus', 'ЭТО', 'эльдорадо', 'ура']   \n",
              "1  ['Интеграция', 'шифрование', 'Windows', 'Win32...   \n",
              "2  ['mc', 'midnight commander', 'diffview', 'merg...   \n",
              "3          ['бизнес-модель', 'бизнес-моделирование']   \n",
              "4      ['python', 'flask', 'mongodb', 'pet-project']   \n",
              "\n",
              "                                               title  \\\n",
              "0                       eeePC в продаже. Да. Правда.   \n",
              "1  «Разрубить Гордиев узел» или преодоление пробл...   \n",
              "2           Релиз Midnight Commander 4.7.2 и 4.7.0.5   \n",
              "3     7 шагов для постройки правильной бизнес-модели   \n",
              "4       Thunderargs: практика использования. Часть 2   \n",
              "\n",
              "                   hubs_title  \\\n",
              "0                      Железо   \n",
              "1  Системное программирование   \n",
              "2                 Чёрная дыра   \n",
              "3          Интернет-маркетинг   \n",
              "4            Программирование   \n",
              "\n",
              "                                         description                 name  \\\n",
              "0  Итак, если 3 дня назад я отписался то что в пр...  Сергей 'pokatusher'   \n",
              "1  Современная операционная система это сложный и...         Аладдин Р.Д.   \n",
              "2  Спустя 2 месяца упорных трудов вышла новая вер...        Илья Маслаков   \n",
              "3  Большинство IT предпринимателей сосредотачиваю...            Александр   \n",
              "4  История создания Часть 1  Добрый день. Вкратце...        Данияр Супиев   \n",
              "\n",
              "                      hub                                                png  \\\n",
              "0            hub/hardware  https://habrastorage.org/getpro/habr/olpicture...   \n",
              "1  hub/system_programming  https://habrastorage.org/files/cbd/cf9/5ff/cbd...   \n",
              "2              hub/closet               https://geektimes.ru/images/logo.png   \n",
              "3   hub/internetmarketing  https://habrastorage.org/files/50e/211/9a0/50e...   \n",
              "4         hub/programming               https://habrahabr.ru/i/habralogo.jpg   \n",
              "\n",
              "            nick                                      url  \\\n",
              "0         @M_org         https://geektimes.ru/users/M_org   \n",
              "1            NaN   https://habrahabr.ru/company/aladdinrd   \n",
              "2         @smind         https://geektimes.ru/users/smind   \n",
              "3    @jasiejames    https://habrahabr.ru/users/jasiejames   \n",
              "4  @uthunderbird  https://habrahabr.ru/users/uthunderbird   \n",
              "\n",
              "                                             content  favs_lognorm  \n",
              "0  Итак, если 3 дня назад я <a href=\"http://habra...      2.484907  \n",
              "1  Современная операционная система это сложный и...      4.174387  \n",
              "2  Спустя 2 месяца упорных трудов вышла новая вер...      0.000000  \n",
              "3  <img src=\"https://habrastorage.org/files/50e/2...      3.496508  \n",
              "4  <a href=\"http://habrahabr.ru/post/223041/\">Ист...      3.688879  "
            ]
          },
          "metadata": {
            "tags": []
          },
          "execution_count": 3
        }
      ]
    },
    {
      "cell_type": "markdown",
      "metadata": {
        "id": "WE1-0V7JaDUK"
      },
      "source": [
        "Будем обучать модель на всем содержании статьи. Для этого совершим некоторые преобразования над текстом."
      ]
    },
    {
      "cell_type": "markdown",
      "metadata": {
        "id": "vFCzoWJMaDUM"
      },
      "source": [
        "Напишем функцию, которая будет преобразовывать тестовую статью в лист из слов необходимый для обучения Word2Vec.\n",
        "Функция получает строку, в которой содержится весь текстовый документ.\n",
        "\n",
        "1)Сначала функция будет удалять все символы кроме букв верхнего и нижнего регистра;\n",
        "\n",
        "2)Затем преобразовывает слова к нижнему регистру;\n",
        "\n",
        "3)После чего удаляет стоп слова из текста, т.к. они не несут никакой информации о содержании;\n",
        "\n",
        "4)Лемматизация, процесс приведения словоформы к лемме — её нормальной (словарной) форме.\n",
        "\n",
        "Функция возвращает лист из слов"
      ]
    },
    {
      "cell_type": "code",
      "metadata": {
        "id": "6_14Nt-gaDUO"
      },
      "source": [
        "#подключим необходимые библиотеки\n",
        "#\n",
        "from sklearn.metrics import mean_squared_error\n",
        "import re\n",
        "from nltk.corpus import stopwords\n",
        "import pymorphy2\n",
        "morph = pymorphy2.MorphAnalyzer()\n",
        "\n",
        "stops = set(stopwords.words(\"english\")) | set(stopwords.words(\"russian\"))\n",
        "def review_to_wordlist(review):\n",
        "    #1)\n",
        "    review_text = re.sub(\"[^а-яА-Яa-zA-Z]\",\" \", review)\n",
        "    #2)\n",
        "    words = review_text.lower().split()\n",
        "    #3)\n",
        "    words = [w for w in words if not w in stops]\n",
        "    #4)\n",
        "    words = [morph.parse(w)[0].normal_form for w in words ]\n",
        "    return(words)"
      ],
      "execution_count": null,
      "outputs": []
    },
    {
      "cell_type": "markdown",
      "metadata": {
        "id": "BPCNQta7aDUc"
      },
      "source": [
        "Лемматизация занимает много врмени, поэтому ее можно убрать в целях более быстрых подсчетов."
      ]
    },
    {
      "cell_type": "code",
      "metadata": {
        "id": "Icdwx3U_aDUe"
      },
      "source": [
        "#Преобразуем время\n",
        "Xtrain['date'] = Xtrain['date'].apply(pd.to_datetime)\n",
        "Xtrain['year'] = Xtrain['date'].apply(lambda x: x.year)\n",
        "Xtrain['month'] = Xtrain['date'].apply(lambda x: x.month)"
      ],
      "execution_count": null,
      "outputs": []
    },
    {
      "cell_type": "markdown",
      "metadata": {
        "id": "Bbdvfc9yaDU7"
      },
      "source": [
        "Будем обучаться на 2015 году, а валидироваться на первым 4 месяцам 2016, т.к. в нашей тестовой выборке представлены данные за первые 4 месяца 2017 года. Более правдивую валидацию можно сделать идя по годам увеличивая нашу обучающую выборку и смотря качество на первых четырех месяцах следующего года"
      ]
    },
    {
      "cell_type": "code",
      "metadata": {
        "id": "jSMYqtQ8aDU9",
        "outputId": "dc54949e-c168-4b94-bbbf-305897dbfbd1"
      },
      "source": [
        "Xtr = Xtrain[Xtrain['year']==2015]\n",
        "Xval = Xtrain[(Xtrain['year']==2016)& (Xtrain['month']<=4)]\n",
        "ytr = Xtr['favs_lognorm']\n",
        "yval = Xval['favs_lognorm']\n",
        "Xtr.shape,Xval.shape,ytr.mean(),yval.mean()"
      ],
      "execution_count": null,
      "outputs": [
        {
          "output_type": "execute_result",
          "data": {
            "text/plain": [
              "((23425, 15), (7556, 15), 3.4046228249071526, 3.304679829935242)"
            ]
          },
          "metadata": {
            "tags": []
          },
          "execution_count": 6
        }
      ]
    },
    {
      "cell_type": "code",
      "metadata": {
        "id": "xDaN7HwHaDVH"
      },
      "source": [
        "data = pd.concat([Xtr,Xval],axis = 0,ignore_index = True)"
      ],
      "execution_count": null,
      "outputs": []
    },
    {
      "cell_type": "code",
      "metadata": {
        "id": "oW2Y_L1vaDVL"
      },
      "source": [
        "#у нас есть nan, поэтому преобразуем их к строке\n",
        "data['content_clear'] = data['content'].apply(str)"
      ],
      "execution_count": null,
      "outputs": []
    },
    {
      "cell_type": "code",
      "metadata": {
        "id": "RkFI1sjkaDVQ",
        "outputId": "cac0e800-2f28-48ec-c686-ee5a5149ffeb"
      },
      "source": [
        "%%time\n",
        "data['content_clear'] = data['content_clear'].apply(review_to_wordlist)"
      ],
      "execution_count": null,
      "outputs": [
        {
          "output_type": "stream",
          "text": [
            "CPU times: user 16min 25s, sys: 1.96 s, total: 16min 27s\n",
            "Wall time: 16min 27s\n"
          ],
          "name": "stdout"
        }
      ]
    },
    {
      "cell_type": "markdown",
      "metadata": {
        "id": "SBfC_ZZYaDVg"
      },
      "source": [
        "моя оперативная память закончилась и  нужный формат для обучения word2vec из list превратился в str, чтобы избавится от этой проблемы я воспользуюсь следующей библиотекой,которая превратит строку от списка в список."
      ]
    },
    {
      "cell_type": "code",
      "metadata": {
        "id": "oEXL0hb9aDVq",
        "outputId": "69440c93-05f0-4692-8c94-5b75683616b2"
      },
      "source": [
        "%%time\n",
        "import ast\n",
        "def get_list(x):\n",
        "    return ast.literal_eval(x)\n",
        "data['content_clear'] = data['content_clear'].apply(lambda x: ast.literal_eval(x))"
      ],
      "execution_count": null,
      "outputs": [
        {
          "output_type": "stream",
          "text": [
            "CPU times: user 2min 33s, sys: 1.83 s, total: 2min 35s\n",
            "Wall time: 2min 34s\n"
          ],
          "name": "stdout"
        }
      ]
    },
    {
      "cell_type": "code",
      "metadata": {
        "id": "OXz3hMDuaDVv",
        "outputId": "49aaabe6-e482-415d-927d-4e03c143b6c6"
      },
      "source": [
        "%%time\n",
        "model = word2vec.Word2Vec(data['content_clear'], size=300, window=10, workers=4)\n",
        "w2v = dict(zip(model.wv.index2word, model.wv.syn0))"
      ],
      "execution_count": null,
      "outputs": [
        {
          "output_type": "stream",
          "text": [
            "CPU times: user 19min 56s, sys: 3.48 s, total: 20min\n",
            "Wall time: 5min 43s\n"
          ],
          "name": "stdout"
        }
      ]
    },
    {
      "cell_type": "markdown",
      "metadata": {
        "id": "YqWNvEPIaDV5"
      },
      "source": [
        "Посмотрим чему выучилась модель"
      ]
    },
    {
      "cell_type": "code",
      "metadata": {
        "id": "cpWTzk3iaDV6",
        "outputId": "8a200199-d7ec-43d5-e4aa-f0da64de8117"
      },
      "source": [
        "model.wv.most_similar(positive=['open', 'data','science','best'])"
      ],
      "execution_count": null,
      "outputs": [
        {
          "output_type": "execute_result",
          "data": {
            "text/plain": [
              "[('massive', 0.6958945393562317),\n",
              " ('mining', 0.6796239018440247),\n",
              " ('scientist', 0.6742461919784546),\n",
              " ('visualization', 0.6403135061264038),\n",
              " ('centers', 0.6386666297912598),\n",
              " ('big', 0.6237790584564209),\n",
              " ('engineering', 0.6209672689437866),\n",
              " ('structures', 0.609510600566864),\n",
              " ('knowledge', 0.6094595193862915),\n",
              " ('scientists', 0.6050446629524231)]"
            ]
          },
          "metadata": {
            "tags": []
          },
          "execution_count": 36
        }
      ]
    },
    {
      "cell_type": "markdown",
      "metadata": {
        "id": "7BmdLNGCaDWA"
      },
      "source": [
        "модель обучилась достаточно неплохо, посмотрим на результаты алгоритмов"
      ]
    },
    {
      "cell_type": "code",
      "metadata": {
        "id": "0IO-M5P_aDWB",
        "outputId": "068781b5-fb73-4661-fa33-bcd0c17c112a"
      },
      "source": [
        "%%time\n",
        "data_mean = mean_vectorizer(w2v).fit(data['content_clear']).transform(data['content_clear'])\n",
        "data_mean.shape"
      ],
      "execution_count": null,
      "outputs": [
        {
          "output_type": "stream",
          "text": [
            "CPU times: user 46.3 s, sys: 312 ms, total: 46.6 s\n",
            "Wall time: 46.6 s\n"
          ],
          "name": "stdout"
        }
      ]
    },
    {
      "cell_type": "code",
      "metadata": {
        "id": "-LUViXs3aDWJ",
        "outputId": "5b0a53fb-833c-4a72-dbee-cd7d1be92814"
      },
      "source": [
        "def split(train,y,ratio):\n",
        "    idx = ratio\n",
        "    return train[:idx, :], train[idx:, :], y[:idx], y[idx:]\n",
        "y = data['favs_lognorm']\n",
        "Xtr, Xval, ytr, yval = split(data_mean, y,23425)\n",
        "Xtr.shape,Xval.shape,ytr.mean(),yval.mean()"
      ],
      "execution_count": null,
      "outputs": [
        {
          "output_type": "execute_result",
          "data": {
            "text/plain": [
              "((23425, 300), (7556, 300), 3.4046228249071526, 3.304679829935242)"
            ]
          },
          "metadata": {
            "tags": []
          },
          "execution_count": 13
        }
      ]
    },
    {
      "cell_type": "code",
      "metadata": {
        "id": "e6kHZAEZaDWO",
        "outputId": "b94c7c2b-036f-4e9f-e868-9f3db8bc8c6f"
      },
      "source": [
        "from sklearn.linear_model import Ridge\n",
        "from sklearn.metrics import mean_squared_error\n",
        "model = Ridge(alpha = 1,random_state=7)\n",
        "model.fit(Xtr, ytr)\n",
        "train_preds = model.predict(Xtr)\n",
        "valid_preds = model.predict(Xval)\n",
        "ymed = np.ones(len(valid_preds))*ytr.median()\n",
        "print('Ошибка на трейне',mean_squared_error(ytr, train_preds))\n",
        "print('Ошибка на валидации',mean_squared_error(yval, valid_preds))\n",
        "print('Ошибка на валидации предсказываем медиану',mean_squared_error(yval, ymed))"
      ],
      "execution_count": null,
      "outputs": [
        {
          "output_type": "stream",
          "text": [
            "Ошибка на трейне 0.734248488422\n",
            "Ошибка на валидации 0.665592676973\n",
            "Ошибка на валидации предсказываем медиану 1.44601638512\n"
          ],
          "name": "stdout"
        }
      ]
    },
    {
      "cell_type": "code",
      "metadata": {
        "id": "feYNU1RyaDWT",
        "outputId": "8b95c783-2c4f-4a5e-cb39-533fd78a4873"
      },
      "source": [
        "%%time\n",
        "data_mean_tfidf = tfidf_vectorizer(w2v).fit(data['content_clear']).transform(data['content_clear'])"
      ],
      "execution_count": null,
      "outputs": [
        {
          "output_type": "stream",
          "text": [
            "CPU times: user 34min 40s, sys: 796 ms, total: 34min 41s\n",
            "Wall time: 34min 41s\n"
          ],
          "name": "stdout"
        }
      ]
    },
    {
      "cell_type": "code",
      "metadata": {
        "id": "xsyDun4KaDWc",
        "outputId": "8bfc3c18-196d-4bec-f23a-cfbce00a6120"
      },
      "source": [
        "y = data['favs_lognorm']\n",
        "Xtr, Xval, ytr, yval = split(data_mean_tfidf, y,23425)\n",
        "Xtr.shape,Xval.shape,ytr.mean(),yval.mean()"
      ],
      "execution_count": null,
      "outputs": [
        {
          "output_type": "execute_result",
          "data": {
            "text/plain": [
              "((23425, 300), (7556, 300), 3.4046228249071526, 3.304679829935242)"
            ]
          },
          "metadata": {
            "tags": []
          },
          "execution_count": 17
        }
      ]
    },
    {
      "cell_type": "code",
      "metadata": {
        "id": "sKdb7Ba5aDWf",
        "outputId": "c8c2cd5b-f19c-4a04-eed5-221a59d59550"
      },
      "source": [
        "model = Ridge(alpha = 1,random_state=7)\n",
        "model.fit(Xtr, ytr)\n",
        "train_preds = model.predict(Xtr)\n",
        "valid_preds = model.predict(Xval)\n",
        "ymed = np.ones(len(valid_preds))*ytr.median()\n",
        "print('Ошибка на трейне',mean_squared_error(ytr, train_preds))\n",
        "print('Ошибка на валидации',mean_squared_error(yval, valid_preds))\n",
        "print('Ошибка на валидации предсказываем медиану',mean_squared_error(yval, ymed))"
      ],
      "execution_count": null,
      "outputs": [
        {
          "output_type": "stream",
          "text": [
            "Ошибка на трейне 0.743623730976\n",
            "Ошибка на валидации 0.675584372744\n",
            "Ошибка на валидации предсказываем медиану 1.44601638512\n"
          ],
          "name": "stdout"
        }
      ]
    },
    {
      "cell_type": "markdown",
      "metadata": {
        "id": "Dksc5zPIaDWi"
      },
      "source": [
        "Попробуем нейронные сети."
      ]
    },
    {
      "cell_type": "code",
      "metadata": {
        "id": "dpGJXXCNaDWj",
        "outputId": "cd48fa5f-d407-4f70-cac4-cd60250a8b12"
      },
      "source": [
        "# подключим библиотеки keras \n",
        "from keras.models import Sequential, Model\n",
        "from keras.layers import Dense, Dropout, Activation, Input\n",
        "from keras.preprocessing.text import Tokenizer\n",
        "from keras import regularizers\n",
        "from keras.wrappers.scikit_learn import KerasRegressor"
      ],
      "execution_count": null,
      "outputs": [
        {
          "output_type": "stream",
          "text": [
            "Using Theano backend.\n"
          ],
          "name": "stderr"
        }
      ]
    },
    {
      "cell_type": "code",
      "metadata": {
        "id": "T6fjql3daDWm"
      },
      "source": [
        "def baseline_model():\n",
        "    model = Sequential()\n",
        "    model.add(Dense(128, input_dim=Xtr.shape[1], kernel_initializer='normal', activation='relu'))\n",
        "    model.add(Dropout(0.2))\n",
        "    model.add(Dense(64, activation='relu'))\n",
        "    model.add(Dropout(0.5))\n",
        "    model.add(Dense(1, kernel_initializer='normal'))\n",
        "\n",
        "    model.compile(loss='mean_squared_error', optimizer='adam')\n",
        "    return model\n",
        "estimator = KerasRegressor(build_fn=baseline_model,epochs=20, nb_epoch=20, batch_size=64,validation_data=(Xval, yval), verbose=2)"
      ],
      "execution_count": null,
      "outputs": []
    },
    {
      "cell_type": "code",
      "metadata": {
        "id": "PEDlMEJOaDW9",
        "outputId": "6b9bce48-82e5-47a4-9dca-4d3424231adf"
      },
      "source": [
        "estimator.fit(Xtr, ytr)"
      ],
      "execution_count": null,
      "outputs": [
        {
          "output_type": "stream",
          "text": [
            "Train on 23425 samples, validate on 7556 samples\n",
            "Epoch 1/20\n",
            "1s - loss: 1.7292 - val_loss: 0.7336\n",
            "Epoch 2/20\n",
            "0s - loss: 1.2382 - val_loss: 0.6738\n",
            "Epoch 3/20\n",
            "0s - loss: 1.1379 - val_loss: 0.6916\n",
            "Epoch 4/20\n",
            "0s - loss: 1.0785 - val_loss: 0.6963\n",
            "Epoch 5/20\n",
            "0s - loss: 1.0362 - val_loss: 0.6256\n",
            "Epoch 6/20\n",
            "0s - loss: 0.9858 - val_loss: 0.6393\n",
            "Epoch 7/20\n",
            "0s - loss: 0.9508 - val_loss: 0.6424\n",
            "Epoch 8/20\n",
            "0s - loss: 0.9066 - val_loss: 0.6231\n",
            "Epoch 9/20\n",
            "0s - loss: 0.8819 - val_loss: 0.6207\n",
            "Epoch 10/20\n",
            "0s - loss: 0.8634 - val_loss: 0.5993\n",
            "Epoch 11/20\n",
            "1s - loss: 0.8401 - val_loss: 0.6093\n",
            "Epoch 12/20\n",
            "1s - loss: 0.8152 - val_loss: 0.6006\n",
            "Epoch 13/20\n",
            "0s - loss: 0.8005 - val_loss: 0.5931\n",
            "Epoch 14/20\n",
            "0s - loss: 0.7736 - val_loss: 0.6245\n",
            "Epoch 15/20\n",
            "0s - loss: 0.7599 - val_loss: 0.5978\n",
            "Epoch 16/20\n",
            "1s - loss: 0.7407 - val_loss: 0.6593\n",
            "Epoch 17/20\n",
            "1s - loss: 0.7339 - val_loss: 0.5906\n",
            "Epoch 18/20\n",
            "1s - loss: 0.7256 - val_loss: 0.5878\n",
            "Epoch 19/20\n",
            "1s - loss: 0.7117 - val_loss: 0.6123\n",
            "Epoch 20/20\n",
            "0s - loss: 0.7069 - val_loss: 0.5948\n"
          ],
          "name": "stdout"
        },
        {
          "output_type": "execute_result",
          "data": {
            "text/plain": [
              "<keras.callbacks.History at 0x7efff19ce7f0>"
            ]
          },
          "metadata": {
            "tags": []
          },
          "execution_count": 60
        }
      ]
    },
    {
      "cell_type": "markdown",
      "metadata": {
        "id": "zmuyE0POaDXC"
      },
      "source": [
        "Получили более хороший результат по сравнению с ридж регрессией."
      ]
    },
    {
      "cell_type": "markdown",
      "metadata": {
        "collapsed": true,
        "id": "I2ObKiroaDXE"
      },
      "source": [
        "# Вывод\n"
      ]
    },
    {
      "cell_type": "markdown",
      "metadata": {
        "id": "z7TcTey3aDXF"
      },
      "source": [
        "Мы рассмотрели принцип работы Word2Vec и его модификации, реализованные в библиотеки gensim.\n",
        "Применили Word2Vec и поняли, что Word2Vec хороший способ преобразования нечисловых данных в ветора(сохраняя их смысловую близость), на которых уже можно обучать известные вам модели, без сильного увеличения размерности признакового пространства и с сохранением достойного качества.\n",
        "\n",
        "Что можно сделать еще?\n",
        "Ввиду небольшой размерности признакового пространства можно добавить новые признаки основанные на времени, например различные статистические показатели на разницах во времени в переходах между страницами, датой публикации. Можно обучить еще один Word2Vec на тегах или описаниях и добавить, как новые фичи. Можно рассмотреть есть ли картинки в статье, ее длину и прочее.\n",
        "\n",
        "Спасибо за внимание!"
      ]
    },
    {
      "cell_type": "markdown",
      "metadata": {
        "id": "RaInBGE2aDXI"
      },
      "source": [
        "# Полезные ссылки"
      ]
    },
    {
      "cell_type": "markdown",
      "metadata": {
        "id": "H_sujDrAaDXJ"
      },
      "source": [
        "\n",
        "- [туториал Bag of Words Meets Bags of Popcorn на kaggle](https://www.kaggle.com/c/word2vec-nlp-tutorial)\n",
        "- [библиотека gensim](https://radimrehurek.com/gensim/index.html)\n",
        "- [Word2Vec Parameter Learning Explained, Xin Rong](https://arxiv.org/pdf/1411.2738.pdf)\n",
        "- [Distributed Representations of Words and Phrases and their Compositionality](https://papers.nips.cc/paper/5021-distributed-representations-of-words-and-phrases-and-their-compositionality.pdf)\n",
        "- [Negative-Sampling Word-Embedding Method](https://arxiv.org/pdf/1402.3722.pdf)\n"
      ]
    },
    {
      "cell_type": "code",
      "metadata": {
        "id": "2mpTxnxgaDXK"
      },
      "source": [],
      "execution_count": null,
      "outputs": []
    }
  ]
}