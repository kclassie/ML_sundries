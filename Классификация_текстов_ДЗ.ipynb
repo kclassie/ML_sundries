{
  "nbformat": 4,
  "nbformat_minor": 0,
  "metadata": {
    "kernelspec": {
      "display_name": "Python 3",
      "language": "python",
      "name": "python3"
    },
    "language_info": {
      "codemirror_mode": {
        "name": "ipython",
        "version": 3
      },
      "file_extension": ".py",
      "mimetype": "text/x-python",
      "name": "python",
      "nbconvert_exporter": "python",
      "pygments_lexer": "ipython3",
      "version": "3.7.4"
    },
    "colab": {
      "provenance": [],
      "collapsed_sections": [
        "UnFvj_SUmfKg",
        "w5b_1vP6mfKq",
        "0-hozJNemfLt",
        "uzZEm3HjmfL_",
        "jnCTaenJmfM8",
        "tugSWvnxmfNC",
        "3LU2h65QmfNS",
        "dg-i17ddmfNf",
        "B0l-_nGVmfNx",
        "Vg1l6BCDmfN5",
        "Pgr1Q5QVmfOP",
        "tl-LMskomfOQ"
      ],
      "include_colab_link": true
    }
  },
  "cells": [
    {
      "cell_type": "markdown",
      "metadata": {
        "id": "view-in-github",
        "colab_type": "text"
      },
      "source": [
        "<a href=\"https://colab.research.google.com/github/kclassie/ML_sundries/blob/main/%D0%9A%D0%BB%D0%B0%D1%81%D1%81%D0%B8%D1%84%D0%B8%D0%BA%D0%B0%D1%86%D0%B8%D1%8F_%D1%82%D0%B5%D0%BA%D1%81%D1%82%D0%BE%D0%B2_%D0%94%D0%97.ipynb\" target=\"_parent\"><img src=\"https://colab.research.google.com/assets/colab-badge.svg\" alt=\"Open In Colab\"/></a>"
      ]
    },
    {
      "cell_type": "code",
      "metadata": {
        "id": "UfaALG-omfJI"
      },
      "source": [
        "import heapq      #Модуль heapq в несколько раз облегчает написание программ, использующих такую \n",
        "#структуру данных как куча. Этот модуль обеспечивает реализацию алгоритма очереди с кучами, также известный как алгоритм очереди с приоритетами.\n",
        "import numpy as np\n",
        "import pandas as pd\n",
        "from matplotlib import pyplot as plt\n",
        "\n",
        "from sklearn.datasets import fetch_20newsgroups\n",
        "from sklearn.model_selection import StratifiedKFold\n",
        "\n",
        "%matplotlib inline"
      ],
      "execution_count": null,
      "outputs": []
    },
    {
      "cell_type": "markdown",
      "metadata": {
        "id": "ktcMXcHNmfJS"
      },
      "source": [
        "# Задача классификации текстов\n",
        "\n",
        "Задача классификации текстов заключается в том, чтобы определить по документу его класс.\n",
        "В данном случае предлагается рассмотреть в качестве документов - письма, заранее отклассифицированных по 20 темам."
      ]
    },
    {
      "cell_type": "code",
      "metadata": {
        "id": "yUs4LiAKmfJT",
        "outputId": "a51ae22c-8a3f-4203-bcef-cb078bcc95d4",
        "colab": {
          "base_uri": "https://localhost:8080/",
          "height": 386
        }
      },
      "source": [
        "all_categories = fetch_20newsgroups().target_names\n",
        "all_categories"
      ],
      "execution_count": null,
      "outputs": [
        {
          "output_type": "stream",
          "text": [
            "Downloading 20news dataset. This may take a few minutes.\n",
            "Downloading dataset from https://ndownloader.figshare.com/files/5975967 (14 MB)\n"
          ],
          "name": "stderr"
        },
        {
          "output_type": "execute_result",
          "data": {
            "text/plain": [
              "['alt.atheism',\n",
              " 'comp.graphics',\n",
              " 'comp.os.ms-windows.misc',\n",
              " 'comp.sys.ibm.pc.hardware',\n",
              " 'comp.sys.mac.hardware',\n",
              " 'comp.windows.x',\n",
              " 'misc.forsale',\n",
              " 'rec.autos',\n",
              " 'rec.motorcycles',\n",
              " 'rec.sport.baseball',\n",
              " 'rec.sport.hockey',\n",
              " 'sci.crypt',\n",
              " 'sci.electronics',\n",
              " 'sci.med',\n",
              " 'sci.space',\n",
              " 'soc.religion.christian',\n",
              " 'talk.politics.guns',\n",
              " 'talk.politics.mideast',\n",
              " 'talk.politics.misc',\n",
              " 'talk.religion.misc']"
            ]
          },
          "metadata": {
            "tags": []
          },
          "execution_count": 3
        }
      ]
    },
    {
      "cell_type": "markdown",
      "metadata": {
        "id": "ZhVsp0pUmfJY"
      },
      "source": [
        "Возьмём всего 3 темы, но из одного раздела (документы из близких тем сложнее отличать друг от друга)"
      ]
    },
    {
      "cell_type": "code",
      "metadata": {
        "id": "LS7-370VmfJZ"
      },
      "source": [
        "categories = [\n",
        "    'sci.electronics',\n",
        "    'sci.space',\n",
        "    'sci.med'\n",
        "]\n",
        "\n",
        "train_data = fetch_20newsgroups(subset='train',\n",
        "                                categories=categories,\n",
        "                                remove=('headers', 'footers', 'quotes'))\n",
        "\n",
        "test_data = fetch_20newsgroups(subset='test',\n",
        "                               categories=categories,\n",
        "                               remove=('headers', 'footers', 'quotes'))"
      ],
      "execution_count": null,
      "outputs": []
    },
    {
      "cell_type": "markdown",
      "metadata": {
        "id": "tFKzmc56mfJg"
      },
      "source": [
        "## Векторизация текстов\n",
        "**Вопрос: как описать текстовые документы пространством признаков?**\n",
        "\n",
        "\n",
        "**Идея №1**: мешок слов (bag-of-words) - каждый документ или текст выглядит как неупорядоченный набор слов без сведений о связях между ними.\n",
        "<img src='https://st2.depositphotos.com/2454953/9959/i/450/depositphotos_99593622-stock-photo-holidays-travel-bag-word-cloud.jpg'>\n",
        "\n",
        "**Идея №2**: создаём вектор \"слов\", каждая компонента отвечает отдельному слову.\n",
        "\n",
        "Для векторизации текстов воспользуемся [CountVectorizer](https://scikit-learn.org/stable/modules/generated/sklearn.feature_extraction.text.CountVectorizer.html). Можно всячески варировать извлечение признаков (убирать редкие слова, убирать частые слова, убирать слова общей лексики, брать биграмы и т.д.)"
      ]
    },
    {
      "cell_type": "code",
      "metadata": {
        "id": "reRJt-sHmfJi"
      },
      "source": [
        "from sklearn.feature_extraction.text import CountVectorizer, TfidfVectorizer"
      ],
      "execution_count": null,
      "outputs": []
    },
    {
      "cell_type": "code",
      "metadata": {
        "id": "WCa2yrq8mfJl",
        "outputId": "0b6774f6-d4d3-420c-d3ba-abfda428289b",
        "colab": {
          "base_uri": "https://localhost:8080/",
          "height": 118
        }
      },
      "source": [
        "CountVectorizer()"
      ],
      "execution_count": null,
      "outputs": [
        {
          "output_type": "execute_result",
          "data": {
            "text/plain": [
              "CountVectorizer(analyzer='word', binary=False, decode_error='strict',\n",
              "                dtype=<class 'numpy.int64'>, encoding='utf-8', input='content',\n",
              "                lowercase=True, max_df=1.0, max_features=None, min_df=1,\n",
              "                ngram_range=(1, 1), preprocessor=None, stop_words=None,\n",
              "                strip_accents=None, token_pattern='(?u)\\\\b\\\\w\\\\w+\\\\b',\n",
              "                tokenizer=None, vocabulary=None)"
            ]
          },
          "metadata": {
            "tags": []
          },
          "execution_count": 7
        }
      ]
    },
    {
      "cell_type": "code",
      "metadata": {
        "id": "d8ZuRlfhmfJo"
      },
      "source": [
        "count_vectorizer = CountVectorizer(min_df=5, ngram_range=(1, 2)) "
      ],
      "execution_count": null,
      "outputs": []
    },
    {
      "cell_type": "code",
      "metadata": {
        "id": "muTeWNcMmfJw",
        "outputId": "dbeb433b-5193-4453-c0e2-04c8559b5e2a",
        "colab": {
          "base_uri": "https://localhost:8080/",
          "height": 50
        }
      },
      "source": [
        "sparse_feature_matrix = count_vectorizer.fit_transform(train_data.data)\n",
        "sparse_feature_matrix"
      ],
      "execution_count": null,
      "outputs": [
        {
          "output_type": "execute_result",
          "data": {
            "text/plain": [
              "<1778x10885 sparse matrix of type '<class 'numpy.int64'>'\n",
              "\twith 216486 stored elements in Compressed Sparse Row format>"
            ]
          },
          "metadata": {
            "tags": []
          },
          "execution_count": 9
        }
      ]
    },
    {
      "cell_type": "code",
      "metadata": {
        "id": "XNcxUOdemfJ3"
      },
      "source": [
        "num_2_words = {\n",
        "    v: k\n",
        "    for k, v in count_vectorizer.vocabulary_.items()\n",
        "}"
      ],
      "execution_count": null,
      "outputs": []
    },
    {
      "cell_type": "markdown",
      "metadata": {
        "id": "FS2hi-hZmfJ6"
      },
      "source": [
        "Слова с наибольшим положительным весом, являются характерными словами темы"
      ]
    },
    {
      "cell_type": "code",
      "metadata": {
        "id": "Xj-Qr4nlmfJ7"
      },
      "source": [
        "from sklearn.linear_model import LogisticRegression\n",
        "from sklearn.metrics import accuracy_score, f1_score\n",
        "from sklearn.metrics.scorer import make_scorer\n",
        "from sklearn.model_selection import cross_val_score, GridSearchCV"
      ],
      "execution_count": null,
      "outputs": []
    },
    {
      "cell_type": "markdown",
      "metadata": {
        "id": "RB0Np2SnmfKC"
      },
      "source": [
        "Воспользуемся `macro`-average для оценки качества решения в задаче многоклассовой классификации."
      ]
    },
    {
      "cell_type": "code",
      "metadata": {
        "id": "gBtpgIikmfKE"
      },
      "source": [
        "f_scorer = make_scorer(f1_score, average='macro')"
      ],
      "execution_count": null,
      "outputs": []
    },
    {
      "cell_type": "markdown",
      "metadata": {
        "id": "0MawmwGnmfKG"
      },
      "source": [
        "Обучим логистическую регрессию для предсказания темы документа"
      ]
    },
    {
      "cell_type": "code",
      "metadata": {
        "id": "7J0bgLelmfKH",
        "outputId": "ad4a02bc-f9af-41af-c48f-3acd838081cb",
        "colab": {
          "base_uri": "https://localhost:8080/",
          "height": 222
        }
      },
      "source": [
        "algo = LogisticRegression(C=0.00001)\n",
        "%time algo.fit(sparse_feature_matrix, train_data.target)"
      ],
      "execution_count": null,
      "outputs": [
        {
          "output_type": "stream",
          "text": [
            "CPU times: user 82.4 ms, sys: 37.9 ms, total: 120 ms\n",
            "Wall time: 76.3 ms\n"
          ],
          "name": "stdout"
        },
        {
          "output_type": "stream",
          "text": [
            "/usr/local/lib/python3.6/dist-packages/sklearn/linear_model/logistic.py:432: FutureWarning: Default solver will be changed to 'lbfgs' in 0.22. Specify a solver to silence this warning.\n",
            "  FutureWarning)\n",
            "/usr/local/lib/python3.6/dist-packages/sklearn/linear_model/logistic.py:469: FutureWarning: Default multi_class will be changed to 'auto' in 0.22. Specify the multi_class option to silence this warning.\n",
            "  \"this warning.\", FutureWarning)\n"
          ],
          "name": "stderr"
        },
        {
          "output_type": "execute_result",
          "data": {
            "text/plain": [
              "LogisticRegression(C=1e-05, class_weight=None, dual=False, fit_intercept=True,\n",
              "                   intercept_scaling=1, l1_ratio=None, max_iter=100,\n",
              "                   multi_class='warn', n_jobs=None, penalty='l2',\n",
              "                   random_state=None, solver='warn', tol=0.0001, verbose=0,\n",
              "                   warm_start=False)"
            ]
          },
          "metadata": {
            "tags": []
          },
          "execution_count": 19
        }
      ]
    },
    {
      "cell_type": "code",
      "metadata": {
        "id": "7i1ZITmwmfKK",
        "outputId": "6fc3e658-8e1c-46e7-f357-89d97ce801a0",
        "colab": {
          "base_uri": "https://localhost:8080/",
          "height": 67
        }
      },
      "source": [
        "W = algo.coef_.shape[1]\n",
        "for c in algo.classes_:\n",
        "    topic_words = [\n",
        "        num_2_words[w_num]\n",
        "        for w_num in heapq.nlargest(10, range(W), key=lambda w: algo.coef_[c, w])\n",
        "    ]\n",
        "    print(',  '.join(topic_words))\n"
      ],
      "execution_count": null,
      "outputs": [
        {
          "output_type": "stream",
          "text": [
            "wire,  ground,  wiring,  circuit,  use,  neutral,  power,  current,  voltage,  cable\n",
            "of,  health,  medical,  in,  edu,  my,  patients,  and,  disease,  she\n",
            "space,  nasa,  launch,  earth,  orbit,  satellite,  shuttle,  lunar,  moon,  on\n"
          ],
          "name": "stdout"
        }
      ]
    },
    {
      "cell_type": "markdown",
      "metadata": {
        "id": "uxLmd8c8mfKP"
      },
      "source": [
        "Сравним качество на обучающей и отложенной выборках."
      ]
    },
    {
      "cell_type": "code",
      "metadata": {
        "id": "k61tBoVCmfKR",
        "outputId": "61f0bc6d-6385-4172-e4da-5f2c4983d896",
        "colab": {
          "base_uri": "https://localhost:8080/",
          "height": 222
        }
      },
      "source": [
        "%time algo.fit(sparse_feature_matrix, train_data.target)"
      ],
      "execution_count": null,
      "outputs": [
        {
          "output_type": "stream",
          "text": [
            "CPU times: user 57.3 ms, sys: 48.3 ms, total: 106 ms\n",
            "Wall time: 62.1 ms\n"
          ],
          "name": "stdout"
        },
        {
          "output_type": "stream",
          "text": [
            "/usr/local/lib/python3.6/dist-packages/sklearn/linear_model/logistic.py:432: FutureWarning: Default solver will be changed to 'lbfgs' in 0.22. Specify a solver to silence this warning.\n",
            "  FutureWarning)\n",
            "/usr/local/lib/python3.6/dist-packages/sklearn/linear_model/logistic.py:469: FutureWarning: Default multi_class will be changed to 'auto' in 0.22. Specify the multi_class option to silence this warning.\n",
            "  \"this warning.\", FutureWarning)\n"
          ],
          "name": "stderr"
        },
        {
          "output_type": "execute_result",
          "data": {
            "text/plain": [
              "LogisticRegression(C=1e-05, class_weight=None, dual=False, fit_intercept=True,\n",
              "                   intercept_scaling=1, l1_ratio=None, max_iter=100,\n",
              "                   multi_class='warn', n_jobs=None, penalty='l2',\n",
              "                   random_state=None, solver='warn', tol=0.0001, verbose=0,\n",
              "                   warm_start=False)"
            ]
          },
          "metadata": {
            "tags": []
          },
          "execution_count": 21
        }
      ]
    },
    {
      "cell_type": "code",
      "metadata": {
        "scrolled": true,
        "id": "FP9Rvjr-mfKY",
        "outputId": "34c0cc69-d24a-491b-dd21-46ab1fed5ddb",
        "colab": {
          "base_uri": "https://localhost:8080/",
          "height": 34
        }
      },
      "source": [
        "f_scorer(algo, sparse_feature_matrix, train_data.target)"
      ],
      "execution_count": null,
      "outputs": [
        {
          "output_type": "execute_result",
          "data": {
            "text/plain": [
              "0.42392759632757676"
            ]
          },
          "metadata": {
            "tags": []
          },
          "execution_count": 22
        }
      ]
    },
    {
      "cell_type": "code",
      "metadata": {
        "id": "jF_85ulXmfKb",
        "outputId": "bc8b419e-4883-4472-a622-c68ff9b9dd29",
        "colab": {
          "base_uri": "https://localhost:8080/",
          "height": 34
        }
      },
      "source": [
        "f_scorer(algo, count_vectorizer.transform(test_data.data), test_data.target)"
      ],
      "execution_count": null,
      "outputs": [
        {
          "output_type": "execute_result",
          "data": {
            "text/plain": [
              "0.38776774806066605"
            ]
          },
          "metadata": {
            "tags": []
          },
          "execution_count": 23
        }
      ]
    },
    {
      "cell_type": "markdown",
      "metadata": {
        "collapsed": true,
        "id": "UnFvj_SUmfKg"
      },
      "source": [
        "Значения f-меры получились очень низкие.\n",
        "## <font color='red'> **Вопрос:** в чём причина низкоuо значения f-меры? </font>"
      ]
    },
    {
      "cell_type": "markdown",
      "metadata": {
        "id": "XBOIYvJak1yW"
      },
      "source": [
        "Я думаю, что это связано в сбольшой плотностью входных данных. У нас много параметров, но не слишком много данных. Модель подгоняет значения к особенностям данных.\n",
        "\n",
        "Нужно разрядить  массив - отобрать небольшое количество самых значимых данных, задающих тенденцию, и удалить все остальные, являющиеся просто шумом.\n",
        "\n",
        "Другая возможная причина - регуляризация оказалась слишком сильной, и модель \"недообучилась\""
      ]
    },
    {
      "cell_type": "code",
      "metadata": {
        "id": "UXe20n1GmfKi",
        "outputId": "187fc387-2895-4525-ff32-e4e89af47bbc",
        "colab": {
          "base_uri": "https://localhost:8080/",
          "height": 265
        }
      },
      "source": [
        "plt.hist(algo.coef_[0], bins=500)\n",
        "plt.xlim([-0.0006, 0.0006])\n",
        "plt.show()"
      ],
      "execution_count": null,
      "outputs": [
        {
          "output_type": "display_data",
          "data": {
            "image/png": "[encoded data removed]",
            "text/plain": [
              "<Figure size 432x288 with 1 Axes>"
            ]
          },
          "metadata": {
            "tags": []
          }
        }
      ]
    },
    {
      "cell_type": "markdown",
      "metadata": {
        "id": "RK21PfZtmfKm"
      },
      "source": [
        "** Какую выбрать метрику для регуляризации? **\n",
        "\n",
        "---\n",
        "\n"
      ]
    },
    {
      "cell_type": "markdown",
      "metadata": {
        "id": "Ofxn1By-mIPS"
      },
      "source": [
        "Нужно увеличить C. Тем самым мы ослабляем регуляризацию.\n",
        "Пробовала несколько вариантов - С=0.1 и С=1. Второй лучше. Работает и с l2, и с l1"
      ]
    },
    {
      "cell_type": "code",
      "metadata": {
        "id": "5R5_V9GxmfKn",
        "outputId": "6fd207b2-1c00-4bfd-c7cb-8a9c73a3d57c",
        "colab": {
          "base_uri": "https://localhost:8080/",
          "height": 138
        }
      },
      "source": [
        "algo = LogisticRegression(penalty='l1', C=1)\n",
        "arr = cross_val_score(algo, sparse_feature_matrix, train_data.target, cv=5, scoring=f_scorer)\n",
        "print(arr)\n",
        "print(np.mean(arr))"
      ],
      "execution_count": null,
      "outputs": [
        {
          "output_type": "stream",
          "text": [
            "/usr/local/lib/python3.6/dist-packages/sklearn/linear_model/logistic.py:432: FutureWarning: Default solver will be changed to 'lbfgs' in 0.22. Specify a solver to silence this warning.\n",
            "  FutureWarning)\n",
            "/usr/local/lib/python3.6/dist-packages/sklearn/linear_model/logistic.py:469: FutureWarning: Default multi_class will be changed to 'auto' in 0.22. Specify the multi_class option to silence this warning.\n",
            "  \"this warning.\", FutureWarning)\n"
          ],
          "name": "stderr"
        },
        {
          "output_type": "stream",
          "text": [
            "[0.79231661 0.82645086 0.81185853 0.79768189 0.79703649]\n",
            "0.8050688766254549\n"
          ],
          "name": "stdout"
        }
      ]
    },
    {
      "cell_type": "markdown",
      "metadata": {
        "id": "w5b_1vP6mfKq"
      },
      "source": [
        "## <font color='red'> **Вопрос:** обосновать выбор метрики  </font>"
      ]
    },
    {
      "cell_type": "markdown",
      "metadata": {
        "id": "sJlkOZ4DmfKr"
      },
      "source": [
        "Нужно увеличить C. Тем самым мы ослабляем регуляризацию. Пробовала несколько вариантов - С=0.1 и С=1. Второй лучше. Работает и с l2, и с l1"
      ]
    },
    {
      "cell_type": "code",
      "metadata": {
        "id": "m-PlpMuVmfKx",
        "outputId": "e564fa3d-602f-40b6-a1ba-798bfbdd1b25",
        "colab": {
          "base_uri": "https://localhost:8080/",
          "height": 188
        }
      },
      "source": [
        "algo.fit(sparse_feature_matrix, train_data.target)"
      ],
      "execution_count": null,
      "outputs": [
        {
          "output_type": "stream",
          "text": [
            "/usr/local/lib/python3.6/dist-packages/sklearn/linear_model/logistic.py:432: FutureWarning: Default solver will be changed to 'lbfgs' in 0.22. Specify a solver to silence this warning.\n",
            "  FutureWarning)\n",
            "/usr/local/lib/python3.6/dist-packages/sklearn/linear_model/logistic.py:469: FutureWarning: Default multi_class will be changed to 'auto' in 0.22. Specify the multi_class option to silence this warning.\n",
            "  \"this warning.\", FutureWarning)\n"
          ],
          "name": "stderr"
        },
        {
          "output_type": "execute_result",
          "data": {
            "text/plain": [
              "LogisticRegression(C=1, class_weight=None, dual=False, fit_intercept=True,\n",
              "                   intercept_scaling=1, l1_ratio=None, max_iter=100,\n",
              "                   multi_class='warn', n_jobs=None, penalty='l1',\n",
              "                   random_state=None, solver='warn', tol=0.0001, verbose=0,\n",
              "                   warm_start=False)"
            ]
          },
          "metadata": {
            "tags": []
          },
          "execution_count": 44
        }
      ]
    },
    {
      "cell_type": "code",
      "metadata": {
        "scrolled": false,
        "id": "a5bLi-m2mfK5",
        "outputId": "c86a2035-bea2-45ca-b4f7-ec5efa6590bc",
        "colab": {
          "base_uri": "https://localhost:8080/",
          "height": 34
        }
      },
      "source": [
        "f_scorer(algo, sparse_feature_matrix, train_data.target)"
      ],
      "execution_count": null,
      "outputs": [
        {
          "output_type": "execute_result",
          "data": {
            "text/plain": [
              "0.9659145669277202"
            ]
          },
          "metadata": {
            "tags": []
          },
          "execution_count": 45
        }
      ]
    },
    {
      "cell_type": "code",
      "metadata": {
        "id": "7E5fBLqYmfK-",
        "outputId": "c4637a48-674c-4062-85dc-428a29e2d4b8",
        "colab": {
          "base_uri": "https://localhost:8080/",
          "height": 34
        }
      },
      "source": [
        "f_scorer(algo, count_vectorizer.transform(test_data.data), test_data.target)"
      ],
      "execution_count": null,
      "outputs": [
        {
          "output_type": "execute_result",
          "data": {
            "text/plain": [
              "0.7615239373164687"
            ]
          },
          "metadata": {
            "tags": []
          },
          "execution_count": 46
        }
      ]
    },
    {
      "cell_type": "markdown",
      "metadata": {
        "id": "IrZo_5hvmfLD"
      },
      "source": [
        "Подберём оптимальное значение параметра регуляризации"
      ]
    },
    {
      "cell_type": "code",
      "metadata": {
        "id": "OpwCE4HrmfLF"
      },
      "source": [
        "def grid_plot(x, y, x_label, title, y_label='f_measure'):\n",
        "    plt.figure(figsize=(12, 6))\n",
        "    plt.grid(True),\n",
        "    plt.plot(x, y, 'go-')\n",
        "    plt.xlabel(x_label)\n",
        "    plt.ylabel(y_label)\n",
        "    plt.title(title)"
      ],
      "execution_count": null,
      "outputs": []
    },
    {
      "cell_type": "code",
      "metadata": {
        "id": "oYDMjkIVmfLH",
        "outputId": "cfb3f825-bd18-476e-bd53-3d0062cb79e1",
        "colab": {
          "base_uri": "https://localhost:8080/",
          "height": 34
        }
      },
      "source": [
        "print(*map(float, np.logspace(-2, 2, 10)))"
      ],
      "execution_count": null,
      "outputs": [
        {
          "output_type": "stream",
          "text": [
            "0.01 0.027825594022071243 0.0774263682681127 0.21544346900318834 0.5994842503189409 1.6681005372000592 4.6415888336127775 12.915496650148826 35.93813663804626 100.0\n"
          ],
          "name": "stdout"
        }
      ]
    },
    {
      "cell_type": "code",
      "metadata": {
        "id": "y_YIKelbmfLM",
        "outputId": "a6af4ccf-bcd5-4a48-c9b9-143fc716ba24",
        "colab": {
          "base_uri": "https://localhost:8080/",
          "height": 188
        }
      },
      "source": [
        "lr_grid = {\n",
        "    'C': np.logspace(-2, 2, 10),\n",
        "}\n",
        "gs = GridSearchCV(LogisticRegression(penalty='l1'), lr_grid, scoring=f_scorer, cv=5, n_jobs=5)\n",
        "%time  gs.fit(sparse_feature_matrix, train_data.target)\n",
        "print(\"best_params: {}, best_score: {}\".format(gs.best_params_, gs.best_score_))"
      ],
      "execution_count": null,
      "outputs": [
        {
          "output_type": "stream",
          "text": [
            "/usr/local/lib/python3.6/dist-packages/sklearn/linear_model/logistic.py:432: FutureWarning: Default solver will be changed to 'lbfgs' in 0.22. Specify a solver to silence this warning.\n",
            "  FutureWarning)\n",
            "/usr/local/lib/python3.6/dist-packages/sklearn/linear_model/logistic.py:469: FutureWarning: Default multi_class will be changed to 'auto' in 0.22. Specify the multi_class option to silence this warning.\n",
            "  \"this warning.\", FutureWarning)\n"
          ],
          "name": "stderr"
        },
        {
          "output_type": "stream",
          "text": [
            "CPU times: user 25.6 s, sys: 71.9 ms, total: 25.7 s\n",
            "Wall time: 4min 15s\n",
            "best_params: {'C': 12.915496650148826}, best_score: 0.8068760030456942\n"
          ],
          "name": "stdout"
        },
        {
          "output_type": "stream",
          "text": [
            "/usr/local/lib/python3.6/dist-packages/sklearn/svm/base.py:929: ConvergenceWarning: Liblinear failed to converge, increase the number of iterations.\n",
            "  \"the number of iterations.\", ConvergenceWarning)\n"
          ],
          "name": "stderr"
        }
      ]
    },
    {
      "cell_type": "markdown",
      "metadata": {
        "id": "cLQ-vHqjmfLR"
      },
      "source": [
        "Рассмотрим график:"
      ]
    },
    {
      "cell_type": "code",
      "metadata": {
        "id": "z2NvOtaTmfLS",
        "outputId": "cd5dd44a-8f6f-4e4a-cb7f-4d14e178fa2d",
        "colab": {
          "base_uri": "https://localhost:8080/",
          "height": 404
        }
      },
      "source": [
        "grid_plot(\n",
        "    lr_grid['C'], gs.cv_results_['mean_test_score'], 'C - coefficient of regularization', 'LogReg(penalty=l1)'\n",
        ")"
      ],
      "execution_count": null,
      "outputs": [
        {
          "output_type": "display_data",
          "data": {
            "image/png": "[encoded data removed]",
            "text/plain": [
              "<Figure size 864x432 with 1 Axes>"
            ]
          },
          "metadata": {
            "tags": []
          }
        }
      ]
    },
    {
      "cell_type": "code",
      "metadata": {
        "scrolled": true,
        "id": "vcVtkhJmmfLW",
        "outputId": "3e0f96ae-a2b8-43d4-9a96-0ddc0a397d10",
        "colab": {
          "base_uri": "https://localhost:8080/",
          "height": 188
        }
      },
      "source": [
        "lr_grid = {\n",
        "    'C': np.linspace(1, 20, 40),\n",
        "}\n",
        "gs = GridSearchCV(LogisticRegression(penalty='l1'), lr_grid, scoring=f_scorer, cv=5, n_jobs=5)\n",
        "%time  gs.fit(sparse_feature_matrix, train_data.target)\n",
        "print(\"best_params: {}, best_score: {}\".format(gs.best_params_, gs.best_score_))"
      ],
      "execution_count": null,
      "outputs": [
        {
          "output_type": "stream",
          "text": [
            "/usr/local/lib/python3.6/dist-packages/sklearn/linear_model/logistic.py:432: FutureWarning: Default solver will be changed to 'lbfgs' in 0.22. Specify a solver to silence this warning.\n",
            "  FutureWarning)\n",
            "/usr/local/lib/python3.6/dist-packages/sklearn/linear_model/logistic.py:469: FutureWarning: Default multi_class will be changed to 'auto' in 0.22. Specify the multi_class option to silence this warning.\n",
            "  \"this warning.\", FutureWarning)\n"
          ],
          "name": "stderr"
        },
        {
          "output_type": "stream",
          "text": [
            "CPU times: user 21.9 s, sys: 138 ms, total: 22 s\n",
            "Wall time: 33min 38s\n",
            "best_params: {'C': 9.769230769230768}, best_score: 0.811404869209066\n"
          ],
          "name": "stdout"
        },
        {
          "output_type": "stream",
          "text": [
            "/usr/local/lib/python3.6/dist-packages/sklearn/svm/base.py:929: ConvergenceWarning: Liblinear failed to converge, increase the number of iterations.\n",
            "  \"the number of iterations.\", ConvergenceWarning)\n"
          ],
          "name": "stderr"
        }
      ]
    },
    {
      "cell_type": "code",
      "metadata": {
        "id": "fU2d-fnumfLZ",
        "outputId": "d851393b-91d0-43c4-d4df-0f25e96e8e77",
        "colab": {
          "base_uri": "https://localhost:8080/",
          "height": 404
        }
      },
      "source": [
        "grid_plot(\n",
        "    lr_grid['C'], gs.cv_results_['mean_test_score'], 'C - coefficient of regularization', 'LogReg(penalty=l1)'\n",
        ")"
      ],
      "execution_count": null,
      "outputs": [
        {
          "output_type": "display_data",
          "data": {
            "image/png": "[encoded data removed]",
            "text/plain": [
              "<Figure size 864x432 with 1 Axes>"
            ]
          },
          "metadata": {
            "tags": []
          }
        }
      ]
    },
    {
      "cell_type": "code",
      "metadata": {
        "id": "AfoI9pvJmfLc",
        "outputId": "a5adc2b1-2ca0-4db5-8ca5-6ed85819153c",
        "colab": {
          "base_uri": "https://localhost:8080/",
          "height": 255
        }
      },
      "source": [
        "lr_final = LogisticRegression(penalty='l1', C=10)\n",
        "%time lr_final.fit(sparse_feature_matrix, train_data.target)"
      ],
      "execution_count": null,
      "outputs": [
        {
          "output_type": "stream",
          "text": [
            "/usr/local/lib/python3.6/dist-packages/sklearn/linear_model/logistic.py:432: FutureWarning: Default solver will be changed to 'lbfgs' in 0.22. Specify a solver to silence this warning.\n",
            "  FutureWarning)\n",
            "/usr/local/lib/python3.6/dist-packages/sklearn/linear_model/logistic.py:469: FutureWarning: Default multi_class will be changed to 'auto' in 0.22. Specify the multi_class option to silence this warning.\n",
            "  \"this warning.\", FutureWarning)\n"
          ],
          "name": "stderr"
        },
        {
          "output_type": "stream",
          "text": [
            "CPU times: user 24.1 s, sys: 6.76 ms, total: 24.1 s\n",
            "Wall time: 24.2 s\n"
          ],
          "name": "stdout"
        },
        {
          "output_type": "stream",
          "text": [
            "/usr/local/lib/python3.6/dist-packages/sklearn/svm/base.py:929: ConvergenceWarning: Liblinear failed to converge, increase the number of iterations.\n",
            "  \"the number of iterations.\", ConvergenceWarning)\n"
          ],
          "name": "stderr"
        },
        {
          "output_type": "execute_result",
          "data": {
            "text/plain": [
              "LogisticRegression(C=10, class_weight=None, dual=False, fit_intercept=True,\n",
              "                   intercept_scaling=1, l1_ratio=None, max_iter=100,\n",
              "                   multi_class='warn', n_jobs=None, penalty='l1',\n",
              "                   random_state=None, solver='warn', tol=0.0001, verbose=0,\n",
              "                   warm_start=False)"
            ]
          },
          "metadata": {
            "tags": []
          },
          "execution_count": 53
        }
      ]
    },
    {
      "cell_type": "code",
      "metadata": {
        "scrolled": true,
        "id": "xxUwq5S6mfLi",
        "outputId": "4a5c84e5-874e-4b2a-bf44-5b23fd32044a",
        "colab": {
          "base_uri": "https://localhost:8080/",
          "height": 34
        }
      },
      "source": [
        "accuracy_score(lr_final.predict(sparse_feature_matrix), train_data.target)"
      ],
      "execution_count": null,
      "outputs": [
        {
          "output_type": "execute_result",
          "data": {
            "text/plain": [
              "0.9808773903262092"
            ]
          },
          "metadata": {
            "tags": []
          },
          "execution_count": 54
        }
      ]
    },
    {
      "cell_type": "code",
      "metadata": {
        "scrolled": false,
        "id": "k4e-Y28BmfLn",
        "outputId": "db018a4f-1cf4-40be-9ea7-6c20024ae13d",
        "colab": {
          "base_uri": "https://localhost:8080/",
          "height": 34
        }
      },
      "source": [
        "f_scorer(lr_final, sparse_feature_matrix, train_data.target)"
      ],
      "execution_count": null,
      "outputs": [
        {
          "output_type": "execute_result",
          "data": {
            "text/plain": [
              "0.9810071221526965"
            ]
          },
          "metadata": {
            "tags": []
          },
          "execution_count": 55
        }
      ]
    },
    {
      "cell_type": "code",
      "metadata": {
        "id": "DliWE0ehmfLp",
        "outputId": "599a170e-f1bd-41af-e83a-f72e23af13ee",
        "colab": {
          "base_uri": "https://localhost:8080/",
          "height": 34
        }
      },
      "source": [
        "accuracy_score(lr_final.predict(count_vectorizer.transform(test_data.data)), test_data.target)"
      ],
      "execution_count": null,
      "outputs": [
        {
          "output_type": "execute_result",
          "data": {
            "text/plain": [
              "0.7557058326289096"
            ]
          },
          "metadata": {
            "tags": []
          },
          "execution_count": 56
        }
      ]
    },
    {
      "cell_type": "code",
      "metadata": {
        "id": "LMFhQzaLmfLr",
        "outputId": "f4540905-9efa-4877-f605-0c34867ea7e8",
        "colab": {
          "base_uri": "https://localhost:8080/",
          "height": 34
        }
      },
      "source": [
        "f_scorer(lr_final, count_vectorizer.transform(test_data.data), test_data.target)"
      ],
      "execution_count": null,
      "outputs": [
        {
          "output_type": "execute_result",
          "data": {
            "text/plain": [
              "0.7555778876934628"
            ]
          },
          "metadata": {
            "tags": []
          },
          "execution_count": 57
        }
      ]
    },
    {
      "cell_type": "markdown",
      "metadata": {
        "id": "0-hozJNemfLt"
      },
      "source": [
        "## Регуляризация вместе с векторизацией признаков\n",
        "Чтобы не делать векторизацию и обучение раздельно, есть удобный класс Pipeline. Он позволяет объединить в цепочку последовательность действий"
      ]
    },
    {
      "cell_type": "code",
      "metadata": {
        "id": "nIPso0camfLu"
      },
      "source": [
        "from sklearn.pipeline import Pipeline"
      ],
      "execution_count": null,
      "outputs": []
    },
    {
      "cell_type": "code",
      "metadata": {
        "id": "EYzLqUarmfLz"
      },
      "source": [
        "pipeline = Pipeline([\n",
        "    (\"vectorizer\", CountVectorizer(min_df=5, ngram_range=(1, 2))),\n",
        "    (\"algo\", LogisticRegression())\n",
        "])"
      ],
      "execution_count": null,
      "outputs": []
    },
    {
      "cell_type": "code",
      "metadata": {
        "id": "mT1lmCtamfL4",
        "outputId": "9999356d-a6c0-4b51-8b9c-f251e5d58302",
        "colab": {
          "base_uri": "https://localhost:8080/",
          "height": 440
        }
      },
      "source": [
        "pipeline.fit(train_data.data, train_data.target)"
      ],
      "execution_count": null,
      "outputs": [
        {
          "output_type": "stream",
          "text": [
            "/usr/local/lib/python3.6/dist-packages/sklearn/linear_model/logistic.py:432: FutureWarning: Default solver will be changed to 'lbfgs' in 0.22. Specify a solver to silence this warning.\n",
            "  FutureWarning)\n",
            "/usr/local/lib/python3.6/dist-packages/sklearn/linear_model/logistic.py:469: FutureWarning: Default multi_class will be changed to 'auto' in 0.22. Specify the multi_class option to silence this warning.\n",
            "  \"this warning.\", FutureWarning)\n"
          ],
          "name": "stderr"
        },
        {
          "output_type": "execute_result",
          "data": {
            "text/plain": [
              "Pipeline(memory=None,\n",
              "         steps=[('vectorizer',\n",
              "                 CountVectorizer(analyzer='word', binary=False,\n",
              "                                 decode_error='strict',\n",
              "                                 dtype=<class 'numpy.int64'>, encoding='utf-8',\n",
              "                                 input='content', lowercase=True, max_df=1.0,\n",
              "                                 max_features=None, min_df=5,\n",
              "                                 ngram_range=(1, 2), preprocessor=None,\n",
              "                                 stop_words=None, strip_accents=None,\n",
              "                                 token_pattern='(?u)\\\\b\\\\w\\\\w+\\\\b',\n",
              "                                 tokenizer=None, vocabulary=None)),\n",
              "                ('algo',\n",
              "                 LogisticRegression(C=1.0, class_weight=None, dual=False,\n",
              "                                    fit_intercept=True, intercept_scaling=1,\n",
              "                                    l1_ratio=None, max_iter=100,\n",
              "                                    multi_class='warn', n_jobs=None,\n",
              "                                    penalty='l2', random_state=None,\n",
              "                                    solver='warn', tol=0.0001, verbose=0,\n",
              "                                    warm_start=False))],\n",
              "         verbose=False)"
            ]
          },
          "metadata": {
            "tags": []
          },
          "execution_count": 60
        }
      ]
    },
    {
      "cell_type": "code",
      "metadata": {
        "scrolled": false,
        "id": "1ykIWDZcmfL6",
        "outputId": "fa83b22b-a8c7-4a8d-91f4-b80f8bd96362",
        "colab": {
          "base_uri": "https://localhost:8080/",
          "height": 34
        }
      },
      "source": [
        "f_scorer(pipeline, train_data.data, train_data.target)"
      ],
      "execution_count": null,
      "outputs": [
        {
          "output_type": "execute_result",
          "data": {
            "text/plain": [
              "0.9804363797868283"
            ]
          },
          "metadata": {
            "tags": []
          },
          "execution_count": 61
        }
      ]
    },
    {
      "cell_type": "code",
      "metadata": {
        "id": "byuFmUVTmfL8",
        "outputId": "41e6bf20-0824-4bc8-e0fb-bbdf0c4d2fdf",
        "colab": {
          "base_uri": "https://localhost:8080/",
          "height": 34
        }
      },
      "source": [
        "f_scorer(pipeline, test_data.data, test_data.target)"
      ],
      "execution_count": null,
      "outputs": [
        {
          "output_type": "execute_result",
          "data": {
            "text/plain": [
              "0.7930204194507636"
            ]
          },
          "metadata": {
            "tags": []
          },
          "execution_count": 62
        }
      ]
    },
    {
      "cell_type": "markdown",
      "metadata": {
        "id": "uzZEm3HjmfL_"
      },
      "source": [
        "## <font color='red'> **Вопрос:** обосновать улучшение результата</font>"
      ]
    },
    {
      "cell_type": "markdown",
      "metadata": {
        "id": "_NYfu3QKmfMA"
      },
      "source": [
        "Значения такие же как мы получали ранее, делая шаги раздельно."
      ]
    },
    {
      "cell_type": "code",
      "metadata": {
        "id": "hDS9pEN5mfMC"
      },
      "source": [
        "from sklearn.pipeline import make_pipeline"
      ],
      "execution_count": null,
      "outputs": []
    },
    {
      "cell_type": "markdown",
      "metadata": {
        "id": "9XsR2EqumfMI"
      },
      "source": [
        "При кроссвалидации нужно, чтобы CountVectorizer не обучался на тесте (иначе объекты становятся зависимыми). Pipeline позволяет это просто сделать."
      ]
    },
    {
      "cell_type": "code",
      "metadata": {
        "id": "PaGZz__omfMJ",
        "outputId": "a2bec0a1-c874-4ab1-8d4a-ba87d83788e2",
        "colab": {
          "base_uri": "https://localhost:8080/",
          "height": 406
        }
      },
      "source": [
        "pipeline = make_pipeline(CountVectorizer(min_df=5, ngram_range=(1, 2)), LogisticRegression())\n",
        "arr = cross_val_score(pipeline, train_data.data, train_data.target, cv=5, scoring=f_scorer)\n",
        "print(arr)\n",
        "print(np.mean(arr))"
      ],
      "execution_count": null,
      "outputs": [
        {
          "output_type": "stream",
          "text": [
            "/usr/local/lib/python3.6/dist-packages/sklearn/linear_model/logistic.py:432: FutureWarning: Default solver will be changed to 'lbfgs' in 0.22. Specify a solver to silence this warning.\n",
            "  FutureWarning)\n",
            "/usr/local/lib/python3.6/dist-packages/sklearn/linear_model/logistic.py:469: FutureWarning: Default multi_class will be changed to 'auto' in 0.22. Specify the multi_class option to silence this warning.\n",
            "  \"this warning.\", FutureWarning)\n",
            "/usr/local/lib/python3.6/dist-packages/sklearn/linear_model/logistic.py:432: FutureWarning: Default solver will be changed to 'lbfgs' in 0.22. Specify a solver to silence this warning.\n",
            "  FutureWarning)\n",
            "/usr/local/lib/python3.6/dist-packages/sklearn/linear_model/logistic.py:469: FutureWarning: Default multi_class will be changed to 'auto' in 0.22. Specify the multi_class option to silence this warning.\n",
            "  \"this warning.\", FutureWarning)\n",
            "/usr/local/lib/python3.6/dist-packages/sklearn/linear_model/logistic.py:432: FutureWarning: Default solver will be changed to 'lbfgs' in 0.22. Specify a solver to silence this warning.\n",
            "  FutureWarning)\n",
            "/usr/local/lib/python3.6/dist-packages/sklearn/linear_model/logistic.py:469: FutureWarning: Default multi_class will be changed to 'auto' in 0.22. Specify the multi_class option to silence this warning.\n",
            "  \"this warning.\", FutureWarning)\n",
            "/usr/local/lib/python3.6/dist-packages/sklearn/linear_model/logistic.py:432: FutureWarning: Default solver will be changed to 'lbfgs' in 0.22. Specify a solver to silence this warning.\n",
            "  FutureWarning)\n",
            "/usr/local/lib/python3.6/dist-packages/sklearn/linear_model/logistic.py:469: FutureWarning: Default multi_class will be changed to 'auto' in 0.22. Specify the multi_class option to silence this warning.\n",
            "  \"this warning.\", FutureWarning)\n",
            "/usr/local/lib/python3.6/dist-packages/sklearn/linear_model/logistic.py:432: FutureWarning: Default solver will be changed to 'lbfgs' in 0.22. Specify a solver to silence this warning.\n",
            "  FutureWarning)\n",
            "/usr/local/lib/python3.6/dist-packages/sklearn/linear_model/logistic.py:469: FutureWarning: Default multi_class will be changed to 'auto' in 0.22. Specify the multi_class option to silence this warning.\n",
            "  \"this warning.\", FutureWarning)\n"
          ],
          "name": "stderr"
        },
        {
          "output_type": "stream",
          "text": [
            "[0.83746513 0.84655975 0.82308768 0.83985549 0.83173934]\n",
            "0.8357414775322148\n"
          ],
          "name": "stdout"
        }
      ]
    },
    {
      "cell_type": "markdown",
      "metadata": {
        "id": "hyIJyLBwmfMO"
      },
      "source": [
        "В Pipeline можно добавлять новые шаги препроцессинга данных"
      ]
    },
    {
      "cell_type": "code",
      "metadata": {
        "id": "zJpSYAd9mfMS"
      },
      "source": [
        "from sklearn.feature_extraction.text import TfidfTransformer"
      ],
      "execution_count": null,
      "outputs": []
    },
    {
      "cell_type": "code",
      "metadata": {
        "id": "a2O3jrJpmfMY",
        "outputId": "8d499a78-c8c3-4197-9e0f-a49cb4dae0db",
        "colab": {
          "base_uri": "https://localhost:8080/",
          "height": 406
        }
      },
      "source": [
        "pipeline = make_pipeline(CountVectorizer(min_df=5, ngram_range=(1, 2)), TfidfTransformer(), LogisticRegression())\n",
        "arr = cross_val_score(pipeline, train_data.data, train_data.target, cv=5, scoring=f_scorer)\n",
        "print(arr)\n",
        "print(np.mean(arr))"
      ],
      "execution_count": null,
      "outputs": [
        {
          "output_type": "stream",
          "text": [
            "/usr/local/lib/python3.6/dist-packages/sklearn/linear_model/logistic.py:432: FutureWarning: Default solver will be changed to 'lbfgs' in 0.22. Specify a solver to silence this warning.\n",
            "  FutureWarning)\n",
            "/usr/local/lib/python3.6/dist-packages/sklearn/linear_model/logistic.py:469: FutureWarning: Default multi_class will be changed to 'auto' in 0.22. Specify the multi_class option to silence this warning.\n",
            "  \"this warning.\", FutureWarning)\n",
            "/usr/local/lib/python3.6/dist-packages/sklearn/linear_model/logistic.py:432: FutureWarning: Default solver will be changed to 'lbfgs' in 0.22. Specify a solver to silence this warning.\n",
            "  FutureWarning)\n",
            "/usr/local/lib/python3.6/dist-packages/sklearn/linear_model/logistic.py:469: FutureWarning: Default multi_class will be changed to 'auto' in 0.22. Specify the multi_class option to silence this warning.\n",
            "  \"this warning.\", FutureWarning)\n",
            "/usr/local/lib/python3.6/dist-packages/sklearn/linear_model/logistic.py:432: FutureWarning: Default solver will be changed to 'lbfgs' in 0.22. Specify a solver to silence this warning.\n",
            "  FutureWarning)\n",
            "/usr/local/lib/python3.6/dist-packages/sklearn/linear_model/logistic.py:469: FutureWarning: Default multi_class will be changed to 'auto' in 0.22. Specify the multi_class option to silence this warning.\n",
            "  \"this warning.\", FutureWarning)\n",
            "/usr/local/lib/python3.6/dist-packages/sklearn/linear_model/logistic.py:432: FutureWarning: Default solver will be changed to 'lbfgs' in 0.22. Specify a solver to silence this warning.\n",
            "  FutureWarning)\n",
            "/usr/local/lib/python3.6/dist-packages/sklearn/linear_model/logistic.py:469: FutureWarning: Default multi_class will be changed to 'auto' in 0.22. Specify the multi_class option to silence this warning.\n",
            "  \"this warning.\", FutureWarning)\n"
          ],
          "name": "stderr"
        },
        {
          "output_type": "stream",
          "text": [
            "[0.8711115  0.8703129  0.8482986  0.85701424 0.84020672]\n",
            "0.8573887943863149\n"
          ],
          "name": "stdout"
        },
        {
          "output_type": "stream",
          "text": [
            "/usr/local/lib/python3.6/dist-packages/sklearn/linear_model/logistic.py:432: FutureWarning: Default solver will be changed to 'lbfgs' in 0.22. Specify a solver to silence this warning.\n",
            "  FutureWarning)\n",
            "/usr/local/lib/python3.6/dist-packages/sklearn/linear_model/logistic.py:469: FutureWarning: Default multi_class will be changed to 'auto' in 0.22. Specify the multi_class option to silence this warning.\n",
            "  \"this warning.\", FutureWarning)\n"
          ],
          "name": "stderr"
        }
      ]
    },
    {
      "cell_type": "code",
      "metadata": {
        "id": "bSeLEC9umfMa",
        "outputId": "f639ecf4-6e7e-4628-9c21-453607ae2d16",
        "colab": {
          "base_uri": "https://localhost:8080/",
          "height": 474
        }
      },
      "source": [
        "pipeline.fit(train_data.data, train_data.target)"
      ],
      "execution_count": null,
      "outputs": [
        {
          "output_type": "stream",
          "text": [
            "/usr/local/lib/python3.6/dist-packages/sklearn/linear_model/logistic.py:432: FutureWarning: Default solver will be changed to 'lbfgs' in 0.22. Specify a solver to silence this warning.\n",
            "  FutureWarning)\n",
            "/usr/local/lib/python3.6/dist-packages/sklearn/linear_model/logistic.py:469: FutureWarning: Default multi_class will be changed to 'auto' in 0.22. Specify the multi_class option to silence this warning.\n",
            "  \"this warning.\", FutureWarning)\n"
          ],
          "name": "stderr"
        },
        {
          "output_type": "execute_result",
          "data": {
            "text/plain": [
              "Pipeline(memory=None,\n",
              "         steps=[('countvectorizer',\n",
              "                 CountVectorizer(analyzer='word', binary=False,\n",
              "                                 decode_error='strict',\n",
              "                                 dtype=<class 'numpy.int64'>, encoding='utf-8',\n",
              "                                 input='content', lowercase=True, max_df=1.0,\n",
              "                                 max_features=None, min_df=5,\n",
              "                                 ngram_range=(1, 2), preprocessor=None,\n",
              "                                 stop_words=None, strip_accents=None,\n",
              "                                 token_pattern='(?u)\\\\b\\\\w\\\\w+\\\\b',\n",
              "                                 tokenizer=None, voc...\n",
              "                 TfidfTransformer(norm='l2', smooth_idf=True,\n",
              "                                  sublinear_tf=False, use_idf=True)),\n",
              "                ('logisticregression',\n",
              "                 LogisticRegression(C=1.0, class_weight=None, dual=False,\n",
              "                                    fit_intercept=True, intercept_scaling=1,\n",
              "                                    l1_ratio=None, max_iter=100,\n",
              "                                    multi_class='warn', n_jobs=None,\n",
              "                                    penalty='l2', random_state=None,\n",
              "                                    solver='warn', tol=0.0001, verbose=0,\n",
              "                                    warm_start=False))],\n",
              "         verbose=False)"
            ]
          },
          "metadata": {
            "tags": []
          },
          "execution_count": 67
        }
      ]
    },
    {
      "cell_type": "code",
      "metadata": {
        "scrolled": true,
        "id": "OWhfCX8FmfMd",
        "outputId": "181a2c82-50df-48b0-c290-c6a8cc5392a5",
        "colab": {
          "base_uri": "https://localhost:8080/",
          "height": 34
        }
      },
      "source": [
        "accuracy_score(pipeline.predict(train_data.data), train_data.target)"
      ],
      "execution_count": null,
      "outputs": [
        {
          "output_type": "execute_result",
          "data": {
            "text/plain": [
              "0.96962879640045"
            ]
          },
          "metadata": {
            "tags": []
          },
          "execution_count": 68
        }
      ]
    },
    {
      "cell_type": "code",
      "metadata": {
        "scrolled": false,
        "id": "cPUPBNkimfMf",
        "outputId": "efb67445-cbfc-4ef6-8e7d-04d457639688",
        "colab": {
          "base_uri": "https://localhost:8080/",
          "height": 34
        }
      },
      "source": [
        "f_scorer(pipeline, train_data.data, train_data.target)"
      ],
      "execution_count": null,
      "outputs": [
        {
          "output_type": "execute_result",
          "data": {
            "text/plain": [
              "0.9697797455997105"
            ]
          },
          "metadata": {
            "tags": []
          },
          "execution_count": 69
        }
      ]
    },
    {
      "cell_type": "code",
      "metadata": {
        "id": "aDyIOHZtmfMs",
        "outputId": "2aa3cc96-c69f-4ec4-90c8-64074e3f3c78",
        "colab": {
          "base_uri": "https://localhost:8080/",
          "height": 34
        }
      },
      "source": [
        "accuracy_score(pipeline.predict(test_data.data), test_data.target)"
      ],
      "execution_count": null,
      "outputs": [
        {
          "output_type": "execute_result",
          "data": {
            "text/plain": [
              "0.8241758241758241"
            ]
          },
          "metadata": {
            "tags": []
          },
          "execution_count": 70
        }
      ]
    },
    {
      "cell_type": "code",
      "metadata": {
        "id": "iQ47an0smfM0",
        "outputId": "ba0dcd33-ae67-4f44-d519-eaf5ff4030a2",
        "colab": {
          "base_uri": "https://localhost:8080/",
          "height": 34
        }
      },
      "source": [
        "f_scorer(pipeline, test_data.data, test_data.target)"
      ],
      "execution_count": null,
      "outputs": [
        {
          "output_type": "execute_result",
          "data": {
            "text/plain": [
              "0.8250417787917681"
            ]
          },
          "metadata": {
            "tags": []
          },
          "execution_count": 71
        }
      ]
    },
    {
      "cell_type": "markdown",
      "metadata": {
        "id": "Y_21KpT1mfM7"
      },
      "source": [
        "Качество стало немного лучше"
      ]
    },
    {
      "cell_type": "markdown",
      "metadata": {
        "id": "jnCTaenJmfM8"
      },
      "source": [
        "## <font color='red'> **Вопрос:** обосновать улучшение результата </font>"
      ]
    },
    {
      "cell_type": "markdown",
      "metadata": {
        "id": "9NNW7XgI8-NZ"
      },
      "source": [
        "Мы использовали TfidfTransformer, чтобы преобразовать нашу числовую матрицу к представлению tf-idf - подсчитать, сколько раз слово встречается в корпусе. Это позволило снизить вес слов, которые появляются во многих документах в корпусе, и поэтому являются менее информативным, чем те, которые используются только в небольшой части корпуса.\n",
        "\n",
        " "
      ]
    },
    {
      "cell_type": "markdown",
      "metadata": {
        "id": "QPvgLXhQmfM9"
      },
      "source": [
        "# Классификация сообщений чатов"
      ]
    },
    {
      "cell_type": "markdown",
      "metadata": {
        "id": "qKfp9lH8mfM-"
      },
      "source": [
        "В качестве задания предлагается построить модель классификации текстов, соответствующих сообщениям из чатов по ML, Python и знакомствам."
      ]
    },
    {
      "cell_type": "markdown",
      "metadata": {
        "id": "ez-pwGd6mfM_"
      },
      "source": [
        "**Данные** можно взять с <a src=\"https://www.kaggle.com/c/tfstextclassification\">соревнования на Kaggle</a>, проведенное в рамках курса \"Диалоговые системы\" в Тинькофф. Прямая [ссылка](https://www.dropbox.com/s/8wckwzfy63ajxpm/tfstextclassification.zip?dl=0) на скачивание."
      ]
    },
    {
      "cell_type": "code",
      "metadata": {
        "id": "Fnfzq4eKmfNA"
      },
      "source": [
        "data_path = 'data/{}'\n",
        "df = pd.read_csv('train.csv', encoding='utf-8')"
      ],
      "execution_count": null,
      "outputs": []
    },
    {
      "cell_type": "markdown",
      "metadata": {
        "id": "tugSWvnxmfNC"
      },
      "source": [
        "### Первичный анализ данных"
      ]
    },
    {
      "cell_type": "code",
      "metadata": {
        "id": "iPpn4vOimfNE",
        "outputId": "66cf1d62-3305-484e-8868-53cefb5dfdcd",
        "colab": {
          "base_uri": "https://localhost:8080/",
          "height": 34
        }
      },
      "source": [
        "print(df.shape)"
      ],
      "execution_count": null,
      "outputs": [
        {
          "output_type": "stream",
          "text": [
            "(112467, 3)\n"
          ],
          "name": "stdout"
        }
      ]
    },
    {
      "cell_type": "code",
      "metadata": {
        "id": "29TeFr-gmfNH",
        "outputId": "0e31b65e-bbe3-4427-ee53-cea63edb40f7",
        "colab": {
          "base_uri": "https://localhost:8080/",
          "height": 195
        }
      },
      "source": [
        "df.head()"
      ],
      "execution_count": null,
      "outputs": [
        {
          "output_type": "execute_result",
          "data": {
            "text/html": [
              "<div>\n",
              "<style scoped>\n",
              "    .dataframe tbody tr th:only-of-type {\n",
              "        vertical-align: middle;\n",
              "    }\n",
              "\n",
              "    .dataframe tbody tr th {\n",
              "        vertical-align: top;\n",
              "    }\n",
              "\n",
              "    .dataframe thead th {\n",
              "        text-align: right;\n",
              "    }\n",
              "</style>\n",
              "<table border=\"1\" class=\"dataframe\">\n",
              "  <thead>\n",
              "    <tr style=\"text-align: right;\">\n",
              "      <th></th>\n",
              "      <th>id</th>\n",
              "      <th>text</th>\n",
              "      <th>label</th>\n",
              "    </tr>\n",
              "  </thead>\n",
              "  <tbody>\n",
              "    <tr>\n",
              "      <th>0</th>\n",
              "      <td>0</td>\n",
              "      <td>ж 44 позн с мужч от 40 лет 0678935919</td>\n",
              "      <td>1</td>\n",
              "    </tr>\n",
              "    <tr>\n",
              "      <th>1</th>\n",
              "      <td>1</td>\n",
              "      <td>уже и не вспомню где это увидел</td>\n",
              "      <td>2</td>\n",
              "    </tr>\n",
              "    <tr>\n",
              "      <th>2</th>\n",
              "      <td>2</td>\n",
              "      <td>, sep=';', decimal=',' может изза этого</td>\n",
              "      <td>2</td>\n",
              "    </tr>\n",
              "    <tr>\n",
              "      <th>3</th>\n",
              "      <td>3</td>\n",
              "      <td>НУЖНА ДЕВ ДЛЯ С\\\\О -19л.0637048428смс</td>\n",
              "      <td>1</td>\n",
              "    </tr>\n",
              "    <tr>\n",
              "      <th>4</th>\n",
              "      <td>4</td>\n",
              "      <td>.М54.ИЩУ Д.Ж.  С-П.ДЛЯ ЛАСК...НЕКМ.0508665030....</td>\n",
              "      <td>1</td>\n",
              "    </tr>\n",
              "  </tbody>\n",
              "</table>\n",
              "</div>"
            ],
            "text/plain": [
              "   id                                               text  label\n",
              "0   0              ж 44 позн с мужч от 40 лет 0678935919      1\n",
              "1   1                    уже и не вспомню где это увидел      2\n",
              "2   2            , sep=';', decimal=',' может изза этого      2\n",
              "3   3              НУЖНА ДЕВ ДЛЯ С\\\\О -19л.0637048428смс      1\n",
              "4   4  .М54.ИЩУ Д.Ж.  С-П.ДЛЯ ЛАСК...НЕКМ.0508665030....      1"
            ]
          },
          "metadata": {
            "tags": []
          },
          "execution_count": 75
        }
      ]
    },
    {
      "cell_type": "code",
      "metadata": {
        "id": "_h-uamV4mfNM",
        "outputId": "fb1c7b1e-f620-4385-d5ae-dcf877561cbd",
        "colab": {
          "base_uri": "https://localhost:8080/",
          "height": 538
        }
      },
      "source": [
        "label = 0\n",
        "print('Label: ', label, '\\n'+'='*100+'\\n')\n",
        "print(*df[df['label'] == label].sample(10).text, sep='\\n'+'-'*100+'\\n\\n')"
      ],
      "execution_count": null,
      "outputs": [
        {
          "output_type": "stream",
          "text": [
            "Label:  0 \n",
            "====================================================================================================\n",
            "\n",
            "OpenStack - это набор сервисов управления приватным облаком, там огромная кодовая база, пару десятков основных сервисов, управление сетями, object storage / file storage, куча всего.\n",
            "----------------------------------------------------------------------------------------------------\n",
            "\n",
            "а во, сразу сбросило на сайт демок аиохттп, спасибо\n",
            "----------------------------------------------------------------------------------------------------\n",
            "\n",
            "ну я работал на СИ и шарпах\n",
            "----------------------------------------------------------------------------------------------------\n",
            "\n",
            "а я пожалуй читать не буду пока\n",
            "----------------------------------------------------------------------------------------------------\n",
            "\n",
            "я тоже новичок, но я не платил за знания\n",
            "----------------------------------------------------------------------------------------------------\n",
            "\n",
            "Чёт я ему не верю, попробуй в таки в лист преобразовать\n",
            "----------------------------------------------------------------------------------------------------\n",
            "\n",
            "> где\\ngoogle.com, есть сайт такой\n",
            "----------------------------------------------------------------------------------------------------\n",
            "\n",
            "переменную data я бы всё-таки переименовал в query\n",
            "----------------------------------------------------------------------------------------------------\n",
            "\n",
            "Это точно\\nсолнышко на улице, а ты за компом\n",
            "----------------------------------------------------------------------------------------------------\n",
            "\n",
            "А как прикрутить к серверу питон?\n"
          ],
          "name": "stdout"
        }
      ]
    },
    {
      "cell_type": "code",
      "metadata": {
        "id": "CSI2WRgwmfNO",
        "outputId": "a7edcd85-9d9e-4c9d-a51a-b6d38aca983d",
        "colab": {
          "base_uri": "https://localhost:8080/",
          "height": 538
        }
      },
      "source": [
        "label = 1\n",
        "print('Label: ', label, '\\n'+'='*100+'\\n')\n",
        "print(*df[df['label'] == label].sample(10).text, sep='\\n'+'-'*100+'\\n\\n')"
      ],
      "execution_count": null,
      "outputs": [
        {
          "output_type": "stream",
          "text": [
            "Label:  1 \n",
            "====================================================================================================\n",
            "\n",
            "М 35/83/90 пасс ищу м от 35 для неч. встречь Дн-жинск 0679967262 только СМС\n",
            "----------------------------------------------------------------------------------------------------\n",
            "\n",
            "я П 31 Хочу познакомиться с Дев или Жен для с/о звоните 0663976442\n",
            "----------------------------------------------------------------------------------------------------\n",
            "\n",
            "девченки два парня в сауне скучают 0999618325\n",
            "----------------------------------------------------------------------------------------------------\n",
            "\n",
            "П. 33 ВЫС. СТРОЙНЫЙ ПРИДЕТ К   Д.. С  ШАМПАНСКИМ 066 929 99 19\n",
            "----------------------------------------------------------------------------------------------------\n",
            "\n",
            "ищу:)до 30. Мне 22\n",
            "----------------------------------------------------------------------------------------------------\n",
            "\n",
            "М 44 ПОЗН.С ДЕВ..О.095.53.22.950\n",
            "----------------------------------------------------------------------------------------------------\n",
            "\n",
            "ПРИЕДУ К ДЕВУШКЕ  ЖЕНЩ НА НОЧЬ МНЕ32 0506998071 АЛЬКА УЧТИ\n",
            "----------------------------------------------------------------------------------------------------\n",
            "\n",
            "симп.парень 23 года позн.с симп.девушкой.095-256-49-07\n",
            "----------------------------------------------------------------------------------------------------\n",
            "\n",
            "САнечка давай в пятницу созваниваться иначе мы не скоро увидемся!1\n",
            "----------------------------------------------------------------------------------------------------\n",
            "\n",
            "П33порядоч добр позн с худенькдевуш для дружбы отношен\n"
          ],
          "name": "stdout"
        }
      ]
    },
    {
      "cell_type": "code",
      "metadata": {
        "id": "jDOv25MimfNQ",
        "outputId": "461e7b72-19e5-40f0-b0ae-145551b2a522",
        "colab": {
          "base_uri": "https://localhost:8080/",
          "height": 558
        }
      },
      "source": [
        "label = 2\n",
        "print('Label: ', label, '\\n'+'='*100+'\\n')\n",
        "print(*df[df['label'] == label].sample(10).text, sep='\\n'+'-'*100+'\\n\\n')"
      ],
      "execution_count": null,
      "outputs": [
        {
          "output_type": "stream",
          "text": [
            "Label:  2 \n",
            "====================================================================================================\n",
            "\n",
            "Вспомнил древние времена, когда процессоры были ещё 286, а для совсем счастливчиков - 386, и получая компьютер на них себе в лабораторию, надо было проверять: а установлен ли сопроцессор? Ибо без него все наши расчеты тормозились знатно. \\nПотом как-то забылись сопроцессоры, интегрировались прямо в CPU, но вот вновь, для новых потребностей. Выпущен USBшный модуль для ускорения задач, реализованных на нейронных сетках - Movidius Neural Compute Stick. Внутри - тот чип, который, например, обеспечивает качество машинного зрения в дронах DJI. \\nНу что, для многих случаев вполне годная замена дорогой и прожорливой графической карте и заполнение ещё одной ниши на рынке устройств, заточенных под машинный интеллект.  \\nhttps://www.theverge.com/2017/7/20/16002682/movidius-ai-neural-compute-stick-intel\n",
            "----------------------------------------------------------------------------------------------------\n",
            "\n",
            "Мортидо. Нажми на сообщение и тебя перекинет\n",
            "----------------------------------------------------------------------------------------------------\n",
            "\n",
            "а если переименовать .gif в .lol ?\n",
            "----------------------------------------------------------------------------------------------------\n",
            "\n",
            "О, у меня была книга с этой картинкой.\n",
            "----------------------------------------------------------------------------------------------------\n",
            "\n",
            "ладно, это все из-за неуверенности\n",
            "----------------------------------------------------------------------------------------------------\n",
            "\n",
            "Это ясно, просто в h2o не столь гибко как в керас и прочих\n",
            "----------------------------------------------------------------------------------------------------\n",
            "\n",
            "та я потом увидел, что пропустил шаг\n",
            "----------------------------------------------------------------------------------------------------\n",
            "\n",
            "да, не обязательно, да есть много разных средних. Я как раз и спрашиваю как называется тот частный случай среднего, который (min + max) / 2\n",
            "----------------------------------------------------------------------------------------------------\n",
            "\n",
            "Можно даже всё там не читать, оставить только \"В сжатые сроки\" и \"Срывая сраку\" :)\n",
            "----------------------------------------------------------------------------------------------------\n",
            "\n",
            "Мне казалось, что в последней посчитать вероятность, что ни одна из сторон не будет больше суммы двух других. Но как это сделать?\n"
          ],
          "name": "stdout"
        }
      ]
    },
    {
      "cell_type": "markdown",
      "metadata": {
        "id": "3LU2h65QmfNS"
      },
      "source": [
        "### Разделим данные на train/test"
      ]
    },
    {
      "cell_type": "code",
      "metadata": {
        "id": "vZ13uN35mfNT",
        "outputId": "0c82ff24-f155-4347-a995-69d6df058057",
        "colab": {
          "base_uri": "https://localhost:8080/",
          "height": 34
        }
      },
      "source": [
        "skf = StratifiedKFold(3, random_state=37)\n",
        "train_index, test_index = next(skf.split(df.text, df.label))\n",
        "train_df, test_df = df.iloc[train_index], df.iloc[test_index]\n",
        "print(train_df.shape, test_df.shape)"
      ],
      "execution_count": null,
      "outputs": [
        {
          "output_type": "stream",
          "text": [
            "(74977, 3) (37490, 3)\n"
          ],
          "name": "stdout"
        }
      ]
    },
    {
      "cell_type": "code",
      "metadata": {
        "id": "PziH2PqhmfNX",
        "outputId": "ad76cb37-251b-497b-b17f-4fed9436bf09",
        "colab": {
          "base_uri": "https://localhost:8080/",
          "height": 195
        }
      },
      "source": [
        "train_df.head()"
      ],
      "execution_count": null,
      "outputs": [
        {
          "output_type": "execute_result",
          "data": {
            "text/html": [
              "<div>\n",
              "<style scoped>\n",
              "    .dataframe tbody tr th:only-of-type {\n",
              "        vertical-align: middle;\n",
              "    }\n",
              "\n",
              "    .dataframe tbody tr th {\n",
              "        vertical-align: top;\n",
              "    }\n",
              "\n",
              "    .dataframe thead th {\n",
              "        text-align: right;\n",
              "    }\n",
              "</style>\n",
              "<table border=\"1\" class=\"dataframe\">\n",
              "  <thead>\n",
              "    <tr style=\"text-align: right;\">\n",
              "      <th></th>\n",
              "      <th>id</th>\n",
              "      <th>text</th>\n",
              "      <th>label</th>\n",
              "    </tr>\n",
              "  </thead>\n",
              "  <tbody>\n",
              "    <tr>\n",
              "      <th>37334</th>\n",
              "      <td>37334</td>\n",
              "      <td>.Молодой красивый спортивный парень ищет серьё...</td>\n",
              "      <td>1</td>\n",
              "    </tr>\n",
              "    <tr>\n",
              "      <th>37335</th>\n",
              "      <td>37335</td>\n",
              "      <td>вы озабоченые уточняю для даши было написано:)...</td>\n",
              "      <td>1</td>\n",
              "    </tr>\n",
              "    <tr>\n",
              "      <th>37336</th>\n",
              "      <td>37336</td>\n",
              "      <td>КАБАСЯ Я ТЕБЯ ЛЮБЛЮ И ОЧЕНЬ СКУЧАЮ...ТВОЯ ВИТА...</td>\n",
              "      <td>1</td>\n",
              "    </tr>\n",
              "    <tr>\n",
              "      <th>37337</th>\n",
              "      <td>37337</td>\n",
              "      <td>парень ищет парня  для и\\\\о 093 783 37 87</td>\n",
              "      <td>1</td>\n",
              "    </tr>\n",
              "    <tr>\n",
              "      <th>37339</th>\n",
              "      <td>37339</td>\n",
              "      <td>РОЗСЛАБЛЮ В НОЧНОЕ ВРЕМЯ ПО ТЕЛЕФОНУ.ЦЕНА 10Г....</td>\n",
              "      <td>1</td>\n",
              "    </tr>\n",
              "  </tbody>\n",
              "</table>\n",
              "</div>"
            ],
            "text/plain": [
              "          id                                               text  label\n",
              "37334  37334  .Молодой красивый спортивный парень ищет серьё...      1\n",
              "37335  37335  вы озабоченые уточняю для даши было написано:)...      1\n",
              "37336  37336  КАБАСЯ Я ТЕБЯ ЛЮБЛЮ И ОЧЕНЬ СКУЧАЮ...ТВОЯ ВИТА...      1\n",
              "37337  37337          парень ищет парня  для и\\\\о 093 783 37 87      1\n",
              "37339  37339  РОЗСЛАБЛЮ В НОЧНОЕ ВРЕМЯ ПО ТЕЛЕФОНУ.ЦЕНА 10Г....      1"
            ]
          },
          "metadata": {
            "tags": []
          },
          "execution_count": 80
        }
      ]
    },
    {
      "cell_type": "code",
      "metadata": {
        "id": "KF7hViQmmfNa",
        "outputId": "5b417683-7bf9-4dcb-9e66-30695d82eda8",
        "colab": {
          "base_uri": "https://localhost:8080/",
          "height": 195
        }
      },
      "source": [
        "test_df.head()"
      ],
      "execution_count": null,
      "outputs": [
        {
          "output_type": "execute_result",
          "data": {
            "text/html": [
              "<div>\n",
              "<style scoped>\n",
              "    .dataframe tbody tr th:only-of-type {\n",
              "        vertical-align: middle;\n",
              "    }\n",
              "\n",
              "    .dataframe tbody tr th {\n",
              "        vertical-align: top;\n",
              "    }\n",
              "\n",
              "    .dataframe thead th {\n",
              "        text-align: right;\n",
              "    }\n",
              "</style>\n",
              "<table border=\"1\" class=\"dataframe\">\n",
              "  <thead>\n",
              "    <tr style=\"text-align: right;\">\n",
              "      <th></th>\n",
              "      <th>id</th>\n",
              "      <th>text</th>\n",
              "      <th>label</th>\n",
              "    </tr>\n",
              "  </thead>\n",
              "  <tbody>\n",
              "    <tr>\n",
              "      <th>0</th>\n",
              "      <td>0</td>\n",
              "      <td>ж 44 позн с мужч от 40 лет 0678935919</td>\n",
              "      <td>1</td>\n",
              "    </tr>\n",
              "    <tr>\n",
              "      <th>1</th>\n",
              "      <td>1</td>\n",
              "      <td>уже и не вспомню где это увидел</td>\n",
              "      <td>2</td>\n",
              "    </tr>\n",
              "    <tr>\n",
              "      <th>2</th>\n",
              "      <td>2</td>\n",
              "      <td>, sep=';', decimal=',' может изза этого</td>\n",
              "      <td>2</td>\n",
              "    </tr>\n",
              "    <tr>\n",
              "      <th>3</th>\n",
              "      <td>3</td>\n",
              "      <td>НУЖНА ДЕВ ДЛЯ С\\\\О -19л.0637048428смс</td>\n",
              "      <td>1</td>\n",
              "    </tr>\n",
              "    <tr>\n",
              "      <th>4</th>\n",
              "      <td>4</td>\n",
              "      <td>.М54.ИЩУ Д.Ж.  С-П.ДЛЯ ЛАСК...НЕКМ.0508665030....</td>\n",
              "      <td>1</td>\n",
              "    </tr>\n",
              "  </tbody>\n",
              "</table>\n",
              "</div>"
            ],
            "text/plain": [
              "   id                                               text  label\n",
              "0   0              ж 44 позн с мужч от 40 лет 0678935919      1\n",
              "1   1                    уже и не вспомню где это увидел      2\n",
              "2   2            , sep=';', decimal=',' может изза этого      2\n",
              "3   3              НУЖНА ДЕВ ДЛЯ С\\\\О -19л.0637048428смс      1\n",
              "4   4  .М54.ИЩУ Д.Ж.  С-П.ДЛЯ ЛАСК...НЕКМ.0508665030....      1"
            ]
          },
          "metadata": {
            "tags": []
          },
          "execution_count": 81
        }
      ]
    },
    {
      "cell_type": "markdown",
      "metadata": {
        "id": "dg-i17ddmfNf"
      },
      "source": [
        "## Baseline"
      ]
    },
    {
      "cell_type": "code",
      "metadata": {
        "id": "7YonavA0mfNh"
      },
      "source": [
        "from sklearn.tree import DecisionTreeClassifier\n",
        "from sklearn.ensemble import RandomForestClassifier\n",
        "from sklearn.decomposition import TruncatedSVD\n",
        "from xgboost.sklearn import XGBClassifier"
      ],
      "execution_count": null,
      "outputs": []
    },
    {
      "cell_type": "markdown",
      "metadata": {
        "id": "xC85q6NQmfNo"
      },
      "source": [
        "Преобразуем данные"
      ]
    },
    {
      "cell_type": "code",
      "metadata": {
        "id": "0EAkBE3BmfNq",
        "outputId": "c7178506-7dc6-423f-c8f0-955afdee58a0",
        "colab": {
          "base_uri": "https://localhost:8080/",
          "height": 50
        }
      },
      "source": [
        "X_train = train_df.text\n",
        "y_train = train_df.label\n",
        "print(X_train.shape)\n",
        "\n",
        "X_test = test_df.text\n",
        "y_test = test_df.label\n",
        "print(X_test.shape)"
      ],
      "execution_count": null,
      "outputs": [
        {
          "output_type": "stream",
          "text": [
            "(74977,)\n",
            "(37490,)\n"
          ],
          "name": "stdout"
        }
      ]
    },
    {
      "cell_type": "code",
      "metadata": {
        "id": "c4q4VJ5TmfNu",
        "outputId": "ab3a13a9-2d90-4c72-d4de-29418fbc9c07",
        "colab": {
          "base_uri": "https://localhost:8080/",
          "height": 218
        }
      },
      "source": [
        "X_train"
      ],
      "execution_count": null,
      "outputs": [
        {
          "output_type": "execute_result",
          "data": {
            "text/plain": [
              "37334     .Молодой красивый спортивный парень ищет серьё...\n",
              "37335     вы озабоченые уточняю для даши было написано:)...\n",
              "37336     КАБАСЯ Я ТЕБЯ ЛЮБЛЮ И ОЧЕНЬ СКУЧАЮ...ТВОЯ ВИТА...\n",
              "37337             парень ищет парня  для и\\\\о 093 783 37 87\n",
              "37339     РОЗСЛАБЛЮ В НОЧНОЕ ВРЕМЯ ПО ТЕЛЕФОНУ.ЦЕНА 10Г....\n",
              "                                ...                        \n",
              "112462    . Мужч. 45. Общение с женщиной. ВНАЧАЛЕ СМС  М...\n",
              "112463                       чем не устраивает канал в ODS?\n",
              "112464    ДОЦЯ ОЧЕНЬ РЕСКА ПАВАРАЧЕВАТЬ НЕЛЬЗЯ. БУДЬ ЧЮТ...\n",
              "112465    Привет наш любимый дорогой сыночек.Очень скуча...\n",
              "112466    ? сегодня услышал kmean от гуманитария на рабо...\n",
              "Name: text, Length: 74977, dtype: object"
            ]
          },
          "metadata": {
            "tags": []
          },
          "execution_count": 84
        }
      ]
    },
    {
      "cell_type": "markdown",
      "metadata": {
        "id": "B0l-_nGVmfNx"
      },
      "source": [
        "## <font color='red'> Задание: применить TF-IDF для кодирования текстовой информациии и затем обучить модель</font>\n",
        "будьте внимательны, что к валидационной части данных также необходимо применить эту процедуру\n",
        "\n",
        "Также можно использовать другие методы кодированния текстов и затем сравнить полученные результаты"
      ]
    },
    {
      "cell_type": "markdown",
      "metadata": {
        "id": "cCh-rVXamfNz"
      },
      "source": [
        "Подготовим pipeline"
      ]
    },
    {
      "cell_type": "code",
      "metadata": {
        "id": "eBFLfrYAmfN0"
      },
      "source": [
        "pipeline = Pipeline([\n",
        "    (\"vectorizer\", CountVectorizer()),\n",
        "    (\"clf\", DecisionTreeClassifier()),\n",
        "])"
      ],
      "execution_count": null,
      "outputs": []
    },
    {
      "cell_type": "code",
      "metadata": {
        "id": "xmY5hKebAQxJ",
        "outputId": "01cf7050-da7f-48e2-9956-1b83b4ae07ed",
        "colab": {
          "base_uri": "https://localhost:8080/",
          "height": 406
        }
      },
      "source": [
        "pipeline = make_pipeline(CountVectorizer(min_df=5, ngram_range=(1, 2)), TfidfTransformer(), LogisticRegression())\n",
        "arr = cross_val_score(pipeline, X_train, y_train, cv=5, scoring=f_scorer)\n",
        "print(arr)\n",
        "print(np.mean(arr))"
      ],
      "execution_count": null,
      "outputs": [
        {
          "output_type": "stream",
          "text": [
            "/usr/local/lib/python3.6/dist-packages/sklearn/linear_model/logistic.py:432: FutureWarning: Default solver will be changed to 'lbfgs' in 0.22. Specify a solver to silence this warning.\n",
            "  FutureWarning)\n",
            "/usr/local/lib/python3.6/dist-packages/sklearn/linear_model/logistic.py:469: FutureWarning: Default multi_class will be changed to 'auto' in 0.22. Specify the multi_class option to silence this warning.\n",
            "  \"this warning.\", FutureWarning)\n",
            "/usr/local/lib/python3.6/dist-packages/sklearn/linear_model/logistic.py:432: FutureWarning: Default solver will be changed to 'lbfgs' in 0.22. Specify a solver to silence this warning.\n",
            "  FutureWarning)\n",
            "/usr/local/lib/python3.6/dist-packages/sklearn/linear_model/logistic.py:469: FutureWarning: Default multi_class will be changed to 'auto' in 0.22. Specify the multi_class option to silence this warning.\n",
            "  \"this warning.\", FutureWarning)\n",
            "/usr/local/lib/python3.6/dist-packages/sklearn/linear_model/logistic.py:432: FutureWarning: Default solver will be changed to 'lbfgs' in 0.22. Specify a solver to silence this warning.\n",
            "  FutureWarning)\n",
            "/usr/local/lib/python3.6/dist-packages/sklearn/linear_model/logistic.py:469: FutureWarning: Default multi_class will be changed to 'auto' in 0.22. Specify the multi_class option to silence this warning.\n",
            "  \"this warning.\", FutureWarning)\n",
            "/usr/local/lib/python3.6/dist-packages/sklearn/linear_model/logistic.py:432: FutureWarning: Default solver will be changed to 'lbfgs' in 0.22. Specify a solver to silence this warning.\n",
            "  FutureWarning)\n",
            "/usr/local/lib/python3.6/dist-packages/sklearn/linear_model/logistic.py:469: FutureWarning: Default multi_class will be changed to 'auto' in 0.22. Specify the multi_class option to silence this warning.\n",
            "  \"this warning.\", FutureWarning)\n",
            "/usr/local/lib/python3.6/dist-packages/sklearn/linear_model/logistic.py:432: FutureWarning: Default solver will be changed to 'lbfgs' in 0.22. Specify a solver to silence this warning.\n",
            "  FutureWarning)\n",
            "/usr/local/lib/python3.6/dist-packages/sklearn/linear_model/logistic.py:469: FutureWarning: Default multi_class will be changed to 'auto' in 0.22. Specify the multi_class option to silence this warning.\n",
            "  \"this warning.\", FutureWarning)\n"
          ],
          "name": "stderr"
        },
        {
          "output_type": "stream",
          "text": [
            "[0.80643936 0.80584322 0.8095673  0.81094617 0.80607048]\n",
            "0.8077733053221943\n"
          ],
          "name": "stdout"
        }
      ]
    },
    {
      "cell_type": "code",
      "metadata": {
        "id": "84ckALEB_mYL",
        "outputId": "45ced264-9c93-4ea5-8bc0-1c5f076beeef",
        "colab": {
          "base_uri": "https://localhost:8080/",
          "height": 474
        }
      },
      "source": [
        "pipeline.fit(X_train, y_train)"
      ],
      "execution_count": null,
      "outputs": [
        {
          "output_type": "stream",
          "text": [
            "/usr/local/lib/python3.6/dist-packages/sklearn/linear_model/logistic.py:432: FutureWarning: Default solver will be changed to 'lbfgs' in 0.22. Specify a solver to silence this warning.\n",
            "  FutureWarning)\n",
            "/usr/local/lib/python3.6/dist-packages/sklearn/linear_model/logistic.py:469: FutureWarning: Default multi_class will be changed to 'auto' in 0.22. Specify the multi_class option to silence this warning.\n",
            "  \"this warning.\", FutureWarning)\n"
          ],
          "name": "stderr"
        },
        {
          "output_type": "execute_result",
          "data": {
            "text/plain": [
              "Pipeline(memory=None,\n",
              "         steps=[('countvectorizer',\n",
              "                 CountVectorizer(analyzer='word', binary=False,\n",
              "                                 decode_error='strict',\n",
              "                                 dtype=<class 'numpy.int64'>, encoding='utf-8',\n",
              "                                 input='content', lowercase=True, max_df=1.0,\n",
              "                                 max_features=None, min_df=5,\n",
              "                                 ngram_range=(1, 2), preprocessor=None,\n",
              "                                 stop_words=None, strip_accents=None,\n",
              "                                 token_pattern='(?u)\\\\b\\\\w\\\\w+\\\\b',\n",
              "                                 tokenizer=None, voc...\n",
              "                 TfidfTransformer(norm='l2', smooth_idf=True,\n",
              "                                  sublinear_tf=False, use_idf=True)),\n",
              "                ('logisticregression',\n",
              "                 LogisticRegression(C=1.0, class_weight=None, dual=False,\n",
              "                                    fit_intercept=True, intercept_scaling=1,\n",
              "                                    l1_ratio=None, max_iter=100,\n",
              "                                    multi_class='warn', n_jobs=None,\n",
              "                                    penalty='l2', random_state=None,\n",
              "                                    solver='warn', tol=0.0001, verbose=0,\n",
              "                                    warm_start=False))],\n",
              "         verbose=False)"
            ]
          },
          "metadata": {
            "tags": []
          },
          "execution_count": 88
        }
      ]
    },
    {
      "cell_type": "code",
      "metadata": {
        "id": "Ei9PEmVFAvw2",
        "outputId": "7aa9c2d6-5d6f-4607-a056-ce1192c25bcf",
        "colab": {
          "base_uri": "https://localhost:8080/",
          "height": 34
        }
      },
      "source": [
        "accuracy_score(pipeline.predict(X_train), y_train)"
      ],
      "execution_count": null,
      "outputs": [
        {
          "output_type": "execute_result",
          "data": {
            "text/plain": [
              "0.9005428331354949"
            ]
          },
          "metadata": {
            "tags": []
          },
          "execution_count": 89
        }
      ]
    },
    {
      "cell_type": "code",
      "metadata": {
        "id": "otEWCpw5A37W",
        "outputId": "23d6121b-8349-48e8-8ed7-969b7fcec0a6",
        "colab": {
          "base_uri": "https://localhost:8080/",
          "height": 34
        }
      },
      "source": [
        "f_scorer(pipeline, X_train, y_train)"
      ],
      "execution_count": null,
      "outputs": [
        {
          "output_type": "execute_result",
          "data": {
            "text/plain": [
              "0.8664190423011421"
            ]
          },
          "metadata": {
            "tags": []
          },
          "execution_count": 90
        }
      ]
    },
    {
      "cell_type": "code",
      "metadata": {
        "id": "wFS4tOr0BKW8",
        "outputId": "e3bf99f9-013f-43b2-a823-f2458999f314",
        "colab": {
          "base_uri": "https://localhost:8080/",
          "height": 34
        }
      },
      "source": [
        "accuracy_score(pipeline.predict(X_test), y_test)"
      ],
      "execution_count": null,
      "outputs": [
        {
          "output_type": "execute_result",
          "data": {
            "text/plain": [
              "0.8639903974393172"
            ]
          },
          "metadata": {
            "tags": []
          },
          "execution_count": 91
        }
      ]
    },
    {
      "cell_type": "code",
      "metadata": {
        "id": "esJkgj46BQrK",
        "outputId": "c0156d71-4a59-472e-eed9-0d85de50d93f",
        "colab": {
          "base_uri": "https://localhost:8080/",
          "height": 34
        }
      },
      "source": [
        "f_scorer(pipeline, X_test, y_test)"
      ],
      "execution_count": null,
      "outputs": [
        {
          "output_type": "execute_result",
          "data": {
            "text/plain": [
              "0.8146823301106126"
            ]
          },
          "metadata": {
            "tags": []
          },
          "execution_count": 92
        }
      ]
    },
    {
      "cell_type": "markdown",
      "metadata": {
        "id": "Vg1l6BCDmfN5"
      },
      "source": [
        "###  <font color='red'> Задание: Протестировать различные параметры CountVectorizer()</font>\n",
        "https://scikit-learn.org/stable/modules/generated/sklearn.feature_extraction.text.CountVectorizer.html\n"
      ]
    },
    {
      "cell_type": "markdown",
      "metadata": {
        "id": "ifAd9Oz6mfN8"
      },
      "source": [
        "Обучим классификатор"
      ]
    },
    {
      "cell_type": "code",
      "metadata": {
        "scrolled": true,
        "id": "ZYtvxY2hmfN_",
        "outputId": "5e31f886-9b43-4844-dbf6-33b1f2fdb264",
        "colab": {
          "base_uri": "https://localhost:8080/",
          "height": 138
        }
      },
      "source": [
        "%%time\n",
        "clf = pipeline\n",
        "clf.fit(X_train, y_train)"
      ],
      "execution_count": null,
      "outputs": [
        {
          "output_type": "stream",
          "text": [
            "/usr/local/lib/python3.6/dist-packages/sklearn/linear_model/logistic.py:432: FutureWarning: Default solver will be changed to 'lbfgs' in 0.22. Specify a solver to silence this warning.\n",
            "  FutureWarning)\n",
            "/usr/local/lib/python3.6/dist-packages/sklearn/linear_model/logistic.py:469: FutureWarning: Default multi_class will be changed to 'auto' in 0.22. Specify the multi_class option to silence this warning.\n",
            "  \"this warning.\", FutureWarning)\n"
          ],
          "name": "stderr"
        },
        {
          "output_type": "stream",
          "text": [
            "CPU times: user 5.32 s, sys: 1.2 s, total: 6.53 s\n",
            "Wall time: 5.15 s\n"
          ],
          "name": "stdout"
        }
      ]
    },
    {
      "cell_type": "markdown",
      "metadata": {
        "id": "puI1OFaFmfOE"
      },
      "source": [
        "Оценим качество"
      ]
    },
    {
      "cell_type": "code",
      "metadata": {
        "id": "ZLiYXksdmfOH",
        "outputId": "dd8adef8-453b-48ce-d750-392ece9ae10a",
        "colab": {
          "base_uri": "https://localhost:8080/",
          "height": 34
        }
      },
      "source": [
        "print(\"Train_acc: {:.4f}, train_f-measure: {:.4f}\".format(\n",
        "    accuracy_score(clf.predict(X_train), y_train),\n",
        "    f_scorer(clf, X_train, y_train)\n",
        "))"
      ],
      "execution_count": null,
      "outputs": [
        {
          "output_type": "stream",
          "text": [
            "Train_acc: 0.9005, train_f-measure: 0.8664\n"
          ],
          "name": "stdout"
        }
      ]
    },
    {
      "cell_type": "code",
      "metadata": {
        "id": "ZJEeyIIzmfOL",
        "outputId": "b978e62b-1a5c-4b5f-bf04-3f472d6be765",
        "colab": {
          "base_uri": "https://localhost:8080/",
          "height": 34
        }
      },
      "source": [
        "print(\"Test_acc: {:.4f}, test_f-measure: {:.4f}\".format(\n",
        "    accuracy_score(clf.predict(X_test), y_test),\n",
        "    f_scorer(clf, X_test, y_test)\n",
        "))"
      ],
      "execution_count": null,
      "outputs": [
        {
          "output_type": "stream",
          "text": [
            "Test_acc: 0.8640, test_f-measure: 0.8147\n"
          ],
          "name": "stdout"
        }
      ]
    },
    {
      "cell_type": "markdown",
      "metadata": {
        "id": "Pgr1Q5QVmfOP"
      },
      "source": [
        "## <font color='red'> Задание: улучшить результат и сделать вывод о влиянии использованных методов на итоговый результат"
      ]
    },
    {
      "cell_type": "markdown",
      "metadata": {
        "id": "tl-LMskomfOQ"
      },
      "source": [
        "### Your turn\n",
        "\n",
        "Как видим, наша модель переобучилась. Для получения лучших результатов попробуйте воспользоваться более хитрыми и походящими инструментами.\n",
        "\n",
        "1. Попробуйте поработать с параметрами `CountVectorizer`.\n",
        "2. Попробуйте воспользоваться TF-IDF для кодирования текстовой информации ([ссылка](https://scikit-learn.org/stable/modules/generated/sklearn.feature_extraction.text.TfidfVectorizer.html)).\n",
        "3. Попробуйте воспользоваться другими моделями и средствами снижения размерности.\n",
        "\n",
        "Формальный критерий успешности выполнения данного задания: \n",
        "* Проведен честный эксперимент с апробацией различных методов (>=3)\n",
        "* Полученный алгоритм не выказывает явных следов переобучения (качество на train и test не различаются более, чем на 0.03 условных попугая)\n",
        "* Test accuracy >= 0.835, f1-score >= 0.815\n",
        "\n",
        "**0.5 extra points**\n",
        "\n",
        "При частичном выполнении данного задания можно получить неполный балл. Качественный эксперимент, не побивший пороговые значения оценивается неполным баллом на усмотрение преподавателя. При получении пороговых score'ов случайным образом (без анализа) бонус не засчитывается. "
      ]
    },
    {
      "cell_type": "markdown",
      "metadata": {
        "id": "JdQF_0DzGzvv"
      },
      "source": [
        "# Эксперимент №1\n",
        "изменим параметры CountVectorizer: увеличим min_df, чтобы игнорировать термины, у которых частота ниже заданного порога. Увеличим размерность n-грамм, чтобы включались триграммы"
      ]
    },
    {
      "cell_type": "code",
      "metadata": {
        "id": "nsTGK0dGFNij",
        "outputId": "71d6e48c-b728-4bb6-a825-e9d098f5bc0d",
        "colab": {
          "base_uri": "https://localhost:8080/",
          "height": 406
        }
      },
      "source": [
        "pipeline = make_pipeline(CountVectorizer(min_df=10, ngram_range=(1, 3)), TfidfTransformer(), LogisticRegression())\n",
        "arr = cross_val_score(pipeline, X_train, y_train, cv=5, scoring=f_scorer)\n",
        "print(arr)\n",
        "print(np.mean(arr))"
      ],
      "execution_count": null,
      "outputs": [
        {
          "output_type": "stream",
          "text": [
            "/usr/local/lib/python3.6/dist-packages/sklearn/linear_model/logistic.py:432: FutureWarning: Default solver will be changed to 'lbfgs' in 0.22. Specify a solver to silence this warning.\n",
            "  FutureWarning)\n",
            "/usr/local/lib/python3.6/dist-packages/sklearn/linear_model/logistic.py:469: FutureWarning: Default multi_class will be changed to 'auto' in 0.22. Specify the multi_class option to silence this warning.\n",
            "  \"this warning.\", FutureWarning)\n",
            "/usr/local/lib/python3.6/dist-packages/sklearn/linear_model/logistic.py:432: FutureWarning: Default solver will be changed to 'lbfgs' in 0.22. Specify a solver to silence this warning.\n",
            "  FutureWarning)\n",
            "/usr/local/lib/python3.6/dist-packages/sklearn/linear_model/logistic.py:469: FutureWarning: Default multi_class will be changed to 'auto' in 0.22. Specify the multi_class option to silence this warning.\n",
            "  \"this warning.\", FutureWarning)\n",
            "/usr/local/lib/python3.6/dist-packages/sklearn/linear_model/logistic.py:432: FutureWarning: Default solver will be changed to 'lbfgs' in 0.22. Specify a solver to silence this warning.\n",
            "  FutureWarning)\n",
            "/usr/local/lib/python3.6/dist-packages/sklearn/linear_model/logistic.py:469: FutureWarning: Default multi_class will be changed to 'auto' in 0.22. Specify the multi_class option to silence this warning.\n",
            "  \"this warning.\", FutureWarning)\n",
            "/usr/local/lib/python3.6/dist-packages/sklearn/linear_model/logistic.py:432: FutureWarning: Default solver will be changed to 'lbfgs' in 0.22. Specify a solver to silence this warning.\n",
            "  FutureWarning)\n",
            "/usr/local/lib/python3.6/dist-packages/sklearn/linear_model/logistic.py:469: FutureWarning: Default multi_class will be changed to 'auto' in 0.22. Specify the multi_class option to silence this warning.\n",
            "  \"this warning.\", FutureWarning)\n",
            "/usr/local/lib/python3.6/dist-packages/sklearn/linear_model/logistic.py:432: FutureWarning: Default solver will be changed to 'lbfgs' in 0.22. Specify a solver to silence this warning.\n",
            "  FutureWarning)\n",
            "/usr/local/lib/python3.6/dist-packages/sklearn/linear_model/logistic.py:469: FutureWarning: Default multi_class will be changed to 'auto' in 0.22. Specify the multi_class option to silence this warning.\n",
            "  \"this warning.\", FutureWarning)\n"
          ],
          "name": "stderr"
        },
        {
          "output_type": "stream",
          "text": [
            "[0.80240347 0.80171182 0.80697583 0.80506208 0.80226412]\n",
            "0.8036834624953016\n"
          ],
          "name": "stdout"
        }
      ]
    },
    {
      "cell_type": "code",
      "metadata": {
        "id": "Qh0FSjQzFpc7",
        "outputId": "00094239-fabf-4dfb-8ef1-edb0645aa2e1",
        "colab": {
          "base_uri": "https://localhost:8080/",
          "height": 474
        }
      },
      "source": [
        "clf = pipeline\n",
        "clf.fit(X_train, y_train)"
      ],
      "execution_count": null,
      "outputs": [
        {
          "output_type": "stream",
          "text": [
            "/usr/local/lib/python3.6/dist-packages/sklearn/linear_model/logistic.py:432: FutureWarning: Default solver will be changed to 'lbfgs' in 0.22. Specify a solver to silence this warning.\n",
            "  FutureWarning)\n",
            "/usr/local/lib/python3.6/dist-packages/sklearn/linear_model/logistic.py:469: FutureWarning: Default multi_class will be changed to 'auto' in 0.22. Specify the multi_class option to silence this warning.\n",
            "  \"this warning.\", FutureWarning)\n"
          ],
          "name": "stderr"
        },
        {
          "output_type": "execute_result",
          "data": {
            "text/plain": [
              "Pipeline(memory=None,\n",
              "         steps=[('countvectorizer',\n",
              "                 CountVectorizer(analyzer='word', binary=False,\n",
              "                                 decode_error='strict',\n",
              "                                 dtype=<class 'numpy.int64'>, encoding='utf-8',\n",
              "                                 input='content', lowercase=True, max_df=1.0,\n",
              "                                 max_features=None, min_df=10,\n",
              "                                 ngram_range=(1, 3), preprocessor=None,\n",
              "                                 stop_words=None, strip_accents=None,\n",
              "                                 token_pattern='(?u)\\\\b\\\\w\\\\w+\\\\b',\n",
              "                                 tokenizer=None, vo...\n",
              "                 TfidfTransformer(norm='l2', smooth_idf=True,\n",
              "                                  sublinear_tf=False, use_idf=True)),\n",
              "                ('logisticregression',\n",
              "                 LogisticRegression(C=1.0, class_weight=None, dual=False,\n",
              "                                    fit_intercept=True, intercept_scaling=1,\n",
              "                                    l1_ratio=None, max_iter=100,\n",
              "                                    multi_class='warn', n_jobs=None,\n",
              "                                    penalty='l2', random_state=None,\n",
              "                                    solver='warn', tol=0.0001, verbose=0,\n",
              "                                    warm_start=False))],\n",
              "         verbose=False)"
            ]
          },
          "metadata": {
            "tags": []
          },
          "execution_count": 105
        }
      ]
    },
    {
      "cell_type": "code",
      "metadata": {
        "id": "R94C9V3RFyUr",
        "outputId": "6eaf889c-bea9-4663-a4b7-07833423c158",
        "colab": {
          "base_uri": "https://localhost:8080/",
          "height": 34
        }
      },
      "source": [
        "print(\"Train_acc: {:.4f}, train_f-measure: {:.4f}\".format(\n",
        "    accuracy_score(clf.predict(X_train), y_train),\n",
        "    f_scorer(clf, X_train, y_train)\n",
        "))"
      ],
      "execution_count": null,
      "outputs": [
        {
          "output_type": "stream",
          "text": [
            "Train_acc: 0.8897, train_f-measure: 0.8515\n"
          ],
          "name": "stdout"
        }
      ]
    },
    {
      "cell_type": "code",
      "metadata": {
        "id": "gzQ1mAFgF3cU",
        "outputId": "26924105-cbfd-456d-868e-f330596d0e1c",
        "colab": {
          "base_uri": "https://localhost:8080/",
          "height": 34
        }
      },
      "source": [
        "print(\"Test_acc: {:.4f}, test_f-measure: {:.4f}\".format(\n",
        "    accuracy_score(clf.predict(X_test), y_test),\n",
        "    f_scorer(clf, X_test, y_test)\n",
        "))"
      ],
      "execution_count": null,
      "outputs": [
        {
          "output_type": "stream",
          "text": [
            "Test_acc: 0.8607, test_f-measure: 0.8113\n"
          ],
          "name": "stdout"
        }
      ]
    },
    {
      "cell_type": "markdown",
      "metadata": {
        "id": "8mmmVrenIcfr"
      },
      "source": [
        "# Вывод\n",
        "Стало получше"
      ]
    },
    {
      "cell_type": "markdown",
      "metadata": {
        "id": "6-r_i6AEIafc"
      },
      "source": [
        "# Эксперимент №2\n",
        "изменим параметры CountVectorizer: изменим параметр n-грамм, чтобы включались только триграммы"
      ]
    },
    {
      "cell_type": "code",
      "metadata": {
        "id": "B8y5txHdF50l",
        "outputId": "979c67b5-51f6-4fbb-838c-6c4eaf2513bd",
        "colab": {
          "base_uri": "https://localhost:8080/",
          "height": 406
        }
      },
      "source": [
        "pipeline = make_pipeline(CountVectorizer(min_df=10, ngram_range=(3, 3)), TfidfTransformer(), LogisticRegression())\n",
        "arr = cross_val_score(pipeline, X_train, y_train, cv=5, scoring=f_scorer)\n",
        "print(arr)\n",
        "print(np.mean(arr))"
      ],
      "execution_count": null,
      "outputs": [
        {
          "output_type": "stream",
          "text": [
            "/usr/local/lib/python3.6/dist-packages/sklearn/linear_model/logistic.py:432: FutureWarning: Default solver will be changed to 'lbfgs' in 0.22. Specify a solver to silence this warning.\n",
            "  FutureWarning)\n",
            "/usr/local/lib/python3.6/dist-packages/sklearn/linear_model/logistic.py:469: FutureWarning: Default multi_class will be changed to 'auto' in 0.22. Specify the multi_class option to silence this warning.\n",
            "  \"this warning.\", FutureWarning)\n",
            "/usr/local/lib/python3.6/dist-packages/sklearn/linear_model/logistic.py:432: FutureWarning: Default solver will be changed to 'lbfgs' in 0.22. Specify a solver to silence this warning.\n",
            "  FutureWarning)\n",
            "/usr/local/lib/python3.6/dist-packages/sklearn/linear_model/logistic.py:469: FutureWarning: Default multi_class will be changed to 'auto' in 0.22. Specify the multi_class option to silence this warning.\n",
            "  \"this warning.\", FutureWarning)\n",
            "/usr/local/lib/python3.6/dist-packages/sklearn/linear_model/logistic.py:432: FutureWarning: Default solver will be changed to 'lbfgs' in 0.22. Specify a solver to silence this warning.\n",
            "  FutureWarning)\n",
            "/usr/local/lib/python3.6/dist-packages/sklearn/linear_model/logistic.py:469: FutureWarning: Default multi_class will be changed to 'auto' in 0.22. Specify the multi_class option to silence this warning.\n",
            "  \"this warning.\", FutureWarning)\n",
            "/usr/local/lib/python3.6/dist-packages/sklearn/linear_model/logistic.py:432: FutureWarning: Default solver will be changed to 'lbfgs' in 0.22. Specify a solver to silence this warning.\n",
            "  FutureWarning)\n",
            "/usr/local/lib/python3.6/dist-packages/sklearn/linear_model/logistic.py:469: FutureWarning: Default multi_class will be changed to 'auto' in 0.22. Specify the multi_class option to silence this warning.\n",
            "  \"this warning.\", FutureWarning)\n",
            "/usr/local/lib/python3.6/dist-packages/sklearn/linear_model/logistic.py:432: FutureWarning: Default solver will be changed to 'lbfgs' in 0.22. Specify a solver to silence this warning.\n",
            "  FutureWarning)\n",
            "/usr/local/lib/python3.6/dist-packages/sklearn/linear_model/logistic.py:469: FutureWarning: Default multi_class will be changed to 'auto' in 0.22. Specify the multi_class option to silence this warning.\n",
            "  \"this warning.\", FutureWarning)\n"
          ],
          "name": "stderr"
        },
        {
          "output_type": "stream",
          "text": [
            "[0.29574087 0.28942589 0.29001421 0.28448777 0.3801589 ]\n",
            "0.30796552957188805\n"
          ],
          "name": "stdout"
        }
      ]
    },
    {
      "cell_type": "code",
      "metadata": {
        "id": "9W8jVOR5JFkg",
        "outputId": "815bd033-f91d-4f1a-df18-41d5c5c39e7d",
        "colab": {
          "base_uri": "https://localhost:8080/",
          "height": 474
        }
      },
      "source": [
        "clf = pipeline\n",
        "clf.fit(X_train, y_train)"
      ],
      "execution_count": null,
      "outputs": [
        {
          "output_type": "stream",
          "text": [
            "/usr/local/lib/python3.6/dist-packages/sklearn/linear_model/logistic.py:432: FutureWarning: Default solver will be changed to 'lbfgs' in 0.22. Specify a solver to silence this warning.\n",
            "  FutureWarning)\n",
            "/usr/local/lib/python3.6/dist-packages/sklearn/linear_model/logistic.py:469: FutureWarning: Default multi_class will be changed to 'auto' in 0.22. Specify the multi_class option to silence this warning.\n",
            "  \"this warning.\", FutureWarning)\n"
          ],
          "name": "stderr"
        },
        {
          "output_type": "execute_result",
          "data": {
            "text/plain": [
              "Pipeline(memory=None,\n",
              "         steps=[('countvectorizer',\n",
              "                 CountVectorizer(analyzer='word', binary=False,\n",
              "                                 decode_error='strict',\n",
              "                                 dtype=<class 'numpy.int64'>, encoding='utf-8',\n",
              "                                 input='content', lowercase=True, max_df=1.0,\n",
              "                                 max_features=None, min_df=10,\n",
              "                                 ngram_range=(3, 3), preprocessor=None,\n",
              "                                 stop_words=None, strip_accents=None,\n",
              "                                 token_pattern='(?u)\\\\b\\\\w\\\\w+\\\\b',\n",
              "                                 tokenizer=None, vo...\n",
              "                 TfidfTransformer(norm='l2', smooth_idf=True,\n",
              "                                  sublinear_tf=False, use_idf=True)),\n",
              "                ('logisticregression',\n",
              "                 LogisticRegression(C=1.0, class_weight=None, dual=False,\n",
              "                                    fit_intercept=True, intercept_scaling=1,\n",
              "                                    l1_ratio=None, max_iter=100,\n",
              "                                    multi_class='warn', n_jobs=None,\n",
              "                                    penalty='l2', random_state=None,\n",
              "                                    solver='warn', tol=0.0001, verbose=0,\n",
              "                                    warm_start=False))],\n",
              "         verbose=False)"
            ]
          },
          "metadata": {
            "tags": []
          },
          "execution_count": 109
        }
      ]
    },
    {
      "cell_type": "code",
      "metadata": {
        "id": "1DKsV0j3JKUS",
        "outputId": "d7e29665-620c-4fcf-bc1b-ed9320575cd1",
        "colab": {
          "base_uri": "https://localhost:8080/",
          "height": 34
        }
      },
      "source": [
        "print(\"Train_acc: {:.4f}, train_f-measure: {:.4f}\".format(\n",
        "    accuracy_score(clf.predict(X_train), y_train),\n",
        "    f_scorer(clf, X_train, y_train)\n",
        "))"
      ],
      "execution_count": null,
      "outputs": [
        {
          "output_type": "stream",
          "text": [
            "Train_acc: 0.5203, train_f-measure: 0.4096\n"
          ],
          "name": "stdout"
        }
      ]
    },
    {
      "cell_type": "code",
      "metadata": {
        "id": "CVEgsoVxJO_4",
        "outputId": "278ea5f1-355b-41f5-bb6e-e000250480b1",
        "colab": {
          "base_uri": "https://localhost:8080/",
          "height": 34
        }
      },
      "source": [
        "print(\"Test_acc: {:.4f}, test_f-measure: {:.4f}\".format(\n",
        "    accuracy_score(clf.predict(X_test), y_test),\n",
        "    f_scorer(clf, X_test, y_test)\n",
        "))"
      ],
      "execution_count": null,
      "outputs": [
        {
          "output_type": "stream",
          "text": [
            "Test_acc: 0.5119, test_f-measure: 0.3998\n"
          ],
          "name": "stdout"
        }
      ]
    },
    {
      "cell_type": "markdown",
      "metadata": {
        "id": "WM9WDdxPJSQd"
      },
      "source": [
        "# Вывод\n",
        "Что-то не очень"
      ]
    },
    {
      "cell_type": "markdown",
      "metadata": {
        "id": "TxaKVeqxJimT"
      },
      "source": [
        "# Эксперимент №3\n",
        "к параметрам Эксперимента №1 добавим регуляризацию лоистической регрессии"
      ]
    },
    {
      "cell_type": "code",
      "metadata": {
        "id": "CFTTnacDJYE3",
        "outputId": "e944e9bd-82bc-4f4d-9e87-567e1af6e1cf",
        "colab": {
          "base_uri": "https://localhost:8080/",
          "height": 406
        }
      },
      "source": [
        "pipeline = make_pipeline(CountVectorizer(min_df=10, ngram_range=(1, 3)), TfidfTransformer(), LogisticRegression(penalty='l1', C=12))\n",
        "arr = cross_val_score(pipeline, X_train, y_train, cv=5, scoring=f_scorer)\n",
        "print(arr)\n",
        "print(np.mean(arr))"
      ],
      "execution_count": null,
      "outputs": [
        {
          "output_type": "stream",
          "text": [
            "/usr/local/lib/python3.6/dist-packages/sklearn/linear_model/logistic.py:432: FutureWarning: Default solver will be changed to 'lbfgs' in 0.22. Specify a solver to silence this warning.\n",
            "  FutureWarning)\n",
            "/usr/local/lib/python3.6/dist-packages/sklearn/linear_model/logistic.py:469: FutureWarning: Default multi_class will be changed to 'auto' in 0.22. Specify the multi_class option to silence this warning.\n",
            "  \"this warning.\", FutureWarning)\n",
            "/usr/local/lib/python3.6/dist-packages/sklearn/linear_model/logistic.py:432: FutureWarning: Default solver will be changed to 'lbfgs' in 0.22. Specify a solver to silence this warning.\n",
            "  FutureWarning)\n",
            "/usr/local/lib/python3.6/dist-packages/sklearn/linear_model/logistic.py:469: FutureWarning: Default multi_class will be changed to 'auto' in 0.22. Specify the multi_class option to silence this warning.\n",
            "  \"this warning.\", FutureWarning)\n",
            "/usr/local/lib/python3.6/dist-packages/sklearn/linear_model/logistic.py:432: FutureWarning: Default solver will be changed to 'lbfgs' in 0.22. Specify a solver to silence this warning.\n",
            "  FutureWarning)\n",
            "/usr/local/lib/python3.6/dist-packages/sklearn/linear_model/logistic.py:469: FutureWarning: Default multi_class will be changed to 'auto' in 0.22. Specify the multi_class option to silence this warning.\n",
            "  \"this warning.\", FutureWarning)\n",
            "/usr/local/lib/python3.6/dist-packages/sklearn/linear_model/logistic.py:432: FutureWarning: Default solver will be changed to 'lbfgs' in 0.22. Specify a solver to silence this warning.\n",
            "  FutureWarning)\n",
            "/usr/local/lib/python3.6/dist-packages/sklearn/linear_model/logistic.py:469: FutureWarning: Default multi_class will be changed to 'auto' in 0.22. Specify the multi_class option to silence this warning.\n",
            "  \"this warning.\", FutureWarning)\n",
            "/usr/local/lib/python3.6/dist-packages/sklearn/linear_model/logistic.py:432: FutureWarning: Default solver will be changed to 'lbfgs' in 0.22. Specify a solver to silence this warning.\n",
            "  FutureWarning)\n",
            "/usr/local/lib/python3.6/dist-packages/sklearn/linear_model/logistic.py:469: FutureWarning: Default multi_class will be changed to 'auto' in 0.22. Specify the multi_class option to silence this warning.\n",
            "  \"this warning.\", FutureWarning)\n"
          ],
          "name": "stderr"
        },
        {
          "output_type": "stream",
          "text": [
            "[0.80343287 0.80603698 0.80302072 0.80522972 0.802622  ]\n",
            "0.8040684559746494\n"
          ],
          "name": "stdout"
        }
      ]
    },
    {
      "cell_type": "code",
      "metadata": {
        "id": "_Xdy-6MdJQ6K",
        "outputId": "eca83e1c-e0bc-4133-a41f-e10829e0cb97",
        "colab": {
          "base_uri": "https://localhost:8080/",
          "height": 490
        }
      },
      "source": [
        "clf = pipeline\n",
        "clf.fit(X_train, y_train)"
      ],
      "execution_count": null,
      "outputs": [
        {
          "output_type": "stream",
          "text": [
            "/usr/local/lib/python3.6/dist-packages/sklearn/linear_model/logistic.py:432: FutureWarning: Default solver will be changed to 'lbfgs' in 0.22. Specify a solver to silence this warning.\n",
            "  FutureWarning)\n",
            "/usr/local/lib/python3.6/dist-packages/sklearn/linear_model/logistic.py:469: FutureWarning: Default multi_class will be changed to 'auto' in 0.22. Specify the multi_class option to silence this warning.\n",
            "  \"this warning.\", FutureWarning)\n"
          ],
          "name": "stderr"
        },
        {
          "output_type": "execute_result",
          "data": {
            "text/plain": [
              "Pipeline(memory=None,\n",
              "         steps=[('countvectorizer',\n",
              "                 CountVectorizer(analyzer='word', binary=False,\n",
              "                                 decode_error='strict',\n",
              "                                 dtype=<class 'numpy.int64'>, encoding='utf-8',\n",
              "                                 input='content', lowercase=True, max_df=1.0,\n",
              "                                 max_features=None, min_df=10,\n",
              "                                 ngram_range=(1, 3), preprocessor=None,\n",
              "                                 stop_words=None, strip_accents=None,\n",
              "                                 token_pattern='(?u)\\\\b\\\\w\\\\w+\\\\b',\n",
              "                                 tokenizer=None, vo...\n",
              "                ('tfidftransformer',\n",
              "                 TfidfTransformer(norm='l2', smooth_idf=True,\n",
              "                                  sublinear_tf=False, use_idf=True)),\n",
              "                ('logisticregression',\n",
              "                 LogisticRegression(C=12, class_weight=None, dual=False,\n",
              "                                    fit_intercept=True, intercept_scaling=1,\n",
              "                                    l1_ratio=None, max_iter=100,\n",
              "                                    multi_class='warn', n_jobs=None,\n",
              "                                    penalty='l1', random_state=None,\n",
              "                                    solver='warn', tol=0.0001, verbose=0,\n",
              "                                    warm_start=False))],\n",
              "         verbose=False)"
            ]
          },
          "metadata": {
            "tags": []
          },
          "execution_count": 127
        }
      ]
    },
    {
      "cell_type": "code",
      "metadata": {
        "id": "Q2cLpr5JKrUP",
        "outputId": "d3a180e0-43e2-4cbd-db69-0e07e588eb30",
        "colab": {
          "base_uri": "https://localhost:8080/",
          "height": 34
        }
      },
      "source": [
        "print(\"Train_acc: {:.4f}, train_f-measure: {:.4f}\".format(\n",
        "    accuracy_score(clf.predict(X_train), y_train),\n",
        "    f_scorer(clf, X_train, y_train)\n",
        "))"
      ],
      "execution_count": null,
      "outputs": [
        {
          "output_type": "stream",
          "text": [
            "Train_acc: 0.9272, train_f-measure: 0.9043\n"
          ],
          "name": "stdout"
        }
      ]
    },
    {
      "cell_type": "code",
      "metadata": {
        "id": "3DnPv-joKujY",
        "outputId": "8fea1eac-0bd1-4473-84dc-be7c0efb5fd9",
        "colab": {
          "base_uri": "https://localhost:8080/",
          "height": 34
        }
      },
      "source": [
        "print(\"Test_acc: {:.4f}, test_f-measure: {:.4f}\".format(\n",
        "    accuracy_score(clf.predict(X_test), y_test),\n",
        "    f_scorer(clf, X_test, y_test)\n",
        "))"
      ],
      "execution_count": null,
      "outputs": [
        {
          "output_type": "stream",
          "text": [
            "Test_acc: 0.8522, test_f-measure: 0.8102\n"
          ],
          "name": "stdout"
        }
      ]
    },
    {
      "cell_type": "markdown",
      "metadata": {
        "id": "wrWrQmn_M9fm"
      },
      "source": [
        "#Вывод\n",
        "Тоже не очень. Попробуем найти лучшие параметры регуляризации, как делали выше"
      ]
    },
    {
      "cell_type": "code",
      "metadata": {
        "id": "T6E3VeCzNO6j",
        "outputId": "a59c733f-c548-4f6e-f6c8-f7be26922e6f",
        "colab": {
          "base_uri": "https://localhost:8080/",
          "height": 50
        }
      },
      "source": [
        "sparse_feature_matrix2 = count_vectorizer.fit_transform(X_train)\n",
        "sparse_feature_matrix2"
      ],
      "execution_count": null,
      "outputs": [
        {
          "output_type": "execute_result",
          "data": {
            "text/plain": [
              "<74977x28245 sparse matrix of type '<class 'numpy.int64'>'\n",
              "\twith 845996 stored elements in Compressed Sparse Row format>"
            ]
          },
          "metadata": {
            "tags": []
          },
          "execution_count": 130
        }
      ]
    },
    {
      "cell_type": "code",
      "metadata": {
        "id": "TE38LmT0MsjF",
        "outputId": "2de44dd4-ce1e-4902-8fb5-3723394ccbd1",
        "colab": {
          "base_uri": "https://localhost:8080/",
          "height": 154
        }
      },
      "source": [
        "lr_grid = {\n",
        "    'C': np.logspace(-2, 2, 10),\n",
        "}\n",
        "gs = GridSearchCV(LogisticRegression(penalty='l1'), lr_grid, scoring=f_scorer, cv=5, n_jobs=5)\n",
        "%time  gs.fit(sparse_feature_matrix2, y_train)\n",
        "print(\"best_params: {}, best_score: {}\".format(gs.best_params_, gs.best_score_))"
      ],
      "execution_count": null,
      "outputs": [
        {
          "output_type": "stream",
          "text": [
            "/usr/local/lib/python3.6/dist-packages/sklearn/linear_model/logistic.py:432: FutureWarning: Default solver will be changed to 'lbfgs' in 0.22. Specify a solver to silence this warning.\n",
            "  FutureWarning)\n",
            "/usr/local/lib/python3.6/dist-packages/sklearn/linear_model/logistic.py:469: FutureWarning: Default multi_class will be changed to 'auto' in 0.22. Specify the multi_class option to silence this warning.\n",
            "  \"this warning.\", FutureWarning)\n"
          ],
          "name": "stderr"
        },
        {
          "output_type": "stream",
          "text": [
            "CPU times: user 1.95 s, sys: 226 ms, total: 2.17 s\n",
            "Wall time: 25min 6s\n",
            "best_params: {'C': 1.6681005372000592}, best_score: 0.8178078239725848\n"
          ],
          "name": "stdout"
        }
      ]
    },
    {
      "cell_type": "markdown",
      "metadata": {
        "id": "4wnZopK5N3Jq"
      },
      "source": [
        "#Эксперимент №4\n",
        "Испробуем получившийся параметр"
      ]
    },
    {
      "cell_type": "code",
      "metadata": {
        "id": "IOCJxZxCN-my",
        "outputId": "d6b53e94-9d8f-49a3-a10d-263b68bae972",
        "colab": {
          "base_uri": "https://localhost:8080/",
          "height": 406
        }
      },
      "source": [
        "pipeline = make_pipeline(CountVectorizer(min_df=5, ngram_range=(1, 2)), TfidfTransformer(), LogisticRegression(penalty='l1', C=1.6))\n",
        "arr = cross_val_score(pipeline, X_train, y_train, cv=5, scoring=f_scorer)\n",
        "print(arr)\n",
        "print(np.mean(arr))"
      ],
      "execution_count": null,
      "outputs": [
        {
          "output_type": "stream",
          "text": [
            "/usr/local/lib/python3.6/dist-packages/sklearn/linear_model/logistic.py:432: FutureWarning: Default solver will be changed to 'lbfgs' in 0.22. Specify a solver to silence this warning.\n",
            "  FutureWarning)\n",
            "/usr/local/lib/python3.6/dist-packages/sklearn/linear_model/logistic.py:469: FutureWarning: Default multi_class will be changed to 'auto' in 0.22. Specify the multi_class option to silence this warning.\n",
            "  \"this warning.\", FutureWarning)\n",
            "/usr/local/lib/python3.6/dist-packages/sklearn/linear_model/logistic.py:432: FutureWarning: Default solver will be changed to 'lbfgs' in 0.22. Specify a solver to silence this warning.\n",
            "  FutureWarning)\n",
            "/usr/local/lib/python3.6/dist-packages/sklearn/linear_model/logistic.py:469: FutureWarning: Default multi_class will be changed to 'auto' in 0.22. Specify the multi_class option to silence this warning.\n",
            "  \"this warning.\", FutureWarning)\n",
            "/usr/local/lib/python3.6/dist-packages/sklearn/linear_model/logistic.py:432: FutureWarning: Default solver will be changed to 'lbfgs' in 0.22. Specify a solver to silence this warning.\n",
            "  FutureWarning)\n",
            "/usr/local/lib/python3.6/dist-packages/sklearn/linear_model/logistic.py:469: FutureWarning: Default multi_class will be changed to 'auto' in 0.22. Specify the multi_class option to silence this warning.\n",
            "  \"this warning.\", FutureWarning)\n",
            "/usr/local/lib/python3.6/dist-packages/sklearn/linear_model/logistic.py:432: FutureWarning: Default solver will be changed to 'lbfgs' in 0.22. Specify a solver to silence this warning.\n",
            "  FutureWarning)\n",
            "/usr/local/lib/python3.6/dist-packages/sklearn/linear_model/logistic.py:469: FutureWarning: Default multi_class will be changed to 'auto' in 0.22. Specify the multi_class option to silence this warning.\n",
            "  \"this warning.\", FutureWarning)\n",
            "/usr/local/lib/python3.6/dist-packages/sklearn/linear_model/logistic.py:432: FutureWarning: Default solver will be changed to 'lbfgs' in 0.22. Specify a solver to silence this warning.\n",
            "  FutureWarning)\n",
            "/usr/local/lib/python3.6/dist-packages/sklearn/linear_model/logistic.py:469: FutureWarning: Default multi_class will be changed to 'auto' in 0.22. Specify the multi_class option to silence this warning.\n",
            "  \"this warning.\", FutureWarning)\n"
          ],
          "name": "stderr"
        },
        {
          "output_type": "stream",
          "text": [
            "[0.80863047 0.80652408 0.81055712 0.81417329 0.81207844]\n",
            "0.8103926802124107\n"
          ],
          "name": "stdout"
        }
      ]
    },
    {
      "cell_type": "code",
      "metadata": {
        "id": "fs_czDnKOB8o",
        "outputId": "9130a18c-5bf7-4a74-9cb6-b497eb0ede15",
        "colab": {
          "base_uri": "https://localhost:8080/",
          "height": 474
        }
      },
      "source": [
        "clf = pipeline\n",
        "clf.fit(X_train, y_train)"
      ],
      "execution_count": null,
      "outputs": [
        {
          "output_type": "stream",
          "text": [
            "/usr/local/lib/python3.6/dist-packages/sklearn/linear_model/logistic.py:432: FutureWarning: Default solver will be changed to 'lbfgs' in 0.22. Specify a solver to silence this warning.\n",
            "  FutureWarning)\n",
            "/usr/local/lib/python3.6/dist-packages/sklearn/linear_model/logistic.py:469: FutureWarning: Default multi_class will be changed to 'auto' in 0.22. Specify the multi_class option to silence this warning.\n",
            "  \"this warning.\", FutureWarning)\n"
          ],
          "name": "stderr"
        },
        {
          "output_type": "execute_result",
          "data": {
            "text/plain": [
              "Pipeline(memory=None,\n",
              "         steps=[('countvectorizer',\n",
              "                 CountVectorizer(analyzer='word', binary=False,\n",
              "                                 decode_error='strict',\n",
              "                                 dtype=<class 'numpy.int64'>, encoding='utf-8',\n",
              "                                 input='content', lowercase=True, max_df=1.0,\n",
              "                                 max_features=None, min_df=5,\n",
              "                                 ngram_range=(1, 2), preprocessor=None,\n",
              "                                 stop_words=None, strip_accents=None,\n",
              "                                 token_pattern='(?u)\\\\b\\\\w\\\\w+\\\\b',\n",
              "                                 tokenizer=None, voc...\n",
              "                 TfidfTransformer(norm='l2', smooth_idf=True,\n",
              "                                  sublinear_tf=False, use_idf=True)),\n",
              "                ('logisticregression',\n",
              "                 LogisticRegression(C=1.6, class_weight=None, dual=False,\n",
              "                                    fit_intercept=True, intercept_scaling=1,\n",
              "                                    l1_ratio=None, max_iter=100,\n",
              "                                    multi_class='warn', n_jobs=None,\n",
              "                                    penalty='l1', random_state=None,\n",
              "                                    solver='warn', tol=0.0001, verbose=0,\n",
              "                                    warm_start=False))],\n",
              "         verbose=False)"
            ]
          },
          "metadata": {
            "tags": []
          },
          "execution_count": 168
        }
      ]
    },
    {
      "cell_type": "code",
      "metadata": {
        "id": "n1lAuAKcOFRY",
        "outputId": "0f61950e-1ea4-4839-fc2a-dc65f6597471",
        "colab": {
          "base_uri": "https://localhost:8080/",
          "height": 34
        }
      },
      "source": [
        "print(\"Train_acc: {:.4f}, train_f-measure: {:.4f}\".format(\n",
        "    accuracy_score(clf.predict(X_train), y_train),\n",
        "    f_scorer(clf, X_train, y_train)\n",
        "))"
      ],
      "execution_count": null,
      "outputs": [
        {
          "output_type": "stream",
          "text": [
            "Train_acc: 0.9029, train_f-measure: 0.8719\n"
          ],
          "name": "stdout"
        }
      ]
    },
    {
      "cell_type": "code",
      "metadata": {
        "id": "kszm-4O1OH4S",
        "outputId": "8c341cd7-60f0-4ba1-c030-aa10768601f9",
        "colab": {
          "base_uri": "https://localhost:8080/",
          "height": 34
        }
      },
      "source": [
        "print(\"Test_acc: {:.4f}, test_f-measure: {:.4f}\".format(\n",
        "    accuracy_score(clf.predict(X_test), y_test),\n",
        "    f_scorer(clf, X_test, y_test)\n",
        "))"
      ],
      "execution_count": null,
      "outputs": [
        {
          "output_type": "stream",
          "text": [
            "Test_acc: 0.8622, test_f-measure: 0.8172\n"
          ],
          "name": "stdout"
        }
      ]
    }
  ]
}