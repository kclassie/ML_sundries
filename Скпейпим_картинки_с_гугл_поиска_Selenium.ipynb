{
  "nbformat": 4,
  "nbformat_minor": 0,
  "metadata": {
    "kernelspec": {
      "display_name": "Python 3",
      "language": "python",
      "name": "python3"
    },
    "language_info": {
      "codemirror_mode": {
        "name": "ipython",
        "version": 3
      },
      "file_extension": ".py",
      "mimetype": "text/x-python",
      "name": "python",
      "nbconvert_exporter": "python",
      "pygments_lexer": "ipython3",
      "version": "3.7.3"
    },
    "colab": {
      "provenance": [],
      "collapsed_sections": [],
      "include_colab_link": true
    }
  },
  "cells": [
    {
      "cell_type": "markdown",
      "metadata": {
        "id": "view-in-github",
        "colab_type": "text"
      },
      "source": [
        "<a href=\"https://colab.research.google.com/github/kclassie/ML_sundries/blob/main/%D0%A1%D0%BA%D0%BF%D0%B5%D0%B9%D0%BF%D0%B8%D0%BC_%D0%BA%D0%B0%D1%80%D1%82%D0%B8%D0%BD%D0%BA%D0%B8_%D1%81_%D0%B3%D1%83%D0%B3%D0%BB_%D0%BF%D0%BE%D0%B8%D1%81%D0%BA%D0%B0_Selenium.ipynb\" target=\"_parent\"><img src=\"https://colab.research.google.com/assets/colab-badge.svg\" alt=\"Open In Colab\"/></a>"
      ]
    },
    {
      "cell_type": "code",
      "metadata": {
        "id": "hO2YfH3v_-F6",
        "colab": {
          "base_uri": "https://localhost:8080/"
        },
        "outputId": "07863d90-6270-4508-8e63-bd63caa05a5a"
      },
      "source": [
        "! pip install selenium\n",
        "from selenium import webdriver\n",
        "from selenium.webdriver.common.by import By\n",
        "from selenium.webdriver.common.keys import Keys\n",
        "from selenium.webdriver.support.ui import WebDriverWait\n",
        "from selenium.webdriver.support.expected_conditions import presence_of_element_located\n",
        "from PIL import Image\n",
        "import time\n",
        "import os\n",
        "import requests\n",
        "import _io as io\n",
        "import hashlib"
      ],
      "execution_count": null,
      "outputs": [
        {
          "output_type": "stream",
          "text": [
            "Collecting selenium\n",
            "  Downloading selenium-3.141.0-py2.py3-none-any.whl (904 kB)\n",
            "\u001b[?25l\r\u001b[K     |▍                               | 10 kB 24.6 MB/s eta 0:00:01\r\u001b[K     |▊                               | 20 kB 25.5 MB/s eta 0:00:01\r\u001b[K     |█                               | 30 kB 28.8 MB/s eta 0:00:01\r\u001b[K     |█▌                              | 40 kB 31.4 MB/s eta 0:00:01\r\u001b[K     |█▉                              | 51 kB 33.4 MB/s eta 0:00:01\r\u001b[K     |██▏                             | 61 kB 35.1 MB/s eta 0:00:01\r\u001b[K     |██▌                             | 71 kB 35.6 MB/s eta 0:00:01\r\u001b[K     |███                             | 81 kB 37.0 MB/s eta 0:00:01\r\u001b[K     |███▎                            | 92 kB 39.2 MB/s eta 0:00:01\r\u001b[K     |███▋                            | 102 kB 35.3 MB/s eta 0:00:01\r\u001b[K     |████                            | 112 kB 35.3 MB/s eta 0:00:01\r\u001b[K     |████▍                           | 122 kB 35.3 MB/s eta 0:00:01\r\u001b[K     |████▊                           | 133 kB 35.3 MB/s eta 0:00:01\r\u001b[K     |█████                           | 143 kB 35.3 MB/s eta 0:00:01\r\u001b[K     |█████▍                          | 153 kB 35.3 MB/s eta 0:00:01\r\u001b[K     |█████▉                          | 163 kB 35.3 MB/s eta 0:00:01\r\u001b[K     |██████▏                         | 174 kB 35.3 MB/s eta 0:00:01\r\u001b[K     |██████▌                         | 184 kB 35.3 MB/s eta 0:00:01\r\u001b[K     |██████▉                         | 194 kB 35.3 MB/s eta 0:00:01\r\u001b[K     |███████▎                        | 204 kB 35.3 MB/s eta 0:00:01\r\u001b[K     |███████▋                        | 215 kB 35.3 MB/s eta 0:00:01\r\u001b[K     |████████                        | 225 kB 35.3 MB/s eta 0:00:01\r\u001b[K     |████████▎                       | 235 kB 35.3 MB/s eta 0:00:01\r\u001b[K     |████████▊                       | 245 kB 35.3 MB/s eta 0:00:01\r\u001b[K     |█████████                       | 256 kB 35.3 MB/s eta 0:00:01\r\u001b[K     |█████████▍                      | 266 kB 35.3 MB/s eta 0:00:01\r\u001b[K     |█████████▉                      | 276 kB 35.3 MB/s eta 0:00:01\r\u001b[K     |██████████▏                     | 286 kB 35.3 MB/s eta 0:00:01\r\u001b[K     |██████████▌                     | 296 kB 35.3 MB/s eta 0:00:01\r\u001b[K     |██████████▉                     | 307 kB 35.3 MB/s eta 0:00:01\r\u001b[K     |███████████▎                    | 317 kB 35.3 MB/s eta 0:00:01\r\u001b[K     |███████████▋                    | 327 kB 35.3 MB/s eta 0:00:01\r\u001b[K     |████████████                    | 337 kB 35.3 MB/s eta 0:00:01\r\u001b[K     |████████████▎                   | 348 kB 35.3 MB/s eta 0:00:01\r\u001b[K     |████████████▊                   | 358 kB 35.3 MB/s eta 0:00:01\r\u001b[K     |█████████████                   | 368 kB 35.3 MB/s eta 0:00:01\r\u001b[K     |█████████████▍                  | 378 kB 35.3 MB/s eta 0:00:01\r\u001b[K     |█████████████▊                  | 389 kB 35.3 MB/s eta 0:00:01\r\u001b[K     |██████████████▏                 | 399 kB 35.3 MB/s eta 0:00:01\r\u001b[K     |██████████████▌                 | 409 kB 35.3 MB/s eta 0:00:01\r\u001b[K     |██████████████▉                 | 419 kB 35.3 MB/s eta 0:00:01\r\u001b[K     |███████████████▏                | 430 kB 35.3 MB/s eta 0:00:01\r\u001b[K     |███████████████▋                | 440 kB 35.3 MB/s eta 0:00:01\r\u001b[K     |████████████████                | 450 kB 35.3 MB/s eta 0:00:01\r\u001b[K     |████████████████▎               | 460 kB 35.3 MB/s eta 0:00:01\r\u001b[K     |████████████████▋               | 471 kB 35.3 MB/s eta 0:00:01\r\u001b[K     |█████████████████               | 481 kB 35.3 MB/s eta 0:00:01\r\u001b[K     |█████████████████▍              | 491 kB 35.3 MB/s eta 0:00:01\r\u001b[K     |█████████████████▊              | 501 kB 35.3 MB/s eta 0:00:01\r\u001b[K     |██████████████████▏             | 512 kB 35.3 MB/s eta 0:00:01\r\u001b[K     |██████████████████▌             | 522 kB 35.3 MB/s eta 0:00:01\r\u001b[K     |██████████████████▉             | 532 kB 35.3 MB/s eta 0:00:01\r\u001b[K     |███████████████████▏            | 542 kB 35.3 MB/s eta 0:00:01\r\u001b[K     |███████████████████▋            | 552 kB 35.3 MB/s eta 0:00:01\r\u001b[K     |████████████████████            | 563 kB 35.3 MB/s eta 0:00:01\r\u001b[K     |████████████████████▎           | 573 kB 35.3 MB/s eta 0:00:01\r\u001b[K     |████████████████████▋           | 583 kB 35.3 MB/s eta 0:00:01\r\u001b[K     |█████████████████████           | 593 kB 35.3 MB/s eta 0:00:01\r\u001b[K     |█████████████████████▍          | 604 kB 35.3 MB/s eta 0:00:01\r\u001b[K     |█████████████████████▊          | 614 kB 35.3 MB/s eta 0:00:01\r\u001b[K     |██████████████████████          | 624 kB 35.3 MB/s eta 0:00:01\r\u001b[K     |██████████████████████▌         | 634 kB 35.3 MB/s eta 0:00:01\r\u001b[K     |██████████████████████▉         | 645 kB 35.3 MB/s eta 0:00:01\r\u001b[K     |███████████████████████▏        | 655 kB 35.3 MB/s eta 0:00:01\r\u001b[K     |███████████████████████▌        | 665 kB 35.3 MB/s eta 0:00:01\r\u001b[K     |████████████████████████        | 675 kB 35.3 MB/s eta 0:00:01\r\u001b[K     |████████████████████████▎       | 686 kB 35.3 MB/s eta 0:00:01\r\u001b[K     |████████████████████████▋       | 696 kB 35.3 MB/s eta 0:00:01\r\u001b[K     |█████████████████████████       | 706 kB 35.3 MB/s eta 0:00:01\r\u001b[K     |█████████████████████████▍      | 716 kB 35.3 MB/s eta 0:00:01\r\u001b[K     |█████████████████████████▊      | 727 kB 35.3 MB/s eta 0:00:01\r\u001b[K     |██████████████████████████      | 737 kB 35.3 MB/s eta 0:00:01\r\u001b[K     |██████████████████████████▍     | 747 kB 35.3 MB/s eta 0:00:01\r\u001b[K     |██████████████████████████▉     | 757 kB 35.3 MB/s eta 0:00:01\r\u001b[K     |███████████████████████████▏    | 768 kB 35.3 MB/s eta 0:00:01\r\u001b[K     |███████████████████████████▌    | 778 kB 35.3 MB/s eta 0:00:01\r\u001b[K     |████████████████████████████    | 788 kB 35.3 MB/s eta 0:00:01\r\u001b[K     |████████████████████████████▎   | 798 kB 35.3 MB/s eta 0:00:01\r\u001b[K     |████████████████████████████▋   | 808 kB 35.3 MB/s eta 0:00:01\r\u001b[K     |█████████████████████████████   | 819 kB 35.3 MB/s eta 0:00:01\r\u001b[K     |█████████████████████████████▍  | 829 kB 35.3 MB/s eta 0:00:01\r\u001b[K     |█████████████████████████████▊  | 839 kB 35.3 MB/s eta 0:00:01\r\u001b[K     |██████████████████████████████  | 849 kB 35.3 MB/s eta 0:00:01\r\u001b[K     |██████████████████████████████▍ | 860 kB 35.3 MB/s eta 0:00:01\r\u001b[K     |██████████████████████████████▉ | 870 kB 35.3 MB/s eta 0:00:01\r\u001b[K     |███████████████████████████████▏| 880 kB 35.3 MB/s eta 0:00:01\r\u001b[K     |███████████████████████████████▌| 890 kB 35.3 MB/s eta 0:00:01\r\u001b[K     |███████████████████████████████▉| 901 kB 35.3 MB/s eta 0:00:01\r\u001b[K     |████████████████████████████████| 904 kB 35.3 MB/s \n",
            "\u001b[?25hRequirement already satisfied: urllib3 in /usr/local/lib/python3.7/dist-packages (from selenium) (1.24.3)\n",
            "Installing collected packages: selenium\n",
            "Successfully installed selenium-3.141.0\n"
          ],
          "name": "stdout"
        }
      ]
    },
    {
      "cell_type": "code",
      "metadata": {
        "id": "EzmHeQl2_-GE"
      },
      "source": [
        "#page_link = 'https://google.com'\n",
        "#wd = webdriver.Chrome(executable_path=r'C:\\Program Files (x86)\\Google\\Chrome\\Application\\chromedriver.exe')\n",
        "#wd.get(page_link)"
      ],
      "execution_count": null,
      "outputs": []
    },
    {
      "cell_type": "code",
      "metadata": {
        "id": "jujL85GI_-GM"
      },
      "source": [
        "def fetch_image_urls(query:str, max_links_to_fetch:int, wd:webdriver, sleep_between_interactions:int=1):\n",
        "    def scroll_to_end(wd):\n",
        "        wd.execute_script(\"window.scrollTo(0, document.body.scrollHeight);\")\n",
        "        time.sleep(sleep_between_interactions)    \n",
        "    \n",
        "    # build the google query\n",
        "    search_url = \"https://www.google.com/search?safe=off&site=&tbm=isch&source=hp&q={q}&oq={q}&gs_l=img\"\n",
        "\n",
        "    # load the page\n",
        "    wd.get(search_url.format(q=query))\n",
        "\n",
        "    image_urls = set()\n",
        "    image_count = 0\n",
        "    results_start = 0\n",
        "    while image_count < max_links_to_fetch:\n",
        "        scroll_to_end(wd)\n",
        "\n",
        "        # get all image thumbnail results\n",
        "        thumbnail_results = wd.find_elements_by_css_selector(\"img.rg_ic\")\n",
        "        number_results = len(thumbnail_results)\n",
        "        \n",
        "        print(f\"Found: {number_results} search results. Extracting links from {results_start}:{number_results}\")\n",
        "        \n",
        "        for img in thumbnail_results[results_start:number_results]:\n",
        "            # try to click every thumbnail such that we can get the real image behind it\n",
        "            try:\n",
        "                img.click()\n",
        "                time.sleep(sleep_between_interactions)\n",
        "            except Exception:\n",
        "                continue\n",
        "\n",
        "            # extract image urls    \n",
        "            actual_images = wd.find_elements_by_css_selector('img.irc_mi')\n",
        "            for actual_image in actual_images:\n",
        "                if actual_image.get_attribute('src'):\n",
        "                    image_urls.add(actual_image.get_attribute('src'))\n",
        "\n",
        "            image_count = len(image_urls)\n",
        "\n",
        "            if len(image_urls) >= max_links_to_fetch:\n",
        "                print(f\"Found: {len(image_urls)} image links, done!\")\n",
        "                break\n",
        "        else:\n",
        "            print(\"Found:\", len(image_urls), \"image links, looking for more ...\")\n",
        "            time.sleep(1)\n",
        "            load_more_button = wd.find_element_by_css_selector(\".ksb\")\n",
        "            if load_more_button:\n",
        "                wd.execute_script(\"document.querySelector('.ksb').click();\")\n",
        "\n",
        "        # move the result startpoint further down\n",
        "        results_start = len(thumbnail_results)\n",
        "\n",
        "    return image_urls"
      ],
      "execution_count": null,
      "outputs": []
    },
    {
      "cell_type": "code",
      "metadata": {
        "id": "j6lmngb7_-GQ"
      },
      "source": [
        "def persist_image(folder_path:str,url:str):\n",
        "    try:\n",
        "        image_content = requests.get(url).content\n",
        "\n",
        "    except Exception as e:\n",
        "        print(f\"ERROR - Could not download {url} - {e}\")\n",
        "\n",
        "    try:\n",
        "        image_file = io.BytesIO(image_content)\n",
        "        image = Image.open(image_file).convert('RGB')\n",
        "        #resized_img = image.resize((100, 100), Image.LANCZOS)\n",
        "        file_path = os.path.join(folder_path,hashlib.sha1(image_content).hexdigest()[:10] + '.jpg')\n",
        "        with open(file_path, 'wb') as f:\n",
        "            image.save(f, \"JPEG\", quality=85)\n",
        "        print(f\"SUCCESS - saved {url} - as {file_path}\")\n",
        "    except Exception as e:\n",
        "        print(f\"ERROR - Could not save {url} - {e}\")"
      ],
      "execution_count": null,
      "outputs": []
    },
    {
      "cell_type": "code",
      "metadata": {
        "id": "bjNyR3Nd_-GU"
      },
      "source": [
        "def search_and_download(search_term:str,driver_path='C:\\Program Files (x86)\\Google\\Chrome\\Application\\chromedriver.exe',target_path='./images',number_images=250):\n",
        "    target_folder = os.path.join(target_path,'_'.join(search_term.lower().split(' ')))\n",
        "\n",
        "    if not os.path.exists(target_folder):\n",
        "        os.makedirs(target_folder)\n",
        "\n",
        "    with webdriver.Chrome(executable_path=driver_path) as wd:\n",
        "        res = fetch_image_urls(search_term, number_images, wd=wd, sleep_between_interactions=0.5)\n",
        "        \n",
        "    for elem in res:\n",
        "        persist_image(target_folder,elem)"
      ],
      "execution_count": null,
      "outputs": []
    },
    {
      "cell_type": "code",
      "metadata": {
        "id": "pjPkHJiY_-Ga"
      },
      "source": [
        "from selenium import webdriver\n",
        "\n",
        "chrome_options = webdriver.ChromeOptions()\n",
        "prefs = {\"profile.managed_default_content_settings.images\": 2,\\\n",
        "            'profile.managed_default_content_settings.javascript': 2}\n",
        "chrome_options.add_experimental_option(\"prefs\", prefs)\n",
        "driver = webdriver.Chrome(chrome_options=chrome_options)\n",
        "driver.get(\"https://toster.ru/q/592318\")\n",
        "\n",
        "guys = ['Павел Дуров', 'Марк Цукерберг', 'Илон Маск']\n",
        "for i in guys:\n",
        "    search_and_download(search_term = i)\n"
      ],
      "execution_count": null,
      "outputs": []
    },
    {
      "cell_type": "code",
      "metadata": {
        "id": "0mura2O4_-Gh"
      },
      "source": [],
      "execution_count": null,
      "outputs": []
    }
  ]
}