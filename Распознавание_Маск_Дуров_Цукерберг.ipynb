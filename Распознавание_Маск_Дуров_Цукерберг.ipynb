{
  "nbformat": 4,
  "nbformat_minor": 0,
  "metadata": {
    "kernelspec": {
      "name": "python3",
      "display_name": "Python 3"
    },
    "language_info": {
      "codemirror_mode": {
        "name": "ipython",
        "version": 3
      },
      "file_extension": ".py",
      "mimetype": "text/x-python",
      "name": "python",
      "nbconvert_exporter": "python",
      "pygments_lexer": "ipython3",
      "version": "3.7.2"
    },
    "colab": {
      "provenance": [],
      "collapsed_sections": [],
      "include_colab_link": true
    },
    "accelerator": "GPU"
  },
  "cells": [
    {
      "cell_type": "markdown",
      "metadata": {
        "id": "view-in-github",
        "colab_type": "text"
      },
      "source": [
        "<a href=\"https://colab.research.google.com/github/kclassie/ML_sundries/blob/main/%D0%A0%D0%B0%D1%81%D0%BF%D0%BE%D0%B7%D0%BD%D0%B0%D0%B2%D0%B0%D0%BD%D0%B8%D0%B5_%D0%9C%D0%B0%D1%81%D0%BA_%D0%94%D1%83%D1%80%D0%BE%D0%B2_%D0%A6%D1%83%D0%BA%D0%B5%D1%80%D0%B1%D0%B5%D1%80%D0%B3.ipynb\" target=\"_parent\"><img src=\"https://colab.research.google.com/assets/colab-badge.svg\" alt=\"Open In Colab\"/></a>"
      ]
    },
    {
      "cell_type": "markdown",
      "metadata": {
        "id": "I97F8IQdSyhq"
      },
      "source": [
        "# Домашнее задание №4\n",
        "\n",
        "Это творческое домашнее задание, в нем не будет ноутбука с инструкцией по выполнению. Ваша задача - обучить одну из встроенных в библиотеки keras или pytorch архитектуру (см. https://keras.io/applications/ и https://pytorch.org/docs/master/torchvision/models ). Вы будете обучать нейронную сеть на тех же данных, которые мы использовали на семинаре. Для обучения используйте Google Colab, как загружать данные на Google Colab см. https://www.youtube.com/watch?v=Ve5oW1qqbZg&t=155s.\n",
        "\n",
        "This is a creative homework, it will not have a notebook with instructions. Your task is to train one of the keras or pytorch  built-in architecture (see https://keras.io/applications/ and https://pytorch.org/docs/master/torchvision/models ). You will train the neural network on the same data that we used at the seminar. Use Google Colab for training. See instructions how to upload data to Google Colab here: https://www.youtube.com/watch?v=Ve5oW1qqbZg&t=155s."
      ]
    },
    {
      "cell_type": "markdown",
      "metadata": {
        "id": "bgtAzheMSyhv"
      },
      "source": [
        "**Обратите внимание**:\n",
        "- Вы можете использовать любой другой набор данных для решения задачи классификации (например, вы можете обучить сеть отличать ваших друзей, лишь бы у вас хватило их фотографий). Если вы решите использовать свой набор данных, расскажите, откуда вы его взяли.\n",
        "- Вы должны не просто обучить сеть, а получить хорошее (определите сами, что это значит) качество на тесте, а следовательно, вам необходимо построить графики точности и функции потерь, а так же посчитать метрики precision и recall.\n",
        "- Вы можете получить дополнительные баллы (до 5 дополнительных баллов), если возьмете свой набор данных, или реализуете сеть на pytorch, или обучите и сравните несколько архитектур.\n",
        "\n",
        "**Note**:\n",
        "- You can use any other dataset to solve the classification problem (for example, you can train the network to distinguish your friends, if only you have enough of their photos). If you decide to use your dataset, write down where you got it from.\n",
        "- You should not just train the network, but get acceptable (determine for yourself what it means) quality on the test, and therefore, you need to visualize accuracy and loss functions dynamics, and calculate precision and recall metrics.\n",
        "- You can ger some extra points (up to 5 points) for doing one of the following: take your own dataset (not the one we've already used), make you neural network using pytorch, or train and compare several architectures. "
      ]
    },
    {
      "cell_type": "markdown",
      "metadata": {
        "id": "LrLCKRCh-Z5U"
      },
      "source": [
        "# **Эта домашка длилась три ночи и один день...**\n",
        "1. Я решила сделать свой датасет. Написала для этого парсер гугл картинок. Сначала хотела тренироваться на топ-5 губернаторов. Но что-то с ними пошло не так. Тогда я решила взять кого-то поярче и скачала по 195 фото Павла Дурова, Илона Маска и Марка Цукерберга. Вручную вырезала их лица, чтобы сети было проще учиться)\n",
        "**Парсер находится здесь:** [ссылка](https://colab.research.google.com/drive/1S7ACGCIFz6-C_dPGzdkJdCMTOtIHqE_3)\n",
        "\n",
        "**Датасеты:**\n",
        "\n",
        "фактический размер: [ссылка](https://drive.google.com/open?id=1ifsYNVmJ7JF3epS1LZsqxnfgcZnrVtL5)\n",
        "\n",
        "размер 100х100: [ссылка](https://drive.google.com/open?id=1mGClsm33tVV1zmoKQCmLXSx2rGYeEgWL)\n",
        "\n",
        "2. Нашла пример работы с моделью **mobilenet**. Опробовала датасет на ней. Результат получился не очень(\n",
        "\n",
        "3. Опробовала датасет на **DenseNet**. Меня параметры, количество эпох, батчей... Применяла пуллинг и разные оптимизаторы. Меняла размер тестового и тренинг-датасетов... Ничего не помогло. Скорее всего, виноват датасет. Модель никого не узнает."
      ]
    },
    {
      "cell_type": "code",
      "metadata": {
        "id": "yULGSu4qSyhx"
      },
      "source": [
        "### ╰( ͡° ͜ʖ ͡° )つ──☆*:・ﾟ\n",
        "# For progress visualization when training the model\n",
        "! pip install keras_tqdm\n",
        "# Required for keras_tqdm\n",
        "! pip install ipywidgets"
      ],
      "execution_count": null,
      "outputs": []
    },
    {
      "cell_type": "code",
      "metadata": {
        "id": "L3xzzSBGB_8B"
      },
      "source": [
        "import tensorflow as tf\n",
        "import PIL\n",
        "%tensorflow_version 1.x"
      ],
      "execution_count": null,
      "outputs": []
    },
    {
      "cell_type": "code",
      "metadata": {
        "id": "B24jbd-2CGzh"
      },
      "source": [
        "import numpy as np\n",
        "def load_image(img_file, target_size=(224,224)):\n",
        "    X = np.zeros((1, *target_size, 3))\n",
        "    X[0, ] = np.asarray(tf.keras.preprocessing.image.load_img(\n",
        "        img_file, \n",
        "        target_size=target_size)\n",
        "    )\n",
        "    X = tf.keras.applications.mobilenet.preprocess_input(X)\n",
        "    return X\n",
        "\n",
        "import os\n",
        "def ensure_folder_exists(folder):\n",
        "    if not os.path.exists(folder):\n",
        "        os.makedirs(folder)"
      ],
      "execution_count": null,
      "outputs": []
    },
    {
      "cell_type": "code",
      "metadata": {
        "id": "x0bRCFcHB0a_",
        "outputId": "b8e2765c-eade-4b48-d4b2-3315c734790f",
        "colab": {
          "base_uri": "https://localhost:8080/",
          "height": 34
        }
      },
      "source": [
        "from google.colab import drive\n",
        "drive.mount('/content/gdrive', force_remount = True)"
      ],
      "execution_count": null,
      "outputs": [
        {
          "output_type": "stream",
          "text": [
            "Mounted at /content/gdrive\n"
          ],
          "name": "stdout"
        }
      ]
    },
    {
      "cell_type": "code",
      "metadata": {
        "id": "kqC3jjPOCXwN"
      },
      "source": [
        "durov_image_id = os.listdir('/content/gdrive/My Drive/guys/durov')[0]\n",
        "durov_image = load_image(os.path.join('/content/gdrive/My Drive/guys/durov',durov_image_id))\n",
        "print(f'shape: {durov_image.shape}')\n",
        "print(f'type: {type(durov_image)}')\n",
        "model.predict(durov_image)"
      ],
      "execution_count": null,
      "outputs": []
    },
    {
      "cell_type": "code",
      "metadata": {
        "id": "xCBepnazFAWT"
      },
      "source": [
        "from tensorflow.keras.models import Model\n",
        "from tensorflow.keras.layers import (Dropout, Dense, Softmax)\n",
        "x = Dropout(rate=0.4)(model.output)\n",
        "x = Dense(3)(x)\n",
        "x = Softmax()(x)\n",
        "model= Model(model.inputs, x)"
      ],
      "execution_count": null,
      "outputs": []
    },
    {
      "cell_type": "code",
      "metadata": {
        "id": "AumxvxqfFEK5",
        "outputId": "f63bd93f-839f-4da7-f111-ad6c1d2ec4fa",
        "colab": {
          "base_uri": "https://localhost:8080/",
          "height": 1000
        }
      },
      "source": [
        "model.summary()"
      ],
      "execution_count": null,
      "outputs": [
        {
          "output_type": "stream",
          "text": [
            "Model: \"model_2\"\n",
            "_________________________________________________________________\n",
            "Layer (type)                 Output Shape              Param #   \n",
            "=================================================================\n",
            "input_4 (InputLayer)         [(None, 224, 224, 3)]     0         \n",
            "_________________________________________________________________\n",
            "conv1_pad (ZeroPadding2D)    (None, 225, 225, 3)       0         \n",
            "_________________________________________________________________\n",
            "conv1 (Conv2D)               (None, 112, 112, 32)      864       \n",
            "_________________________________________________________________\n",
            "conv1_bn (BatchNormalization (None, 112, 112, 32)      128       \n",
            "_________________________________________________________________\n",
            "conv1_relu (ReLU)            (None, 112, 112, 32)      0         \n",
            "_________________________________________________________________\n",
            "conv_dw_1 (DepthwiseConv2D)  (None, 112, 112, 32)      288       \n",
            "_________________________________________________________________\n",
            "conv_dw_1_bn (BatchNormaliza (None, 112, 112, 32)      128       \n",
            "_________________________________________________________________\n",
            "conv_dw_1_relu (ReLU)        (None, 112, 112, 32)      0         \n",
            "_________________________________________________________________\n",
            "conv_pw_1 (Conv2D)           (None, 112, 112, 64)      2048      \n",
            "_________________________________________________________________\n",
            "conv_pw_1_bn (BatchNormaliza (None, 112, 112, 64)      256       \n",
            "_________________________________________________________________\n",
            "conv_pw_1_relu (ReLU)        (None, 112, 112, 64)      0         \n",
            "_________________________________________________________________\n",
            "conv_pad_2 (ZeroPadding2D)   (None, 113, 113, 64)      0         \n",
            "_________________________________________________________________\n",
            "conv_dw_2 (DepthwiseConv2D)  (None, 56, 56, 64)        576       \n",
            "_________________________________________________________________\n",
            "conv_dw_2_bn (BatchNormaliza (None, 56, 56, 64)        256       \n",
            "_________________________________________________________________\n",
            "conv_dw_2_relu (ReLU)        (None, 56, 56, 64)        0         \n",
            "_________________________________________________________________\n",
            "conv_pw_2 (Conv2D)           (None, 56, 56, 128)       8192      \n",
            "_________________________________________________________________\n",
            "conv_pw_2_bn (BatchNormaliza (None, 56, 56, 128)       512       \n",
            "_________________________________________________________________\n",
            "conv_pw_2_relu (ReLU)        (None, 56, 56, 128)       0         \n",
            "_________________________________________________________________\n",
            "conv_dw_3 (DepthwiseConv2D)  (None, 56, 56, 128)       1152      \n",
            "_________________________________________________________________\n",
            "conv_dw_3_bn (BatchNormaliza (None, 56, 56, 128)       512       \n",
            "_________________________________________________________________\n",
            "conv_dw_3_relu (ReLU)        (None, 56, 56, 128)       0         \n",
            "_________________________________________________________________\n",
            "conv_pw_3 (Conv2D)           (None, 56, 56, 128)       16384     \n",
            "_________________________________________________________________\n",
            "conv_pw_3_bn (BatchNormaliza (None, 56, 56, 128)       512       \n",
            "_________________________________________________________________\n",
            "conv_pw_3_relu (ReLU)        (None, 56, 56, 128)       0         \n",
            "_________________________________________________________________\n",
            "conv_pad_4 (ZeroPadding2D)   (None, 57, 57, 128)       0         \n",
            "_________________________________________________________________\n",
            "conv_dw_4 (DepthwiseConv2D)  (None, 28, 28, 128)       1152      \n",
            "_________________________________________________________________\n",
            "conv_dw_4_bn (BatchNormaliza (None, 28, 28, 128)       512       \n",
            "_________________________________________________________________\n",
            "conv_dw_4_relu (ReLU)        (None, 28, 28, 128)       0         \n",
            "_________________________________________________________________\n",
            "conv_pw_4 (Conv2D)           (None, 28, 28, 256)       32768     \n",
            "_________________________________________________________________\n",
            "conv_pw_4_bn (BatchNormaliza (None, 28, 28, 256)       1024      \n",
            "_________________________________________________________________\n",
            "conv_pw_4_relu (ReLU)        (None, 28, 28, 256)       0         \n",
            "_________________________________________________________________\n",
            "conv_dw_5 (DepthwiseConv2D)  (None, 28, 28, 256)       2304      \n",
            "_________________________________________________________________\n",
            "conv_dw_5_bn (BatchNormaliza (None, 28, 28, 256)       1024      \n",
            "_________________________________________________________________\n",
            "conv_dw_5_relu (ReLU)        (None, 28, 28, 256)       0         \n",
            "_________________________________________________________________\n",
            "conv_pw_5 (Conv2D)           (None, 28, 28, 256)       65536     \n",
            "_________________________________________________________________\n",
            "conv_pw_5_bn (BatchNormaliza (None, 28, 28, 256)       1024      \n",
            "_________________________________________________________________\n",
            "conv_pw_5_relu (ReLU)        (None, 28, 28, 256)       0         \n",
            "_________________________________________________________________\n",
            "conv_pad_6 (ZeroPadding2D)   (None, 29, 29, 256)       0         \n",
            "_________________________________________________________________\n",
            "conv_dw_6 (DepthwiseConv2D)  (None, 14, 14, 256)       2304      \n",
            "_________________________________________________________________\n",
            "conv_dw_6_bn (BatchNormaliza (None, 14, 14, 256)       1024      \n",
            "_________________________________________________________________\n",
            "conv_dw_6_relu (ReLU)        (None, 14, 14, 256)       0         \n",
            "_________________________________________________________________\n",
            "conv_pw_6 (Conv2D)           (None, 14, 14, 512)       131072    \n",
            "_________________________________________________________________\n",
            "conv_pw_6_bn (BatchNormaliza (None, 14, 14, 512)       2048      \n",
            "_________________________________________________________________\n",
            "conv_pw_6_relu (ReLU)        (None, 14, 14, 512)       0         \n",
            "_________________________________________________________________\n",
            "conv_dw_7 (DepthwiseConv2D)  (None, 14, 14, 512)       4608      \n",
            "_________________________________________________________________\n",
            "conv_dw_7_bn (BatchNormaliza (None, 14, 14, 512)       2048      \n",
            "_________________________________________________________________\n",
            "conv_dw_7_relu (ReLU)        (None, 14, 14, 512)       0         \n",
            "_________________________________________________________________\n",
            "conv_pw_7 (Conv2D)           (None, 14, 14, 512)       262144    \n",
            "_________________________________________________________________\n",
            "conv_pw_7_bn (BatchNormaliza (None, 14, 14, 512)       2048      \n",
            "_________________________________________________________________\n",
            "conv_pw_7_relu (ReLU)        (None, 14, 14, 512)       0         \n",
            "_________________________________________________________________\n",
            "conv_dw_8 (DepthwiseConv2D)  (None, 14, 14, 512)       4608      \n",
            "_________________________________________________________________\n",
            "conv_dw_8_bn (BatchNormaliza (None, 14, 14, 512)       2048      \n",
            "_________________________________________________________________\n",
            "conv_dw_8_relu (ReLU)        (None, 14, 14, 512)       0         \n",
            "_________________________________________________________________\n",
            "conv_pw_8 (Conv2D)           (None, 14, 14, 512)       262144    \n",
            "_________________________________________________________________\n",
            "conv_pw_8_bn (BatchNormaliza (None, 14, 14, 512)       2048      \n",
            "_________________________________________________________________\n",
            "conv_pw_8_relu (ReLU)        (None, 14, 14, 512)       0         \n",
            "_________________________________________________________________\n",
            "conv_dw_9 (DepthwiseConv2D)  (None, 14, 14, 512)       4608      \n",
            "_________________________________________________________________\n",
            "conv_dw_9_bn (BatchNormaliza (None, 14, 14, 512)       2048      \n",
            "_________________________________________________________________\n",
            "conv_dw_9_relu (ReLU)        (None, 14, 14, 512)       0         \n",
            "_________________________________________________________________\n",
            "conv_pw_9 (Conv2D)           (None, 14, 14, 512)       262144    \n",
            "_________________________________________________________________\n",
            "conv_pw_9_bn (BatchNormaliza (None, 14, 14, 512)       2048      \n",
            "_________________________________________________________________\n",
            "conv_pw_9_relu (ReLU)        (None, 14, 14, 512)       0         \n",
            "_________________________________________________________________\n",
            "conv_dw_10 (DepthwiseConv2D) (None, 14, 14, 512)       4608      \n",
            "_________________________________________________________________\n",
            "conv_dw_10_bn (BatchNormaliz (None, 14, 14, 512)       2048      \n",
            "_________________________________________________________________\n",
            "conv_dw_10_relu (ReLU)       (None, 14, 14, 512)       0         \n",
            "_________________________________________________________________\n",
            "conv_pw_10 (Conv2D)          (None, 14, 14, 512)       262144    \n",
            "_________________________________________________________________\n",
            "conv_pw_10_bn (BatchNormaliz (None, 14, 14, 512)       2048      \n",
            "_________________________________________________________________\n",
            "conv_pw_10_relu (ReLU)       (None, 14, 14, 512)       0         \n",
            "_________________________________________________________________\n",
            "conv_dw_11 (DepthwiseConv2D) (None, 14, 14, 512)       4608      \n",
            "_________________________________________________________________\n",
            "conv_dw_11_bn (BatchNormaliz (None, 14, 14, 512)       2048      \n",
            "_________________________________________________________________\n",
            "conv_dw_11_relu (ReLU)       (None, 14, 14, 512)       0         \n",
            "_________________________________________________________________\n",
            "conv_pw_11 (Conv2D)          (None, 14, 14, 512)       262144    \n",
            "_________________________________________________________________\n",
            "conv_pw_11_bn (BatchNormaliz (None, 14, 14, 512)       2048      \n",
            "_________________________________________________________________\n",
            "conv_pw_11_relu (ReLU)       (None, 14, 14, 512)       0         \n",
            "_________________________________________________________________\n",
            "conv_pad_12 (ZeroPadding2D)  (None, 15, 15, 512)       0         \n",
            "_________________________________________________________________\n",
            "conv_dw_12 (DepthwiseConv2D) (None, 7, 7, 512)         4608      \n",
            "_________________________________________________________________\n",
            "conv_dw_12_bn (BatchNormaliz (None, 7, 7, 512)         2048      \n",
            "_________________________________________________________________\n",
            "conv_dw_12_relu (ReLU)       (None, 7, 7, 512)         0         \n",
            "_________________________________________________________________\n",
            "conv_pw_12 (Conv2D)          (None, 7, 7, 1024)        524288    \n",
            "_________________________________________________________________\n",
            "conv_pw_12_bn (BatchNormaliz (None, 7, 7, 1024)        4096      \n",
            "_________________________________________________________________\n",
            "conv_pw_12_relu (ReLU)       (None, 7, 7, 1024)        0         \n",
            "_________________________________________________________________\n",
            "conv_dw_13 (DepthwiseConv2D) (None, 7, 7, 1024)        9216      \n",
            "_________________________________________________________________\n",
            "conv_dw_13_bn (BatchNormaliz (None, 7, 7, 1024)        4096      \n",
            "_________________________________________________________________\n",
            "conv_dw_13_relu (ReLU)       (None, 7, 7, 1024)        0         \n",
            "_________________________________________________________________\n",
            "conv_pw_13 (Conv2D)          (None, 7, 7, 1024)        1048576   \n",
            "_________________________________________________________________\n",
            "conv_pw_13_bn (BatchNormaliz (None, 7, 7, 1024)        4096      \n",
            "_________________________________________________________________\n",
            "conv_pw_13_relu (ReLU)       (None, 7, 7, 1024)        0         \n",
            "_________________________________________________________________\n",
            "global_average_pooling2d_3 ( (None, 1024)              0         \n",
            "_________________________________________________________________\n",
            "dropout_1 (Dropout)          (None, 1024)              0         \n",
            "_________________________________________________________________\n",
            "dense_1 (Dense)              (None, 3)                 3075      \n",
            "_________________________________________________________________\n",
            "softmax_1 (Softmax)          (None, 3)                 0         \n",
            "_________________________________________________________________\n",
            "dropout_2 (Dropout)          (None, 3)                 0         \n",
            "_________________________________________________________________\n",
            "dense_2 (Dense)              (None, 3)                 12        \n",
            "_________________________________________________________________\n",
            "softmax_2 (Softmax)          (None, 3)                 0         \n",
            "=================================================================\n",
            "Total params: 3,231,951\n",
            "Trainable params: 3,210,063\n",
            "Non-trainable params: 21,888\n",
            "_________________________________________________________________\n"
          ],
          "name": "stdout"
        }
      ]
    },
    {
      "cell_type": "code",
      "metadata": {
        "id": "iYcrhwdiFGZP"
      },
      "source": [
        "for layer in model.layers[:-3]:\n",
        "    layer.trainable = False"
      ],
      "execution_count": null,
      "outputs": []
    },
    {
      "cell_type": "code",
      "metadata": {
        "id": "e7GRUU6mFKc4"
      },
      "source": [
        "from tensorflow.keras.optimizers import Adam\n",
        "model.compile(\n",
        "    optimizer=Adam(lr=0.001),\n",
        "    loss='categorical_crossentropy',\n",
        "    metrics = ['acc']\n",
        ")"
      ],
      "execution_count": null,
      "outputs": []
    },
    {
      "cell_type": "code",
      "metadata": {
        "id": "kkrz3tBSFShy",
        "outputId": "e912e65b-84de-429c-a6d9-30ede6f3b759",
        "colab": {
          "base_uri": "https://localhost:8080/",
          "height": 50
        }
      },
      "source": [
        "import tensorflow as tf\n",
        "from keras.applications import mobilenet as _mobilenet\n",
        "from keras.preprocessing.image import ImageDataGenerator\n",
        "\n",
        "datagen = tf.keras.preprocessing.image.ImageDataGenerator(\n",
        "    preprocessing_function=_mobilenet.preprocess_input,\n",
        "    shear_range=0.2,\n",
        "    zoom_range=0.2,\n",
        "    horizontal_flip=True,\n",
        "    validation_split=0.1\n",
        ")\n",
        "\n",
        "ensure_folder_exists('training_aug')\n",
        "training = datagen.flow_from_directory( \n",
        "    '/content/gdrive/My Drive/guys', \n",
        "    target_size=(224, 224),\n",
        "    save_to_dir='./training_aug',\n",
        "    subset='training'\n",
        ") \n",
        "\n",
        "ensure_folder_exists('validation_aug')\n",
        "validation = datagen.flow_from_directory( \n",
        "    '/content/gdrive/My Drive/guys',\n",
        "    target_size=(224, 224),\n",
        "    save_to_dir='./validation_aug',\n",
        "    subset='validation'\n",
        ") "
      ],
      "execution_count": null,
      "outputs": [
        {
          "output_type": "stream",
          "text": [
            "Found 528 images belonging to 3 classes.\n",
            "Found 57 images belonging to 3 classes.\n"
          ],
          "name": "stdout"
        }
      ]
    },
    {
      "cell_type": "code",
      "metadata": {
        "id": "VbwXerxKKLSz",
        "outputId": "72206864-9d03-4cb6-fcc3-83356784ee72",
        "colab": {
          "base_uri": "https://localhost:8080/",
          "height": 185
        }
      },
      "source": [
        "! pip install keras-tqdm\n",
        "from keras_tqdm import TQDMNotebookCallback"
      ],
      "execution_count": null,
      "outputs": [
        {
          "output_type": "stream",
          "text": [
            "Requirement already satisfied: keras-tqdm in /usr/local/lib/python3.6/dist-packages (2.0.1)\n",
            "Requirement already satisfied: tqdm in /usr/local/lib/python3.6/dist-packages (from keras-tqdm) (4.28.1)\n",
            "Requirement already satisfied: Keras in /usr/local/lib/python3.6/dist-packages (from keras-tqdm) (2.2.5)\n",
            "Requirement already satisfied: pyyaml in /usr/local/lib/python3.6/dist-packages (from Keras->keras-tqdm) (3.13)\n",
            "Requirement already satisfied: six>=1.9.0 in /usr/local/lib/python3.6/dist-packages (from Keras->keras-tqdm) (1.12.0)\n",
            "Requirement already satisfied: keras-applications>=1.0.8 in /usr/local/lib/python3.6/dist-packages (from Keras->keras-tqdm) (1.0.8)\n",
            "Requirement already satisfied: scipy>=0.14 in /usr/local/lib/python3.6/dist-packages (from Keras->keras-tqdm) (1.3.2)\n",
            "Requirement already satisfied: keras-preprocessing>=1.1.0 in /usr/local/lib/python3.6/dist-packages (from Keras->keras-tqdm) (1.1.0)\n",
            "Requirement already satisfied: h5py in /usr/local/lib/python3.6/dist-packages (from Keras->keras-tqdm) (2.8.0)\n",
            "Requirement already satisfied: numpy>=1.9.1 in /usr/local/lib/python3.6/dist-packages (from Keras->keras-tqdm) (1.17.4)\n"
          ],
          "name": "stdout"
        }
      ]
    },
    {
      "cell_type": "code",
      "metadata": {
        "id": "U02FTLPWGc20",
        "outputId": "ae2ac037-742f-452c-a778-9926ccc6d6bb",
        "colab": {
          "base_uri": "https://localhost:8080/",
          "height": 538,
          "referenced_widgets": [
            "ed92a7d6068a404ebb0daad854c31074",
            "bcf62092a3494ffeb42391011baa3393",
            "a5c9e20f74c74ea4947f0a30b415e9b6",
            "9465ff89294943c691029301b36eed81",
            "552aa1980f1b4831a90e636065c81e3e",
            "4cb97d8428784909a56822d571215aa3",
            "5126ea7c978848d184a809b3d2698b55",
            "b1355d056fdb46c5af09334fb1534756",
            "1579720415094949b61bc47294179435",
            "41ea2b7126f74d1bb0214f785c247c73",
            "4283eb6acc7545a3a760db8b3691f703"
          ]
        }
      },
      "source": [
        "batch_size = 32\n",
        "\n",
        "history = model.fit_generator(\n",
        "    generator=training,\n",
        "    steps_per_epoch=training.samples // batch_size,\n",
        "    epochs=10,\n",
        "    callbacks=[TQDMNotebookCallback(leave_inner=True, leave_outer=True)],\n",
        "    validation_data=validation,\n",
        "    validation_steps=validation.samples // batch_size\n",
        ")"
      ],
      "execution_count": null,
      "outputs": [
        {
          "output_type": "display_data",
          "data": {
            "application/vnd.jupyter.widget-view+json": {
              "model_id": "ed92a7d6068a404ebb0daad854c31074",
              "version_minor": 0,
              "version_major": 2
            },
            "text/plain": [
              "HBox(children=(IntProgress(value=0, description='Training', max=10, style=ProgressStyle(description_width='ini…"
            ]
          },
          "metadata": {
            "tags": []
          }
        },
        {
          "output_type": "display_data",
          "data": {
            "application/vnd.jupyter.widget-view+json": {
              "model_id": "bcf62092a3494ffeb42391011baa3393",
              "version_minor": 0,
              "version_major": 2
            },
            "text/plain": [
              "HBox(children=(IntProgress(value=0, description='Epoch 0', max=16, style=ProgressStyle(description_width='init…"
            ]
          },
          "metadata": {
            "tags": []
          }
        },
        {
          "output_type": "stream",
          "text": [
            "Epoch 1/10\n",
            "15/16 [===========================>..] - ETA: 1s - loss: 1.1986 - acc: 0.3491Epoch 1/10\n",
            "16/16 [==============================] - 41s 3s/step - loss: 1.1978 - acc: 0.3569 - val_loss: 1.1145 - val_acc: 0.5000\n"
          ],
          "name": "stdout"
        },
        {
          "output_type": "display_data",
          "data": {
            "application/vnd.jupyter.widget-view+json": {
              "model_id": "a5c9e20f74c74ea4947f0a30b415e9b6",
              "version_minor": 0,
              "version_major": 2
            },
            "text/plain": [
              "HBox(children=(IntProgress(value=0, description='Epoch 1', max=16, style=ProgressStyle(description_width='init…"
            ]
          },
          "metadata": {
            "tags": []
          }
        },
        {
          "output_type": "stream",
          "text": [
            "Epoch 2/10\n",
            "15/16 [===========================>..] - ETA: 1s - loss: 1.2024 - acc: 0.3513Epoch 1/10\n",
            "16/16 [==============================] - 18s 1s/step - loss: 1.2088 - acc: 0.3528 - val_loss: 1.1315 - val_acc: 0.4062\n"
          ],
          "name": "stdout"
        },
        {
          "output_type": "display_data",
          "data": {
            "application/vnd.jupyter.widget-view+json": {
              "model_id": "9465ff89294943c691029301b36eed81",
              "version_minor": 0,
              "version_major": 2
            },
            "text/plain": [
              "HBox(children=(IntProgress(value=0, description='Epoch 2', max=16, style=ProgressStyle(description_width='init…"
            ]
          },
          "metadata": {
            "tags": []
          }
        },
        {
          "output_type": "stream",
          "text": [
            "Epoch 3/10\n",
            "15/16 [===========================>..] - ETA: 1s - loss: 1.1739 - acc: 0.3879Epoch 1/10\n",
            "16/16 [==============================] - 18s 1s/step - loss: 1.1833 - acc: 0.3871 - val_loss: 1.1256 - val_acc: 0.3438\n"
          ],
          "name": "stdout"
        },
        {
          "output_type": "display_data",
          "data": {
            "application/vnd.jupyter.widget-view+json": {
              "model_id": "552aa1980f1b4831a90e636065c81e3e",
              "version_minor": 0,
              "version_major": 2
            },
            "text/plain": [
              "HBox(children=(IntProgress(value=0, description='Epoch 3', max=16, style=ProgressStyle(description_width='init…"
            ]
          },
          "metadata": {
            "tags": []
          }
        },
        {
          "output_type": "stream",
          "text": [
            "Epoch 4/10\n",
            "15/16 [===========================>..] - ETA: 1s - loss: 1.1782 - acc: 0.3793Epoch 1/10\n",
            "16/16 [==============================] - 18s 1s/step - loss: 1.1865 - acc: 0.3629 - val_loss: 1.1008 - val_acc: 0.3750\n"
          ],
          "name": "stdout"
        },
        {
          "output_type": "display_data",
          "data": {
            "application/vnd.jupyter.widget-view+json": {
              "model_id": "4cb97d8428784909a56822d571215aa3",
              "version_minor": 0,
              "version_major": 2
            },
            "text/plain": [
              "HBox(children=(IntProgress(value=0, description='Epoch 4', max=16, style=ProgressStyle(description_width='init…"
            ]
          },
          "metadata": {
            "tags": []
          }
        },
        {
          "output_type": "stream",
          "text": [
            "Epoch 5/10\n",
            "15/16 [===========================>..] - ETA: 1s - loss: 1.1864 - acc: 0.3187Epoch 1/10\n",
            "16/16 [==============================] - 19s 1s/step - loss: 1.1882 - acc: 0.3164 - val_loss: 1.1131 - val_acc: 0.5000\n"
          ],
          "name": "stdout"
        },
        {
          "output_type": "display_data",
          "data": {
            "application/vnd.jupyter.widget-view+json": {
              "model_id": "5126ea7c978848d184a809b3d2698b55",
              "version_minor": 0,
              "version_major": 2
            },
            "text/plain": [
              "HBox(children=(IntProgress(value=0, description='Epoch 5', max=16, style=ProgressStyle(description_width='init…"
            ]
          },
          "metadata": {
            "tags": []
          }
        },
        {
          "output_type": "stream",
          "text": [
            "Epoch 6/10\n",
            "15/16 [===========================>..] - ETA: 0s - loss: 1.1953 - acc: 0.3170Epoch 1/10\n",
            "16/16 [==============================] - 18s 1s/step - loss: 1.1963 - acc: 0.3167 - val_loss: 1.1240 - val_acc: 0.3750\n"
          ],
          "name": "stdout"
        },
        {
          "output_type": "display_data",
          "data": {
            "application/vnd.jupyter.widget-view+json": {
              "model_id": "b1355d056fdb46c5af09334fb1534756",
              "version_minor": 0,
              "version_major": 2
            },
            "text/plain": [
              "HBox(children=(IntProgress(value=0, description='Epoch 6', max=16, style=ProgressStyle(description_width='init…"
            ]
          },
          "metadata": {
            "tags": []
          }
        },
        {
          "output_type": "stream",
          "text": [
            "Epoch 7/10\n",
            "15/16 [===========================>..] - ETA: 1s - loss: 1.1799 - acc: 0.2979Epoch 1/10\n",
            "16/16 [==============================] - 19s 1s/step - loss: 1.1754 - acc: 0.2988 - val_loss: 1.0926 - val_acc: 0.4062\n"
          ],
          "name": "stdout"
        },
        {
          "output_type": "display_data",
          "data": {
            "application/vnd.jupyter.widget-view+json": {
              "model_id": "1579720415094949b61bc47294179435",
              "version_minor": 0,
              "version_major": 2
            },
            "text/plain": [
              "HBox(children=(IntProgress(value=0, description='Epoch 7', max=16, style=ProgressStyle(description_width='init…"
            ]
          },
          "metadata": {
            "tags": []
          }
        },
        {
          "output_type": "stream",
          "text": [
            "Epoch 8/10\n",
            "15/16 [===========================>..] - ETA: 0s - loss: 1.1581 - acc: 0.3438Epoch 1/10\n",
            "16/16 [==============================] - 18s 1s/step - loss: 1.1641 - acc: 0.3313 - val_loss: 1.1035 - val_acc: 0.3125\n"
          ],
          "name": "stdout"
        },
        {
          "output_type": "display_data",
          "data": {
            "application/vnd.jupyter.widget-view+json": {
              "model_id": "41ea2b7126f74d1bb0214f785c247c73",
              "version_minor": 0,
              "version_major": 2
            },
            "text/plain": [
              "HBox(children=(IntProgress(value=0, description='Epoch 8', max=16, style=ProgressStyle(description_width='init…"
            ]
          },
          "metadata": {
            "tags": []
          }
        },
        {
          "output_type": "stream",
          "text": [
            "Epoch 9/10\n",
            "15/16 [===========================>..] - ETA: 1s - loss: 1.1919 - acc: 0.2845Epoch 1/10\n",
            "16/16 [==============================] - 19s 1s/step - loss: 1.1887 - acc: 0.2903 - val_loss: 1.0993 - val_acc: 0.3750\n"
          ],
          "name": "stdout"
        },
        {
          "output_type": "display_data",
          "data": {
            "application/vnd.jupyter.widget-view+json": {
              "model_id": "4283eb6acc7545a3a760db8b3691f703",
              "version_minor": 0,
              "version_major": 2
            },
            "text/plain": [
              "HBox(children=(IntProgress(value=0, description='Epoch 9', max=16, style=ProgressStyle(description_width='init…"
            ]
          },
          "metadata": {
            "tags": []
          }
        },
        {
          "output_type": "stream",
          "text": [
            "Epoch 10/10\n",
            "15/16 [===========================>..] - ETA: 1s - loss: 1.1823 - acc: 0.3500Epoch 1/10\n",
            "16/16 [==============================] - 19s 1s/step - loss: 1.1851 - acc: 0.3574 - val_loss: 1.1092 - val_acc: 0.4062\n",
            "\n"
          ],
          "name": "stdout"
        }
      ]
    },
    {
      "cell_type": "code",
      "metadata": {
        "id": "hSXMaJuyTEl7",
        "outputId": "fafa94b9-6898-4091-d08e-aadf16914298",
        "colab": {
          "base_uri": "https://localhost:8080/",
          "height": 295
        }
      },
      "source": [
        "import matplotlib.pyplot as plt\n",
        "plt.plot(history.history['loss'])\n",
        "plt.plot(history.history['val_loss'])\n",
        "plt.title('Model loss')\n",
        "plt.ylabel('Loss')\n",
        "plt.xlabel('Epoch')\n",
        "plt.legend(['Train', 'Validation'], loc='upper left')\n",
        "plt.show()"
      ],
      "execution_count": null,
      "outputs": [
        {
          "output_type": "display_data",
          "data": {
            "image/png": "[encoded data removed]",
            "text/plain": [
              "<Figure size 432x288 with 1 Axes>"
            ]
          },
          "metadata": {
            "tags": []
          }
        }
      ]
    },
    {
      "cell_type": "code",
      "metadata": {
        "id": "5cKW16m-9JZM",
        "outputId": "5c4cb9e6-1e83-48bc-e4b2-bcabd934c6e2",
        "colab": {
          "base_uri": "https://localhost:8080/",
          "height": 295
        }
      },
      "source": [
        "plt.plot(history.history['acc'])\n",
        "plt.plot(history.history['val_acc'])\n",
        "plt.title('Model acc')\n",
        "plt.ylabel('Acc')\n",
        "plt.xlabel('Epoch')\n",
        "plt.legend(['Train', 'Validation'], loc='upper left')\n",
        "plt.show()"
      ],
      "execution_count": null,
      "outputs": [
        {
          "output_type": "display_data",
          "data": {
            "image/png": "[encoded data removed]",
            "text/plain": [
              "<Figure size 432x288 with 1 Axes>"
            ]
          },
          "metadata": {
            "tags": []
          }
        }
      ]
    },
    {
      "cell_type": "code",
      "metadata": {
        "id": "JFvTzeMcedML"
      },
      "source": [
        "train_path = os.getcwd() + \"/gdrive/My Drive/guys2/train/\"\n",
        "test_path = os.getcwd() + \"/gdrive/My Drive/guys2/test/\""
      ],
      "execution_count": null,
      "outputs": []
    },
    {
      "cell_type": "code",
      "metadata": {
        "id": "smMbrDULfCdo",
        "outputId": "6ee4ac50-72ad-40d1-89bf-073a6a1c69ac",
        "colab": {
          "base_uri": "https://localhost:8080/",
          "height": 34
        }
      },
      "source": [
        "class_names = os.listdir(train_path)\n",
        "print(len(class_names))"
      ],
      "execution_count": null,
      "outputs": [
        {
          "output_type": "stream",
          "text": [
            "3\n"
          ],
          "name": "stdout"
        }
      ]
    },
    {
      "cell_type": "code",
      "metadata": {
        "id": "7SIeleaTfHve"
      },
      "source": [
        "img_width, img_height = 100, 100\n",
        "nb_train_samples = 510\n",
        "nb_validation_samples = 75\n",
        "epochs = 50\n",
        "batch_size = 15\n",
        "n_classes = 3"
      ],
      "execution_count": null,
      "outputs": []
    },
    {
      "cell_type": "code",
      "metadata": {
        "id": "YrXt6dv1fWdb"
      },
      "source": [
        "from keras.preprocessing.image import ImageDataGenerator\n",
        "train_datagen = ImageDataGenerator(\n",
        "    rescale=1.0 / 255,\n",
        "    zoom_range=0.2,\n",
        "    rotation_range = 5,\n",
        "    width_shift_range=0.2,\n",
        "    height_shift_range=0.2,\n",
        "    horizontal_flip = True,\n",
        "    vertical_flip = False)"
      ],
      "execution_count": null,
      "outputs": []
    },
    {
      "cell_type": "code",
      "metadata": {
        "id": "FeytIwpDflor"
      },
      "source": [
        "test_datagen = ImageDataGenerator(rescale = 1.0 / 255)"
      ],
      "execution_count": null,
      "outputs": []
    },
    {
      "cell_type": "code",
      "metadata": {
        "id": "Szu7dOrgfrRl"
      },
      "source": [
        "from keras.models import Sequential, Model\n",
        "from keras.layers import Activation, Dropout, Flatten, Dense\n",
        "def build_model_DenseNet():\n",
        "    base_model = densenet.DenseNet121(include_top=True, \n",
        "                                      weights = None,\n",
        "                                      input_tensor = None,\n",
        "                                      input_shape = (img_width, img_height, 3),\n",
        "                                      pooling = None,\n",
        "                                      classes = n_classes)\n",
        "    \n",
        "    for layer in base_model.layers:\n",
        "        layer.trainable = True\n",
        "\n",
        "    model = Model(inputs = base_model.input, outputs = base_model.output)\n",
        "    return model"
      ],
      "execution_count": null,
      "outputs": []
    },
    {
      "cell_type": "code",
      "metadata": {
        "id": "R5cciJDEfuPC",
        "outputId": "ebf0c05a-d91a-4dbe-c0cd-067c2babeeaa",
        "colab": {
          "base_uri": "https://localhost:8080/",
          "height": 50
        }
      },
      "source": [
        "train_generator = train_datagen.flow_from_directory(\n",
        "    train_path,\n",
        "    target_size = (img_width, img_height),\n",
        "    batch_size = batch_size,\n",
        "    class_mode = 'categorical')\n",
        "\n",
        "validation_generator = test_datagen.flow_from_directory(\n",
        "    test_path,\n",
        "    target_size = (img_width, img_height),\n",
        "    batch_size = batch_size,\n",
        "    class_mode = 'categorical')"
      ],
      "execution_count": null,
      "outputs": [
        {
          "output_type": "stream",
          "text": [
            "Found 510 images belonging to 3 classes.\n",
            "Found 75 images belonging to 3 classes.\n"
          ],
          "name": "stdout"
        }
      ]
    },
    {
      "cell_type": "code",
      "metadata": {
        "id": "5g-A6Xh4fz5S"
      },
      "source": [
        "from keras.callbacks import EarlyStopping, ReduceLROnPlateau, ModelCheckpoint, Callback\n",
        "early_stop = EarlyStopping(monitor = 'val_loss', patience = 8, verbose=1, min_delta = 1e-4) \n",
        "reduce_lr = ReduceLROnPlateau(monitor = 'val_loss', factor = 0.1, patience = 4, verbose = 1, min_delta = 1e-4)\n",
        "\n",
        "callbacks_list = [early_stop, reduce_lr]"
      ],
      "execution_count": null,
      "outputs": []
    },
    {
      "cell_type": "code",
      "metadata": {
        "id": "PdXz24BFf35M"
      },
      "source": [
        "from keras.applications import densenet\n",
        "from keras.models import Sequential, Model, load_model\n",
        "model = build_model_DenseNet()\n",
        "model.compile(loss = 'categorical_crossentropy', optimizer = 'adam', metrics = ['acc'])"
      ],
      "execution_count": null,
      "outputs": []
    },
    {
      "cell_type": "code",
      "metadata": {
        "id": "L9t5D22sgJ--",
        "outputId": "0ee87c91-bd4b-4045-f8f3-349ca7e05a01",
        "colab": {
          "base_uri": "https://localhost:8080/",
          "height": 1000
        }
      },
      "source": [
        "model_history = model.fit_generator(\n",
        "    train_generator,\n",
        "    epochs = epochs,\n",
        "    validation_data = validation_generator,\n",
        "    validation_steps = nb_validation_samples // batch_size,\n",
        "    callbacks = callbacks_list,\n",
        "    steps_per_epoch = nb_train_samples // batch_size)"
      ],
      "execution_count": null,
      "outputs": [
        {
          "output_type": "stream",
          "text": [
            "Epoch 1/50\n",
            "35/35 [==============================] - 101s 3s/step - loss: 1.1016 - acc: 0.5200 - val_loss: 8.5647 - val_acc: 0.3167\n",
            "Epoch 2/50\n",
            "35/35 [==============================] - 11s 320ms/step - loss: 0.8670 - acc: 0.6457 - val_loss: 4.4160 - val_acc: 0.4333\n",
            "Epoch 3/50\n",
            "35/35 [==============================] - 11s 311ms/step - loss: 0.8520 - acc: 0.6171 - val_loss: 0.9553 - val_acc: 0.6167\n",
            "Epoch 4/50\n",
            "35/35 [==============================] - 11s 310ms/step - loss: 0.6310 - acc: 0.7410 - val_loss: 4.6303 - val_acc: 0.3167\n",
            "Epoch 5/50\n",
            "35/35 [==============================] - 11s 311ms/step - loss: 0.6576 - acc: 0.7295 - val_loss: 7.7929 - val_acc: 0.3667\n",
            "Epoch 6/50\n",
            "35/35 [==============================] - 11s 309ms/step - loss: 0.4953 - acc: 0.8324 - val_loss: 8.4870 - val_acc: 0.3167\n",
            "Epoch 7/50\n",
            "35/35 [==============================] - 11s 310ms/step - loss: 0.4802 - acc: 0.8248 - val_loss: 2.5650 - val_acc: 0.6167\n",
            "\n",
            "Epoch 00007: ReduceLROnPlateau reducing learning rate to 0.00010000000474974513.\n",
            "Epoch 8/50\n",
            "35/35 [==============================] - 11s 319ms/step - loss: 0.4207 - acc: 0.8610 - val_loss: 0.2308 - val_acc: 0.9000\n",
            "Epoch 9/50\n",
            "35/35 [==============================] - 11s 312ms/step - loss: 0.2966 - acc: 0.9048 - val_loss: 0.2591 - val_acc: 0.9000\n",
            "Epoch 10/50\n",
            "35/35 [==============================] - 11s 309ms/step - loss: 0.2305 - acc: 0.9162 - val_loss: 0.5136 - val_acc: 0.8167\n",
            "Epoch 11/50\n",
            "35/35 [==============================] - 11s 314ms/step - loss: 0.2215 - acc: 0.9200 - val_loss: 0.4464 - val_acc: 0.8167\n",
            "Epoch 12/50\n",
            "35/35 [==============================] - 11s 311ms/step - loss: 0.2332 - acc: 0.9162 - val_loss: 0.2691 - val_acc: 0.8333\n",
            "\n",
            "Epoch 00012: ReduceLROnPlateau reducing learning rate to 1.0000000474974514e-05.\n",
            "Epoch 13/50\n",
            "35/35 [==============================] - 11s 311ms/step - loss: 0.1919 - acc: 0.9314 - val_loss: 0.3049 - val_acc: 0.8833\n",
            "Epoch 14/50\n",
            "35/35 [==============================] - 11s 310ms/step - loss: 0.2458 - acc: 0.9124 - val_loss: 0.1898 - val_acc: 0.9333\n",
            "Epoch 15/50\n",
            "35/35 [==============================] - 11s 309ms/step - loss: 0.2131 - acc: 0.9314 - val_loss: 0.1242 - val_acc: 0.9333\n",
            "Epoch 16/50\n",
            "35/35 [==============================] - 11s 315ms/step - loss: 0.2088 - acc: 0.9238 - val_loss: 0.1550 - val_acc: 0.9333\n",
            "Epoch 17/50\n",
            "35/35 [==============================] - 11s 307ms/step - loss: 0.2070 - acc: 0.9333 - val_loss: 0.1048 - val_acc: 0.9333\n",
            "Epoch 18/50\n",
            "35/35 [==============================] - 11s 311ms/step - loss: 0.2076 - acc: 0.9257 - val_loss: 0.1289 - val_acc: 0.9167\n",
            "Epoch 19/50\n",
            "35/35 [==============================] - 11s 314ms/step - loss: 0.2194 - acc: 0.9238 - val_loss: 0.1028 - val_acc: 0.9500\n",
            "Epoch 20/50\n",
            "35/35 [==============================] - 11s 310ms/step - loss: 0.2235 - acc: 0.9238 - val_loss: 0.0903 - val_acc: 0.9333\n",
            "Epoch 21/50\n",
            "35/35 [==============================] - 11s 315ms/step - loss: 0.1589 - acc: 0.9505 - val_loss: 0.0872 - val_acc: 0.9500\n",
            "Epoch 22/50\n",
            "35/35 [==============================] - 11s 310ms/step - loss: 0.2233 - acc: 0.9162 - val_loss: 0.1162 - val_acc: 0.9333\n",
            "Epoch 23/50\n",
            "35/35 [==============================] - 11s 308ms/step - loss: 0.2037 - acc: 0.9390 - val_loss: 0.0960 - val_acc: 0.9333\n",
            "Epoch 24/50\n",
            "35/35 [==============================] - 11s 309ms/step - loss: 0.1675 - acc: 0.9410 - val_loss: 0.1283 - val_acc: 0.9000\n",
            "Epoch 25/50\n",
            "35/35 [==============================] - 11s 311ms/step - loss: 0.1638 - acc: 0.9410 - val_loss: 0.0899 - val_acc: 0.9500\n",
            "\n",
            "Epoch 00025: ReduceLROnPlateau reducing learning rate to 1.0000000656873453e-06.\n",
            "Epoch 26/50\n",
            "35/35 [==============================] - 11s 316ms/step - loss: 0.1508 - acc: 0.9448 - val_loss: 0.0933 - val_acc: 0.9500\n",
            "Epoch 27/50\n",
            "35/35 [==============================] - 11s 311ms/step - loss: 0.1798 - acc: 0.9390 - val_loss: 0.1070 - val_acc: 0.9333\n",
            "Epoch 28/50\n",
            "35/35 [==============================] - 11s 310ms/step - loss: 0.1586 - acc: 0.9371 - val_loss: 0.0389 - val_acc: 1.0000\n",
            "Epoch 29/50\n",
            "35/35 [==============================] - 11s 311ms/step - loss: 0.1811 - acc: 0.9390 - val_loss: 0.1343 - val_acc: 0.9333\n",
            "Epoch 30/50\n",
            "35/35 [==============================] - 11s 311ms/step - loss: 0.1681 - acc: 0.9467 - val_loss: 0.0774 - val_acc: 0.9667\n",
            "Epoch 31/50\n",
            "35/35 [==============================] - 11s 312ms/step - loss: 0.1811 - acc: 0.9390 - val_loss: 0.0980 - val_acc: 0.9500\n",
            "Epoch 32/50\n",
            "35/35 [==============================] - 11s 304ms/step - loss: 0.1564 - acc: 0.9410 - val_loss: 0.0998 - val_acc: 0.9500\n",
            "\n",
            "Epoch 00032: ReduceLROnPlateau reducing learning rate to 1.0000001111620805e-07.\n",
            "Epoch 33/50\n",
            "35/35 [==============================] - 11s 311ms/step - loss: 0.1878 - acc: 0.9333 - val_loss: 0.0512 - val_acc: 1.0000\n",
            "Epoch 34/50\n",
            "35/35 [==============================] - 11s 309ms/step - loss: 0.1332 - acc: 0.9581 - val_loss: 0.0942 - val_acc: 0.9500\n",
            "Epoch 35/50\n",
            "35/35 [==============================] - 11s 307ms/step - loss: 0.1777 - acc: 0.9505 - val_loss: 0.0893 - val_acc: 0.9500\n",
            "Epoch 36/50\n",
            "35/35 [==============================] - 11s 307ms/step - loss: 0.1830 - acc: 0.9352 - val_loss: 0.0977 - val_acc: 0.9500\n",
            "\n",
            "Epoch 00036: ReduceLROnPlateau reducing learning rate to 1.000000082740371e-08.\n",
            "Epoch 00036: early stopping\n"
          ],
          "name": "stdout"
        }
      ]
    },
    {
      "cell_type": "code",
      "metadata": {
        "id": "OxJSdjkak97f",
        "outputId": "db7b3cd0-6041-4b69-c13b-fe31ea00f980",
        "colab": {
          "base_uri": "https://localhost:8080/",
          "height": 296
        }
      },
      "source": [
        "H = model_history\n",
        "\n",
        "plt.plot(H.history[\"loss\"], label = \"Train_loss\")\n",
        "plt.plot(H.history[\"val_loss\"], label = \"Val_loss\")\n",
        "plt.xlabel(\"Epochs\")\n",
        "plt.ylabel(\"Loss\")\n",
        "plt.legend()"
      ],
      "execution_count": null,
      "outputs": [
        {
          "output_type": "execute_result",
          "data": {
            "text/plain": [
              "<matplotlib.legend.Legend at 0x7fc051dd5470>"
            ]
          },
          "metadata": {
            "tags": []
          },
          "execution_count": 203
        },
        {
          "output_type": "display_data",
          "data": {
            "image/png": "[encoded data removed]",
            "text/plain": [
              "<Figure size 432x288 with 1 Axes>"
            ]
          },
          "metadata": {
            "tags": []
          }
        }
      ]
    },
    {
      "cell_type": "code",
      "metadata": {
        "id": "NQLUlOuIlhBE",
        "outputId": "2f918246-224a-48da-8afd-d2119aa91a2f",
        "colab": {
          "base_uri": "https://localhost:8080/",
          "height": 296
        }
      },
      "source": [
        "plt.plot(H.history[\"acc\"], label = \"Train_acc\")\n",
        "plt.plot(H.history[\"val_acc\"], label = \"Val_acc\")\n",
        "plt.xlabel(\"Epochs\")\n",
        "plt.ylabel(\"Loss\")\n",
        "plt.legend()"
      ],
      "execution_count": null,
      "outputs": [
        {
          "output_type": "execute_result",
          "data": {
            "text/plain": [
              "<matplotlib.legend.Legend at 0x7fc051c96828>"
            ]
          },
          "metadata": {
            "tags": []
          },
          "execution_count": 204
        },
        {
          "output_type": "display_data",
          "data": {
            "image/png": "[encoded data removed]",
            "text/plain": [
              "<Figure size 432x288 with 1 Axes>"
            ]
          },
          "metadata": {
            "tags": []
          }
        }
      ]
    },
    {
      "cell_type": "code",
      "metadata": {
        "id": "jgTdlQEDjH8x",
        "outputId": "b37a4ac4-8d98-42a8-be9f-bd045caa0e7d",
        "colab": {
          "base_uri": "https://localhost:8080/",
          "height": 369
        }
      },
      "source": [
        "from tensorflow.keras.preprocessing import image as im\n",
        "import matplotlib.pyplot as plt\n",
        "import numpy as np\n",
        "\n",
        "img_path = os.getcwd() + \"/gdrive/My Drive/guys2/test/2/0cf2a457ec.jpg\"\n",
        "\n",
        "img = im.load_img(img_path, target_size = (img_width, img_height))\n",
        "print(type(img))\n",
        "print(img.size)\n",
        "\n",
        "plt.imshow(img)\n",
        "plt.show()\n",
        "\n",
        "x = im.img_to_array(img)\n",
        "x = np.expand_dims(x, axis=0)\n",
        "x /= 255\n",
        "\n",
        "print(x.shape)\n",
        "print(type(x))\n",
        "print(x.dtype)\n",
        "\n",
        "ans = np.argmax(model.predict(x))\n",
        "print(ans)"
      ],
      "execution_count": null,
      "outputs": [
        {
          "output_type": "stream",
          "text": [
            "<class 'PIL.JpegImagePlugin.JpegImageFile'>\n",
            "(100, 100)\n"
          ],
          "name": "stdout"
        },
        {
          "output_type": "display_data",
          "data": {
            "image/png": "[encoded data removed]",
            "text/plain": [
              "<Figure size 432x288 with 1 Axes>"
            ]
          },
          "metadata": {
            "tags": []
          }
        },
        {
          "output_type": "stream",
          "text": [
            "(1, 100, 100, 3)\n",
            "<class 'numpy.ndarray'>\n",
            "float32\n",
            "1\n"
          ],
          "name": "stdout"
        }
      ]
    },
    {
      "cell_type": "code",
      "metadata": {
        "id": "z8ZbyMHejqF0",
        "outputId": "323c685a-4cae-4058-d405-ed8b20bd1cc0",
        "colab": {
          "base_uri": "https://localhost:8080/",
          "height": 50
        }
      },
      "source": [
        "import time\n",
        "start_time = time.time()\n",
        "print(\"Predicted class is\", np.argmax(model.predict(x)))\n",
        "print(\"Time to predict an image is\", (time.time() - start_time), \"seconds\")"
      ],
      "execution_count": null,
      "outputs": [
        {
          "output_type": "stream",
          "text": [
            "Predicted class is 1\n",
            "Time to predict an image is 0.07187438011169434 seconds\n"
          ],
          "name": "stdout"
        }
      ]
    },
    {
      "cell_type": "code",
      "metadata": {
        "id": "C7Pzxtokjvoh"
      },
      "source": [
        "# Проверка качества сети (accuracy)\n",
        "\n",
        "right = 0\n",
        "wrong = 0\n",
        "times = []\n",
        "\n",
        "for folder in os.listdir(test_path):\n",
        "    for img in os.listdir(test_path + folder):\n",
        "        imag = im.load_img(test_path + folder + \"/\" + img, target_size = (img_width, img_height))\n",
        "        \n",
        "        photo_ar = im.img_to_array(imag)\n",
        "        photo_ar = np.expand_dims(photo_ar, axis = 0)\n",
        "        photo_ar /= 255\n",
        "        \n",
        "        start_time = time.time()\n",
        "        ans = np.argmax(model.predict(photo_ar))\n",
        "        times.append(time.time() - start_time)\n",
        "        \n",
        "        if ans == int(folder):\n",
        "            right += 1\n",
        "        else:\n",
        "            wrong += 1"
      ],
      "execution_count": null,
      "outputs": []
    },
    {
      "cell_type": "code",
      "metadata": {
        "id": "y0b6J-_rk4eZ",
        "outputId": "fbf83e6e-0098-4799-e3cb-b6d7166db7ab",
        "colab": {
          "base_uri": "https://localhost:8080/",
          "height": 50
        }
      },
      "source": [
        "print(\"Accuracy on validation set is\", right/(right + wrong))\n",
        "print(\"Average time to pridict one photo is\", np.array(times).mean(), \"seconds\")"
      ],
      "execution_count": null,
      "outputs": [
        {
          "output_type": "stream",
          "text": [
            "Accuracy on validation set is 0.02666666666666667\n",
            "Average time to pridict one photo is 0.04735076904296875 seconds\n"
          ],
          "name": "stdout"
        }
      ]
    },
    {
      "cell_type": "code",
      "metadata": {
        "id": "thR0ClkyvoYR"
      },
      "source": [
        "# Проверка качества сети по классам (Precision and Recall)\n",
        "TP = [i - i for i in range(len(class_names))]\n",
        "FN = [i - i for i in range(len(class_names))]\n",
        "FP = [i - i for i in range(len(class_names))]\n",
        "\n",
        "precision = [i - i for i in range(len(class_names))]\n",
        "recall = [i - i for i in range(len(class_names))]\n",
        "\n",
        "\n",
        "for folder in os.listdir(test_path):\n",
        "    for img in os.listdir(test_path + folder):\n",
        "        imag = im.load_img(test_path + folder + \"/\" + img, target_size = (img_width, img_height))\n",
        "        \n",
        "        photo_ar = im.img_to_array(imag)\n",
        "        photo_ar = np.expand_dims(photo_ar, axis = 0)\n",
        "        photo_ar /= 255\n",
        "        \n",
        "        ans = np.argmax(model.predict(photo_ar))\n",
        "    \n",
        "        if ans == int(folder):\n",
        "            TP[ans] += 1\n",
        "        if ans != int(folder):\n",
        "            FN[ans] += 1\n",
        "            FP[int(folder)-1] += 1"
      ],
      "execution_count": null,
      "outputs": []
    },
    {
      "cell_type": "code",
      "metadata": {
        "id": "jYY5_RXrxdNo",
        "outputId": "ff4a25ba-6e03-4b6b-d461-4a0babff277d",
        "colab": {
          "base_uri": "https://localhost:8080/",
          "height": 50
        }
      },
      "source": [
        "for i in range(len(class_names)):\n",
        "    precision[i] = TP[i]/(TP[i] + FP[i])\n",
        "    recall[i] = TP[i]/(TP[i] + FN[i]) \n",
        "    \n",
        "precision = np.array(precision)\n",
        "recall = np.array(recall)\n",
        "\n",
        "print(precision.max(), precision.min(), precision.mean())\n",
        "print(recall.max(), recall.min(), recall.mean())"
      ],
      "execution_count": null,
      "outputs": [
        {
          "output_type": "stream",
          "text": [
            "0.04 0.0 0.026153846153846156\n",
            "0.041666666666666664 0.0 0.026709401709401708\n"
          ],
          "name": "stdout"
        }
      ]
    },
    {
      "cell_type": "code",
      "metadata": {
        "id": "9jGcDjEix7mv",
        "outputId": "e1ada52b-bf11-4d3e-ed21-928183dc239a",
        "colab": {
          "base_uri": "https://localhost:8080/",
          "height": 320
        }
      },
      "source": [
        "# Визуализируем \n",
        "\n",
        "Fload = [i for i in range(3)]\n",
        "\n",
        "plt.figure(figsize = (10,5))\n",
        "x = range(len(precision))\n",
        "ax = plt.gca()\n",
        "ax.bar(Fload, precision, label = \"precision\")\n",
        "ax.set_xticks(x)\n",
        "plt.legend(loc = 'best')\n",
        "plt.show()"
      ],
      "execution_count": null,
      "outputs": [
        {
          "output_type": "display_data",
          "data": {
            "image/png": "[encoded data removed]",
            "text/plain": [
              "<Figure size 720x360 with 1 Axes>"
            ]
          },
          "metadata": {
            "tags": []
          }
        }
      ]
    },
    {
      "cell_type": "markdown",
      "metadata": {
        "id": "_V0vqnkDSyh2"
      },
      "source": [
        "## Готовые ноутбуки сохраняйте строго в формате .ipynb, \n",
        "**название файла должно иметь вид: Surname_Name_HWnumber.ipynb . Например: Lindemann_Nikita_04.ipynb\n",
        "\n",
        "## Отправляйте ваши ноутбуки в гугл форму: \n",
        "https://docs.google.com/forms/d/e/1FAIpQLSeGn34zpzH-K8upCW8qOJIW4Enelro3NcGkI1v_5_0JUOExPw/viewform\n",
        "\n",
        "\n",
        "# Спасибо за терпение и выполнение заданий!"
      ]
    }
  ]
}