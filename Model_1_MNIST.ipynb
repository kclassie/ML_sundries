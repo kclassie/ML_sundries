{
  "nbformat": 4,
  "nbformat_minor": 0,
  "metadata": {
    "colab": {
      "provenance": [],
      "collapsed_sections": [],
      "include_colab_link": true
    },
    "kernelspec": {
      "name": "python3",
      "display_name": "Python 3"
    }
  },
  "cells": [
    {
      "cell_type": "markdown",
      "metadata": {
        "id": "view-in-github",
        "colab_type": "text"
      },
      "source": [
        "<a href=\"https://colab.research.google.com/github/kclassie/ML_sundries/blob/main/Model_1_MNIST.ipynb\" target=\"_parent\"><img src=\"https://colab.research.google.com/assets/colab-badge.svg\" alt=\"Open In Colab\"/></a>"
      ]
    },
    {
      "cell_type": "code",
      "metadata": {
        "id": "KxW1-s9zGO7t"
      },
      "source": [
        "import keras"
      ],
      "execution_count": null,
      "outputs": []
    },
    {
      "cell_type": "markdown",
      "metadata": {
        "id": "qMcOZGEPP6y5"
      },
      "source": [
        "В данном уроке решается задача классификации чёрно-белых изображений рукописных цифр. Каждое изображение имеет размер 28*28 пикселей"
      ]
    },
    {
      "cell_type": "code",
      "metadata": {
        "id": "bQjNkf3dG3qL"
      },
      "source": [
        "(train_images, train_targets), (test_images, test_targets) = keras.datasets.mnist.load_data() #Скачивание датасета"
      ],
      "execution_count": null,
      "outputs": []
    },
    {
      "cell_type": "code",
      "metadata": {
        "id": "I9Y9SNmbH4Fx"
      },
      "source": [
        "from keras import layers\n",
        "from keras import models"
      ],
      "execution_count": null,
      "outputs": []
    },
    {
      "cell_type": "code",
      "metadata": {
        "id": "DD9BTWxYIAau"
      },
      "source": [
        "network = models.Sequential() #Создаём пустую модель\n",
        "network.add(layers.Dense(512, activation='relu', input_shape = (28*28,))) #Добавляем в модель полносвязный слой с 512 скрытыми нейронами. Указываем размер изображений в input_shape\n",
        "network.add(layers.Dense(10, activation='softmax')) #Выходной слой модели. Количество скрытых нейронов равно количеству классов"
      ],
      "execution_count": null,
      "outputs": []
    },
    {
      "cell_type": "code",
      "metadata": {
        "id": "go3xIKn6J8Zs",
        "outputId": "e76d190b-58b4-4ad3-afb9-3e39be8b6dbb",
        "colab": {
          "base_uri": "https://localhost:8080/",
          "height": 105
        }
      },
      "source": [
        "#Указываем функцию потерь, оптимизатор и метрики для оценивания.\n",
        "network.compile(optimizer='rmsprop', loss='categorical_crossentropy', metrics=['accuracy'])"
      ],
      "execution_count": null,
      "outputs": [
        {
          "output_type": "stream",
          "text": [
            "WARNING:tensorflow:From /usr/local/lib/python3.6/dist-packages/keras/optimizers.py:793: The name tf.train.Optimizer is deprecated. Please use tf.compat.v1.train.Optimizer instead.\n",
            "\n",
            "WARNING:tensorflow:From /usr/local/lib/python3.6/dist-packages/keras/backend/tensorflow_backend.py:3576: The name tf.log is deprecated. Please use tf.math.log instead.\n",
            "\n"
          ],
          "name": "stdout"
        }
      ]
    },
    {
      "cell_type": "code",
      "metadata": {
        "id": "g6jgPBoBLAeJ"
      },
      "source": [
        "#Перед обучением преобразуем данные в форму ожидаемую сетью.\n",
        "train_images = train_images.reshape((60000, 28*28))\n",
        "test_images = test_images.reshape((10000, 28*28))\n",
        "\n",
        "#Ранее данные находили в диапазоне от 0 до 255. Преобразуем их таким образом, чтобы они находили в диапазоне от 0 до 1\n",
        "train_images = train_images.astype('float32')/255\n",
        "test_images = test_images.astype('float32')/255"
      ],
      "execution_count": null,
      "outputs": []
    },
    {
      "cell_type": "code",
      "metadata": {
        "id": "N2LFs-rbMlpL"
      },
      "source": [
        "#Кодируем метки классов\n",
        "from keras.utils import to_categorical\n",
        "train_targets = to_categorical(train_targets)\n",
        "test_targets = to_categorical(test_targets)"
      ],
      "execution_count": null,
      "outputs": []
    },
    {
      "cell_type": "code",
      "metadata": {
        "id": "76_qwx2FOMS6",
        "outputId": "c94b2a48-2b69-4404-86ef-f9c9b472868e",
        "colab": {
          "base_uri": "https://localhost:8080/",
          "height": 204
        }
      },
      "source": [
        "#Обучаем модель\n",
        "network.fit(train_images, train_targets, epochs=5, batch_size=128)"
      ],
      "execution_count": null,
      "outputs": [
        {
          "output_type": "stream",
          "text": [
            "Epoch 1/5\n",
            "60000/60000 [==============================] - 5s 78us/step - loss: 0.0087 - acc: 0.9974\n",
            "Epoch 2/5\n",
            "60000/60000 [==============================] - 5s 78us/step - loss: 0.0068 - acc: 0.9983\n",
            "Epoch 3/5\n",
            "60000/60000 [==============================] - 5s 77us/step - loss: 0.0051 - acc: 0.9987\n",
            "Epoch 4/5\n",
            "60000/60000 [==============================] - 5s 78us/step - loss: 0.0048 - acc: 0.9986\n",
            "Epoch 5/5\n",
            "60000/60000 [==============================] - 5s 84us/step - loss: 0.0037 - acc: 0.9992\n"
          ],
          "name": "stdout"
        },
        {
          "output_type": "execute_result",
          "data": {
            "text/plain": [
              "<keras.callbacks.History at 0x7f674faa7fd0>"
            ]
          },
          "metadata": {
            "tags": []
          },
          "execution_count": 18
        }
      ]
    },
    {
      "cell_type": "code",
      "metadata": {
        "id": "CLPUH9BHNZC9",
        "outputId": "b31f341e-d80d-4099-d59a-beee48c02963",
        "colab": {
          "base_uri": "https://localhost:8080/",
          "height": 51
        }
      },
      "source": [
        "#Оцениваем модель\n",
        "test_loss, test_accuracy = network.evaluate(test_images, test_targets)\n",
        "print('loss = ',test_loss, ' accuracy = ',test_accuracy)"
      ],
      "execution_count": null,
      "outputs": [
        {
          "output_type": "stream",
          "text": [
            "10000/10000 [==============================] - 1s 59us/step\n",
            "loss =  0.08989557605858672  accuracy =  0.98\n"
          ],
          "name": "stdout"
        }
      ]
    }
  ]
}