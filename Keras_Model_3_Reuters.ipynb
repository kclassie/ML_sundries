{
  "nbformat": 4,
  "nbformat_minor": 0,
  "metadata": {
    "colab": {
      "provenance": [],
      "collapsed_sections": [],
      "include_colab_link": true
    },
    "kernelspec": {
      "name": "python3",
      "display_name": "Python 3"
    },
    "accelerator": "GPU"
  },
  "cells": [
    {
      "cell_type": "markdown",
      "metadata": {
        "id": "view-in-github",
        "colab_type": "text"
      },
      "source": [
        "<a href=\"https://colab.research.google.com/github/kclassie/ML_sundries/blob/main/Keras_Model_3_Reuters.ipynb\" target=\"_parent\"><img src=\"https://colab.research.google.com/assets/colab-badge.svg\" alt=\"Open In Colab\"/></a>"
      ]
    },
    {
      "cell_type": "code",
      "metadata": {
        "id": "-EUHbTO6BcIW"
      },
      "source": [
        "from keras.datasets import reuters"
      ],
      "execution_count": null,
      "outputs": []
    },
    {
      "cell_type": "code",
      "metadata": {
        "id": "hsLfa2yhBxFG"
      },
      "source": [
        "(train_data, train_labels), (test_data, test_labels) = reuters.load_data(num_words=10000)"
      ],
      "execution_count": null,
      "outputs": []
    },
    {
      "cell_type": "code",
      "metadata": {
        "id": "5vTralM5COlj"
      },
      "source": [
        "'''Словарь: 0:человек, 1:идёт, 2:работать, 3:спать\n",
        "Человек идёт работать [0,1,2] -> [1,1,1,0]\n",
        "Спать идёт человек [3, 1, 0] -> [1, 1, 0,1]\n",
        "'''\n",
        "import numpy as np\n",
        "def vectorizer(sequences, dimension):\n",
        "  results = np.zeros([len(sequences), dimension])\n",
        "  for i, sequence in enumerate(sequences):\n",
        "    results[i, sequence] = 1\n",
        "  return results\n",
        "    "
      ],
      "execution_count": null,
      "outputs": []
    },
    {
      "cell_type": "code",
      "metadata": {
        "id": "7kg6950lCTUv"
      },
      "source": [
        "x_train = vectorizer(train_data, 10000)\n",
        "x_test = vectorizer(test_data, 10000)"
      ],
      "execution_count": null,
      "outputs": []
    },
    {
      "cell_type": "code",
      "metadata": {
        "id": "M1PzEJ0wEADU"
      },
      "source": [
        "from keras.utils import to_categorical\n",
        "one_hot_train_labels = to_categorical(train_labels)\n",
        "one_hot_test_labels = to_categorical(test_labels)"
      ],
      "execution_count": null,
      "outputs": []
    },
    {
      "cell_type": "code",
      "metadata": {
        "id": "RZKTUJBMFSbB"
      },
      "source": [
        "from keras import models\n",
        "from keras import layers\n",
        "\n",
        "model = models.Sequential()\n",
        "model.add(layers.Dense(64, activation='relu', input_shape=(10000,)))\n",
        "model.add(layers.Dense(64, activation='relu'))\n",
        "model.add(layers.Dense(46, activation='softmax'))\n",
        "model.compile(optimizer='rmsprop', loss='categorical_crossentropy', metrics=['accuracy'])\n",
        "\n",
        "x_val = x_train[:1000]\n",
        "partial_x_train = x_train[1000:]\n",
        "\n",
        "y_val = one_hot_train_labels[:1000]\n",
        "partial_y_train = one_hot_train_labels[1000:]"
      ],
      "execution_count": null,
      "outputs": []
    },
    {
      "cell_type": "code",
      "metadata": {
        "id": "vWsDA0jnGJPC"
      },
      "source": [
        "history = model.fit(partial_x_train,\n",
        "                    partial_y_train,\n",
        "                    epochs = 20,\n",
        "                    batch_size=500,\n",
        "                    validation_data = (x_val, y_val))"
      ],
      "execution_count": null,
      "outputs": []
    },
    {
      "cell_type": "code",
      "metadata": {
        "id": "KTqB9vVaIVjI",
        "outputId": "5b545257-8378-4a5f-de08-fdff50198e34",
        "colab": {
          "base_uri": "https://localhost:8080/",
          "height": 279
        }
      },
      "source": [
        "import matplotlib.pyplot as plt\n",
        "%matplotlib inline\n",
        "\n",
        "loss = history.history['loss']\n",
        "val_loss = history.history['val_loss']\n",
        "\n",
        "epochs = range(1, len(loss)+1)\n",
        "\n",
        "plt.plot(epochs, loss, 'bo', label='Train loss')\n",
        "plt.plot(epochs, val_loss, 'b', label='Validation loss')\n",
        "plt.xlabel('Epochs')\n",
        "plt.ylabel('Loss')\n",
        "plt.legend()\n",
        "\n",
        "plt.show()"
      ],
      "execution_count": null,
      "outputs": [
        {
          "output_type": "display_data",
          "data": {
            "image/png": "[encoded data removed]",
            "text/plain": [
              "<Figure size 432x288 with 1 Axes>"
            ]
          },
          "metadata": {
            "tags": []
          }
        }
      ]
    },
    {
      "cell_type": "code",
      "metadata": {
        "id": "zIhhmPEoJRkr"
      },
      "source": [
        "small_model = models.Sequential()\n",
        "small_model.add(layers.Dense(16, activation='relu', input_shape=(10000,)))\n",
        "small_model.add(layers.Dense(16, activation='relu'))\n",
        "small_model.add(layers.Dense(46, activation='softmax'))\n",
        "small_model.compile(optimizer='rmsprop', loss='categorical_crossentropy', metrics=['accuracy'])\n",
        "\n",
        "small_history = small_model.fit(partial_x_train,\n",
        "                    partial_y_train,\n",
        "                    epochs = 20,\n",
        "                    batch_size=500,\n",
        "                    validation_data = (x_val, y_val))"
      ],
      "execution_count": null,
      "outputs": []
    },
    {
      "cell_type": "code",
      "metadata": {
        "id": "T4h5_JtdJSfm",
        "outputId": "8ec91767-b730-49e2-daae-6e262609630e",
        "colab": {
          "base_uri": "https://localhost:8080/",
          "height": 279
        }
      },
      "source": [
        "small_loss = small_history.history['val_loss']\n",
        "plt.plot(epochs, val_loss, 'bo', label='Original Val loss')\n",
        "plt.plot(epochs, small_loss, 'b', label='Small Val loss')\n",
        "plt.xlabel('Epochs')\n",
        "plt.ylabel('Val Loss')\n",
        "plt.legend()\n",
        "\n",
        "plt.show()"
      ],
      "execution_count": null,
      "outputs": [
        {
          "output_type": "display_data",
          "data": {
            "image/png": "[encoded data removed]",
            "text/plain": [
              "<Figure size 432x288 with 1 Axes>"
            ]
          },
          "metadata": {
            "tags": []
          }
        }
      ]
    },
    {
      "cell_type": "code",
      "metadata": {
        "id": "1ueJNkuBNhbm"
      },
      "source": [
        "big_model = models.Sequential()\n",
        "big_model.add(layers.Dense(512, activation='relu', input_shape=(10000,)))\n",
        "big_model.add(layers.Dense(512, activation='relu'))\n",
        "big_model.add(layers.Dense(46, activation='softmax'))\n",
        "big_model.compile(optimizer='rmsprop', loss='categorical_crossentropy', metrics=['accuracy'])\n",
        "\n",
        "big_history = big_model.fit(partial_x_train,\n",
        "                    partial_y_train,\n",
        "                    epochs = 20,\n",
        "                    batch_size=500,\n",
        "                    validation_data = (x_val, y_val))"
      ],
      "execution_count": null,
      "outputs": []
    },
    {
      "cell_type": "code",
      "metadata": {
        "id": "8y9ok-h6OH7u",
        "outputId": "50a4c6d3-85f5-44cd-dc67-8099904fe68e",
        "colab": {
          "base_uri": "https://localhost:8080/",
          "height": 279
        }
      },
      "source": [
        "big_loss = big_history.history['val_loss']\n",
        "plt.plot(epochs, val_loss, 'bo', label='Original Val loss')\n",
        "plt.plot(epochs, big_loss, 'b', label='Big Val loss')\n",
        "plt.xlabel('Epochs')\n",
        "plt.ylabel('Val Loss')\n",
        "plt.legend()\n",
        "\n",
        "plt.show()"
      ],
      "execution_count": null,
      "outputs": [
        {
          "output_type": "display_data",
          "data": {
            "image/png": "[encoded data removed]",
            "text/plain": [
              "<Figure size 432x288 with 1 Axes>"
            ]
          },
          "metadata": {
            "tags": []
          }
        }
      ]
    },
    {
      "cell_type": "code",
      "metadata": {
        "id": "DwXQy9XOSuSJ"
      },
      "source": [
        "from keras import regularizers\n",
        "l2_model = models.Sequential()\n",
        "l2_model.add(layers.Dense(64, activation='relu', kernel_regularizer=regularizers.l1_l2(l1=0.01, l2=0.01), input_shape=(10000,)))\n",
        "l2_model.add(layers.Dense(64, activation='relu', kernel_regularizer=regularizers.l1_l2(l1=0.01, l2=0.01)))\n",
        "l2_model.add(layers.Dense(46, activation='softmax'))\n",
        "l2_model.compile(optimizer='rmsprop', loss='categorical_crossentropy', metrics=['accuracy'])\n",
        "\n",
        "l2_history = l2_model.fit(partial_x_train,\n",
        "                    partial_y_train,\n",
        "                    epochs = 20,\n",
        "                    batch_size=500,\n",
        "                    validation_data = (x_val, y_val))"
      ],
      "execution_count": null,
      "outputs": []
    },
    {
      "cell_type": "code",
      "metadata": {
        "id": "s8gtDCDqUGKm",
        "outputId": "d0ff7f89-a125-4efb-f473-b176d29b80ce",
        "colab": {
          "base_uri": "https://localhost:8080/",
          "height": 279
        }
      },
      "source": [
        "l2_loss = l2_history.history['val_loss']\n",
        "plt.plot(epochs, val_loss, 'bo', label='Original Val loss')\n",
        "plt.plot(epochs, l2_loss, 'b', label='l2 Val loss')\n",
        "plt.xlabel('Epochs')\n",
        "plt.ylabel('Val Loss')\n",
        "plt.legend()\n",
        "\n",
        "plt.show()"
      ],
      "execution_count": null,
      "outputs": [
        {
          "output_type": "display_data",
          "data": {
            "image/png": "[encoded data removed]",
            "text/plain": [
              "<Figure size 432x288 with 1 Axes>"
            ]
          },
          "metadata": {
            "tags": []
          }
        }
      ]
    },
    {
      "cell_type": "code",
      "metadata": {
        "id": "6B7RFQi7UaJl"
      },
      "source": [
        "from keras import regularizers\n",
        "dropout_model = models.Sequential()\n",
        "dropout_model.add(layers.Dense(64, activation='relu', input_shape=(10000,)))\n",
        "dropout_model.add(layers.Dropout(0.5))\n",
        "dropout_model.add(layers.Dense(64, activation='relu'))\n",
        "dropout_model.add(layers.Dropout(0.5))\n",
        "dropout_model.add(layers.Dense(46, activation='softmax'))\n",
        "dropout_model.compile(optimizer='rmsprop', loss='categorical_crossentropy', metrics=['accuracy'])\n",
        "\n",
        "dropout_history = dropout_model.fit(partial_x_train,\n",
        "                    partial_y_train,\n",
        "                    epochs = 20,\n",
        "                    batch_size=500,\n",
        "                    validation_data = (x_val, y_val))"
      ],
      "execution_count": null,
      "outputs": []
    },
    {
      "cell_type": "code",
      "metadata": {
        "id": "R7lZSVBGWoYx",
        "outputId": "24384348-be29-4ed9-8fc6-aa68311d82c1",
        "colab": {
          "base_uri": "https://localhost:8080/",
          "height": 279
        }
      },
      "source": [
        "dropout_loss = dropout_history.history['val_loss']\n",
        "plt.plot(epochs, val_loss, 'bo', label='Original Val loss')\n",
        "plt.plot(epochs, dropout_loss, 'b', label='dropout Val loss')\n",
        "plt.xlabel('Epochs')\n",
        "plt.ylabel('Val Loss')\n",
        "plt.legend()\n",
        "\n",
        "plt.show()"
      ],
      "execution_count": null,
      "outputs": [
        {
          "output_type": "display_data",
          "data": {
            "image/png": "[encoded data removed]",
            "text/plain": [
              "<Figure size 432x288 with 1 Axes>"
            ]
          },
          "metadata": {
            "tags": []
          }
        }
      ]
    },
    {
      "cell_type": "code",
      "metadata": {
        "id": "fz1Lx5UvW-KX"
      },
      "source": [
        "prediction = model.predict(x_test)"
      ],
      "execution_count": null,
      "outputs": []
    },
    {
      "cell_type": "code",
      "metadata": {
        "id": "OqQUIchSYwxP",
        "outputId": "faec8c7e-029e-40c8-b123-489a9f464df8",
        "colab": {
          "base_uri": "https://localhost:8080/",
          "height": 34
        }
      },
      "source": [
        "np.argmax(prediction[0])"
      ],
      "execution_count": null,
      "outputs": [
        {
          "output_type": "execute_result",
          "data": {
            "text/plain": [
              "3"
            ]
          },
          "metadata": {
            "tags": []
          },
          "execution_count": 21
        }
      ]
    },
    {
      "cell_type": "code",
      "metadata": {
        "id": "NAKTgLbTZUO3",
        "outputId": "df8a412b-9e67-4428-bc1c-ffd326b249ea",
        "colab": {
          "base_uri": "https://localhost:8080/",
          "height": 34
        }
      },
      "source": [
        "np.argmax(model.predict(np.array([x_test[0]])))"
      ],
      "execution_count": null,
      "outputs": [
        {
          "output_type": "execute_result",
          "data": {
            "text/plain": [
              "3"
            ]
          },
          "metadata": {
            "tags": []
          },
          "execution_count": 22
        }
      ]
    },
    {
      "cell_type": "code",
      "metadata": {
        "id": "1LI2pPKgZkTf"
      },
      "source": [],
      "execution_count": null,
      "outputs": []
    }
  ]
}