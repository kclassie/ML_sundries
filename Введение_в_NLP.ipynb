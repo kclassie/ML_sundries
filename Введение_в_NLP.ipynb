{
  "nbformat": 4,
  "nbformat_minor": 0,
  "metadata": {
    "kernelspec": {
      "display_name": "Python 3",
      "language": "python",
      "name": "python3"
    },
    "language_info": {
      "codemirror_mode": {
        "name": "ipython",
        "version": 3
      },
      "file_extension": ".py",
      "mimetype": "text/x-python",
      "name": "python",
      "nbconvert_exporter": "python",
      "pygments_lexer": "ipython3",
      "version": "3.7.4"
    },
    "colab": {
      "provenance": [],
      "collapsed_sections": [
        "6iW4oqZpR0pV",
        "HNF4FU-uR0pf",
        "VcGuAQ9GR0py",
        "_gIXrit1R0qU",
        "HmfM9GoZR0q0"
      ],
      "include_colab_link": true
    }
  },
  "cells": [
    {
      "cell_type": "markdown",
      "metadata": {
        "id": "view-in-github",
        "colab_type": "text"
      },
      "source": [
        "<a href=\"https://colab.research.google.com/github/kclassie/ML_sundries/blob/main/%D0%92%D0%B2%D0%B5%D0%B4%D0%B5%D0%BD%D0%B8%D0%B5_%D0%B2_NLP.ipynb\" target=\"_parent\"><img src=\"https://colab.research.google.com/assets/colab-badge.svg\" alt=\"Open In Colab\"/></a>"
      ]
    },
    {
      "cell_type": "markdown",
      "metadata": {
        "id": "81fBOREWR0n4"
      },
      "source": [
        "# Лекция №5. Введение в Natural Language Processing"
      ]
    },
    {
      "cell_type": "markdown",
      "metadata": {
        "id": "RhbwLYy1R0n8"
      },
      "source": [
        "**Примеры использования NLP:**\n",
        "\n",
        "● Machine Translation\\\n",
        "Between different languages\\\n",
        "● Language modeling\\\n",
        "Model which can predict probability of sentence, or word, given context \\\n",
        "● Part of speech tagging\\\n",
        "Determine part of speech for each word\\\n",
        "● Parsing\\\n",
        "Determine parse tree for sentence which shows relations between words\\\n",
        "Natural language generation\\\n",
        "Convert some information (images, digits) into human readable way\\\n",
        "● Named entity recognition\\\n",
        "Determine which items in text map to proper classes. For example, people or\\\n",
        "organizations\\\n",
        "● Question answering\\\n",
        "Given a human language question, determine its answer\\\n",
        "● Topic modeling\\\n",
        "● Extract topics and determine which relate to text\n"
      ]
    },
    {
      "cell_type": "markdown",
      "metadata": {
        "id": "r3pasl0MR0n-"
      },
      "source": [
        "* **Сервис, позволяющий создавать чат-ботов:**\n",
        "<img src=\"imgs/df.png\"> \n",
        "\n",
        "* **Siri:**\n",
        "<img src=\"imgs/siri.jpeg\"> \n",
        "\n",
        "* **Виртуальная голосовая помощница с элементами искусственного интеллекта от Microsoft:**\n",
        "<img src=\"imgs/cortana.png\"> "
      ]
    },
    {
      "cell_type": "markdown",
      "metadata": {
        "id": "sVjZff3FR0oA"
      },
      "source": [
        "## Библиотека NLTK - пакет библиотек и программ для символьной и статистической обработки естественного языка\n",
        "\n",
        "https://www.nltk.org/py-modindex.html\n",
        "\n",
        "\n",
        "## Библиотека Spacy - Python библиотека для обработки текстов. Работает быстрее чем NLTK, но поддерживает только английский\n",
        "https://spacy.io/\n",
        "\n",
        "**Spacy Features:**\n",
        "* Non-destructive tokenization\n",
        "* Named entity recognition\n",
        "* Support for 53+ languages\n",
        "* 23 statistical models for 11 languages\n",
        "* pretrained word vectors\n",
        "* State-of-the-art speed\n",
        "* Easy deep learning integration\n",
        "* Part-of-speech tagging\n",
        "* Labelled dependency parsing\n",
        "* Syntax-driven sentence segmentation\n",
        "* Built in visualizers for syntax and NER\n",
        "* Convenient string-to-hash mapping\n",
        "* Export to numpy data arrays\n",
        "* Efficient binary serialization\n",
        "* Easy model packaging and deployment\n",
        "* Robust, rigorously evaluated accuracy"
      ]
    },
    {
      "cell_type": "markdown",
      "metadata": {
        "id": "rODVMk7jR0oC"
      },
      "source": [
        "## Represent word as WordNet"
      ]
    },
    {
      "cell_type": "markdown",
      "metadata": {
        "id": "Z-v898ZKR0oE"
      },
      "source": [
        " <img src=\"imgs/wordnet.png\"> "
      ]
    },
    {
      "cell_type": "markdown",
      "metadata": {
        "id": "y8zxKl07R0oG"
      },
      "source": [
        "## Descrete representation\n",
        "word = word\n",
        "\n",
        "**Problems:**\n",
        "* Missing new words\n",
        "* Subjective\n",
        "* Requires human labor to create and adapt\n",
        "* Hard to compute accurate word similarity"
      ]
    },
    {
      "cell_type": "markdown",
      "metadata": {
        "id": "bF_M8tnoR0oI"
      },
      "source": [
        "## One-hot encoding representation"
      ]
    },
    {
      "cell_type": "markdown",
      "metadata": {
        "id": "lSWS1KDAR0oK"
      },
      "source": [
        "<img src=\"imgs/ohe.png\">"
      ]
    },
    {
      "cell_type": "markdown",
      "metadata": {
        "id": "qI0NxfLDR0oM"
      },
      "source": [
        "## One-hot problem\n",
        "If we search for \"Seetle hotel\" we want \"motel\" to be shown too. **BUT:**"
      ]
    },
    {
      "cell_type": "markdown",
      "metadata": {
        "id": "ITtvLa9oR0oN"
      },
      "source": [
        "<img src=\"imgs/example1.png\">"
      ]
    },
    {
      "cell_type": "markdown",
      "metadata": {
        "id": "-UJ_CSuFR0oP"
      },
      "source": [
        "# Word coocurance\n",
        "\n",
        "### \"You shall know the word by the company it keeps\" (J.R. Firth 1957)"
      ]
    },
    {
      "cell_type": "markdown",
      "metadata": {
        "id": "HwwtcoIbR0oS"
      },
      "source": [
        "## N-grams\n",
        "<img src=\"imgs/ngram.png\"> "
      ]
    },
    {
      "cell_type": "markdown",
      "metadata": {
        "id": "I9RVugETR0oU"
      },
      "source": [
        "## Sliding window\n",
        "<img src=\"imgs/window.png\"> "
      ]
    },
    {
      "cell_type": "markdown",
      "metadata": {
        "id": "Tlf1HH1zR0oW"
      },
      "source": [
        "## Co-ocurance matrix\n",
        "<img src=\"imgs/comatrix1.png\"> "
      ]
    },
    {
      "cell_type": "markdown",
      "metadata": {
        "id": "ArdvE3eCR0oY"
      },
      "source": [
        "<img src=\"imgs/comatrix2.png\"> "
      ]
    },
    {
      "cell_type": "markdown",
      "metadata": {
        "id": "HDIIKE28R0oZ"
      },
      "source": [
        "# Bag of words (BoW) representation"
      ]
    },
    {
      "cell_type": "markdown",
      "metadata": {
        "id": "eEhII-xhR0ob"
      },
      "source": [
        "<img src=\"imgs/bow.jpeg\"> "
      ]
    },
    {
      "cell_type": "markdown",
      "metadata": {
        "id": "QfFr6yUkR0oc"
      },
      "source": [
        "**Bag of words:**\n",
        "\n",
        "<img src=\"imgs/bow1.png\"> "
      ]
    },
    {
      "cell_type": "markdown",
      "metadata": {
        "id": "uZhfQkyRR0oe"
      },
      "source": [
        "**Bag of n-grams:**\n",
        "<img src=\"imgs/bow2.png\"> "
      ]
    },
    {
      "cell_type": "markdown",
      "metadata": {
        "id": "ByEkVaSLR0of"
      },
      "source": [
        "After transforming the text into a \"bag of words\", we can calculate various measures to characterize the text. The most common type of characteristics, or features calculated from the Bag-of-words model is term frequency, namely, the number of times a term appears in the text"
      ]
    },
    {
      "cell_type": "markdown",
      "metadata": {
        "id": "ecH6rX3FR0oi"
      },
      "source": [
        "# TF-IDF\n",
        "A problem with scoring word frequency is that highly frequent words start to dominate in the document (e.g. larger score), but may not contain as much “informational content” to the model as rarer but perhaps domain specific words.\n",
        "\n",
        "One approach is to rescale the frequency of words by how often they appear in all documents, so that the scores for frequent words like “the” that are also frequent across all documents are penalized.\n",
        "\n",
        "This approach to scoring is called Term Frequency – Inverse Document Frequency, or TF-IDF for short, where:\n",
        "\n",
        "* **Term Frequency:** is a scoring of the frequency of the word in the current document.\n",
        "* **Inverse Document Frequency:** is a scoring of how rare the word is across documents.\n",
        "\n",
        "The scores are a weighting where not all words are equally as important or interesting.\n",
        "\n",
        "<img src=\"imgs/tfidf1.png\"> \n",
        "<img src=\"imgs/tfidf2.png\"> "
      ]
    },
    {
      "cell_type": "code",
      "metadata": {
        "id": "awLEmiyWR0ol",
        "outputId": "4a171c0e-e9a3-4907-d8d7-bcde999f5233"
      },
      "source": [
        "text = ' John likes to watch movies. Mary likes movies too. '\n",
        "\n",
        "BoW1 = {\"John\":1,\"likes\":2,\"to\":1,\"watch\":1,\"movies\":2,\"Mary\":1,\"too\":1};\n",
        "print(BoW1)"
      ],
      "execution_count": null,
      "outputs": [
        {
          "output_type": "stream",
          "text": [
            "{'John': 1, 'likes': 2, 'to': 1, 'watch': 1, 'movies': 2, 'Mary': 1, 'too': 1}\n"
          ],
          "name": "stdout"
        }
      ]
    },
    {
      "cell_type": "code",
      "metadata": {
        "id": "D44_PL3lR0ou"
      },
      "source": [],
      "execution_count": null,
      "outputs": []
    },
    {
      "cell_type": "code",
      "metadata": {
        "id": "aT-sOWtqR0oz",
        "outputId": "6d7bfa26-1807-41cc-f251-1153a6727e36"
      },
      "source": [
        "import nltk\n",
        "import re\n",
        "import numpy as np\n",
        "from nltk.tokenize import word_tokenize\n",
        "sentence = \"\"\"At eight o'clock on Thursday morning Arthur didn't feel very good.\"\"\"\n",
        "tokens = nltk.word_tokenize(sentence)\n",
        "print(tokens)"
      ],
      "execution_count": null,
      "outputs": [
        {
          "output_type": "stream",
          "text": [
            "['At', 'eight', \"o'clock\", 'on', 'Thursday', 'morning', 'Arthur', 'did', \"n't\", 'feel', 'very', 'good', '.']\n"
          ],
          "name": "stdout"
        }
      ]
    },
    {
      "cell_type": "code",
      "metadata": {
        "id": "HHhplkHNR0o4",
        "outputId": "824ddd60-8c9d-40bb-8d22-497c13aae695"
      },
      "source": [
        "import spacy\n",
        "nlp = spacy.load('en_core_web_sm') # English multi-task CNN trained on OntoNotes. Assigns context-specific token vectors, POS tags, dependency parse and named entities.\n",
        "text = \"Mary, don’t slap the green witch\"\n",
        "print([str(token) for token in nlp(text.lower())])"
      ],
      "execution_count": null,
      "outputs": [
        {
          "output_type": "stream",
          "text": [
            "['mary', ',', 'do', 'n’t', 'slap', 'the', 'green', 'witch']\n"
          ],
          "name": "stdout"
        }
      ]
    },
    {
      "cell_type": "code",
      "metadata": {
        "id": "zAoicUKVR0o_",
        "outputId": "28176904-bc05-421a-e98a-ece96085b92d"
      },
      "source": [
        "from nltk.tokenize import TweetTokenizer\n",
        "tokenizer = TweetTokenizer()\n",
        "print(tokenizer.tokenize(text.lower()))"
      ],
      "execution_count": null,
      "outputs": [
        {
          "output_type": "stream",
          "text": [
            "['mary', ',', 'don', '’', 't', 'slap', 'the', 'green', 'witch']\n"
          ],
          "name": "stdout"
        }
      ]
    },
    {
      "cell_type": "code",
      "metadata": {
        "id": "9hOf0y0PR0pE",
        "outputId": "40ee1b9f-9798-43ef-8c42-ded279d6c112"
      },
      "source": [
        "tweet=u\"Snow White and the Seven Degrees #MakeAMovieCold@midnight:)\"\n",
        "print(tokenizer.tokenize(tweet.lower()))"
      ],
      "execution_count": null,
      "outputs": [
        {
          "output_type": "stream",
          "text": [
            "['snow', 'white', 'and', 'the', 'seven', 'degrees', '#makeamoviecold', '@midnight', ':)']\n"
          ],
          "name": "stdout"
        }
      ]
    },
    {
      "cell_type": "code",
      "metadata": {
        "id": "4kdh_TfAR0pJ",
        "outputId": "2c982e21-c1f4-480b-ecf1-73890af9307c"
      },
      "source": [
        "s0 = \"This is a cooool #dummysmiley: :-) :-P <3 and some arrows < > -> <--\"\n",
        "print(tokenizer.tokenize(s0.lower()))"
      ],
      "execution_count": null,
      "outputs": [
        {
          "output_type": "stream",
          "text": [
            "['this', 'is', 'a', 'cooool', '#dummysmiley', ':', ':-)', ':-p', '<3', 'and', 'some', 'arrows', '<', '>', '->', '<--']\n"
          ],
          "name": "stdout"
        }
      ]
    },
    {
      "cell_type": "code",
      "metadata": {
        "id": "Mq928Bd1R0pN",
        "outputId": "6cde8f7f-1ee1-484b-db94-20867f29fbe1"
      },
      "source": [
        "s1 = '@remy: This is waaaaayyyy too much for you!!!!!!'\n",
        "tokenizer = TweetTokenizer(strip_handles=True, reduce_len=True)\n",
        "print(tokenizer.tokenize(s1.lower()))"
      ],
      "execution_count": null,
      "outputs": [
        {
          "output_type": "stream",
          "text": [
            "[':', 'this', 'is', 'waaayyy', 'too', 'much', 'for', 'you', '!', '!', '!']\n"
          ],
          "name": "stdout"
        }
      ]
    },
    {
      "cell_type": "code",
      "metadata": {
        "id": "cz01ZF8hR0pR",
        "outputId": "80411deb-2c36-4e5b-e3c8-d8dc09c1b7d3"
      },
      "source": [
        "print(nltk.word_tokenize(s1))"
      ],
      "execution_count": null,
      "outputs": [
        {
          "output_type": "stream",
          "text": [
            "['@', 'remy', ':', 'This', 'is', 'waaaaayyyy', 'too', 'much', 'for', 'you', '!', '!', '!', '!', '!', '!']\n"
          ],
          "name": "stdout"
        }
      ]
    },
    {
      "cell_type": "markdown",
      "metadata": {
        "id": "6iW4oqZpR0pV"
      },
      "source": [
        "## N-grams"
      ]
    },
    {
      "cell_type": "code",
      "metadata": {
        "id": "U4k2qHSmR0pW",
        "outputId": "0d6e1570-792c-40cc-c215-b88ab90319b9"
      },
      "source": [
        "#Func to create n-grams\n",
        "def n_grams(text, n):\n",
        "    '''\n",
        "    takes tokens or text, returns a list of ngrams\n",
        "    '''\n",
        "    return [text[i:i+n] for i in range(len(text) - n + 1)]\n",
        "\n",
        "text = \"At eight o'clock on Thursday morning Arthur didn't feel very good.\"\n",
        "text = tokenizer.tokenize(text)\n",
        "print(n_grams(text, 3))"
      ],
      "execution_count": null,
      "outputs": [
        {
          "output_type": "stream",
          "text": [
            "[['At', 'eight', \"o'clock\"], ['eight', \"o'clock\", 'on'], [\"o'clock\", 'on', 'Thursday'], ['on', 'Thursday', 'morning'], ['Thursday', 'morning', 'Arthur'], ['morning', 'Arthur', \"didn't\"], ['Arthur', \"didn't\", 'feel'], [\"didn't\", 'feel', 'very'], ['feel', 'very', 'good'], ['very', 'good', '.']]\n"
          ],
          "name": "stdout"
        }
      ]
    },
    {
      "cell_type": "code",
      "metadata": {
        "id": "30MK4EwMR0pb",
        "outputId": "cc3d5b73-31e1-441b-b46e-3bb3747e602c"
      },
      "source": [
        "def n_grams(text, n):\n",
        "    '''\n",
        "    takes tokens or text, returns a list of ngrams\n",
        "    '''\n",
        "    return [text[i:i+n] for i in range(len(text) - n + 1)]\n",
        "\n",
        "cleaned = \"Methanol is tasty\"\n",
        "cleaned = tokenizer.tokenize(cleaned)\n",
        "print(n_grams(cleaned, 3))"
      ],
      "execution_count": null,
      "outputs": [
        {
          "output_type": "stream",
          "text": [
            "[['Methanol', 'is', 'tasty']]\n"
          ],
          "name": "stdout"
        }
      ]
    },
    {
      "cell_type": "markdown",
      "metadata": {
        "id": "HNF4FU-uR0pf"
      },
      "source": [
        "### using nltk lib"
      ]
    },
    {
      "cell_type": "code",
      "metadata": {
        "id": "d1wt8-LyR0pg"
      },
      "source": [
        "from nltk.util import ngrams"
      ],
      "execution_count": null,
      "outputs": []
    },
    {
      "cell_type": "code",
      "metadata": {
        "id": "BQrmHtTJR0pn"
      },
      "source": [
        "#define a function for extracting n-grams\n",
        "def extract_ngrams(data, num):\n",
        "    n_grams = ngrams(nltk.word_tokenize(data), num)\n",
        "    return [ ' '.join(grams) for grams in n_grams]"
      ],
      "execution_count": null,
      "outputs": []
    },
    {
      "cell_type": "code",
      "metadata": {
        "id": "e5SmEmruR0pu",
        "outputId": "6ac56bff-68a7-4785-fac7-d438654e4bb9"
      },
      "source": [
        "data = 'A class is a blueprint for the object.'\n",
        " \n",
        "print(\"1-gram: \", extract_ngrams(data, 1)) #exstarct 2,3 grams"
      ],
      "execution_count": null,
      "outputs": [
        {
          "output_type": "stream",
          "text": [
            "1-gram:  ['A', 'class', 'is', 'a', 'blueprint', 'for', 'the', 'object', '.']\n"
          ],
          "name": "stdout"
        }
      ]
    },
    {
      "cell_type": "markdown",
      "metadata": {
        "id": "VcGuAQ9GR0py"
      },
      "source": [
        "## One-hot encode a sentence"
      ]
    },
    {
      "cell_type": "code",
      "metadata": {
        "id": "6eVklNnaR0p0",
        "outputId": "a86ea981-4080-4238-9fd9-66a3dd0a1b99"
      },
      "source": [
        "sentence = \"\"\"At eight o'clock on Thursday morning Arthur didn't feel very good.\"\"\"\n",
        "tokens = nltk.word_tokenize(sentence)\n",
        "print(tokens)"
      ],
      "execution_count": null,
      "outputs": [
        {
          "output_type": "stream",
          "text": [
            "['At', 'eight', \"o'clock\", 'on', 'Thursday', 'morning', 'Arthur', 'did', \"n't\", 'feel', 'very', 'good', '.']\n"
          ],
          "name": "stdout"
        }
      ]
    },
    {
      "cell_type": "code",
      "metadata": {
        "id": "qvq5V2vgR0p4"
      },
      "source": [
        "import pandas as pd\n",
        "s = pd.Series(tokens)"
      ],
      "execution_count": null,
      "outputs": []
    },
    {
      "cell_type": "code",
      "metadata": {
        "id": "UO4cm64LR0qC",
        "outputId": "5995fe88-8c54-4954-8b06-ceee776535a7"
      },
      "source": [
        "pd.get_dummies(s)"
      ],
      "execution_count": null,
      "outputs": [
        {
          "output_type": "execute_result",
          "data": {
            "text/html": [
              "<div>\n",
              "<style scoped>\n",
              "    .dataframe tbody tr th:only-of-type {\n",
              "        vertical-align: middle;\n",
              "    }\n",
              "\n",
              "    .dataframe tbody tr th {\n",
              "        vertical-align: top;\n",
              "    }\n",
              "\n",
              "    .dataframe thead th {\n",
              "        text-align: right;\n",
              "    }\n",
              "</style>\n",
              "<table border=\"1\" class=\"dataframe\">\n",
              "  <thead>\n",
              "    <tr style=\"text-align: right;\">\n",
              "      <th></th>\n",
              "      <th>.</th>\n",
              "      <th>Arthur</th>\n",
              "      <th>At</th>\n",
              "      <th>Thursday</th>\n",
              "      <th>did</th>\n",
              "      <th>eight</th>\n",
              "      <th>feel</th>\n",
              "      <th>good</th>\n",
              "      <th>morning</th>\n",
              "      <th>n't</th>\n",
              "      <th>o'clock</th>\n",
              "      <th>on</th>\n",
              "      <th>very</th>\n",
              "    </tr>\n",
              "  </thead>\n",
              "  <tbody>\n",
              "    <tr>\n",
              "      <td>0</td>\n",
              "      <td>0</td>\n",
              "      <td>0</td>\n",
              "      <td>1</td>\n",
              "      <td>0</td>\n",
              "      <td>0</td>\n",
              "      <td>0</td>\n",
              "      <td>0</td>\n",
              "      <td>0</td>\n",
              "      <td>0</td>\n",
              "      <td>0</td>\n",
              "      <td>0</td>\n",
              "      <td>0</td>\n",
              "      <td>0</td>\n",
              "    </tr>\n",
              "    <tr>\n",
              "      <td>1</td>\n",
              "      <td>0</td>\n",
              "      <td>0</td>\n",
              "      <td>0</td>\n",
              "      <td>0</td>\n",
              "      <td>0</td>\n",
              "      <td>1</td>\n",
              "      <td>0</td>\n",
              "      <td>0</td>\n",
              "      <td>0</td>\n",
              "      <td>0</td>\n",
              "      <td>0</td>\n",
              "      <td>0</td>\n",
              "      <td>0</td>\n",
              "    </tr>\n",
              "    <tr>\n",
              "      <td>2</td>\n",
              "      <td>0</td>\n",
              "      <td>0</td>\n",
              "      <td>0</td>\n",
              "      <td>0</td>\n",
              "      <td>0</td>\n",
              "      <td>0</td>\n",
              "      <td>0</td>\n",
              "      <td>0</td>\n",
              "      <td>0</td>\n",
              "      <td>0</td>\n",
              "      <td>1</td>\n",
              "      <td>0</td>\n",
              "      <td>0</td>\n",
              "    </tr>\n",
              "    <tr>\n",
              "      <td>3</td>\n",
              "      <td>0</td>\n",
              "      <td>0</td>\n",
              "      <td>0</td>\n",
              "      <td>0</td>\n",
              "      <td>0</td>\n",
              "      <td>0</td>\n",
              "      <td>0</td>\n",
              "      <td>0</td>\n",
              "      <td>0</td>\n",
              "      <td>0</td>\n",
              "      <td>0</td>\n",
              "      <td>1</td>\n",
              "      <td>0</td>\n",
              "    </tr>\n",
              "    <tr>\n",
              "      <td>4</td>\n",
              "      <td>0</td>\n",
              "      <td>0</td>\n",
              "      <td>0</td>\n",
              "      <td>1</td>\n",
              "      <td>0</td>\n",
              "      <td>0</td>\n",
              "      <td>0</td>\n",
              "      <td>0</td>\n",
              "      <td>0</td>\n",
              "      <td>0</td>\n",
              "      <td>0</td>\n",
              "      <td>0</td>\n",
              "      <td>0</td>\n",
              "    </tr>\n",
              "    <tr>\n",
              "      <td>5</td>\n",
              "      <td>0</td>\n",
              "      <td>0</td>\n",
              "      <td>0</td>\n",
              "      <td>0</td>\n",
              "      <td>0</td>\n",
              "      <td>0</td>\n",
              "      <td>0</td>\n",
              "      <td>0</td>\n",
              "      <td>1</td>\n",
              "      <td>0</td>\n",
              "      <td>0</td>\n",
              "      <td>0</td>\n",
              "      <td>0</td>\n",
              "    </tr>\n",
              "    <tr>\n",
              "      <td>6</td>\n",
              "      <td>0</td>\n",
              "      <td>1</td>\n",
              "      <td>0</td>\n",
              "      <td>0</td>\n",
              "      <td>0</td>\n",
              "      <td>0</td>\n",
              "      <td>0</td>\n",
              "      <td>0</td>\n",
              "      <td>0</td>\n",
              "      <td>0</td>\n",
              "      <td>0</td>\n",
              "      <td>0</td>\n",
              "      <td>0</td>\n",
              "    </tr>\n",
              "    <tr>\n",
              "      <td>7</td>\n",
              "      <td>0</td>\n",
              "      <td>0</td>\n",
              "      <td>0</td>\n",
              "      <td>0</td>\n",
              "      <td>1</td>\n",
              "      <td>0</td>\n",
              "      <td>0</td>\n",
              "      <td>0</td>\n",
              "      <td>0</td>\n",
              "      <td>0</td>\n",
              "      <td>0</td>\n",
              "      <td>0</td>\n",
              "      <td>0</td>\n",
              "    </tr>\n",
              "    <tr>\n",
              "      <td>8</td>\n",
              "      <td>0</td>\n",
              "      <td>0</td>\n",
              "      <td>0</td>\n",
              "      <td>0</td>\n",
              "      <td>0</td>\n",
              "      <td>0</td>\n",
              "      <td>0</td>\n",
              "      <td>0</td>\n",
              "      <td>0</td>\n",
              "      <td>1</td>\n",
              "      <td>0</td>\n",
              "      <td>0</td>\n",
              "      <td>0</td>\n",
              "    </tr>\n",
              "    <tr>\n",
              "      <td>9</td>\n",
              "      <td>0</td>\n",
              "      <td>0</td>\n",
              "      <td>0</td>\n",
              "      <td>0</td>\n",
              "      <td>0</td>\n",
              "      <td>0</td>\n",
              "      <td>1</td>\n",
              "      <td>0</td>\n",
              "      <td>0</td>\n",
              "      <td>0</td>\n",
              "      <td>0</td>\n",
              "      <td>0</td>\n",
              "      <td>0</td>\n",
              "    </tr>\n",
              "    <tr>\n",
              "      <td>10</td>\n",
              "      <td>0</td>\n",
              "      <td>0</td>\n",
              "      <td>0</td>\n",
              "      <td>0</td>\n",
              "      <td>0</td>\n",
              "      <td>0</td>\n",
              "      <td>0</td>\n",
              "      <td>0</td>\n",
              "      <td>0</td>\n",
              "      <td>0</td>\n",
              "      <td>0</td>\n",
              "      <td>0</td>\n",
              "      <td>1</td>\n",
              "    </tr>\n",
              "    <tr>\n",
              "      <td>11</td>\n",
              "      <td>0</td>\n",
              "      <td>0</td>\n",
              "      <td>0</td>\n",
              "      <td>0</td>\n",
              "      <td>0</td>\n",
              "      <td>0</td>\n",
              "      <td>0</td>\n",
              "      <td>1</td>\n",
              "      <td>0</td>\n",
              "      <td>0</td>\n",
              "      <td>0</td>\n",
              "      <td>0</td>\n",
              "      <td>0</td>\n",
              "    </tr>\n",
              "    <tr>\n",
              "      <td>12</td>\n",
              "      <td>1</td>\n",
              "      <td>0</td>\n",
              "      <td>0</td>\n",
              "      <td>0</td>\n",
              "      <td>0</td>\n",
              "      <td>0</td>\n",
              "      <td>0</td>\n",
              "      <td>0</td>\n",
              "      <td>0</td>\n",
              "      <td>0</td>\n",
              "      <td>0</td>\n",
              "      <td>0</td>\n",
              "      <td>0</td>\n",
              "    </tr>\n",
              "  </tbody>\n",
              "</table>\n",
              "</div>"
            ],
            "text/plain": [
              "    .  Arthur  At  Thursday  did  eight  feel  good  morning  n't  o'clock  \\\n",
              "0   0       0   1         0    0      0     0     0        0    0        0   \n",
              "1   0       0   0         0    0      1     0     0        0    0        0   \n",
              "2   0       0   0         0    0      0     0     0        0    0        1   \n",
              "3   0       0   0         0    0      0     0     0        0    0        0   \n",
              "4   0       0   0         1    0      0     0     0        0    0        0   \n",
              "5   0       0   0         0    0      0     0     0        1    0        0   \n",
              "6   0       1   0         0    0      0     0     0        0    0        0   \n",
              "7   0       0   0         0    1      0     0     0        0    0        0   \n",
              "8   0       0   0         0    0      0     0     0        0    1        0   \n",
              "9   0       0   0         0    0      0     1     0        0    0        0   \n",
              "10  0       0   0         0    0      0     0     0        0    0        0   \n",
              "11  0       0   0         0    0      0     0     1        0    0        0   \n",
              "12  1       0   0         0    0      0     0     0        0    0        0   \n",
              "\n",
              "    on  very  \n",
              "0    0     0  \n",
              "1    0     0  \n",
              "2    0     0  \n",
              "3    1     0  \n",
              "4    0     0  \n",
              "5    0     0  \n",
              "6    0     0  \n",
              "7    0     0  \n",
              "8    0     0  \n",
              "9    0     0  \n",
              "10   0     1  \n",
              "11   0     0  \n",
              "12   0     0  "
            ]
          },
          "metadata": {
            "tags": []
          },
          "execution_count": 165
        }
      ]
    },
    {
      "cell_type": "markdown",
      "metadata": {
        "id": "8D72lNbMR0qH"
      },
      "source": [
        "# Co-ocurance matrix"
      ]
    },
    {
      "cell_type": "code",
      "metadata": {
        "id": "l5FKcRlQR0qI"
      },
      "source": [
        "from nltk import bigrams\n",
        "import itertools\n",
        "\n",
        "\n",
        "def generate_co_occurrence_matrix(corpus):\n",
        "    vocab = set(corpus)\n",
        "    vocab = list(vocab)\n",
        "    vocab_index = {word: i for i, word in enumerate(vocab)}\n",
        "\n",
        "    # Create bigrams from all words in corpus\n",
        "    bi_grams = list(bigrams(corpus))\n",
        "\n",
        "    # Frequency distribution of bigrams ((word1, word2), num_occurrences)\n",
        "    bigram_freq = nltk.FreqDist(bi_grams).most_common(len(bi_grams))\n",
        "\n",
        "    # Initialise co-occurrence matrix\n",
        "    # co_occurrence_matrix[current][previous]\n",
        "    co_occurrence_matrix = np.zeros((len(vocab), len(vocab)))\n",
        "\n",
        "    # Loop through the bigrams taking the current and previous word,\n",
        "    # and the number of occurrences of the bigram.\n",
        "    for bigram in bigram_freq:\n",
        "        current = bigram[0][1]\n",
        "        previous = bigram[0][0]\n",
        "        count = bigram[1]\n",
        "        pos_current = vocab_index[current]\n",
        "        pos_previous = vocab_index[previous]\n",
        "        co_occurrence_matrix[pos_current][pos_previous] = count\n",
        "    co_occurrence_matrix = np.matrix(co_occurrence_matrix)\n",
        "\n",
        "    # return the matrix and the index\n",
        "    return co_occurrence_matrix, vocab_index\n"
      ],
      "execution_count": null,
      "outputs": []
    },
    {
      "cell_type": "code",
      "metadata": {
        "id": "WpTMIaWkR0qM",
        "outputId": "10ed2a4e-6e63-4f98-bed7-2977759e7aad"
      },
      "source": [
        "text_data = [['Where', 'Python', 'is', 'used'],\n",
        "             ['What', 'is', 'Python', 'used', 'in'],\n",
        "             ['Why', 'Python', 'is', 'best'],\n",
        "             ['What', 'companies', 'use', 'Python']]\n",
        "\n",
        "# Create one list using many lists\n",
        "data = list(itertools.chain.from_iterable(text_data))\n",
        "print(data)"
      ],
      "execution_count": null,
      "outputs": [
        {
          "output_type": "stream",
          "text": [
            "['Where', 'Python', 'is', 'used', 'What', 'is', 'Python', 'used', 'in', 'Why', 'Python', 'is', 'best', 'What', 'companies', 'use', 'Python']\n"
          ],
          "name": "stdout"
        }
      ]
    },
    {
      "cell_type": "code",
      "metadata": {
        "id": "hxdQ6Fe5R0qQ",
        "outputId": "63f8467c-a91f-499c-98f7-9189f91b06d2"
      },
      "source": [
        "matrix, vocab_index = generate_co_occurrence_matrix(data)\n",
        "\n",
        "data_matrix = pd.DataFrame(matrix, index=vocab_index,\n",
        "                             columns=vocab_index)\n",
        "data_matrix"
      ],
      "execution_count": null,
      "outputs": [
        {
          "output_type": "execute_result",
          "data": {
            "text/html": [
              "<div>\n",
              "<style scoped>\n",
              "    .dataframe tbody tr th:only-of-type {\n",
              "        vertical-align: middle;\n",
              "    }\n",
              "\n",
              "    .dataframe tbody tr th {\n",
              "        vertical-align: top;\n",
              "    }\n",
              "\n",
              "    .dataframe thead th {\n",
              "        text-align: right;\n",
              "    }\n",
              "</style>\n",
              "<table border=\"1\" class=\"dataframe\">\n",
              "  <thead>\n",
              "    <tr style=\"text-align: right;\">\n",
              "      <th></th>\n",
              "      <th>Python</th>\n",
              "      <th>Where</th>\n",
              "      <th>Why</th>\n",
              "      <th>best</th>\n",
              "      <th>in</th>\n",
              "      <th>companies</th>\n",
              "      <th>use</th>\n",
              "      <th>is</th>\n",
              "      <th>What</th>\n",
              "      <th>used</th>\n",
              "    </tr>\n",
              "  </thead>\n",
              "  <tbody>\n",
              "    <tr>\n",
              "      <td>Python</td>\n",
              "      <td>0.0</td>\n",
              "      <td>1.0</td>\n",
              "      <td>1.0</td>\n",
              "      <td>0.0</td>\n",
              "      <td>0.0</td>\n",
              "      <td>0.0</td>\n",
              "      <td>1.0</td>\n",
              "      <td>1.0</td>\n",
              "      <td>0.0</td>\n",
              "      <td>0.0</td>\n",
              "    </tr>\n",
              "    <tr>\n",
              "      <td>Where</td>\n",
              "      <td>0.0</td>\n",
              "      <td>0.0</td>\n",
              "      <td>0.0</td>\n",
              "      <td>0.0</td>\n",
              "      <td>0.0</td>\n",
              "      <td>0.0</td>\n",
              "      <td>0.0</td>\n",
              "      <td>0.0</td>\n",
              "      <td>0.0</td>\n",
              "      <td>0.0</td>\n",
              "    </tr>\n",
              "    <tr>\n",
              "      <td>Why</td>\n",
              "      <td>0.0</td>\n",
              "      <td>0.0</td>\n",
              "      <td>0.0</td>\n",
              "      <td>0.0</td>\n",
              "      <td>1.0</td>\n",
              "      <td>0.0</td>\n",
              "      <td>0.0</td>\n",
              "      <td>0.0</td>\n",
              "      <td>0.0</td>\n",
              "      <td>0.0</td>\n",
              "    </tr>\n",
              "    <tr>\n",
              "      <td>best</td>\n",
              "      <td>0.0</td>\n",
              "      <td>0.0</td>\n",
              "      <td>0.0</td>\n",
              "      <td>0.0</td>\n",
              "      <td>0.0</td>\n",
              "      <td>0.0</td>\n",
              "      <td>0.0</td>\n",
              "      <td>1.0</td>\n",
              "      <td>0.0</td>\n",
              "      <td>0.0</td>\n",
              "    </tr>\n",
              "    <tr>\n",
              "      <td>in</td>\n",
              "      <td>0.0</td>\n",
              "      <td>0.0</td>\n",
              "      <td>0.0</td>\n",
              "      <td>0.0</td>\n",
              "      <td>0.0</td>\n",
              "      <td>0.0</td>\n",
              "      <td>0.0</td>\n",
              "      <td>0.0</td>\n",
              "      <td>0.0</td>\n",
              "      <td>1.0</td>\n",
              "    </tr>\n",
              "    <tr>\n",
              "      <td>companies</td>\n",
              "      <td>0.0</td>\n",
              "      <td>0.0</td>\n",
              "      <td>0.0</td>\n",
              "      <td>0.0</td>\n",
              "      <td>0.0</td>\n",
              "      <td>0.0</td>\n",
              "      <td>0.0</td>\n",
              "      <td>0.0</td>\n",
              "      <td>1.0</td>\n",
              "      <td>0.0</td>\n",
              "    </tr>\n",
              "    <tr>\n",
              "      <td>use</td>\n",
              "      <td>0.0</td>\n",
              "      <td>0.0</td>\n",
              "      <td>0.0</td>\n",
              "      <td>0.0</td>\n",
              "      <td>0.0</td>\n",
              "      <td>1.0</td>\n",
              "      <td>0.0</td>\n",
              "      <td>0.0</td>\n",
              "      <td>0.0</td>\n",
              "      <td>0.0</td>\n",
              "    </tr>\n",
              "    <tr>\n",
              "      <td>is</td>\n",
              "      <td>2.0</td>\n",
              "      <td>0.0</td>\n",
              "      <td>0.0</td>\n",
              "      <td>0.0</td>\n",
              "      <td>0.0</td>\n",
              "      <td>0.0</td>\n",
              "      <td>0.0</td>\n",
              "      <td>0.0</td>\n",
              "      <td>1.0</td>\n",
              "      <td>0.0</td>\n",
              "    </tr>\n",
              "    <tr>\n",
              "      <td>What</td>\n",
              "      <td>0.0</td>\n",
              "      <td>0.0</td>\n",
              "      <td>0.0</td>\n",
              "      <td>1.0</td>\n",
              "      <td>0.0</td>\n",
              "      <td>0.0</td>\n",
              "      <td>0.0</td>\n",
              "      <td>0.0</td>\n",
              "      <td>0.0</td>\n",
              "      <td>1.0</td>\n",
              "    </tr>\n",
              "    <tr>\n",
              "      <td>used</td>\n",
              "      <td>1.0</td>\n",
              "      <td>0.0</td>\n",
              "      <td>0.0</td>\n",
              "      <td>0.0</td>\n",
              "      <td>0.0</td>\n",
              "      <td>0.0</td>\n",
              "      <td>0.0</td>\n",
              "      <td>1.0</td>\n",
              "      <td>0.0</td>\n",
              "      <td>0.0</td>\n",
              "    </tr>\n",
              "  </tbody>\n",
              "</table>\n",
              "</div>"
            ],
            "text/plain": [
              "           Python  Where  Why  best   in  companies  use   is  What  used\n",
              "Python        0.0    1.0  1.0   0.0  0.0        0.0  1.0  1.0   0.0   0.0\n",
              "Where         0.0    0.0  0.0   0.0  0.0        0.0  0.0  0.0   0.0   0.0\n",
              "Why           0.0    0.0  0.0   0.0  1.0        0.0  0.0  0.0   0.0   0.0\n",
              "best          0.0    0.0  0.0   0.0  0.0        0.0  0.0  1.0   0.0   0.0\n",
              "in            0.0    0.0  0.0   0.0  0.0        0.0  0.0  0.0   0.0   1.0\n",
              "companies     0.0    0.0  0.0   0.0  0.0        0.0  0.0  0.0   1.0   0.0\n",
              "use           0.0    0.0  0.0   0.0  0.0        1.0  0.0  0.0   0.0   0.0\n",
              "is            2.0    0.0  0.0   0.0  0.0        0.0  0.0  0.0   1.0   0.0\n",
              "What          0.0    0.0  0.0   1.0  0.0        0.0  0.0  0.0   0.0   1.0\n",
              "used          1.0    0.0  0.0   0.0  0.0        0.0  0.0  1.0   0.0   0.0"
            ]
          },
          "metadata": {
            "tags": []
          },
          "execution_count": 177
        }
      ]
    },
    {
      "cell_type": "markdown",
      "metadata": {
        "id": "_gIXrit1R0qU"
      },
      "source": [
        "## Bag-of-Words implementation"
      ]
    },
    {
      "cell_type": "code",
      "metadata": {
        "id": "LCqGOWiXR0qV",
        "outputId": "f03fe654-a60f-48bd-bd3f-88c2156d678c"
      },
      "source": [
        "text = \"\"\"Beans. I was trying to explain to somebody as we were flying in, that’s corn. That’s beans. And they were very impressed at my agricultural knowledge. Please give it up for Amaury once again for that outstanding introduction. I have a bunch of good friends here today, including somebody who I served with, who is one of the finest senators in the country, and we’re lucky to have him, your Senator, Dick Durbin is here. I also noticed, by the way, former Governor Edgar here, who I haven’t seen in a long time, and somehow he has not aged and I have. And it’s great to see you, Governor. I want to thank President Killeen and everybody at the U of I System for making it possible for me to be here today. And I am deeply honored at the Paul Douglas Award that is being given to me. He is somebody who set the path for so much outstanding public service here in Illinois. Now, I want to start by addressing the elephant in the room. I know people are still wondering why I didn’t speak at the commencement.\"\"\"\n",
        "print(text)"
      ],
      "execution_count": null,
      "outputs": [
        {
          "output_type": "stream",
          "text": [
            "Beans. I was trying to explain to somebody as we were flying in, that’s corn. That’s beans. And they were very impressed at my agricultural knowledge. Please give it up for Amaury once again for that outstanding introduction. I have a bunch of good friends here today, including somebody who I served with, who is one of the finest senators in the country, and we’re lucky to have him, your Senator, Dick Durbin is here. I also noticed, by the way, former Governor Edgar here, who I haven’t seen in a long time, and somehow he has not aged and I have. And it’s great to see you, Governor. I want to thank President Killeen and everybody at the U of I System for making it possible for me to be here today. And I am deeply honored at the Paul Douglas Award that is being given to me. He is somebody who set the path for so much outstanding public service here in Illinois. Now, I want to start by addressing the elephant in the room. I know people are still wondering why I didn’t speak at the commencement.\n"
          ],
          "name": "stdout"
        }
      ]
    },
    {
      "cell_type": "code",
      "metadata": {
        "id": "jztV4tK-R0qZ",
        "outputId": "26e2802a-7af9-42ba-e0a1-aa923d57f64c"
      },
      "source": [
        "dataset = nltk.sent_tokenize(text) \n",
        "for i in range(len(dataset)): \n",
        "    dataset[i] = dataset[i].lower() \n",
        "    dataset[i] = re.sub(r'\\W', ' ', dataset[i]) \n",
        "    dataset[i] = re.sub(r'\\s+', ' ', dataset[i]) \n",
        "dataset"
      ],
      "execution_count": null,
      "outputs": [
        {
          "output_type": "execute_result",
          "data": {
            "text/plain": [
              "['beans ',\n",
              " 'i was trying to explain to somebody as we were flying in that s corn ',\n",
              " 'that s beans ',\n",
              " 'and they were very impressed at my agricultural knowledge ',\n",
              " 'please give it up for amaury once again for that outstanding introduction ',\n",
              " 'i have a bunch of good friends here today including somebody who i served with who is one of the finest senators in the country and we re lucky to have him your senator dick durbin is here ',\n",
              " 'i also noticed by the way former governor edgar here who i haven t seen in a long time and somehow he has not aged and i have ',\n",
              " 'and it s great to see you governor ',\n",
              " 'i want to thank president killeen and everybody at the u of i system for making it possible for me to be here today ',\n",
              " 'and i am deeply honored at the paul douglas award that is being given to me ',\n",
              " 'he is somebody who set the path for so much outstanding public service here in illinois ',\n",
              " 'now i want to start by addressing the elephant in the room ',\n",
              " 'i know people are still wondering why i didn t speak at the commencement ']"
            ]
          },
          "metadata": {
            "tags": []
          },
          "execution_count": 129
        }
      ]
    },
    {
      "cell_type": "code",
      "metadata": {
        "id": "H559k-mnR0qd",
        "outputId": "a29aaec1-7d63-4eea-e729-2ce106c219ff"
      },
      "source": [
        "# Creating the Bag of Words model \n",
        "word2count = {} \n",
        "for data in dataset: \n",
        "    words = nltk.word_tokenize(data) \n",
        "    for word in words: \n",
        "        if word not in word2count.keys(): \n",
        "            word2count[word] = 1\n",
        "        else: \n",
        "            word2count[word] += 1\n",
        "word2count"
      ],
      "execution_count": null,
      "outputs": [
        {
          "output_type": "execute_result",
          "data": {
            "text/plain": [
              "{'beans': 2,\n",
              " 'i': 12,\n",
              " 'was': 1,\n",
              " 'trying': 1,\n",
              " 'to': 8,\n",
              " 'explain': 1,\n",
              " 'somebody': 3,\n",
              " 'as': 1,\n",
              " 'we': 2,\n",
              " 'were': 2,\n",
              " 'flying': 1,\n",
              " 'in': 5,\n",
              " 'that': 4,\n",
              " 's': 3,\n",
              " 'corn': 1,\n",
              " 'and': 7,\n",
              " 'they': 1,\n",
              " 'very': 1,\n",
              " 'impressed': 1,\n",
              " 'at': 4,\n",
              " 'my': 1,\n",
              " 'agricultural': 1,\n",
              " 'knowledge': 1,\n",
              " 'please': 1,\n",
              " 'give': 1,\n",
              " 'it': 3,\n",
              " 'up': 1,\n",
              " 'for': 5,\n",
              " 'amaury': 1,\n",
              " 'once': 1,\n",
              " 'again': 1,\n",
              " 'outstanding': 2,\n",
              " 'introduction': 1,\n",
              " 'have': 3,\n",
              " 'a': 2,\n",
              " 'bunch': 1,\n",
              " 'of': 3,\n",
              " 'good': 1,\n",
              " 'friends': 1,\n",
              " 'here': 5,\n",
              " 'today': 2,\n",
              " 'including': 1,\n",
              " 'who': 4,\n",
              " 'served': 1,\n",
              " 'with': 1,\n",
              " 'is': 4,\n",
              " 'one': 1,\n",
              " 'the': 9,\n",
              " 'finest': 1,\n",
              " 'senators': 1,\n",
              " 'country': 1,\n",
              " 're': 1,\n",
              " 'lucky': 1,\n",
              " 'him': 1,\n",
              " 'your': 1,\n",
              " 'senator': 1,\n",
              " 'dick': 1,\n",
              " 'durbin': 1,\n",
              " 'also': 1,\n",
              " 'noticed': 1,\n",
              " 'by': 2,\n",
              " 'way': 1,\n",
              " 'former': 1,\n",
              " 'governor': 2,\n",
              " 'edgar': 1,\n",
              " 'haven': 1,\n",
              " 't': 2,\n",
              " 'seen': 1,\n",
              " 'long': 1,\n",
              " 'time': 1,\n",
              " 'somehow': 1,\n",
              " 'he': 2,\n",
              " 'has': 1,\n",
              " 'not': 1,\n",
              " 'aged': 1,\n",
              " 'great': 1,\n",
              " 'see': 1,\n",
              " 'you': 1,\n",
              " 'want': 2,\n",
              " 'thank': 1,\n",
              " 'president': 1,\n",
              " 'killeen': 1,\n",
              " 'everybody': 1,\n",
              " 'u': 1,\n",
              " 'system': 1,\n",
              " 'making': 1,\n",
              " 'possible': 1,\n",
              " 'me': 2,\n",
              " 'be': 1,\n",
              " 'am': 1,\n",
              " 'deeply': 1,\n",
              " 'honored': 1,\n",
              " 'paul': 1,\n",
              " 'douglas': 1,\n",
              " 'award': 1,\n",
              " 'being': 1,\n",
              " 'given': 1,\n",
              " 'set': 1,\n",
              " 'path': 1,\n",
              " 'so': 1,\n",
              " 'much': 1,\n",
              " 'public': 1,\n",
              " 'service': 1,\n",
              " 'illinois': 1,\n",
              " 'now': 1,\n",
              " 'start': 1,\n",
              " 'addressing': 1,\n",
              " 'elephant': 1,\n",
              " 'room': 1,\n",
              " 'know': 1,\n",
              " 'people': 1,\n",
              " 'are': 1,\n",
              " 'still': 1,\n",
              " 'wondering': 1,\n",
              " 'why': 1,\n",
              " 'didn': 1,\n",
              " 'speak': 1,\n",
              " 'commencement': 1}"
            ]
          },
          "metadata": {
            "tags": []
          },
          "execution_count": 130
        }
      ]
    },
    {
      "cell_type": "code",
      "metadata": {
        "id": "gIy2BMYMR0qj"
      },
      "source": [
        "#check how many words are in the vocab"
      ],
      "execution_count": null,
      "outputs": []
    },
    {
      "cell_type": "code",
      "metadata": {
        "id": "wuwo-BZ-R0qn",
        "outputId": "01f11744-7081-4a81-8ae5-c6ef4c368c94"
      },
      "source": [
        "import heapq \n",
        "freq_words = heapq.nlargest(10, word2count, key=word2count.get)\n",
        "freq_words\n",
        "#change n"
      ],
      "execution_count": null,
      "outputs": [
        {
          "output_type": "execute_result",
          "data": {
            "text/plain": [
              "['i', 'the', 'to', 'and', 'in', 'for', 'here', 'that', 'at', 'who']"
            ]
          },
          "metadata": {
            "tags": []
          },
          "execution_count": 125
        }
      ]
    },
    {
      "cell_type": "markdown",
      "metadata": {
        "id": "KyOk9iaoR0qs"
      },
      "source": [
        "**Step #3 : Building the Bag of Words model**\n",
        "\n",
        "In this step we construct a vector, which would tell us whether a word in each sentence is a frequent word or not. \\\n",
        "If a word in a sentence is a frequent word, we set it as 1, else we set it as 0. \\\n",
        "This can be implemented with the help of following code:"
      ]
    },
    {
      "cell_type": "code",
      "metadata": {
        "id": "VOHZMKbbR0qt",
        "outputId": "adc8e6dc-acc9-4268-d4fc-d0e755c94741"
      },
      "source": [
        "X = [] \n",
        "for data in dataset: \n",
        "    vector = [] \n",
        "    for word in freq_words: \n",
        "        if word in nltk.word_tokenize(data): \n",
        "            vector.append(1) \n",
        "        else: \n",
        "            vector.append(0) \n",
        "    X.append(vector) \n",
        "X = np.asarray(X) \n",
        "X"
      ],
      "execution_count": null,
      "outputs": [
        {
          "output_type": "execute_result",
          "data": {
            "text/plain": [
              "array([[0, 0, 0, 0, 0, 0, 0, 0, 0, 0],\n",
              "       [1, 0, 1, 0, 1, 0, 0, 1, 0, 0],\n",
              "       [0, 0, 0, 0, 0, 0, 0, 1, 0, 0],\n",
              "       [0, 0, 0, 1, 0, 0, 0, 0, 1, 0],\n",
              "       [0, 0, 0, 0, 0, 1, 0, 1, 0, 0],\n",
              "       [1, 1, 1, 1, 1, 0, 1, 0, 0, 1],\n",
              "       [1, 1, 0, 1, 1, 0, 1, 0, 0, 1],\n",
              "       [0, 0, 1, 1, 0, 0, 0, 0, 0, 0],\n",
              "       [1, 1, 1, 1, 0, 1, 1, 0, 1, 0],\n",
              "       [1, 1, 1, 1, 0, 0, 0, 1, 1, 0],\n",
              "       [0, 1, 0, 0, 1, 1, 1, 0, 0, 1],\n",
              "       [1, 1, 1, 0, 1, 0, 0, 0, 0, 0],\n",
              "       [1, 1, 0, 0, 0, 0, 0, 0, 1, 0]])"
            ]
          },
          "metadata": {
            "tags": []
          },
          "execution_count": 126
        }
      ]
    },
    {
      "cell_type": "code",
      "metadata": {
        "id": "C9wib-2LR0qx",
        "outputId": "4f3ee96d-8043-4f1e-a91f-cbdefa058d4b"
      },
      "source": [
        "import seaborn as sns\n",
        "sns.heatmap(X, annot=True, cbar=False, xticklabels=freq_words)"
      ],
      "execution_count": null,
      "outputs": [
        {
          "output_type": "execute_result",
          "data": {
            "text/plain": [
              "<matplotlib.axes._subplots.AxesSubplot at 0x1a2a34e4d0>"
            ]
          },
          "metadata": {
            "tags": []
          },
          "execution_count": 151
        },
        {
          "output_type": "display_data",
          "data": {
            "image/png": "[encoded data removed]",
            "text/plain": [
              "<Figure size 432x288 with 1 Axes>"
            ]
          },
          "metadata": {
            "tags": [],
            "needs_background": "light"
          }
        }
      ]
    },
    {
      "cell_type": "markdown",
      "metadata": {
        "id": "HmfM9GoZR0q0"
      },
      "source": [
        "## Лемматизация и стемминг текста\n",
        "\n",
        "Обычно тексты содержат разные грамматические формы одного и того же слова, а также могут встречаться однокоренные слова.\\\n",
        "Лемматизация и стемминг преследуют цель привести все встречающиеся словоформы к одной, нормальной словарной форме.\n",
        "\n",
        "Пример:\n",
        "\n",
        "* *dog, dogs, dog’s, dogs’ => dog*\n",
        "\n",
        "Лемматизация и стемминг – это частные случаи нормализации и они отличаются.\n",
        "\n",
        "**Стемминг** – это грубый эвристический процесс, который отрезает «лишнее» от корня слов, часто это приводит к потере словообразовательных суффиксов.\n",
        "\n",
        "**Лемматизация** – это более тонкий процесс, который использует словарь и морфологический анализ, чтобы в итоге привести слово к его канонической форме – лемме.\n",
        "\n",
        "Отличие в том, что стеммер (конкретная реализация алгоритма стемминга – прим.переводчика) действует без знания контекста и, соответственно, не понимает разницу между словами, которые имеют разный смысл в зависимости от части речи. Однако у стеммеров есть и свои преимущества: их проще внедрить и они работают быстрее. Плюс, более низкая «аккуратность» может не иметь значения в некоторых случаях.\n"
      ]
    },
    {
      "cell_type": "code",
      "metadata": {
        "id": "nt_h4g11R0q1",
        "outputId": "47791c12-cc6b-422f-b486-272b669b63ea"
      },
      "source": [
        "import spacy\n",
        "nlp = spacy.load('en_core_web_sm')\n",
        "doc = nlp(u\"He was running late.\")\n",
        "for token in doc:\n",
        "    print('{} --> {}'.format(token, token.lemma_))"
      ],
      "execution_count": null,
      "outputs": [
        {
          "output_type": "stream",
          "text": [
            "He --> -PRON-\n",
            "was --> be\n",
            "running --> run\n",
            "late --> late\n",
            ". --> .\n"
          ],
          "name": "stdout"
        }
      ]
    },
    {
      "cell_type": "code",
      "metadata": {
        "id": "FElPwMXwR0q6",
        "outputId": "42020fcb-394d-4b8c-fc5c-a9cad5403b09"
      },
      "source": [
        "from nltk.stem.porter import PorterStemmer\n",
        "stemmer = PorterStemmer()\n",
        "for token in u\"He was running late .\".split():\n",
        "    print('{} --> {}'.format(token, stemmer.stem(token)))"
      ],
      "execution_count": null,
      "outputs": [
        {
          "output_type": "stream",
          "text": [
            "He --> He\n",
            "was --> wa\n",
            "running --> run\n",
            "late --> late\n",
            ". --> .\n"
          ],
          "name": "stdout"
        }
      ]
    },
    {
      "cell_type": "code",
      "metadata": {
        "id": "8dieY3aqR0q-",
        "outputId": "1d5c3008-8aea-4f85-b342-a4b9acfe7921"
      },
      "source": [
        "from sklearn.feature_extraction.text import CountVectorizer\n",
        "import seaborn as sns\n",
        "\n",
        "corpus = ['Time flies flies like an arrow.', 'Fruit flies like a banana.']\n",
        "one_hot_vectorizer = CountVectorizer(binary=True)\n",
        "one_hot = one_hot_vectorizer.fit_transform(corpus).toarray()\n",
        "vocab = list(sorted(one_hot_vectorizer.vocabulary_.keys()))\n",
        "sns.heatmap(one_hot, annot=True, cbar=False, xticklabels=vocab, yticklabels=['Sentence1 ','Sentence 2'])"
      ],
      "execution_count": null,
      "outputs": [
        {
          "output_type": "execute_result",
          "data": {
            "text/plain": [
              "<matplotlib.axes._subplots.AxesSubplot at 0x1a29a44190>"
            ]
          },
          "metadata": {
            "tags": []
          },
          "execution_count": 147
        },
        {
          "output_type": "display_data",
          "data": {
            "image/png": "[encoded data removed]",
            "text/plain": [
              "<Figure size 432x288 with 1 Axes>"
            ]
          },
          "metadata": {
            "tags": [],
            "needs_background": "light"
          }
        }
      ]
    },
    {
      "cell_type": "code",
      "metadata": {
        "id": "Aid_km2wR0rB",
        "outputId": "d021e41c-e5a1-4340-e492-81d1d0e809da"
      },
      "source": [
        "from sklearn.feature_extraction.text import TfidfVectorizer\n",
        "import seaborn as sns\n",
        "\n",
        "corpus = ['Time flies flies like an arrow.', 'Fruit flies like a banana.']\n",
        "tfidf_vectorizer = TfidfVectorizer()\n",
        "tfidf = tfidf_vectorizer.fit_transform(corpus).toarray()\n",
        "vocab = list(sorted(one_hot_vectorizer.vocabulary_.keys()))\n",
        "sns.heatmap(tfidf, annot=True, cbar=False, xticklabels=vocab, yticklabels=['Sentence 1', 'Sentence 2'])"
      ],
      "execution_count": null,
      "outputs": [
        {
          "output_type": "execute_result",
          "data": {
            "text/plain": [
              "<matplotlib.axes._subplots.AxesSubplot at 0x1213770b8>"
            ]
          },
          "metadata": {
            "tags": []
          },
          "execution_count": 58
        },
        {
          "output_type": "display_data",
          "data": {
            "image/png": "[encoded data removed]",
            "text/plain": [
              "<Figure size 432x288 with 1 Axes>"
            ]
          },
          "metadata": {
            "tags": [],
            "needs_background": "light"
          }
        }
      ]
    },
    {
      "cell_type": "code",
      "metadata": {
        "id": "ZfZoBQKnR0rF"
      },
      "source": [],
      "execution_count": null,
      "outputs": []
    },
    {
      "cell_type": "code",
      "metadata": {
        "id": "sdl6z0I0R0rK",
        "outputId": "0ed6f463-3312-4669-8242-eef8da28ce17"
      },
      "source": [
        "import spacy\n",
        "nlp = spacy.load('en_core_web_sm')\n",
        "doc = nlp('Mary slapped the green witch.')\n",
        "for token in doc:\n",
        "    print('{}#{}'.format(token, token.pos_))"
      ],
      "execution_count": null,
      "outputs": [
        {
          "output_type": "stream",
          "text": [
            "Mary#PROPN\n",
            "slapped#VERB\n",
            "the#DET\n",
            "green#ADJ\n",
            "witch#NOUN\n",
            ".#PUNCT\n"
          ],
          "name": "stdout"
        }
      ]
    },
    {
      "cell_type": "code",
      "metadata": {
        "id": "wWcTjsrKR0rT",
        "outputId": "835948ba-d511-48a5-87ed-b58b140817af"
      },
      "source": [
        "import spacy\n",
        "nlp = spacy.load('en_core_web_sm')\n",
        "doc = nlp(u\"Mary slapped the green witch.\")\n",
        "for chunk in doc.noun_chunks:\n",
        "    print ('{}#{}'.format(chunk, chunk.label_))"
      ],
      "execution_count": null,
      "outputs": [
        {
          "output_type": "stream",
          "text": [
            "Mary#NP\n",
            "the green witch#NP\n"
          ],
          "name": "stdout"
        }
      ]
    },
    {
      "cell_type": "code",
      "metadata": {
        "id": "sdwWo28nR0rZ",
        "outputId": "348ea490-d63c-4aff-e44e-444b8e5494f3"
      },
      "source": [
        "#entities\n",
        "# doc.ents is useful in problems of NER(Named entity recognition) \n",
        "#Check: https://en.wikipedia.org/wiki/Named-entity_recognition\n",
        "import spacy\n",
        "\n",
        "nlp = spacy.load(\"en_core_web_sm\")\n",
        "doc = nlp(\"Apple is looking at buying U.K. startup for $1 billion\")\n",
        "\n",
        "for ent in doc.ents:\n",
        "    print(\"{}#{}\".format(ent.text, ent.label_))"
      ],
      "execution_count": null,
      "outputs": [
        {
          "output_type": "stream",
          "text": [
            "Apple#ORG\n",
            "U.K.#GPE\n",
            "$1 billion#MONEY\n"
          ],
          "name": "stdout"
        }
      ]
    },
    {
      "cell_type": "code",
      "metadata": {
        "id": "TGquTeuyR0rc"
      },
      "source": [],
      "execution_count": null,
      "outputs": []
    }
  ]
}