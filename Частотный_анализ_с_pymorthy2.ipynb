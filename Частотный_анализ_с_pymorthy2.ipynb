{
  "nbformat": 4,
  "nbformat_minor": 0,
  "metadata": {
    "kernelspec": {
      "display_name": "Python 3",
      "language": "python",
      "name": "python3"
    },
    "language_info": {
      "codemirror_mode": {
        "name": "ipython",
        "version": 3
      },
      "file_extension": ".py",
      "mimetype": "text/x-python",
      "name": "python",
      "nbconvert_exporter": "python",
      "pygments_lexer": "ipython3",
      "version": "3.7.1"
    },
    "colab": {
      "provenance": [],
      "collapsed_sections": [],
      "include_colab_link": true
    }
  },
  "cells": [
    {
      "cell_type": "markdown",
      "metadata": {
        "id": "view-in-github",
        "colab_type": "text"
      },
      "source": [
        "<a href=\"https://colab.research.google.com/github/kclassie/ML_sundries/blob/main/%D0%A7%D0%B0%D1%81%D1%82%D0%BE%D1%82%D0%BD%D1%8B%D0%B9_%D0%B0%D0%BD%D0%B0%D0%BB%D0%B8%D0%B7_%D1%81_pymorthy2.ipynb\" target=\"_parent\"><img src=\"https://colab.research.google.com/assets/colab-badge.svg\" alt=\"Open In Colab\"/></a>"
      ]
    },
    {
      "cell_type": "markdown",
      "metadata": {
        "id": "AGQLz03TUcGE"
      },
      "source": [
        "1. Импортируем `pymorphy2` (эта чудная библиотека умеет много чего, в том числе ставить слова в начальную форму и определять часть речи, но работает медленно). `Counter`, `pandas` и регулярки нам также пригодятся"
      ]
    },
    {
      "cell_type": "code",
      "metadata": {
        "id": "K0lWK7l9UcGP"
      },
      "source": [
        "!pip install pymorphy2"
      ],
      "execution_count": null,
      "outputs": []
    },
    {
      "cell_type": "code",
      "metadata": {
        "id": "hx6QlhkzUcGx"
      },
      "source": [
        "import os\n",
        "import pymorphy2\n",
        "import pandas as pd\n",
        "from collections import Counter\n",
        "import re"
      ],
      "execution_count": null,
      "outputs": []
    },
    {
      "cell_type": "markdown",
      "metadata": {
        "id": "3v_gckxdUcG8"
      },
      "source": [
        "2. Открываем текст и делим его на слова с помощью регулярных выражений"
      ]
    },
    {
      "cell_type": "code",
      "metadata": {
        "id": "gE1NNu4zUcG_"
      },
      "source": [
        "with open(\"sto_let.txt\", encoding=\"utf8\") as file:\n",
        "    words = file.readlines()\n",
        "words=re.split(r'\\W+', words)"
      ],
      "execution_count": null,
      "outputs": []
    },
    {
      "cell_type": "markdown",
      "metadata": {
        "id": "uWd1IBbsUcH2"
      },
      "source": [
        "3. Создаем словарь, в котором ключами будут слова из текста, а значениями – количество их повторений. В цикле приводим словаа в начальную форму, избавляемся от случайных пустых строк и служебных частей речи "
      ]
    },
    {
      "cell_type": "code",
      "metadata": {
        "id": "IksldGZJUcH6"
      },
      "source": [
        "vocab=[]\n",
        "for i in words:\n",
        "    m=pymorphy2.MorphAnalyzer().parse(i)[0]\n",
        "    \n",
        "    if (i and m.tag.POS not in ['PREP', 'CONJ', 'PRCL', 'INTJ', 'NPRO']):\n",
        "        vocab.append(m.normal_form)\n",
        "vocab=dict(Counter(vocab))"
      ],
      "execution_count": null,
      "outputs": []
    },
    {
      "cell_type": "markdown",
      "metadata": {
        "id": "OJegEhcxUcIC"
      },
      "source": [
        "4. Создаем `DataFrame` из .csv с частотным словарем русского языка, складываем значения для повторяющихся слов (в этом словаре записаны, например, несколько \"а\" как разные части речи)"
      ]
    },
    {
      "cell_type": "code",
      "metadata": {
        "id": "wKjlV-hHUcIE"
      },
      "source": [
        "freq=pd.read_csv('freqrnc2011.csv', sep='\\t', index_col='Lemma')\n",
        "freq=freq.groupby(level=0).sum()"
      ],
      "execution_count": null,
      "outputs": []
    },
    {
      "cell_type": "markdown",
      "metadata": {
        "id": "bMV9KMJBUcIO"
      },
      "source": [
        "5. Создаем отдельный список для имен, названий, кличек и т.д., которых нет в частотном словаре (сюда попадают и слова типа \"россия\", которые в словаре записаны как \"Россия\", а также слова с ё, увы). Для слов из нашего текста, которые в словаре есть, частоту приводим к общей с .csv единице измерения (слов на миллион) и делим на значение из частотного словаря, убирая из топа слова, которые просто чаще всего в русском языке встречаются"
      ]
    },
    {
      "cell_type": "code",
      "metadata": {
        "id": "Y7_pzrolUcIZ"
      },
      "source": [
        "for i in sorted(list(vocab.items()), key=lambda x: x[1], reverse=True)[:30]:\n",
        "    print(i)\n",
        "print()\n",
        "for j in names[:20]:\n",
        "    print(j)"
      ],
      "execution_count": null,
      "outputs": []
    },
    {
      "cell_type": "markdown",
      "metadata": {
        "id": "DqIlyJmUUcIh"
      },
      "source": [
        "6. Сортируем наш словарь (покажем первые 30 и первые 20 списка `names`)"
      ]
    },
    {
      "cell_type": "code",
      "metadata": {
        "id": "miXHevT4UcIk",
        "outputId": "0ff6b156-ec96-4d1b-ae6c-5119c336d762"
      },
      "source": [
        "for i in sorted(list(vocab.items()), key=lambda x: x[1], reverse=True)[:30]:\n",
        "    print(i)\n",
        "print()\n",
        "for j in names[:20]:\n",
        "    print(j)"
      ],
      "execution_count": null,
      "outputs": [
        {
          "output_type": "stream",
          "text": [
            "('клипер', 14880.95)\n",
            "('траверз', 4960.32)\n",
            "('швартовый', 4960.32)\n",
            "('цокот', 3306.88)\n",
            "('аксельбант', 2834.47)\n",
            "('непристойно', 2834.47)\n",
            "('вассал', 2480.16)\n",
            "('тормашки', 2480.16)\n",
            "('настораживаться', 2480.16)\n",
            "('ливрея', 2204.59)\n",
            "('эполет', 2204.59)\n",
            "('вульгарно', 1984.13)\n",
            "('подбочениться', 1984.13)\n",
            "('раут', 1984.13)\n",
            "('кавалькада', 1803.75)\n",
            "('принесение', 1653.44)\n",
            "('отрубать', 1653.44)\n",
            "('стяг', 1526.25)\n",
            "('гарцевать', 1526.25)\n",
            "('каравай', 1417.23)\n",
            "('андреевский', 1417.23)\n",
            "('платан', 1417.23)\n",
            "('мандарин', 1280.08)\n",
            "('искренно', 1240.08)\n",
            "('неусыпный', 1240.08)\n",
            "('обсадить', 1240.08)\n",
            "('резня', 1102.29)\n",
            "('поднебесный', 1044.28)\n",
            "('повиновение', 1044.28)\n",
            "('пуп', 793.65)\n",
            "\n",
            "['китай', 4]\n",
            "['цзунлиямынь', 1]\n",
            "['4', 1]\n",
            "['ятсный', 1]\n",
            "['1964', 1]\n",
            "['250', 1]\n",
            "['251', 1]\n",
            "['богдыхан', 1]\n",
            "['франция', 1]\n",
            "['россия', 3]\n",
            "['пекин', 1]\n",
            "['канонерка', 1]\n",
            "['чайковский', 4]\n",
            "['кульджинский', 1]\n",
            "['уйгур', 1]\n",
            "['дунганин', 1]\n",
            "['семиречье', 1]\n",
            "['цзунлиямыня', 1]\n",
            "['вели', 1]\n",
            "['англия', 1]\n"
          ],
          "name": "stdout"
        }
      ]
    }
  ]
}