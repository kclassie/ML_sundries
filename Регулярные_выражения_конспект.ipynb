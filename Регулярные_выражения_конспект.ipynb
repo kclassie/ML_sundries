{
  "nbformat": 4,
  "nbformat_minor": 0,
  "metadata": {
    "kernelspec": {
      "display_name": "Python 3",
      "language": "python",
      "name": "python3"
    },
    "language_info": {
      "codemirror_mode": {
        "name": "ipython",
        "version": 3
      },
      "file_extension": ".py",
      "mimetype": "text/x-python",
      "name": "python",
      "nbconvert_exporter": "python",
      "pygments_lexer": "ipython3",
      "version": "3.5.3"
    },
    "colab": {
      "provenance": [],
      "include_colab_link": true
    }
  },
  "cells": [
    {
      "cell_type": "markdown",
      "metadata": {
        "id": "view-in-github",
        "colab_type": "text"
      },
      "source": [
        "<a href=\"https://colab.research.google.com/github/kclassie/ML_sundries/blob/main/%D0%A0%D0%B5%D0%B3%D1%83%D0%BB%D1%8F%D1%80%D0%BD%D1%8B%D0%B5_%D0%B2%D1%8B%D1%80%D0%B0%D0%B6%D0%B5%D0%BD%D0%B8%D1%8F_%D0%BA%D0%BE%D0%BD%D1%81%D0%BF%D0%B5%D0%BA%D1%82.ipynb\" target=\"_parent\"><img src=\"https://colab.research.google.com/assets/colab-badge.svg\" alt=\"Open In Colab\"/></a>"
      ]
    },
    {
      "cell_type": "code",
      "metadata": {
        "id": "P4kzg5M_TmRQ"
      },
      "source": [
        "import re #импортируем модуль регулярных выражений"
      ],
      "execution_count": null,
      "outputs": []
    },
    {
      "cell_type": "code",
      "metadata": {
        "id": "NW6QLc_EHto9"
      },
      "source": [
        "string = ['Выполнение работ по доработке, развитию и сопровождению \"Единой информационной системы социальной защиты населения Тюменской области\"', 'Выполнение работ по доработке, развитию и сопровождению «Единой информационной системы социальной защиты населения Тюменской области»']"
      ],
      "execution_count": null,
      "outputs": []
    },
    {
      "cell_type": "code",
      "metadata": {
        "id": "k2UdcbAwIarY",
        "colab": {
          "base_uri": "https://localhost:8080/",
          "height": 34
        },
        "outputId": "8aea462b-4a4f-485d-b757-40132df4aa05"
      },
      "source": [
        "strk = 'Под крылом самолёта о чём-то поёт'\n",
        "\n",
        "strk = re.sub(r'ё', r'е', strk) \n",
        "\n",
        "print(strk)"
      ],
      "execution_count": null,
      "outputs": [
        {
          "output_type": "stream",
          "text": [
            "Под крылом самолета о чем-то поет\n"
          ],
          "name": "stdout"
        }
      ]
    },
    {
      "cell_type": "code",
      "metadata": {
        "id": "OTIe3XmrLXIS",
        "colab": {
          "base_uri": "https://localhost:8080/",
          "height": 34
        },
        "outputId": "6a186a4f-ce75-4b9a-8535-289a55c53db2"
      },
      "source": [
        "with open ('/lemm_texts.txt', 'r', encoding='utf-8') as f:\n",
        "    text = f.readlines()\n",
        "    for i in text:\n",
        "        text[text.index(i)] = re.sub(r'ё', r'е', i)\n",
        "    print(len(text))\n",
        "    with open ('/lemm_texts2.txt', 'w', encoding='utf-8') as d:\n",
        "      for s in text:\n",
        "        d.write(\"%s\\n\" % s)\n"
      ],
      "execution_count": null,
      "outputs": [
        {
          "output_type": "stream",
          "text": [
            "3565\n"
          ],
          "name": "stdout"
        }
      ]
    },
    {
      "cell_type": "code",
      "metadata": {
        "id": "GSPEmLZ5TmRb",
        "outputId": "ab2dbd4e-e00e-4068-bac2-d6d47ba31480"
      },
      "source": [
        "print(re.findall(r'\\d\\d\\.\\d\\d\\.\\d{4}', \n",
        "                 r'Эта строка написана 19.01.2018, а не 01.09.2017')) "
      ],
      "execution_count": null,
      "outputs": [
        {
          "output_type": "stream",
          "text": [
            "['19.01.2018', '01.09.2017']\n"
          ],
          "name": "stdout"
        }
      ]
    },
    {
      "cell_type": "code",
      "metadata": {
        "id": "DfjqaOMZLB_x",
        "colab": {
          "base_uri": "https://localhost:8080/",
          "height": 34
        },
        "outputId": "a7e3fb93-b636-4c90-8de0-a590ebee80ac"
      },
      "source": [
        "from google.colab import drive\n",
        "drive.mount('/content/drive')"
      ],
      "execution_count": null,
      "outputs": [
        {
          "output_type": "stream",
          "text": [
            "Drive already mounted at /content/drive; to attempt to forcibly remount, call drive.mount(\"/content/drive\", force_remount=True).\n"
          ],
          "name": "stdout"
        }
      ]
    },
    {
      "cell_type": "code",
      "metadata": {
        "id": "6oz1Y4tcTmRi",
        "outputId": "9b93fa7b-073d-4da3-8d19-33dc0d2203a8"
      },
      "source": [
        "#re.findall() ищет непересекающиеся строки\n",
        "print(re.findall(r'aa', r'aaaaaaaa'))"
      ],
      "execution_count": null,
      "outputs": [
        {
          "output_type": "stream",
          "text": [
            "['aa', 'aa', 'aa', 'aa']\n"
          ],
          "name": "stdout"
        }
      ]
    },
    {
      "cell_type": "code",
      "metadata": {
        "id": "Oqf2jr2pTmRn",
        "outputId": "c505cc23-1c72-48c8-dcb4-38db7b9e2b60"
      },
      "source": [
        "#re.fullmatch() проверяет строку на полное совпадение\n",
        "match = re.fullmatch(r'\\d\\d\\D\\d\\d', r'12-12')\n",
        "print('# 1')\n",
        "print('YES' if match else 'NO') \n",
        "\n",
        "match = re.fullmatch(r'\\d\\d\\D\\d\\d', r'Т. 12-12') \n",
        "print('# 2')\n",
        "print('YES' if match else 'NO') "
      ],
      "execution_count": null,
      "outputs": [
        {
          "output_type": "stream",
          "text": [
            "# 1\n",
            "YES\n",
            "# 2\n",
            "NO\n"
          ],
          "name": "stdout"
        }
      ]
    },
    {
      "cell_type": "code",
      "metadata": {
        "id": "0WiPOatiTmRv",
        "outputId": "1c298c12-08aa-4717-d93c-77e171d76bbb"
      },
      "source": [
        "#re.match() и re.search()\n",
        "#match() Определяет, начинается ли совпадение регулярного выражения с начала строки\n",
        "#search() Сканирует всю строку на наличие совпадений с регулярным выражением\n",
        "print(re.match('world', 'Hello world!'))\n",
        "print(re.match('Hello', 'Hello world!'))\n",
        "print(re.search('world', 'Hello world! Hello world!'))\n",
        "print(re.search('old', 'Hello world! Hello world!'))"
      ],
      "execution_count": null,
      "outputs": [
        {
          "output_type": "stream",
          "text": [
            "None\n",
            "<_sre.SRE_Match object; span=(0, 5), match='Hello'>\n",
            "<_sre.SRE_Match object; span=(6, 11), match='world'>\n",
            "None\n"
          ],
          "name": "stdout"
        }
      ]
    },
    {
      "cell_type": "code",
      "metadata": {
        "id": "MuY9tIn5TmR1",
        "outputId": "1fc00a44-4a41-492c-8746-9e37360efb3b"
      },
      "source": [
        "#Доступ к индексам начала, конца и совпадению (start, end, group)\n",
        "mo = re.search('world', 'Hello world! Hello world!')\n",
        "print(mo)\n",
        "print(mo.start()) #позиция (индекс) символа начала совпадения\n",
        "print(mo.end()) #позиция (индекс) символа конца совпадения\n",
        "print(mo.group()) #само совпадение"
      ],
      "execution_count": null,
      "outputs": [
        {
          "output_type": "stream",
          "text": [
            "<_sre.SRE_Match object; span=(6, 11), match='world'>\n",
            "6\n",
            "11\n",
            "world\n"
          ],
          "name": "stdout"
        }
      ]
    },
    {
      "cell_type": "code",
      "metadata": {
        "id": "VZYdeMAfTmR6",
        "outputId": "f77dd6f9-d064-46fe-bee7-9323edff8a23"
      },
      "source": [
        "#Сплит, замены\n",
        "text = 'Добрый вечер, сегодня у нас пара по комп.лингвистике!'\n",
        "chunks = re.split(r'\\W', text) #разбиение по не-букве, не-цифре и не-подчеркиванию\n",
        "print(chunks)"
      ],
      "execution_count": null,
      "outputs": [
        {
          "output_type": "stream",
          "text": [
            "['Добрый', 'вечер', '', 'сегодня', 'у', 'нас', 'пара', 'по', 'комп', 'лингвистике', '']\n"
          ],
          "name": "stdout"
        }
      ]
    },
    {
      "cell_type": "code",
      "metadata": {
        "id": "Tq74gz3dTmSA",
        "outputId": "d5e3945f-507c-4c02-cef3-431c31bd0c52"
      },
      "source": [
        "text = 'Эта строка написана 19.01.2018, а не 01.09.2017'\n",
        "#замена соответствия регулярного выражения на какую-нибудь строку, в данному случае на DD.MM.YY\n",
        "s = re.sub(r'\\d\\d\\.\\d\\d\\.\\d{4}', r'DD.MM.YYYY', text) \n",
        "print('Было:', text)\n",
        "print('Стало:', s)"
      ],
      "execution_count": null,
      "outputs": [
        {
          "output_type": "stream",
          "text": [
            "Было: Эта строка написана 19.01.2018, а не 01.09.2017\n",
            "Стало: Эта строка написана DD.MM.YYYY, а не DD.MM.YYYY\n"
          ],
          "name": "stdout"
        }
      ]
    },
    {
      "cell_type": "code",
      "metadata": {
        "id": "6IWdO702TmSE"
      },
      "source": [
        "# Задание 1\n",
        "# ввод \"ЖД 172 Мария Иванова ДЗ\"\n",
        "# вывод \"ДЗ от дата-журналистов\"\n",
        "# ввод \"ЖД 118 Мария Иванова ДЗ\"\n",
        "# вывод \"ДЗ от дата-журналистов\"\n",
        "# ввод \"КЛ 172 Мария Иванова ДЗ\"\n",
        "# вывод \"Другое письмо\"\n",
        "# ввод \"ЖД 172 Мария Иванова\"\n",
        "# вывод \"Другое письмо\"\n",
        "\n",
        "# Задание 2\n",
        "# Слово — это последовательность из букв (русских или английских), внутри которой могут быть дефисы.\n",
        "# На вход даётся текст, посчитайте, сколько в нём слов."
      ],
      "execution_count": null,
      "outputs": []
    },
    {
      "cell_type": "code",
      "metadata": {
        "id": "6ZsnsTurTmSJ",
        "outputId": "0db6841e-f23a-439a-faf3-52572d9eafbb"
      },
      "source": [
        "#Задание 1\n",
        "string = input()\n",
        "if re.fullmatch(r'ЖД \\d{3} [А-ЯЁ][а-яё]+ [А-ЯЁ][а-яё]+ ДЗ', string):\n",
        "    print('ДЗ от дата-журналистов')\n",
        "else:\n",
        "    print('Другое письмо')"
      ],
      "execution_count": null,
      "outputs": [
        {
          "output_type": "stream",
          "text": [
            "ЖД 172 Мария Иванова Д\n",
            "Другое письмо\n"
          ],
          "name": "stdout"
        }
      ]
    },
    {
      "cell_type": "code",
      "metadata": {
        "id": "liiikjQqTmSO",
        "outputId": "fbdc84ed-f62d-4dd0-bfeb-b20e817568f6"
      },
      "source": [
        "#Задание 2\n",
        "string = input()\n",
        "print(len(re.findall(r'[А-Яа-яA-Za-z-]+', string)))"
      ],
      "execution_count": null,
      "outputs": [
        {
          "output_type": "stream",
          "text": [
            "Сине-зеленый чемодан и два красно-бело-желтых рюкзака\n",
            "6\n"
          ],
          "name": "stdout"
        }
      ]
    },
    {
      "cell_type": "code",
      "metadata": {
        "id": "KEbjaL2ETmST",
        "outputId": "21216194-4b69-498a-8000-163786a6fc87"
      },
      "source": [
        "#re.findall() и re.finditer()\n",
        "text = r'Эта строка написана 19.01.2018, а не 01.09.2017'\n",
        "print(type(re.finditer(r'\\d\\d\\.\\d\\d\\.\\d{4}', text)))\n",
        "print(re.findall(r'\\d\\d\\.\\d\\d\\.\\d{4}', text))"
      ],
      "execution_count": null,
      "outputs": [
        {
          "output_type": "stream",
          "text": [
            "<class 'callable_iterator'>\n",
            "['19.01.2018', '01.09.2017']\n"
          ],
          "name": "stdout"
        }
      ]
    },
    {
      "cell_type": "code",
      "metadata": {
        "id": "2E2rTSzdTmSX",
        "outputId": "021aa36a-9027-4c31-9570-9142e978b794"
      },
      "source": [
        "#Задание\n",
        "# Вывести по очереди совпадения и их начальную позицию\n",
        "for match in re.finditer(r'\\d+', r'Принесли 2 кофе, 15 эклеров и 100г сахара'):\n",
        "    print('совпадение:', match.group())\n",
        "    print('начальная позиция', match.start())"
      ],
      "execution_count": null,
      "outputs": [
        {
          "output_type": "stream",
          "text": [
            "совпадение: 2\n",
            "начальная позиция 9\n",
            "совпадение: 15\n",
            "начальная позиция 17\n",
            "совпадение: 100\n",
            "начальная позиция 30\n"
          ],
          "name": "stdout"
        }
      ]
    },
    {
      "cell_type": "code",
      "metadata": {
        "id": "KW-PHR1yTmSb",
        "outputId": "7eb7d89d-8633-4020-87a8-a4025b05332d"
      },
      "source": [
        "#Флаги\n",
        "print(re.findall(r'[уеыаоэяию]+', 'ОООО ааааа ррррр ЫЫЫЫ яяяя'))\n",
        "print(re.findall(r'[уеыаоэяию]+', 'ОООО ааааа ррррр ЫЫЫЫ яяяя', flags=re.IGNORECASE)) "
      ],
      "execution_count": null,
      "outputs": [
        {
          "output_type": "stream",
          "text": [
            "['ааааа', 'яяяя']\n",
            "['ОООО', 'ааааа', 'ЫЫЫЫ', 'яяяя']\n"
          ],
          "name": "stdout"
        }
      ]
    },
    {
      "cell_type": "code",
      "metadata": {
        "id": "JhH371DtTmSf",
        "outputId": "37d683be-1ce6-4a08-d65b-6c7db225500b"
      },
      "source": [
        "text = 'TO DO:\\n1. Wake up\\n2. Have some coffee\\n3. Write code\\n4. Go to bed'\n",
        "print(text)"
      ],
      "execution_count": null,
      "outputs": [
        {
          "output_type": "stream",
          "text": [
            "TO DO:\n",
            "1. Wake up\n",
            "2. Have some coffee\n",
            "3. Write code\n",
            "4. Go to bed\n"
          ],
          "name": "stdout"
        }
      ]
    },
    {
      "cell_type": "code",
      "metadata": {
        "id": "u-13vZAgTmSl",
        "outputId": "1a09f760-2641-4c75-db36-897cd244e551"
      },
      "source": [
        "print(re.findall(r'^\\d.', text))\n",
        "print(re.findall(r'^\\d\\.', text, flags=re.MULTILINE))"
      ],
      "execution_count": null,
      "outputs": [
        {
          "output_type": "stream",
          "text": [
            "[]\n",
            "['1.', '2.', '3.', '4.']\n"
          ],
          "name": "stdout"
        }
      ]
    },
    {
      "cell_type": "code",
      "metadata": {
        "id": "Ue5lla71TmSp",
        "outputId": "b67c25f1-3b23-49ea-fff8-de33676f2b20"
      },
      "source": [
        "#Жадные и нежадные операторы\n",
        "text = 'На форуме были представлены компании \"Ромашка\", \"Василек\" и \"Чертополох\"'\n",
        "#жадный оператор +\n",
        "print('Найдено вхождений', len(re.findall(r'\\\".+\\\"', text)))\n",
        "print(re.findall(r'\\\".+\\\"', text))"
      ],
      "execution_count": null,
      "outputs": [
        {
          "output_type": "stream",
          "text": [
            "Найдено вхождений 1\n",
            "['\"Ромашка\", \"Василек\" и \"Чертополох\"']\n"
          ],
          "name": "stdout"
        }
      ]
    },
    {
      "cell_type": "code",
      "metadata": {
        "id": "zizAZusXTmSt",
        "outputId": "e78d837a-d2a1-43e9-e8a4-44d5a030def8"
      },
      "source": [
        "#нежадный оператор +\n",
        "print('Найдено вхождений', len(re.findall(r'\\\".+?\\\"', text)))\n",
        "print(re.findall(r'\\\".+?\\\"', text))"
      ],
      "execution_count": null,
      "outputs": [
        {
          "output_type": "stream",
          "text": [
            "Найдено вхождений 3\n",
            "['\"Ромашка\"', '\"Василек\"', '\"Чертополох\"']\n"
          ],
          "name": "stdout"
        }
      ]
    },
    {
      "cell_type": "code",
      "metadata": {
        "id": "xiKIdwpdTmSx",
        "outputId": "4beff2e5-0f40-4afc-ba44-27efb6a28868"
      },
      "source": [
        "#Группы и перечисления (?: ...)\n",
        "text = 'Это вам не хахахаха, и не хихихихи, и совсем не хохохохо!'\n",
        "print(re.findall(r'(?:[Хх][аио])+', text))"
      ],
      "execution_count": null,
      "outputs": [
        {
          "output_type": "stream",
          "text": [
            "['хахахаха', 'хихихихи', 'хохохохо']\n"
          ],
          "name": "stdout"
        }
      ]
    },
    {
      "cell_type": "code",
      "metadata": {
        "id": "82TZZQI_TmS1",
        "outputId": "28e4268a-461b-4288-c164-418205bc912f"
      },
      "source": [
        "text = 'Маша +7-916-123-67-09, Миша 8-929-888-00-55, Петя +7-911-11-888-22'\n",
        "print(re.findall('(?:\\+7|8)(?:-\\d{2,3}){4}', text))"
      ],
      "execution_count": null,
      "outputs": [
        {
          "output_type": "stream",
          "text": [
            "['+7-916-123-67-09', '8-929-888-00-55', '+7-911-11-888-22']\n"
          ],
          "name": "stdout"
        }
      ]
    },
    {
      "cell_type": "code",
      "metadata": {
        "id": "0O3B_Te3TmS4",
        "outputId": "d952e228-888e-4914-8504-653172d7800a"
      },
      "source": [
        "#Группировка и нумерация групп\n",
        "mo = re.search(r'(a)(b)', 'ababababa')\n",
        "print(mo)\n",
        "print(mo.group(0)) # все совпадение\n",
        "print(mo.group(1)) # 1я группа\n",
        "print(mo.group(2)) # 2я группа"
      ],
      "execution_count": null,
      "outputs": [
        {
          "output_type": "stream",
          "text": [
            "<_sre.SRE_Match object; span=(0, 2), match='ab'>\n",
            "ab\n",
            "a\n",
            "b\n"
          ],
          "name": "stdout"
        }
      ]
    },
    {
      "cell_type": "code",
      "metadata": {
        "id": "pD5ujTX6TmS9",
        "outputId": "d22a8e71-f8af-434b-d8d1-636b1e415f66"
      },
      "source": [
        "mo = re.search(r'((a)(b))', 'ababababa')\n",
        "print(mo)\n",
        "print(mo.group(0)) # все совпадение\n",
        "print(mo.group(1)) # 1я группа\n",
        "print(mo.group(2)) # 2я группа\n",
        "print(mo.group(3)) # 3я группа"
      ],
      "execution_count": null,
      "outputs": [
        {
          "output_type": "stream",
          "text": [
            "<_sre.SRE_Match object; span=(0, 2), match='ab'>\n",
            "ab\n",
            "ab\n",
            "a\n",
            "b\n"
          ],
          "name": "stdout"
        }
      ]
    },
    {
      "cell_type": "code",
      "metadata": {
        "id": "sYLDLO8STmTB",
        "outputId": "a4729706-93c7-4e76-e51c-a84ac245856e"
      },
      "source": [
        "mo = re.search(r'((\\d)(\\d))((\\d)(\\d))', '123456789')\n",
        "print(mo)\n",
        "print(mo.group(0))\n",
        "print(mo.group(1))\n",
        "print(mo.group(2))\n",
        "print(mo.group(3))\n",
        "print(mo.group(4))"
      ],
      "execution_count": null,
      "outputs": [
        {
          "output_type": "stream",
          "text": [
            "<_sre.SRE_Match object; span=(0, 4), match='1234'>\n",
            "1234\n",
            "12\n",
            "1\n",
            "2\n",
            "34\n"
          ],
          "name": "stdout"
        }
      ]
    },
    {
      "cell_type": "code",
      "metadata": {
        "id": "RnfMUS0xTmTK",
        "outputId": "d373cf15-7812-40fd-e4da-f0e7c05e4d71"
      },
      "source": [
        "#Замены и отсылки к группам\n",
        "text = \"His name was John Smith and her name was Alice Granger\"\n",
        "print('Было:', text)\n",
        "print('Стало:', re.sub(r'([A-Z][a-z]+) ([A-Z][a-z]+)', r'\\2 \\1', text)) # не забываем про пробел"
      ],
      "execution_count": null,
      "outputs": [
        {
          "output_type": "stream",
          "text": [
            "Было: His name was John Smith and her name was Alice Granger\n",
            "Стало: His name was Smith John and her name was Granger Alice\n"
          ],
          "name": "stdout"
        }
      ]
    },
    {
      "cell_type": "code",
      "metadata": {
        "id": "4txasIbYTmTN",
        "outputId": "0b7b252f-43d1-44db-fb8b-a3417568c95f"
      },
      "source": [
        "text = \"We arrive on 03/25/2018. So you are welcome after 04/01/2018.\" \n",
        "#меняем местами месяца и число, заменем слэши на точки\n",
        "print(re.sub(r'(\\d\\d)/(\\d\\d)/(\\d{4})', r'\\2.\\1.\\3', text)) "
      ],
      "execution_count": null,
      "outputs": [
        {
          "output_type": "stream",
          "text": [
            "We arrive on 25.03.2018. So you are welcome after 01.04.2018.\n"
          ],
          "name": "stdout"
        }
      ]
    },
    {
      "cell_type": "code",
      "metadata": {
        "id": "PuuexfIwTmTS"
      },
      "source": [],
      "execution_count": null,
      "outputs": []
    }
  ]
}